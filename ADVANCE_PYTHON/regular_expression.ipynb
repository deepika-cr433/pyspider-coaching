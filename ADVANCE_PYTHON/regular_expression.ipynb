{
 "cells": [
  {
   "cell_type": "markdown",
   "metadata": {},
   "source": [
    "#REGULAR EXPRESSION"
   ]
  },
  {
   "cell_type": "markdown",
   "metadata": {},
   "source": [
    "search"
   ]
  },
  {
   "cell_type": "code",
   "execution_count": 1,
   "metadata": {},
   "outputs": [
    {
     "name": "stdout",
     "output_type": "stream",
     "text": [
      "match found\n"
     ]
    }
   ],
   "source": [
    "import re\n",
    "message=\"I am not in danger, I am the danger, Noe say my name.\"\n",
    "res=re.search('danger',message)\n",
    "if res!=None:\n",
    "    print(\"match found\")\n",
    "else:\n",
    "    print(\"match not found\")"
   ]
  },
  {
   "cell_type": "code",
   "execution_count": 2,
   "metadata": {},
   "outputs": [
    {
     "name": "stdout",
     "output_type": "stream",
     "text": [
      "searching for pattern--> trouble\n",
      "match found\n",
      "searching for pattern--> truth\n",
      "match found\n",
      "searching for pattern--> rahul\n",
      "match not found\n"
     ]
    }
   ],
   "source": [
    "import re\n",
    "message=\"Don't trouble the trouble, if you trouble the trouble,the trouble trouble you, i am not the trouble i am the truth.\"\n",
    "patterns=['trouble','truth','rahul']\n",
    "for i in patterns:\n",
    "    print(\"searching for pattern-->\",i)\n",
    "    if re.search(i,message):\n",
    "        print(\"match found\")\n",
    "    else:\n",
    "        print(\"match not found\")"
   ]
  },
  {
   "cell_type": "markdown",
   "metadata": {},
   "source": [
    "span()---> to returns the starting and ending index of given pattern inthe given location."
   ]
  },
  {
   "cell_type": "code",
   "execution_count": 3,
   "metadata": {},
   "outputs": [
    {
     "name": "stdout",
     "output_type": "stream",
     "text": [
      "Searching for pattern: trouble\n",
      "Match found at index: 6 to 12\n",
      "Matched substring: trouble\n",
      "Searching for pattern: truth\n",
      "Match found at index: 109 to 113\n",
      "Matched substring: truth\n",
      "Searching for pattern: rahul\n",
      "Match not found\n"
     ]
    }
   ],
   "source": [
    "import re\n",
    "\n",
    "message = \"Don't trouble the trouble, if you trouble the trouble,the trouble trouble you, i am not the trouble i am the truth.\"\n",
    "patterns = ['trouble', 'truth', 'rahul']\n",
    "\n",
    "for pattern in patterns:\n",
    "  print(\"Searching for pattern:\", pattern)\n",
    "  match = re.search(pattern, message)\n",
    "  if match:\n",
    "    start, end = match.span()\n",
    "    print(\"Match found at index:\", start, \"to\", end - 1)\n",
    "    print(\"Matched substring:\", message[start:end])\n",
    "  else:\n",
    "    print(\"Match not found\")"
   ]
  },
  {
   "cell_type": "markdown",
   "metadata": {},
   "source": [
    "find all()----> to find all the patterns present in the given position or not."
   ]
  },
  {
   "cell_type": "code",
   "execution_count": 8,
   "metadata": {},
   "outputs": [
    {
     "name": "stdout",
     "output_type": "stream",
     "text": [
      "['trouble', 'trouble', 'trouble', 'trouble', 'trouble', 'trouble', 'trouble']\n"
     ]
    }
   ],
   "source": [
    "import re\n",
    "message=\"Don't trouble the trouble, if you trouble the trouble,the trouble trouble you, i am not the trouble i am the truth.\"\n",
    "res = re.findall('trouble',message)\n",
    "print(res)"
   ]
  },
  {
   "cell_type": "code",
   "execution_count": 9,
   "metadata": {},
   "outputs": [
    {
     "name": "stdout",
     "output_type": "stream",
     "text": [
      "match found\n"
     ]
    }
   ],
   "source": [
    "import re\n",
    "data=\"PyspiD5ere BTR\"\n",
    "res=re.search(\"Pys[a-z]i[A-Z][0-9]\",data)\n",
    "if res!=None:\n",
    "    print(\"match found\")\n",
    "else:\n",
    "    print(\"match not found\")"
   ]
  },
  {
   "cell_type": "markdown",
   "metadata": {},
   "source": [
    "wildcard character:--(.)"
   ]
  },
  {
   "cell_type": "code",
   "execution_count": 10,
   "metadata": {},
   "outputs": [
    {
     "name": "stdout",
     "output_type": "stream",
     "text": [
      "match found\n"
     ]
    }
   ],
   "source": [
    "import re\n",
    "data=\"PyspiD5ere BTR\"\n",
    "res=re.search(\"Pys.i\",data)\n",
    "if res!=None:\n",
    "    print(\"match found\")\n",
    "else:\n",
    "    print(\"match not found\")"
   ]
  },
  {
   "cell_type": "markdown",
   "metadata": {},
   "source": [
    "Read the date from external file and print all the even position character if it is a uppercase by checking that with the help of regular expressions."
   ]
  },
  {
   "cell_type": "code",
   "execution_count": 11,
   "metadata": {},
   "outputs": [
    {
     "name": "stdout",
     "output_type": "stream",
     "text": [
      "T "
     ]
    }
   ],
   "source": [
    "import re\n",
    "try:\n",
    "    with open(\"message.txt\",\"r\") as fh:\n",
    "        if fh.readable():\n",
    "            data = fh.read()\n",
    "            for i in range(len(data)):\n",
    "                if i%2==0 and re.search('[A-Z]',data[i]):\n",
    "                    print(data[i],end=\" \")\n",
    "except Exception as e:\n",
    "    print(e)"
   ]
  },
  {
   "cell_type": "markdown",
   "metadata": {},
   "source": [
    "{ } ---> it will look for the exact number of characters. what we passes integer value inside the curly braces."
   ]
  },
  {
   "cell_type": "code",
   "execution_count": 18,
   "metadata": {},
   "outputs": [
    {
     "name": "stdout",
     "output_type": "stream",
     "text": [
      "match found\n",
      "['punee']\n"
     ]
    }
   ],
   "source": [
    "import re\n",
    "name=\"puneeth raj kumar\"\n",
    "res=re.findall(\"pune{2}\",name)\n",
    "if res!=None:\n",
    "    print(\"match found\")\n",
    "    print(res)\n",
    "else:\n",
    "    print(\"match not found\")"
   ]
  },
  {
   "cell_type": "markdown",
   "metadata": {},
   "source": [
    "e{2} === it will check for character e is present exactly for 2 times.\n",
    ".{2} === it will check for any character exactly for 2 times.\n",
    "+ === it will looks for the one or more occurrences of the specified character.\n",
    "* === it will looks for the zero or more occurrences of the specified character."
   ]
  },
  {
   "cell_type": "code",
   "execution_count": 24,
   "metadata": {},
   "outputs": [
    {
     "name": "stdout",
     "output_type": "stream",
     "text": [
      "searching for pattern---> sd\n",
      "['sd', 'sd', 'sd', 'sd', 'sd', 'sd']\n"
     ]
    }
   ],
   "source": [
    "import re\n",
    "def multi_char_find(test_phrase,test_pattern):\n",
    "    for pat in test_pattern:\n",
    "        print(\"searching for pattern--->\", pat)\n",
    "        print(re.findall(pat,test_phrase))\n",
    "\n",
    "test_phrase=\"sss ddddd ------sdssssddddd-------sssdsssssddddd----ssddddssdd\"\n",
    "# test_pattern=['s+'] # it will find s for one or more occurrence\n",
    "# test_pattern=['s*'] # it will find s for zero or more occurrence\n",
    "# test_pattern=['sd+'] # it will find one s and one or more d occurrence\n",
    "# test_pattern=['sd*'] # it will find one s and zero or more d occurrence\n",
    "test_pattern=['sd'] # it will find sd occurrence\n",
    "\n",
    "multi_char_find(test_phrase,test_pattern)"
   ]
  },
  {
   "cell_type": "markdown",
   "metadata": {},
   "source": [
    "meta characters"
   ]
  },
  {
   "cell_type": "code",
   "execution_count": 38,
   "metadata": {},
   "outputs": [
    {
     "name": "stdout",
     "output_type": "stream",
     "text": [
      "searching for pattern--> [0-9]+\n",
      "['12334', '123', '2334']\n"
     ]
    }
   ],
   "source": [
    "import re\n",
    "def multi_char_find(test_phrase,test_pattern):\n",
    "    for i in test_pattern:\n",
    "        print(\"searching for pattern-->\",i)\n",
    "        print(re.findall(i,test_phrase))\n",
    "\n",
    "test_phrase=\" This## is A## String$$ 12334 And %%it has Some ## Special$$ #characters Including ## 123 Numbers2334 And Lower $@case And $$uppeR Case Characters ## And I Don't Know #$ How## To# Remove $It\"\n",
    "# test_pattern=['[a-z]+'] # lowercase alphabets for 1 or more occurrence.\n",
    "# test_pattern=['[A_Z]+'] # uppercase alphabets for 1 or more occurrence.\n",
    "test_pattern=['[0-9]+'] # numeric character for 1 or more occurrence.\n",
    "# test_pattern=['\\d+'] # all numeric character except other character.\n",
    "# test_pattern=['\\D+'] # all character except numeric character.\n",
    "# test_pattern=['\\w+'] # all character except special character.\n",
    "# test_pattern=['\\W+'] # all special character except the remaining character.\n",
    "# test_pattern=['\\s+'] # only the space characters except all characters.\n",
    "# test_pattern=['\\S+'] # all the character except the space character.\n",
    "# test_pattern=['[^#@]'] \n",
    "# ^ ---> it will be considered as a caret symbol in python's regular expression.\n",
    "# it ignores the specified character mentioned with it and reads all the remaining characters, but it will not removes the specified character.\n",
    "\n",
    "multi_char_find(test_phrase,test_pattern)"
   ]
  },
  {
   "cell_type": "markdown",
   "metadata": {},
   "source": [
    "program to check the given email is a valid email or not."
   ]
  },
  {
   "cell_type": "code",
   "execution_count": 40,
   "metadata": {},
   "outputs": [
    {
     "name": "stdout",
     "output_type": "stream",
     "text": [
      "valid\n"
     ]
    }
   ],
   "source": [
    "import re\n",
    "email=\"rahul@gmail.com\"\n",
    "email1=\"RahulRaj123@pyspiders.edu\"\n",
    "email2=\"rahul_123@tatanexaec.in\"\n",
    "email3=\"Rahul_Raj123@Rolls_royce.org\"\n",
    "res=re.search(r'[a-zA-Z]+@[a-zA-Z]+\\.com',email)\n",
    "res1=re.search(r'[a-zA-Z0-9]+@[a-zA-Z]+\\.(com|edu)',email1)\n",
    "res2=re.search(r'[a-zA-Z0-9_]+@[a-zA-Z]+\\.(com|edu|in)',email2)\n",
    "res3=re.search(r'[a-zA-Z0-9_]+@[a-zA-Z_]+\\.(com|edu|in|org)',email3)\n",
    "if res!=None:\n",
    "    print(\"valid\")\n",
    "else:\n",
    "    print(\"invalid\")"
   ]
  },
  {
   "cell_type": "code",
   "execution_count": null,
   "metadata": {},
   "outputs": [],
   "source": []
  }
 ],
 "metadata": {
  "kernelspec": {
   "display_name": "Python 3",
   "language": "python",
   "name": "python3"
  },
  "language_info": {
   "codemirror_mode": {
    "name": "ipython",
    "version": 3
   },
   "file_extension": ".py",
   "mimetype": "text/x-python",
   "name": "python",
   "nbconvert_exporter": "python",
   "pygments_lexer": "ipython3",
   "version": "3.12.4"
  }
 },
 "nbformat": 4,
 "nbformat_minor": 2
}
