{
 "cells": [
  {
   "cell_type": "markdown",
   "metadata": {},
   "source": [
    "HOw to connect python file and text file.\n"
   ]
  },
  {
   "cell_type": "code",
   "execution_count": 30,
   "metadata": {},
   "outputs": [
    {
     "name": "stdout",
     "output_type": "stream",
     "text": [
      "<_io.TextIOWrapper name='list.txt' mode='r' encoding='cp1252'>\n"
     ]
    }
   ],
   "source": [
    "fh = open('list.txt','r')\n",
    "print(fh)"
   ]
  },
  {
   "cell_type": "code",
   "execution_count": 31,
   "metadata": {},
   "outputs": [
    {
     "ename": "FileNotFoundError",
     "evalue": "[Errno 2] No such file or directory: 'rahul.txt'",
     "output_type": "error",
     "traceback": [
      "\u001b[1;31m---------------------------------------------------------------------------\u001b[0m",
      "\u001b[1;31mFileNotFoundError\u001b[0m                         Traceback (most recent call last)",
      "Cell \u001b[1;32mIn[31], line 1\u001b[0m\n\u001b[1;32m----> 1\u001b[0m \u001b[38;5;28;43mopen\u001b[39;49m\u001b[43m(\u001b[49m\u001b[38;5;124;43m'\u001b[39;49m\u001b[38;5;124;43mrahul.txt\u001b[39;49m\u001b[38;5;124;43m'\u001b[39;49m\u001b[43m,\u001b[49m\u001b[38;5;124;43m'\u001b[39;49m\u001b[38;5;124;43mr\u001b[39;49m\u001b[38;5;124;43m'\u001b[39;49m\u001b[43m)\u001b[49m\n",
      "File \u001b[1;32m~\\AppData\\Roaming\\Python\\Python312\\site-packages\\IPython\\core\\interactiveshell.py:324\u001b[0m, in \u001b[0;36m_modified_open\u001b[1;34m(file, *args, **kwargs)\u001b[0m\n\u001b[0;32m    317\u001b[0m \u001b[38;5;28;01mif\u001b[39;00m file \u001b[38;5;129;01min\u001b[39;00m {\u001b[38;5;241m0\u001b[39m, \u001b[38;5;241m1\u001b[39m, \u001b[38;5;241m2\u001b[39m}:\n\u001b[0;32m    318\u001b[0m     \u001b[38;5;28;01mraise\u001b[39;00m \u001b[38;5;167;01mValueError\u001b[39;00m(\n\u001b[0;32m    319\u001b[0m         \u001b[38;5;124mf\u001b[39m\u001b[38;5;124m\"\u001b[39m\u001b[38;5;124mIPython won\u001b[39m\u001b[38;5;124m'\u001b[39m\u001b[38;5;124mt let you open fd=\u001b[39m\u001b[38;5;132;01m{\u001b[39;00mfile\u001b[38;5;132;01m}\u001b[39;00m\u001b[38;5;124m by default \u001b[39m\u001b[38;5;124m\"\u001b[39m\n\u001b[0;32m    320\u001b[0m         \u001b[38;5;124m\"\u001b[39m\u001b[38;5;124mas it is likely to crash IPython. If you know what you are doing, \u001b[39m\u001b[38;5;124m\"\u001b[39m\n\u001b[0;32m    321\u001b[0m         \u001b[38;5;124m\"\u001b[39m\u001b[38;5;124myou can use builtins\u001b[39m\u001b[38;5;124m'\u001b[39m\u001b[38;5;124m open.\u001b[39m\u001b[38;5;124m\"\u001b[39m\n\u001b[0;32m    322\u001b[0m     )\n\u001b[1;32m--> 324\u001b[0m \u001b[38;5;28;01mreturn\u001b[39;00m \u001b[43mio_open\u001b[49m\u001b[43m(\u001b[49m\u001b[43mfile\u001b[49m\u001b[43m,\u001b[49m\u001b[43m \u001b[49m\u001b[38;5;241;43m*\u001b[39;49m\u001b[43margs\u001b[49m\u001b[43m,\u001b[49m\u001b[43m \u001b[49m\u001b[38;5;241;43m*\u001b[39;49m\u001b[38;5;241;43m*\u001b[39;49m\u001b[43mkwargs\u001b[49m\u001b[43m)\u001b[49m\n",
      "\u001b[1;31mFileNotFoundError\u001b[0m: [Errno 2] No such file or directory: 'rahul.txt'"
     ]
    }
   ],
   "source": [
    "open('rahul.txt','r')"
   ]
  },
  {
   "cell_type": "code",
   "execution_count": 4,
   "metadata": {},
   "outputs": [
    {
     "name": "stdout",
     "output_type": "stream",
     "text": [
      "[Errno 2] No such file or directory: 'rahul.txt'\n"
     ]
    }
   ],
   "source": [
    "try:\n",
    "    fh=open('rahul.txt','r')\n",
    "    print(fh)\n",
    "except FileNotFoundError as fe:\n",
    "    print(fe)"
   ]
  },
  {
   "cell_type": "markdown",
   "metadata": {},
   "source": [
    "Readable"
   ]
  },
  {
   "cell_type": "code",
   "execution_count": 5,
   "metadata": {},
   "outputs": [
    {
     "name": "stdout",
     "output_type": "stream",
     "text": [
      "file is opened in read mode\n",
      "A mi\n",
      "\n",
      "ghty sea w\n",
      "\n",
      "arrior takes a violent stand against the criminal deeds of his village. Years later, his mild-mannered son walks a path of his own.\n"
     ]
    }
   ],
   "source": [
    "try:\n",
    "    fh = open('list.txt','r')\n",
    "    if fh.readable():\n",
    "        print('file is opened in read mode')\n",
    "        print(fh.read(4))\n",
    "        print()\n",
    "        print(fh.read(10))\n",
    "        print()\n",
    "        print(fh.read())\n",
    "    else:\n",
    "        print(\"file is not opened in read mode\")\n",
    "except FileNotFoundError as fe:\n",
    "    print(fe)\n"
   ]
  },
  {
   "cell_type": "markdown",
   "metadata": {},
   "source": [
    "Writemode"
   ]
  },
  {
   "cell_type": "code",
   "execution_count": 6,
   "metadata": {},
   "outputs": [
    {
     "name": "stdout",
     "output_type": "stream",
     "text": [
      "<_io.TextIOWrapper name='cricket.txt' mode='w' encoding='cp1252'>\n",
      "yes file opened in write mode\n"
     ]
    }
   ],
   "source": [
    "try:\n",
    "    fh=open('cricket.txt','w')\n",
    "    if fh.writable():\n",
    "        print(fh)\n",
    "        print(\"yes file opened in write mode\")\n",
    "except FileNotFoundError as fe:\n",
    "    print(fe)"
   ]
  },
  {
   "cell_type": "markdown",
   "metadata": {},
   "source": [
    "write()"
   ]
  },
  {
   "cell_type": "code",
   "execution_count": 9,
   "metadata": {},
   "outputs": [
    {
     "name": "stdout",
     "output_type": "stream",
     "text": [
      "data is added\n"
     ]
    }
   ],
   "source": [
    "try:\n",
    "    fh=open('cricket.txt','w')\n",
    "    if fh.writable():\n",
    "        fh.write(\"sachin is the  first indian to get 200 runs in same\")\n",
    "        fh.write(\"rohit sharma is also known a hitman\")\n",
    "        print(\"data is added\")\n",
    "except FileNotFoundError as fe:\n",
    "    print(fe)"
   ]
  },
  {
   "cell_type": "markdown",
   "metadata": {},
   "source": [
    "close()"
   ]
  },
  {
   "cell_type": "code",
   "execution_count": 18,
   "metadata": {},
   "outputs": [
    {
     "name": "stdout",
     "output_type": "stream",
     "text": [
      "sachin is the  first indian to get 200 runs in samerohit sharma is also known a hitman\n",
      "file is closed\n"
     ]
    }
   ],
   "source": [
    "try:\n",
    "    fh=open('cricket.txt','r')\n",
    "    print(fh.read())\n",
    "except FileNotFoundError as fe:\n",
    "    print(fe)\n",
    "finally:\n",
    "    if fh!=None:\n",
    "        fh.close()\n",
    "        print(\"file is closed\")"
   ]
  },
  {
   "cell_type": "markdown",
   "metadata": {},
   "source": [
    "with -----> keyword"
   ]
  },
  {
   "cell_type": "code",
   "execution_count": 20,
   "metadata": {},
   "outputs": [
    {
     "name": "stdout",
     "output_type": "stream",
     "text": [
      "sachin is the  first indian to get 200 runs in samerohit sharma is also known a hitman\n"
     ]
    }
   ],
   "source": [
    "try:\n",
    "    with open(\"cricket.txt\",\"r\") as fh:\n",
    "        print(fh.read())\n",
    "except FileNotFoundError as fe:\n",
    "    print(fe)"
   ]
  },
  {
   "cell_type": "markdown",
   "metadata": {},
   "source": [
    "writelines()"
   ]
  },
  {
   "cell_type": "code",
   "execution_count": null,
   "metadata": {},
   "outputs": [],
   "source": [
    "daily_tasks=[ \"wake up early\\n\",\n",
    "             \"fresh up\\n\",\n",
    "             \"eat healthy\\n\",\n",
    "             \"attend regular classes\\n\",\n",
    "             \"prepare well\\n\",\n",
    "             \"give the mock\\n\",\n",
    "             \"get placed soon\\n\"\n",
    "             ]\n",
    "\n",
    "try:\n",
    "    with open(\"tasks.txt\",\"w\") as fh:\n",
    "        if fh.writable():\n",
    "            fh.writelines(daily_tasks)\n",
    "except FileNotFoundError as fe:\n",
    "    print(fe)"
   ]
  },
  {
   "cell_type": "markdown",
   "metadata": {},
   "source": [
    "tell()"
   ]
  },
  {
   "cell_type": "code",
   "execution_count": 25,
   "metadata": {},
   "outputs": [
    {
     "name": "stdout",
     "output_type": "stream",
     "text": [
      "0\n",
      "sachi\n",
      "15\n",
      "first i\n"
     ]
    }
   ],
   "source": [
    "try:\n",
    "    with open(\"cricket.txt\",\"r\") as fh:\n",
    "        if fh.readable():\n",
    "            pos=fh.tell()\n",
    "            print(pos)\n",
    "            print(fh.read(5))\n",
    "            fh.seek(15)\n",
    "            pos=fh.tell()\n",
    "            print(pos)\n",
    "            print(fh.read(7))\n",
    "except FileNotFoundError as fe:\n",
    "    print(fe)"
   ]
  },
  {
   "cell_type": "markdown",
   "metadata": {},
   "source": [
    "WAP to read the data from a file and store only the vowels in the form of uppercase character into another fail."
   ]
  },
  {
   "cell_type": "code",
   "execution_count": 35,
   "metadata": {},
   "outputs": [
    {
     "name": "stdout",
     "output_type": "stream",
     "text": [
      "data is added\n"
     ]
    }
   ],
   "source": [
    "try:\n",
    "    with open('cricket.txt','r') as fh:\n",
    "        if fh.readable():\n",
    "            data=fh.read()\n",
    "            new=\" \"\n",
    "            for i in data:\n",
    "                if i in 'AEIOUaeiou':\n",
    "                    new+=i.upper()\n",
    "    \n",
    "    with open(\"new_data.txt\",\"w\") as fh1:\n",
    "        if fh1.writable():\n",
    "            fh1.write(new)\n",
    "            print('data is added')\n",
    "except FileNotFoundError as fe:\n",
    "    print(fe)"
   ]
  },
  {
   "cell_type": "markdown",
   "metadata": {},
   "source": [
    "append mode()"
   ]
  },
  {
   "cell_type": "code",
   "execution_count": 37,
   "metadata": {},
   "outputs": [],
   "source": [
    "try:\n",
    "    with open(\"new_data.txt\",\"a\") as fh:\n",
    "        if fh.writable():\n",
    "            fh.write(\" file is in append mode\")\n",
    "except FileNotFoundError as fe:\n",
    "    print(fe)"
   ]
  },
  {
   "cell_type": "markdown",
   "metadata": {},
   "source": [
    "readline()"
   ]
  },
  {
   "cell_type": "code",
   "execution_count": 38,
   "metadata": {},
   "outputs": [
    {
     "name": "stdout",
     "output_type": "stream",
     "text": [
      "\n",
      "['wake up early\\n', 'fresh up\\n', 'eat healthy\\n', 'attend regular classes\\n', 'prepare well\\n', 'give the mock\\n', 'get placed soon\\n']\n"
     ]
    }
   ],
   "source": [
    "try:\n",
    "    with open(\"tasks.txt\",\"r\") as fh:\n",
    "        if fh.readable():\n",
    "            print()\n",
    "            print(fh.readlines())\n",
    "except FileNotFoundError as fe:\n",
    "    print(fe)"
   ]
  },
  {
   "cell_type": "markdown",
   "metadata": {},
   "source": [
    "WAP to read the data from 3 individual text files and store tha data into new text file as follows.\n",
    "I       love    cricket\n",
    "YOU     play    football\n",
    "I love cricket\n",
    "I love football\n",
    "you love cricket\n",
    "you love football\n",
    "I play cricket\n",
    "I play football\n",
    "you play cricket\n",
    "you play football\n"
   ]
  },
  {
   "cell_type": "code",
   "execution_count": 40,
   "metadata": {},
   "outputs": [
    {
     "name": "stdout",
     "output_type": "stream",
     "text": [
      "data is added\n"
     ]
    }
   ],
   "source": [
    "try:\n",
    "    with open(\"data1.txt\",\"r\") as fh1:\n",
    "        if fh1.readable():\n",
    "            d1=fh1.read().split()\n",
    "    with open(\"data2.txt\",\"r\") as fh2:\n",
    "        if fh2.readable():\n",
    "            d2=fh2.read().split()\n",
    "    with open(\"data3.txt\",\"r\") as fh3:\n",
    "        if fh3.readable():\n",
    "            d3=fh3.read().split()\n",
    "\n",
    "            new_data=[ ]\n",
    "            for i in d1:\n",
    "                for j in d2:\n",
    "                    for k in d3:\n",
    "                        new_data.append(i+\" \"+j+\" \"+k+\"\\n\")\n",
    "            with open(\"final.txt\",\"w\") as fh4:\n",
    "                if fh4.writable():\n",
    "                    fh4.writelines(new_data)\n",
    "                    print(\"data is added\")\n",
    "except FileNotFoundError as fe:\n",
    "    print(fe)\n"
   ]
  },
  {
   "cell_type": "markdown",
   "metadata": {},
   "source": [
    "WAP to read only the integer data from a text file and print its sum as a final output."
   ]
  },
  {
   "cell_type": "code",
   "execution_count": null,
   "metadata": {},
   "outputs": [],
   "source": []
  },
  {
   "cell_type": "code",
   "execution_count": null,
   "metadata": {},
   "outputs": [],
   "source": [
    "import mysql.connector as mc\n",
    "\n",
    "try:\n",
    "    conobj=mc.connect(user=\"root\",password=\"root\",host=\"localhost\")\n",
    "    curobj=conobj.cursor()\n",
    "    curobj.execute(\"\")"
   ]
  }
 ],
 "metadata": {
  "kernelspec": {
   "display_name": "Python 3",
   "language": "python",
   "name": "python3"
  },
  "language_info": {
   "codemirror_mode": {
    "name": "ipython",
    "version": 3
   },
   "file_extension": ".py",
   "mimetype": "text/x-python",
   "name": "python",
   "nbconvert_exporter": "python",
   "pygments_lexer": "ipython3",
   "version": "3.12.4"
  }
 },
 "nbformat": 4,
 "nbformat_minor": 2
}
