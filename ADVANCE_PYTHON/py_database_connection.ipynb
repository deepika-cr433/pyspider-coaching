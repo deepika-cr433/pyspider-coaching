{
 "cells": [
  {
   "cell_type": "code",
   "execution_count": 5,
   "metadata": {},
   "outputs": [
    {
     "ename": "AttributeError",
     "evalue": "module 'mysql.connector' has no attribute 'connector'",
     "output_type": "error",
     "traceback": [
      "\u001b[1;31m---------------------------------------------------------------------------\u001b[0m",
      "\u001b[1;31mAttributeError\u001b[0m                            Traceback (most recent call last)",
      "Cell \u001b[1;32mIn[5], line 2\u001b[0m\n\u001b[0;32m      1\u001b[0m \u001b[38;5;28;01mimport\u001b[39;00m \u001b[38;5;21;01mmysql\u001b[39;00m\u001b[38;5;21;01m.\u001b[39;00m\u001b[38;5;21;01mconnector\u001b[39;00m \u001b[38;5;28;01mas\u001b[39;00m \u001b[38;5;21;01mmc\u001b[39;00m\n\u001b[1;32m----> 2\u001b[0m con_obj\u001b[38;5;241m=\u001b[39m\u001b[43mmc\u001b[49m\u001b[38;5;241;43m.\u001b[39;49m\u001b[43mconnector\u001b[49m\u001b[38;5;241m.\u001b[39mconnect(\n\u001b[0;32m      3\u001b[0m     user\u001b[38;5;241m=\u001b[39m\u001b[38;5;124m\"\u001b[39m\u001b[38;5;124mroot\u001b[39m\u001b[38;5;124m\"\u001b[39m,\n\u001b[0;32m      4\u001b[0m     password\u001b[38;5;241m=\u001b[39m\u001b[38;5;124m\"\u001b[39m\u001b[38;5;124mroot\u001b[39m\u001b[38;5;124m\"\u001b[39m,\n\u001b[0;32m      5\u001b[0m     host\u001b[38;5;241m=\u001b[39m\u001b[38;5;124m\"\u001b[39m\u001b[38;5;124mlocalhost\u001b[39m\u001b[38;5;124m\"\u001b[39m\n\u001b[0;32m      6\u001b[0m )\n\u001b[0;32m      7\u001b[0m \u001b[38;5;28mprint\u001b[39m(con_obj)\n",
      "\u001b[1;31mAttributeError\u001b[0m: module 'mysql.connector' has no attribute 'connector'"
     ]
    }
   ],
   "source": [
    "import mysql.connector as mc\n",
    "con_obj=mc.connector.connect(\n",
    "    user=\"root\",\n",
    "    password=\"root\",\n",
    "    host=\"localhost\"\n",
    ")\n",
    "print(con_obj)"
   ]
  },
  {
   "cell_type": "markdown",
   "metadata": {},
   "source": [
    "programm to display all the databases present in MYSQL"
   ]
  },
  {
   "cell_type": "code",
   "execution_count": 4,
   "metadata": {},
   "outputs": [
    {
     "name": "stdout",
     "output_type": "stream",
     "text": [
      "('information_schema',)\n",
      "('mysql',)\n",
      "('performance_schema',)\n",
      "('sakila',)\n",
      "('student',)\n",
      "('sys',)\n",
      "('temp',)\n",
      "('world',)\n"
     ]
    }
   ],
   "source": [
    "import mysql.connector as mc\n",
    "\n",
    "try:\n",
    "    con_obj=mc.connect(user=\"root\",password=\"root\",host=\"localhost\")\n",
    "    curobj=con_obj.cursor()\n",
    "    curobj.execute(\"show databases\")\n",
    "    for i in curobj:\n",
    "        print(i)\n",
    "except Exception as e:\n",
    "    print(e)"
   ]
  },
  {
   "cell_type": "markdown",
   "metadata": {},
   "source": [
    "to create a new database that is not exist."
   ]
  },
  {
   "cell_type": "code",
   "execution_count": 4,
   "metadata": {},
   "outputs": [
    {
     "name": "stdout",
     "output_type": "stream",
     "text": [
      "new database created\n"
     ]
    }
   ],
   "source": [
    "import mysql.connector as mc\n",
    "\n",
    "try:\n",
    "    con_obj=mc.connect(user=\"root\",password=\"root\",host=\"localhost\")\n",
    "    curobj=con_obj.cursor()\n",
    "    curobj.execute(\"create database if not exists student \")\n",
    "    print(\"new database created\")\n",
    "except Exception as e:\n",
    "    print(e)"
   ]
  },
  {
   "cell_type": "markdown",
   "metadata": {},
   "source": [
    "programm to create new table, which is get added to the database."
   ]
  },
  {
   "cell_type": "code",
   "execution_count": 9,
   "metadata": {},
   "outputs": [
    {
     "name": "stdout",
     "output_type": "stream",
     "text": [
      "table created\n"
     ]
    }
   ],
   "source": [
    "import mysql.connector as mc\n",
    "\n",
    "try:\n",
    "    con_obj=mc.connect(user=\"root\",password=\"root\",host=\"localhost\")\n",
    "    curobj=con_obj.cursor()\n",
    "    curobj.execute(\"create table student.std_info(usn varchar(20),name varchar(20),degree varchar(20),stream varchar(20), marks int(10),grade varchar(5))\")\n",
    "    print(\"table created\")\n",
    "except Exception as e:\n",
    "    print(e)"
   ]
  },
  {
   "cell_type": "markdown",
   "metadata": {},
   "source": [
    "to insert a values to table."
   ]
  },
  {
   "cell_type": "code",
   "execution_count": 7,
   "metadata": {},
   "outputs": [
    {
     "name": "stdout",
     "output_type": "stream",
     "text": [
      "data is inserted\n"
     ]
    }
   ],
   "source": [
    "import mysql.connector as mc\n",
    "\n",
    "try:\n",
    "    con_obj=mc.connect(user=\"root\",password=\"root\",host=\"localhost\")\n",
    "    curobj=con_obj.cursor()\n",
    "    curobj.execute(\"insert into student.std_info(usn,name,degree,stream,marks,grade) values(123,'amar','BE','cs',65,'A')\")\n",
    "    con_obj.commit()\n",
    "    print(\"data is inserted\")\n",
    "except FileNotFoundError as fe:\n",
    "    print(fe)"
   ]
  },
  {
   "cell_type": "markdown",
   "metadata": {},
   "source": [
    "program to insert multiple values to database table at the same time."
   ]
  },
  {
   "cell_type": "code",
   "execution_count": 8,
   "metadata": {},
   "outputs": [
    {
     "name": "stdout",
     "output_type": "stream",
     "text": [
      "data is inserted\n"
     ]
    }
   ],
   "source": [
    "import mysql.connector as mc\n",
    "\n",
    "try:\n",
    "    con_obj=mc.connect(user=\"root\",password=\"root\",host=\"localhost\")\n",
    "    curobj=con_obj.cursor()\n",
    "    query=\"insert into student.std_info(usn,name,degree,stream,marks,grade) values(%s,%s,%s,%s,%s,%s)\"\n",
    "    values=[(234,'don','BE','mech',75,'A'),(345,'devil','Bsc','CS',87,'A'),(456,'pushpa','Bcom','Brand',35,'C'),(785,'king','BCA','CS',56,'A'),(596,'Queen','BE','civil',67,'A')]\n",
    "    curobj.executemany(query,values)\n",
    "    con_obj.commit()\n",
    "    print(\"data is inserted\")\n",
    "except FileNotFoundError as fe:\n",
    "    print(fe)   "
   ]
  },
  {
   "cell_type": "markdown",
   "metadata": {},
   "source": [
    "to get students wwho scored above 55 and below 85."
   ]
  },
  {
   "cell_type": "code",
   "execution_count": 9,
   "metadata": {},
   "outputs": [
    {
     "name": "stdout",
     "output_type": "stream",
     "text": [
      "('123', 'amar', 'BE', 'cs', 65, 'A')\n",
      "('234', 'don', 'BE', 'mech', 75, 'A')\n",
      "('785', 'king', 'BCA', 'CS', 56, 'A')\n",
      "('596', 'Queen', 'BE', 'civil', 67, 'A')\n"
     ]
    }
   ],
   "source": [
    "import mysql.connector as mc\n",
    "\n",
    "try:\n",
    "    con_obj=mc.connect(user=\"root\",password=\"root\",host=\"localhost\")\n",
    "    curobj=con_obj.cursor()\n",
    "    curobj.execute(\"select * from student.std_info where marks>=55 and marks<=85\")\n",
    "    for std in curobj:\n",
    "        print(std)\n",
    "except FileNotFoundError as fe:\n",
    "    print(fe)"
   ]
  },
  {
   "cell_type": "markdown",
   "metadata": {},
   "source": [
    "update functionality"
   ]
  },
  {
   "cell_type": "code",
   "execution_count": 5,
   "metadata": {},
   "outputs": [],
   "source": [
    "# import mysql.connector as mc\n",
    "\n",
    "# try:\n",
    "#     con_obj=mc.connect(user=\"root\",password=\"root\",host=\"localhost\")\n",
    "#     curobj=con_obj.cursor()\n",
    "#     curobj.execute(\"update employee.empdata set desg='sd1' where experience=3\")\n",
    "#     con_obj.commit()\n",
    "#     print(curobj.rowcount,\"rows are updated\")\n",
    "# except FileNotFoundError as fe:\n",
    "#     print(fe)"
   ]
  },
  {
   "cell_type": "markdown",
   "metadata": {},
   "source": [
    "deletion."
   ]
  },
  {
   "cell_type": "code",
   "execution_count": 1,
   "metadata": {},
   "outputs": [
    {
     "name": "stdout",
     "output_type": "stream",
     "text": [
      "0 rows are updated\n"
     ]
    }
   ],
   "source": [
    "# import mysql.connector as mc\n",
    "\n",
    "# try:\n",
    "#     con_obj=mc.connect(user=\"root\",password=\"root\",host=\"localhost\",database=\"userdata\")\n",
    "#     curobj=con_obj.cursor()\n",
    "#     curobj.execute(\"delete from userdata.user_info\")\n",
    "#     con_obj.commit()\n",
    "#     print(curobj.rowcount,\"rows are updated\")\n",
    "# except FileNotFoundError as fe:\n",
    "#     print(fe)"
   ]
  },
  {
   "cell_type": "code",
   "execution_count": 2,
   "metadata": {},
   "outputs": [
    {
     "name": "stdout",
     "output_type": "stream",
     "text": [
      "Table 'user_info' deleted successfully.\n"
     ]
    }
   ],
   "source": [
    "import mysql.connector as mc\n",
    "\n",
    "try:\n",
    "    con_obj = mc.connect(\n",
    "        host=\"localhost\",\n",
    "        user=\"root\",\n",
    "        password=\"root\",\n",
    "        database=\"userdata\"  # Specify the database name here\n",
    "    )\n",
    "    curobj = con_obj.cursor()\n",
    "\n",
    "    # Use DROP TABLE to delete the table\n",
    "    curobj.execute(\"DROP TABLE user_info\") \n",
    "\n",
    "    con_obj.commit()\n",
    "    print(\"Table 'user_info' deleted successfully.\")\n",
    "\n",
    "except mysql.connector.Error as e:\n",
    "    print(f\"Error: {e}\")\n",
    "\n",
    "finally:\n",
    "    con_obj.close()"
   ]
  },
  {
   "cell_type": "code",
   "execution_count": 3,
   "metadata": {},
   "outputs": [
    {
     "name": "stdout",
     "output_type": "stream",
     "text": [
      "Database 'userdata' deleted successfully.\n"
     ]
    }
   ],
   "source": [
    "import mysql.connector\n",
    "\n",
    "try:\n",
    "    # Connect to the MySQL server (without specifying the database)\n",
    "    con_obj = mysql.connector.connect(\n",
    "        host=\"localhost\",\n",
    "        user=\"root\",\n",
    "        password=\"root\"\n",
    "    )\n",
    "    curobj = con_obj.cursor()\n",
    "\n",
    "    # Execute the DROP DATABASE command\n",
    "    curobj.execute(\"DROP DATABASE userdata\") \n",
    "\n",
    "    con_obj.commit()\n",
    "    print(\"Database 'userdata' deleted successfully.\")\n",
    "\n",
    "except mysql.connector.Error as e:\n",
    "    print(f\"Error: {e}\")\n",
    "\n",
    "finally:\n",
    "    con_obj.close()"
   ]
  },
  {
   "cell_type": "markdown",
   "metadata": {},
   "source": [
    "WAP to create a database and then need to create a table inside the newly created database with the columns like name, age, phone, address and then accept each data from user input and need to do the validation for name age and phone number.\n",
    "if the validation is sucess store the data into the table."
   ]
  },
  {
   "cell_type": "code",
   "execution_count": 6,
   "metadata": {},
   "outputs": [
    {
     "name": "stdout",
     "output_type": "stream",
     "text": [
      "connection established\n",
      "database is created\n",
      "table is created\n",
      "Python type tuple cannot be converted\n"
     ]
    }
   ],
   "source": [
    "import mysql.connector as mc\n",
    "try:\n",
    "    con_obj=mc.connect(user=\"root\",password=\"root\",host=\"localhost\")\n",
    "    cur_obj=con_obj.cursor()\n",
    "    print(\"connection established\")\n",
    "    try:\n",
    "        cur_obj.execute(\"create database userdata\")\n",
    "        print(\"database is created\")\n",
    "        try:\n",
    "            cur_obj.execute(\"create table userdata.user_info (name varchar(20), age int(10), phone int(10), address varchar(20))\")\n",
    "            print(\"table is created\")\n",
    "            try:\n",
    "                name=input(\"enter name:\")\n",
    "                age=int(input(\"enter age:\"))\n",
    "                phone= int(input(\"enter phone_number:\"))\n",
    "                address=input(\"enter address:\")\n",
    "                query=\"insert into userdata.user_info(name, age, phone,address) values(%s,%s,%s.%s)\"\n",
    "                values=[(\"deepika\", 22, 8792137096,\"chelur\"),(\"shreya\",22,794131196,'theni'),(\"nisha\",23,8795654135,\"udupi\"),(\"abdul\",25,7894561238,'kavali'),(\"tarun\",52,7895422333,\"nellur\")]\n",
    "                cur_obj.execute(query,values)\n",
    "                con_obj.commit()\n",
    "                print(\"data is inserted\")\n",
    "            except Exception as e:\n",
    "                print(e)\n",
    "        except Exception as e:\n",
    "          print(e)\n",
    "    except Exception as e:\n",
    "            print(e)\n",
    "except Exception as e:\n",
    "        print(e)\n"
   ]
  },
  {
   "cell_type": "markdown",
   "metadata": {},
   "source": [
    "WAP to read the data from employee table of employee database and ifnthe employee is present login the employee to respective dashboard.\n",
    "accept the empname from user input."
   ]
  },
  {
   "cell_type": "code",
   "execution_count": null,
   "metadata": {},
   "outputs": [],
   "source": [
    "import mysql.connector as mc\n",
    "def emp_dashboard(name):\n",
    "    print(f\"{name} welcome to your dashboard\")\n",
    "try:\n",
    "    con_obj=mc.connect(user='root',password='root',host='localhost')\n",
    "    cur_obj=con_obj.cursor()\n",
    "    cur_obj.execute(\"select name from employee.empdata\")\n",
    "    emp_name=input(\"enter the employee name:\")\n",
    "    for emp in cur_obj:\n",
    "        if emp[0]==emp_name:\n",
    "            emp_dashboard(emp_name)\n",
    "except Exception as e:\n",
    "    print(e)"
   ]
  },
  {
   "cell_type": "code",
   "execution_count": null,
   "metadata": {},
   "outputs": [],
   "source": []
  }
 ],
 "metadata": {
  "kernelspec": {
   "display_name": "Python 3",
   "language": "python",
   "name": "python3"
  },
  "language_info": {
   "codemirror_mode": {
    "name": "ipython",
    "version": 3
   },
   "file_extension": ".py",
   "mimetype": "text/x-python",
   "name": "python",
   "nbconvert_exporter": "python",
   "pygments_lexer": "ipython3",
   "version": "3.12.4"
  }
 },
 "nbformat": 4,
 "nbformat_minor": 2
}
