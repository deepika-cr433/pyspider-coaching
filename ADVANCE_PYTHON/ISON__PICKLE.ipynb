{
 "cells": [
  {
   "cell_type": "markdown",
   "metadata": {},
   "source": [
    "Loads()\n",
    "string -------> dictionary"
   ]
  },
  {
   "cell_type": "code",
   "execution_count": 4,
   "metadata": {},
   "outputs": [
    {
     "name": "stdout",
     "output_type": "stream",
     "text": [
      "<class 'str'>\n",
      "<class 'dict'>\n"
     ]
    }
   ],
   "source": [
    "import json\n",
    "data='{\"name\":\"galaxys23\",\"company\":\"samsumg\",\"color\":\"black\",\"price\":\"90000\"}'\n",
    "print(type(data))\n",
    "new_data = json.loads(data)\n",
    "print(type(new_data))"
   ]
  },
  {
   "cell_type": "markdown",
   "metadata": {},
   "source": [
    "dumps()\n",
    "dictionary ----> string"
   ]
  },
  {
   "cell_type": "code",
   "execution_count": 3,
   "metadata": {},
   "outputs": [
    {
     "name": "stdout",
     "output_type": "stream",
     "text": [
      "<class 'dict'>\n",
      "<class 'str'>\n"
     ]
    }
   ],
   "source": [
    "import json\n",
    "data = {\"name\":\"galaxys23\",\"company\":\"samsumg\",\"color\":\"black\",\"price\":\"90000\"}\n",
    "print(type(data))\n",
    "new_data = json.dumps(data)\n",
    "print(type(new_data))"
   ]
  },
  {
   "cell_type": "markdown",
   "metadata": {},
   "source": [
    "dump()"
   ]
  },
  {
   "cell_type": "code",
   "execution_count": 5,
   "metadata": {},
   "outputs": [
    {
     "name": "stdout",
     "output_type": "stream",
     "text": [
      "data is dumped\n"
     ]
    }
   ],
   "source": [
    "import json\n",
    "user_data = {\"id\":1,\"name\":\"deepika\",\"emailid\":\"deepikacr096@gmail.com\",\"address\":{\"taluk\":\"chelur\",\"district\":\"tumkur\",\"state\":\"karnataka\",\"pincode\":\"572117\"}}\n",
    "try:\n",
    "    with open(\"user.json\",'w') as fh:\n",
    "        if fh.writable():\n",
    "            json.dump(user_data,fh)\n",
    "            print(\"data is dumped\")\n",
    "except Exception as e:\n",
    "    print(e)"
   ]
  },
  {
   "cell_type": "markdown",
   "metadata": {},
   "source": [
    "load()"
   ]
  },
  {
   "cell_type": "code",
   "execution_count": 7,
   "metadata": {},
   "outputs": [
    {
     "name": "stdout",
     "output_type": "stream",
     "text": [
      "id : 1\n",
      "name : deepika\n",
      "emailid : deepikacr096@gmail.com\n",
      "address : {'taluk': 'chelur', 'district': 'tumkur', 'state': 'karnataka', 'pincode': '572117'}\n"
     ]
    }
   ],
   "source": [
    "import json\n",
    "try:\n",
    "    with open(\"user.json\",'r') as fh:\n",
    "        if fh.readable():\n",
    "            new_data = json.load(fh)\n",
    "            for i,j in new_data.items():\n",
    "                print(i,\":\",j)\n",
    "except Exception as e:\n",
    "    print(e)"
   ]
  },
  {
   "cell_type": "markdown",
   "metadata": {},
   "source": [
    "PICKLE\n",
    "--> pickling===>> data to bytes dump(),dumps()---serialisation\n",
    "--> unpickling===>> bytes to data load(),loads()---deserialisation"
   ]
  },
  {
   "cell_type": "code",
   "execution_count": 8,
   "metadata": {},
   "outputs": [
    {
     "name": "stdout",
     "output_type": "stream",
     "text": [
      "<class 'dict'>\n",
      "b\"\\x80\\x04\\x95\\x80\\x00\\x00\\x00\\x00\\x00\\x00\\x00}\\x94(\\x8c\\x04name\\x94\\x8c\\x0cbreaking bad\\x94\\x8c\\tstreaming\\x94\\x8c\\x07natflix\\x94\\x8c\\x07seasons\\x94K\\x05\\x8c\\x04cast\\x94\\x8c\\nheisenberg\\x94\\x8c\\x08dialogue\\x94\\x8c!I'm not in danger, I'm the danger\\x94u.\"\n",
      "<class 'bytes'>\n",
      "{'name': 'breaking bad', 'streaming': 'natflix', 'seasons': 5, 'cast': 'heisenberg', 'dialogue': \"I'm not in danger, I'm the danger\"}\n",
      "<class 'dict'>\n"
     ]
    }
   ],
   "source": [
    "import pickle\n",
    "data = {\"name\":\"breaking bad\",\"streaming\":\"natflix\",\"seasons\":5,\"cast\":\"heisenberg\",\"dialogue\":\"I'm not in danger, I'm the danger\"}\n",
    "print(type(data))\n",
    "#pickling the data\n",
    "pickled_data = pickle.dumps(data)\n",
    "print(pickled_data)\n",
    "print(type(pickled_data))\n",
    "#unpickling the data\n",
    "unpickled_data = pickle.loads(pickled_data)\n",
    "print(unpickled_data)\n",
    "print(type(unpickled_data))"
   ]
  },
  {
   "cell_type": "code",
   "execution_count": 9,
   "metadata": {},
   "outputs": [
    {
     "name": "stdout",
     "output_type": "stream",
     "text": [
      "data is dumped\n"
     ]
    }
   ],
   "source": [
    "import pickle\n",
    "data = {\"name\":\"breaking bad\",\"streaming\":\"natflix\",\"seasons\":5,\"cast\":\"heisenberg\",\"dialogue\":\"I'm not in danger, I'm the danger\"}\n",
    "try:\n",
    "    with open(\"user.pickle\",\"wb\") as fh:\n",
    "        if fh.writable():\n",
    "            pickle.dump(data,fh)\n",
    "            print(\"data is dumped\")\n",
    "except Exception as e:\n",
    "    print(e)\n"
   ]
  },
  {
   "cell_type": "code",
   "execution_count": 10,
   "metadata": {},
   "outputs": [
    {
     "name": "stdout",
     "output_type": "stream",
     "text": [
      "<class 'dict'>\n",
      "{'name': 'breaking bad', 'streaming': 'natflix', 'seasons': 5, 'cast': 'heisenberg', 'dialogue': \"I'm not in danger, I'm the danger\"}\n"
     ]
    }
   ],
   "source": [
    "import pickle\n",
    "try: \n",
    "    with open(\"user.pickle\",'rb') as fh:\n",
    "        if fh.readable():\n",
    "            unpickled_data = pickle.load(fh)\n",
    "            print(type(unpickled_data))\n",
    "            print(unpickled_data)\n",
    "except Exception as e:\n",
    "    print(e)"
   ]
  },
  {
   "cell_type": "markdown",
   "metadata": {},
   "source": [
    "lambda function"
   ]
  },
  {
   "cell_type": "code",
   "execution_count": 11,
   "metadata": {},
   "outputs": [
    {
     "name": "stdout",
     "output_type": "stream",
     "text": [
      "True\n",
      "False\n"
     ]
    }
   ],
   "source": [
    "is_even = lambda num:num%2==0\n",
    "print(is_even(10))\n",
    "print(is_even(11))\n"
   ]
  },
  {
   "cell_type": "code",
   "execution_count": 13,
   "metadata": {},
   "outputs": [
    {
     "name": "stdout",
     "output_type": "stream",
     "text": [
      "22\n",
      "python developer\n"
     ]
    }
   ],
   "source": [
    "var = lambda a,b :a+b\n",
    "print(var(10,12))\n",
    "print(var('python',' developer'))"
   ]
  },
  {
   "cell_type": "markdown",
   "metadata": {},
   "source": [
    "filter()"
   ]
  },
  {
   "cell_type": "code",
   "execution_count": 16,
   "metadata": {},
   "outputs": [
    {
     "name": "stdout",
     "output_type": "stream",
     "text": [
      "[2, 44, 90, 10, 12]\n",
      "[2, 44, 90, 10, 12]\n",
      "[2, 44, 90, 10, 12]\n"
     ]
    }
   ],
   "source": [
    "def is_even(num):\n",
    "    if num%2==0:\n",
    "        return True\n",
    "    else:\n",
    "        return False\n",
    "l1=[2,44,51,23,67,89,90,10,12]\n",
    "print(list(filter(is_even,l1)))\n",
    "#################################\n",
    "l1=[2,44,51,23,67,89,90,10,12]\n",
    "print(list(filter(lambda num:num%2==0 , l1)))\n",
    "#################################\n",
    "print(list(filter(lambda num:num%2==0 , [2,44,51,23,67,89,90,10,12])))"
   ]
  },
  {
   "cell_type": "markdown",
   "metadata": {},
   "source": [
    "WAP using filter function and filter the data of mobile phones having the price should be >25k and 50k.\n",
    "accept mobile details in the from of list, in that ecah mobile details should be in the form of dictionary."
   ]
  },
  {
   "cell_type": "code",
   "execution_count": 17,
   "metadata": {},
   "outputs": [
    {
     "name": "stdout",
     "output_type": "stream",
     "text": [
      "[{'name': 'galaxy s23', 'company': 'samsung', 'color': 'cream', 'price': 47999}, {'name': 'GT 6', 'company': 'real me', 'color': 'fluid silver', 'price': 41999}]\n"
     ]
    }
   ],
   "source": [
    "mobile=[\n",
    "    {'name':'galaxy s23','company':'samsung','color':'black','price':76453},\n",
    "    {'name':'motorola G85','company':'moto','color':'blue','price':17999},\n",
    "    {'name':'iPhone 16','company':'apple','color':'black','price':84900},\n",
    "    {'name':'galaxy s23','company':'samsung','color':'cream','price':47999},\n",
    "    {'name':'GT 6','company':'real me','color':'fluid silver','price':41999}\n",
    "]\n",
    "print(list(filter(lambda mob:mob['price']>25000 and mob['price']<50000, mobile)))"
   ]
  },
  {
   "cell_type": "markdown",
   "metadata": {},
   "source": [
    "map()"
   ]
  },
  {
   "cell_type": "code",
   "execution_count": 19,
   "metadata": {},
   "outputs": [
    {
     "name": "stdout",
     "output_type": "stream",
     "text": [
      "[529, 16, 36, 4, 49, 81]\n",
      "[529, 16, 36, 4, 49, 81]\n"
     ]
    }
   ],
   "source": [
    "l1=[23,4,6,2,7,9]\n",
    "def square(num):\n",
    "    return num*num\n",
    "print(list(map(square,l1)))\n",
    "##############################\n",
    "print(list(map(lambda n:n*n, [23,4,6,2,7,9])))"
   ]
  },
  {
   "cell_type": "code",
   "execution_count": 20,
   "metadata": {},
   "outputs": [
    {
     "name": "stdout",
     "output_type": "stream",
     "text": [
      "[True, False, True, True, False, True, False]\n"
     ]
    }
   ],
   "source": [
    "print(list(map(lambda a:a%2==0,[12,11,34,56,9,4,5])))"
   ]
  },
  {
   "cell_type": "markdown",
   "metadata": {},
   "source": [
    "WAP using map function to map through each prices in the given list and reduces the 5% init.\n"
   ]
  },
  {
   "cell_type": "code",
   "execution_count": 22,
   "metadata": {},
   "outputs": [
    {
     "name": "stdout",
     "output_type": "stream",
     "text": [
      "[96.89999999999999, 223.25, 983.25, 916.75, 433.2, 707.75]\n",
      "[96.89999999999999, 223.25, 982.3, 916.75, 433.2, 707.75]\n"
     ]
    }
   ],
   "source": [
    "prices=[102,235,1035,965,456,745]\n",
    "def red_5(num):\n",
    "    return num*0.95\n",
    "print(list(map(red_5,prices)))\n",
    "################################\n",
    "print(list(map(lambda n:n*0.95,[102,235,1034,965,456,745])))\n"
   ]
  },
  {
   "cell_type": "markdown",
   "metadata": {},
   "source": [
    "WAP to map through each values in the list and print the output as follows."
   ]
  },
  {
   "cell_type": "code",
   "execution_count": 23,
   "metadata": {},
   "outputs": [
    {
     "name": "stdout",
     "output_type": "stream",
     "text": [
      "['CA', 'IM', 'BM', 'AM', 'DP', 'Hm', 'JS', 'JB', 'RR']\n"
     ]
    }
   ],
   "source": [
    "names = ['Captain America','Iron Man','Bat Man','Ant Man','Dead Pool','Hanu man','Jack Sparrow','James Bond','Rahul Raj']\n",
    "def get_initials(names):\n",
    "    return ''.join(i[0] for i in names.split())\n",
    "print(list(map(get_initials,names)))\n"
   ]
  },
  {
   "cell_type": "markdown",
   "metadata": {},
   "source": [
    "reduce()"
   ]
  },
  {
   "cell_type": "code",
   "execution_count": 24,
   "metadata": {},
   "outputs": [
    {
     "name": "stdout",
     "output_type": "stream",
     "text": [
      "69000\n",
      "408\n"
     ]
    }
   ],
   "source": [
    "from functools import reduce\n",
    "l1 = [10,3,4,5,23,5]\n",
    "print(reduce(lambda a,b:a*b,l1))\n",
    "l2=[23,45,11,408,75,34,86,12,4]\n",
    "print(reduce(lambda a,b:a if a>b else b,l2))"
   ]
  },
  {
   "cell_type": "code",
   "execution_count": null,
   "metadata": {},
   "outputs": [],
   "source": []
  }
 ],
 "metadata": {
  "kernelspec": {
   "display_name": "Python 3",
   "language": "python",
   "name": "python3"
  },
  "language_info": {
   "codemirror_mode": {
    "name": "ipython",
    "version": 3
   },
   "file_extension": ".py",
   "mimetype": "text/x-python",
   "name": "python",
   "nbconvert_exporter": "python",
   "pygments_lexer": "ipython3",
   "version": "3.12.4"
  }
 },
 "nbformat": 4,
 "nbformat_minor": 2
}
