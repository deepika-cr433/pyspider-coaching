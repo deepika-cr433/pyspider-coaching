{
 "cells": [
  {
   "cell_type": "markdown",
   "metadata": {},
   "source": [
    "Loads()\n",
    "string -------> dictionary"
   ]
  },
  {
   "cell_type": "code",
   "execution_count": 4,
   "metadata": {},
   "outputs": [
    {
     "name": "stdout",
     "output_type": "stream",
     "text": [
      "<class 'str'>\n",
      "<class 'dict'>\n"
     ]
    }
   ],
   "source": [
    "import json\n",
    "data='{\"name\":\"galaxys23\",\"company\":\"samsumg\",\"color\":\"black\",\"price\":\"90000\"}'\n",
    "print(type(data))\n",
    "new_data = json.loads(data)\n",
    "print(type(new_data))"
   ]
  },
  {
   "cell_type": "markdown",
   "metadata": {},
   "source": [
    "dumps()\n",
    "dictionary ----> string"
   ]
  },
  {
   "cell_type": "code",
   "execution_count": 3,
   "metadata": {},
   "outputs": [
    {
     "name": "stdout",
     "output_type": "stream",
     "text": [
      "<class 'dict'>\n",
      "<class 'str'>\n"
     ]
    }
   ],
   "source": [
    "import json\n",
    "data = {\"name\":\"galaxys23\",\"company\":\"samsumg\",\"color\":\"black\",\"price\":\"90000\"}\n",
    "print(type(data))\n",
    "new_data = json.dumps(data)\n",
    "print(type(new_data))"
   ]
  },
  {
   "cell_type": "markdown",
   "metadata": {},
   "source": [
    "dump()"
   ]
  },
  {
   "cell_type": "code",
   "execution_count": 5,
   "metadata": {},
   "outputs": [
    {
     "name": "stdout",
     "output_type": "stream",
     "text": [
      "data is dumped\n"
     ]
    }
   ],
   "source": [
    "import json\n",
    "user_data = {\"id\":1,\"name\":\"deepika\",\"emailid\":\"deepikacr096@gmail.com\",\"address\":{\"taluk\":\"chelur\",\"district\":\"tumkur\",\"state\":\"karnataka\",\"pincode\":\"572117\"}}\n",
    "try:\n",
    "    with open(\"user.json\",'w') as fh:\n",
    "        if fh.writable():\n",
    "            json.dump(user_data,fh)\n",
    "            print(\"data is dumped\")\n",
    "except Exception as e:\n",
    "    print(e)"
   ]
  },
  {
   "cell_type": "markdown",
   "metadata": {},
   "source": [
    "load()"
   ]
  },
  {
   "cell_type": "code",
   "execution_count": 7,
   "metadata": {},
   "outputs": [
    {
     "name": "stdout",
     "output_type": "stream",
     "text": [
      "id : 1\n",
      "name : deepika\n",
      "emailid : deepikacr096@gmail.com\n",
      "address : {'taluk': 'chelur', 'district': 'tumkur', 'state': 'karnataka', 'pincode': '572117'}\n"
     ]
    }
   ],
   "source": [
    "import json\n",
    "try:\n",
    "    with open(\"user.json\",'r') as fh:\n",
    "        if fh.readable():\n",
    "            new_data = json.load(fh)\n",
    "            for i,j in new_data.items():\n",
    "                print(i,\":\",j)\n",
    "except Exception as e:\n",
    "    print(e)"
   ]
  },
  {
   "cell_type": "markdown",
   "metadata": {},
   "source": [
    "PICKLE\n",
    "--> pickling===>> data to bytes dump(),dumps()---serialisation\n",
    "--> unpickling===>> bytes to data load(),loads()---deserialisation"
   ]
  },
  {
   "cell_type": "code",
   "execution_count": 8,
   "metadata": {},
   "outputs": [
    {
     "name": "stdout",
     "output_type": "stream",
     "text": [
      "<class 'dict'>\n",
      "b\"\\x80\\x04\\x95\\x80\\x00\\x00\\x00\\x00\\x00\\x00\\x00}\\x94(\\x8c\\x04name\\x94\\x8c\\x0cbreaking bad\\x94\\x8c\\tstreaming\\x94\\x8c\\x07natflix\\x94\\x8c\\x07seasons\\x94K\\x05\\x8c\\x04cast\\x94\\x8c\\nheisenberg\\x94\\x8c\\x08dialogue\\x94\\x8c!I'm not in danger, I'm the danger\\x94u.\"\n",
      "<class 'bytes'>\n",
      "{'name': 'breaking bad', 'streaming': 'natflix', 'seasons': 5, 'cast': 'heisenberg', 'dialogue': \"I'm not in danger, I'm the danger\"}\n",
      "<class 'dict'>\n"
     ]
    }
   ],
   "source": [
    "import pickle\n",
    "data = {\"name\":\"breaking bad\",\"streaming\":\"natflix\",\"seasons\":5,\"cast\":\"heisenberg\",\"dialogue\":\"I'm not in danger, I'm the danger\"}\n",
    "print(type(data))\n",
    "#pickling the data\n",
    "pickled_data = pickle.dumps(data)\n",
    "print(pickled_data)\n",
    "print(type(pickled_data))\n",
    "#unpickling the data\n",
    "unpickled_data = pickle.loads(pickled_data)\n",
    "print(unpickled_data)\n",
    "print(type(unpickled_data))"
   ]
  },
  {
   "cell_type": "code",
   "execution_count": 9,
   "metadata": {},
   "outputs": [
    {
     "name": "stdout",
     "output_type": "stream",
     "text": [
      "data is dumped\n"
     ]
    }
   ],
   "source": [
    "import pickle\n",
    "data = {\"name\":\"breaking bad\",\"streaming\":\"natflix\",\"seasons\":5,\"cast\":\"heisenberg\",\"dialogue\":\"I'm not in danger, I'm the danger\"}\n",
    "try:\n",
    "    with open(\"user.pickle\",\"wb\") as fh:\n",
    "        if fh.writable():\n",
    "            pickle.dump(data,fh)\n",
    "            print(\"data is dumped\")\n",
    "except Exception as e:\n",
    "    print(e)\n"
   ]
  },
  {
   "cell_type": "code",
   "execution_count": 10,
   "metadata": {},
   "outputs": [
    {
     "name": "stdout",
     "output_type": "stream",
     "text": [
      "<class 'dict'>\n",
      "{'name': 'breaking bad', 'streaming': 'natflix', 'seasons': 5, 'cast': 'heisenberg', 'dialogue': \"I'm not in danger, I'm the danger\"}\n"
     ]
    }
   ],
   "source": [
    "import pickle\n",
    "try: \n",
    "    with open(\"user.pickle\",'rb') as fh:\n",
    "        if fh.readable():\n",
    "            unpickled_data = pickle.load(fh)\n",
    "            print(type(unpickled_data))\n",
    "            print(unpickled_data)\n",
    "except Exception as e:\n",
    "    print(e)"
   ]
  },
  {
   "cell_type": "markdown",
   "metadata": {},
   "source": [
    "lambda function"
   ]
  },
  {
   "cell_type": "code",
   "execution_count": 11,
   "metadata": {},
   "outputs": [
    {
     "name": "stdout",
     "output_type": "stream",
     "text": [
      "True\n",
      "False\n"
     ]
    }
   ],
   "source": [
    "is_even = lambda num:num%2==0\n",
    "print(is_even(10))\n",
    "print(is_even(11))\n"
   ]
  },
  {
   "cell_type": "code",
   "execution_count": 13,
   "metadata": {},
   "outputs": [
    {
     "name": "stdout",
     "output_type": "stream",
     "text": [
      "22\n",
      "python developer\n"
     ]
    }
   ],
   "source": [
    "var = lambda a,b :a+b\n",
    "print(var(10,12))\n",
    "print(var('python',' developer'))"
   ]
  },
  {
   "cell_type": "markdown",
   "metadata": {},
   "source": [
    "filter()"
   ]
  },
  {
   "cell_type": "code",
   "execution_count": 16,
   "metadata": {},
   "outputs": [
    {
     "name": "stdout",
     "output_type": "stream",
     "text": [
      "[2, 44, 90, 10, 12]\n",
      "[2, 44, 90, 10, 12]\n",
      "[2, 44, 90, 10, 12]\n"
     ]
    }
   ],
   "source": [
    "def is_even(num):\n",
    "    if num%2==0:\n",
    "        return True\n",
    "    else:\n",
    "        return False\n",
    "l1=[2,44,51,23,67,89,90,10,12]\n",
    "print(list(filter(is_even,l1)))\n",
    "#################################\n",
    "l1=[2,44,51,23,67,89,90,10,12]\n",
    "print(list(filter(lambda num:num%2==0 , l1)))\n",
    "#################################\n",
    "print(list(filter(lambda num:num%2==0 , [2,44,51,23,67,89,90,10,12])))"
   ]
  },
  {
   "cell_type": "markdown",
   "metadata": {},
   "source": [
    "WAP using filter function and filter the data of mobile phones having the price should be >25k and 50k.\n",
    "accept mobile details in the from of list, in that ecah mobile details should be in the form of dictionary."
   ]
  },
  {
   "cell_type": "code",
   "execution_count": 17,
   "metadata": {},
   "outputs": [
    {
     "name": "stdout",
     "output_type": "stream",
     "text": [
      "[{'name': 'galaxy s23', 'company': 'samsung', 'color': 'cream', 'price': 47999}, {'name': 'GT 6', 'company': 'real me', 'color': 'fluid silver', 'price': 41999}]\n"
     ]
    }
   ],
   "source": [
    "mobile=[\n",
    "    {'name':'galaxy s23','company':'samsung','color':'black','price':76453},\n",
    "    {'name':'motorola G85','company':'moto','color':'blue','price':17999},\n",
    "    {'name':'iPhone 16','company':'apple','color':'black','price':84900},\n",
    "    {'name':'galaxy s23','company':'samsung','color':'cream','price':47999},\n",
    "    {'name':'GT 6','company':'real me','color':'fluid silver','price':41999}\n",
    "]\n",
    "print(list(filter(lambda mob:mob['price']>25000 and mob['price']<50000, mobile)))"
   ]
  },
  {
   "cell_type": "markdown",
   "metadata": {},
   "source": [
    "map()"
   ]
  },
  {
   "cell_type": "code",
   "execution_count": 19,
   "metadata": {},
   "outputs": [
    {
     "name": "stdout",
     "output_type": "stream",
     "text": [
      "[529, 16, 36, 4, 49, 81]\n",
      "[529, 16, 36, 4, 49, 81]\n"
     ]
    }
   ],
   "source": [
    "l1=[23,4,6,2,7,9]\n",
    "def square(num):\n",
    "    return num*num\n",
    "print(list(map(square,l1)))\n",
    "##############################\n",
    "print(list(map(lambda n:n*n, [23,4,6,2,7,9])))"
   ]
  },
  {
   "cell_type": "code",
   "execution_count": 20,
   "metadata": {},
   "outputs": [
    {
     "name": "stdout",
     "output_type": "stream",
     "text": [
      "[True, False, True, True, False, True, False]\n"
     ]
    }
   ],
   "source": [
    "print(list(map(lambda a:a%2==0,[12,11,34,56,9,4,5])))"
   ]
  },
  {
   "cell_type": "markdown",
   "metadata": {},
   "source": [
    "WAP using map function to map through each prices in the given list and reduces the 5% init.\n"
   ]
  },
  {
   "cell_type": "code",
   "execution_count": 22,
   "metadata": {},
   "outputs": [
    {
     "name": "stdout",
     "output_type": "stream",
     "text": [
      "[96.89999999999999, 223.25, 983.25, 916.75, 433.2, 707.75]\n",
      "[96.89999999999999, 223.25, 982.3, 916.75, 433.2, 707.75]\n"
     ]
    }
   ],
   "source": [
    "prices=[102,235,1035,965,456,745]\n",
    "def red_5(num):\n",
    "    return num*0.95\n",
    "print(list(map(red_5,prices)))\n",
    "################################\n",
    "print(list(map(lambda n:n*0.95,[102,235,1034,965,456,745])))\n"
   ]
  },
  {
   "cell_type": "markdown",
   "metadata": {},
   "source": [
    "WAP to map through each values in the list and print the output as follows."
   ]
  },
  {
   "cell_type": "code",
   "execution_count": 23,
   "metadata": {},
   "outputs": [
    {
     "name": "stdout",
     "output_type": "stream",
     "text": [
      "['CA', 'IM', 'BM', 'AM', 'DP', 'Hm', 'JS', 'JB', 'RR']\n"
     ]
    }
   ],
   "source": [
    "names = ['Captain America','Iron Man','Bat Man','Ant Man','Dead Pool','Hanu man','Jack Sparrow','James Bond','Rahul Raj']\n",
    "def get_initials(names):\n",
    "    return ''.join(i[0] for i in names.split())\n",
    "print(list(map(get_initials,names)))\n"
   ]
  },
  {
   "cell_type": "markdown",
   "metadata": {},
   "source": [
    "reduce()"
   ]
  },
  {
   "cell_type": "code",
   "execution_count": 24,
   "metadata": {},
   "outputs": [
    {
     "name": "stdout",
     "output_type": "stream",
     "text": [
      "69000\n",
      "408\n"
     ]
    }
   ],
   "source": [
    "from functools import reduce\n",
    "l1 = [10,3,4,5,23,5]\n",
    "print(reduce(lambda a,b:a*b,l1))\n",
    "l2=[23,45,11,408,75,34,86,12,4]\n",
    "print(reduce(lambda a,b:a if a>b else b,l2))"
   ]
  },
  {
   "cell_type": "markdown",
   "metadata": {},
   "source": [
    "ITERATORS."
   ]
  },
  {
   "cell_type": "code",
   "execution_count": 1,
   "metadata": {},
   "outputs": [
    {
     "name": "stdout",
     "output_type": "stream",
     "text": [
      "['__add__', '__class__', '__class_getitem__', '__contains__', '__delattr__', '__delitem__', '__dir__', '__doc__', '__eq__', '__format__', '__ge__', '__getattribute__', '__getitem__', '__getstate__', '__gt__', '__hash__', '__iadd__', '__imul__', '__init__', '__init_subclass__', '__iter__', '__le__', '__len__', '__lt__', '__mul__', '__ne__', '__new__', '__reduce__', '__reduce_ex__', '__repr__', '__reversed__', '__rmul__', '__setattr__', '__setitem__', '__sizeof__', '__str__', '__subclasshook__', 'append', 'clear', 'copy', 'count', 'extend', 'index', 'insert', 'pop', 'remove', 'reverse', 'sort']\n"
     ]
    }
   ],
   "source": [
    "l1=[1,2,3,4,5]\n",
    "print(dir(l1))  # iterable type object which contains only __iter__()"
   ]
  },
  {
   "cell_type": "code",
   "execution_count": 5,
   "metadata": {},
   "outputs": [
    {
     "name": "stdout",
     "output_type": "stream",
     "text": [
      "['__add__', '__class__', '__class_getitem__', '__contains__', '__delattr__', '__delitem__', '__dir__', '__doc__', '__eq__', '__format__', '__ge__', '__getattribute__', '__getitem__', '__getstate__', '__gt__', '__hash__', '__iadd__', '__imul__', '__init__', '__init_subclass__', '__iter__', '__le__', '__len__', '__lt__', '__mul__', '__ne__', '__new__', '__reduce__', '__reduce_ex__', '__repr__', '__reversed__', '__rmul__', '__setattr__', '__setitem__', '__sizeof__', '__str__', '__subclasshook__', 'append', 'clear', 'copy', 'count', 'extend', 'index', 'insert', 'pop', 'remove', 'reverse', 'sort']\n",
      "<list_iterator object at 0x000002248E6F2D40>\n",
      "['__class__', '__delattr__', '__dir__', '__doc__', '__eq__', '__format__', '__ge__', '__getattribute__', '__getstate__', '__gt__', '__hash__', '__init__', '__init_subclass__', '__iter__', '__le__', '__length_hint__', '__lt__', '__ne__', '__new__', '__next__', '__reduce__', '__reduce_ex__', '__repr__', '__setattr__', '__setstate__', '__sizeof__', '__str__', '__subclasshook__']\n",
      "11\n",
      "22\n",
      "33\n",
      "44\n",
      "55\n"
     ]
    },
    {
     "ename": "StopIteration",
     "evalue": "",
     "output_type": "error",
     "traceback": [
      "\u001b[1;31m---------------------------------------------------------------------------\u001b[0m",
      "\u001b[1;31mStopIteration\u001b[0m                             Traceback (most recent call last)",
      "Cell \u001b[1;32mIn[5], line 11\u001b[0m\n\u001b[0;32m      9\u001b[0m \u001b[38;5;28mprint\u001b[39m(list_l1\u001b[38;5;241m.\u001b[39m\u001b[38;5;21m__next__\u001b[39m())\n\u001b[0;32m     10\u001b[0m \u001b[38;5;28mprint\u001b[39m(list_l1\u001b[38;5;241m.\u001b[39m\u001b[38;5;21m__next__\u001b[39m())\n\u001b[1;32m---> 11\u001b[0m \u001b[38;5;28mprint\u001b[39m(\u001b[43mlist_l1\u001b[49m\u001b[38;5;241;43m.\u001b[39;49m\u001b[38;5;21;43m__next__\u001b[39;49m\u001b[43m(\u001b[49m\u001b[43m)\u001b[49m)\n",
      "\u001b[1;31mStopIteration\u001b[0m: "
     ]
    }
   ],
   "source": [
    "l1=[11,22,33,44,55]\n",
    "print(dir(l1))\n",
    "list_l1=l1.__iter__()\n",
    "print(list_l1)\n",
    "print(dir(list_l1))\n",
    "print(list_l1.__next__())\n",
    "print(list_l1.__next__())\n",
    "print(list_l1.__next__())\n",
    "print(list_l1.__next__())\n",
    "print(list_l1.__next__())\n",
    "print(list_l1.__next__())\n"
   ]
  },
  {
   "cell_type": "code",
   "execution_count": 6,
   "metadata": {},
   "outputs": [
    {
     "name": "stdout",
     "output_type": "stream",
     "text": [
      "11\n",
      "22\n",
      "33\n",
      "44\n",
      "55\n"
     ]
    }
   ],
   "source": [
    "l1=[11,22,33,44,55]\n",
    "list_l1=l1.__iter__()\n",
    "while True:\n",
    "    try:\n",
    "        print(list_l1.__next__())\n",
    "    except StopIteration:\n",
    "        break"
   ]
  },
  {
   "cell_type": "markdown",
   "metadata": {},
   "source": [
    "program to print natural numbers from 1 to 10 using custom iterator logic."
   ]
  },
  {
   "cell_type": "code",
   "execution_count": 8,
   "metadata": {},
   "outputs": [
    {
     "name": "stdout",
     "output_type": "stream",
     "text": [
      "1\n",
      "2\n",
      "3\n",
      "4\n",
      "5\n",
      "6\n",
      "7\n",
      "8\n",
      "9\n",
      "10\n"
     ]
    },
    {
     "ename": "StopIteration",
     "evalue": "",
     "output_type": "error",
     "traceback": [
      "\u001b[1;31m---------------------------------------------------------------------------\u001b[0m",
      "\u001b[1;31mStopIteration\u001b[0m                             Traceback (most recent call last)",
      "Cell \u001b[1;32mIn[8], line 24\u001b[0m\n\u001b[0;32m     22\u001b[0m \u001b[38;5;28mprint\u001b[39m(n1\u001b[38;5;241m.\u001b[39m\u001b[38;5;21m__next__\u001b[39m())\n\u001b[0;32m     23\u001b[0m \u001b[38;5;28mprint\u001b[39m(n1\u001b[38;5;241m.\u001b[39m\u001b[38;5;21m__next__\u001b[39m())\n\u001b[1;32m---> 24\u001b[0m \u001b[38;5;28mprint\u001b[39m(\u001b[43mn1\u001b[49m\u001b[38;5;241;43m.\u001b[39;49m\u001b[38;5;21;43m__next__\u001b[39;49m\u001b[43m(\u001b[49m\u001b[43m)\u001b[49m)\n",
      "Cell \u001b[1;32mIn[8], line 12\u001b[0m, in \u001b[0;36mnumbers.__next__\u001b[1;34m(self)\u001b[0m\n\u001b[0;32m     10\u001b[0m     \u001b[38;5;28;01mreturn\u001b[39;00m res\n\u001b[0;32m     11\u001b[0m \u001b[38;5;28;01melse\u001b[39;00m:\n\u001b[1;32m---> 12\u001b[0m     \u001b[38;5;28;01mraise\u001b[39;00m \u001b[38;5;167;01mStopIteration\u001b[39;00m\n",
      "\u001b[1;31mStopIteration\u001b[0m: "
     ]
    }
   ],
   "source": [
    "class numbers:\n",
    "    def __init__(self):\n",
    "        self.num=1\n",
    "    def __iter__(self):\n",
    "        return self\n",
    "    def __next__(self):\n",
    "        if self.num<=10:\n",
    "            res=self.num\n",
    "            self.num +=1\n",
    "            return res\n",
    "        else:\n",
    "            raise StopIteration\n",
    "n1=numbers()\n",
    "print(n1.__next__())\n",
    "print(n1.__next__())\n",
    "print(n1.__next__())\n",
    "print(n1.__next__())\n",
    "print(n1.__next__())\n",
    "print(n1.__next__())\n",
    "print(n1.__next__())\n",
    "print(n1.__next__())\n",
    "print(n1.__next__())\n",
    "print(n1.__next__())\n",
    "print(n1.__next__())\n",
    "\n"
   ]
  },
  {
   "cell_type": "markdown",
   "metadata": {},
   "source": [
    "programm to display only even numbers present in a list using custom iteration process."
   ]
  },
  {
   "cell_type": "code",
   "execution_count": 1,
   "metadata": {},
   "outputs": [
    {
     "name": "stdout",
     "output_type": "stream",
     "text": [
      "Even numbers: [2, 4, 6, 8, 10]\n"
     ]
    }
   ],
   "source": [
    "class EvenNumberIterator:\n",
    "    def __init__(self, numbers):\n",
    "        self.numbers = numbers\n",
    "        self.index = 0\n",
    "\n",
    "    def __iter__(self):\n",
    "        return self\n",
    "\n",
    "    def __next__(self):\n",
    "        while self.index < len(self.numbers):\n",
    "            current = self.numbers[self.index]\n",
    "            self.index += 1\n",
    "            if current % 2 == 0:\n",
    "                return current\n",
    "        raise StopIteration\n",
    "\n",
    "def get_even_numbers(numbers):\n",
    "    return [num for num in EvenNumberIterator(numbers)]\n",
    "\n",
    "\n",
    "numbers_list = [1, 2, 3, 4, 5, 6, 7, 8, 9, 10]\n",
    "\n",
    "even_numbers = get_even_numbers(numbers_list)\n",
    "print(\"Even numbers:\", even_numbers)\n"
   ]
  },
  {
   "cell_type": "markdown",
   "metadata": {},
   "source": [
    "# Generators."
   ]
  },
  {
   "cell_type": "code",
   "execution_count": 4,
   "metadata": {},
   "outputs": [
    {
     "name": "stdout",
     "output_type": "stream",
     "text": [
      "executed for the first time\n",
      "10\n",
      "executed for the first time\n",
      "10\n",
      "executed for the first time\n",
      "10\n"
     ]
    }
   ],
   "source": [
    "def myfunction():\n",
    "    print(\"executed for the first time\")\n",
    "    return 10\n",
    "    print(\"execute for th esecond time\")\n",
    "    return 20\n",
    "    print(\"executed for 3rd time\")\n",
    "    return 30\n",
    "\n",
    "print(myfunction())\n",
    "print(myfunction())\n",
    "print(myfunction())"
   ]
  },
  {
   "cell_type": "code",
   "execution_count": 6,
   "metadata": {},
   "outputs": [
    {
     "name": "stdout",
     "output_type": "stream",
     "text": [
      "executed for 1st time\n",
      "10\n",
      "executed for 2nd time\n",
      "20\n",
      "executed for 3rd time\n",
      "30\n"
     ]
    },
    {
     "ename": "StopIteration",
     "evalue": "",
     "output_type": "error",
     "traceback": [
      "\u001b[1;31m---------------------------------------------------------------------------\u001b[0m",
      "\u001b[1;31mStopIteration\u001b[0m                             Traceback (most recent call last)",
      "Cell \u001b[1;32mIn[6], line 13\u001b[0m\n\u001b[0;32m     11\u001b[0m \u001b[38;5;28mprint\u001b[39m(gen_obj\u001b[38;5;241m.\u001b[39m\u001b[38;5;21m__next__\u001b[39m())\n\u001b[0;32m     12\u001b[0m \u001b[38;5;28mprint\u001b[39m(gen_obj\u001b[38;5;241m.\u001b[39m\u001b[38;5;21m__next__\u001b[39m())\n\u001b[1;32m---> 13\u001b[0m \u001b[38;5;28mprint\u001b[39m(\u001b[43mgen_obj\u001b[49m\u001b[38;5;241;43m.\u001b[39;49m\u001b[38;5;21;43m__next__\u001b[39;49m\u001b[43m(\u001b[49m\u001b[43m)\u001b[49m)\n",
      "\u001b[1;31mStopIteration\u001b[0m: "
     ]
    }
   ],
   "source": [
    "def myfunction():\n",
    "    print(\"executed for 1st time\")\n",
    "    yield 10\n",
    "    print(\"executed for 2nd time\")\n",
    "    yield 20\n",
    "    print(\"executed for 3rd time\")\n",
    "    yield 30\n",
    "\n",
    "gen_obj=myfunction()\n",
    "print(gen_obj.__next__())\n",
    "print(gen_obj.__next__())\n",
    "print(gen_obj.__next__())\n",
    "print(gen_obj.__next__())\n"
   ]
  },
  {
   "cell_type": "markdown",
   "metadata": {},
   "source": [
    "WAP to find the square of each element in the given list using generator."
   ]
  },
  {
   "cell_type": "code",
   "execution_count": 9,
   "metadata": {},
   "outputs": [
    {
     "name": "stdout",
     "output_type": "stream",
     "text": [
      "4\n",
      "16\n",
      "36\n",
      "49\n",
      "9\n",
      "64\n"
     ]
    },
    {
     "ename": "StopIteration",
     "evalue": "",
     "output_type": "error",
     "traceback": [
      "\u001b[1;31m---------------------------------------------------------------------------\u001b[0m",
      "\u001b[1;31mStopIteration\u001b[0m                             Traceback (most recent call last)",
      "Cell \u001b[1;32mIn[9], line 13\u001b[0m\n\u001b[0;32m     11\u001b[0m \u001b[38;5;28mprint\u001b[39m(gen\u001b[38;5;241m.\u001b[39m\u001b[38;5;21m__next__\u001b[39m())\n\u001b[0;32m     12\u001b[0m \u001b[38;5;28mprint\u001b[39m(gen\u001b[38;5;241m.\u001b[39m\u001b[38;5;21m__next__\u001b[39m())\n\u001b[1;32m---> 13\u001b[0m \u001b[38;5;28mprint\u001b[39m(\u001b[43mgen\u001b[49m\u001b[38;5;241;43m.\u001b[39;49m\u001b[38;5;21;43m__next__\u001b[39;49m\u001b[43m(\u001b[49m\u001b[43m)\u001b[49m)\n",
      "\u001b[1;31mStopIteration\u001b[0m: "
     ]
    }
   ],
   "source": [
    "def squares(nums):\n",
    "    for i in nums:\n",
    "        yield i*i\n",
    "\n",
    "l1=[2,4,6,7,3,8]\n",
    "gen=squares(l1)\n",
    "print(gen.__next__())\n",
    "print(gen.__next__())\n",
    "print(gen.__next__())\n",
    "print(gen.__next__())\n",
    "print(gen.__next__())\n",
    "print(gen.__next__())\n",
    "print(gen.__next__())"
   ]
  },
  {
   "cell_type": "markdown",
   "metadata": {},
   "source": [
    "WAP to generate a usn fro 10 students using generator function."
   ]
  },
  {
   "cell_type": "code",
   "execution_count": 11,
   "metadata": {},
   "outputs": [
    {
     "name": "stdout",
     "output_type": "stream",
     "text": [
      "1BMS24CS1\n",
      "1BMS24CS2\n",
      "1BMS24CS3\n",
      "1BMS24CS4\n",
      "1BMS24CS5\n",
      "1BMS24CS6\n",
      "1BMS24CS7\n",
      "1BMS24CS8\n",
      "1BMS24CS9\n",
      "1BMS24CS10\n",
      "1BMS24CS11\n",
      "1BMS24CS12\n"
     ]
    }
   ],
   "source": [
    "def usn_generator(college,yoj,stream):\n",
    "    num=1\n",
    "    while True:\n",
    "        yield str(1) + college + str(yoj) + stream + str(num)\n",
    "        num+=1\n",
    "\n",
    "usn=usn_generator(\"BMS\",24,\"CS\")\n",
    "print(usn.__next__())\n",
    "print(usn.__next__())\n",
    "print(usn.__next__())\n",
    "print(usn.__next__())\n",
    "print(usn.__next__())\n",
    "print(usn.__next__())\n",
    "print(usn.__next__())\n",
    "print(usn.__next__())\n",
    "print(usn.__next__())\n",
    "print(usn.__next__())\n",
    "print(usn.__next__())\n",
    "print(usn.__next__())"
   ]
  },
  {
   "cell_type": "markdown",
   "metadata": {},
   "source": [
    "WAP for generator function which accepts N number of non -ve integers & yield only the prime numbers in the given list."
   ]
  },
  {
   "cell_type": "code",
   "execution_count": null,
   "metadata": {},
   "outputs": [],
   "source": [
    "def is_prime(num):\n",
    "    \"\"\"Check if a number is prime.\"\"\"\n",
    "    if num < 2:\n",
    "        return False\n",
    "    for i in range(2, int(num ** 0.5) + 1):\n",
    "        if num % i == 0:\n",
    "            return False\n",
    "    return True\n",
    "\n",
    "def prime_generator(numbers):\n",
    "    \"\"\"Generator to yield prime numbers from a list of non-negative integers.\"\"\"\n",
    "    for number in numbers:\n",
    "        if is_prime(number):\n",
    "            yield number\n",
    "\n",
    "# Example usage\n",
    "if __name__ == \"__main__\":\n",
    "    nums = [int(x) for x in input(\"Enter non-negative integers separated by space: \").split()]\n",
    "    print(\"Prime numbers in the given list:\")\n",
    "    for prime in prime_generator(nums):\n",
    "        print(prime)\n"
   ]
  },
  {
   "cell_type": "markdown",
   "metadata": {},
   "source": [
    "create a class & it should accepts N numbers of values in each method (heterogeneous value) & the method should contains only one parameter iterate through ech value and consider only the integer values & find its super digit."
   ]
  },
  {
   "cell_type": "code",
   "execution_count": 13,
   "metadata": {},
   "outputs": [
    {
     "name": "stdout",
     "output_type": "stream",
     "text": [
      "4\n"
     ]
    }
   ],
   "source": [
    "class my_class:\n",
    "    def mymethod(self,*param):\n",
    "        res=0\n",
    "        for i in param:\n",
    "            if type(i) == int:\n",
    "                res+=1\n",
    "        print(res)\n",
    "\n",
    "m1 = my_class()\n",
    "m1.mymethod(True,10,'pysp',23,33.63,425,[1,2,3,4,5],67,False)\n"
   ]
  },
  {
   "cell_type": "code",
   "execution_count": null,
   "metadata": {},
   "outputs": [],
   "source": []
  }
 ],
 "metadata": {
  "kernelspec": {
   "display_name": "Python 3",
   "language": "python",
   "name": "python3"
  },
  "language_info": {
   "codemirror_mode": {
    "name": "ipython",
    "version": 3
   },
   "file_extension": ".py",
   "mimetype": "text/x-python",
   "name": "python",
   "nbconvert_exporter": "python",
   "pygments_lexer": "ipython3",
   "version": "3.12.4"
  }
 },
 "nbformat": 4,
 "nbformat_minor": 2
}
