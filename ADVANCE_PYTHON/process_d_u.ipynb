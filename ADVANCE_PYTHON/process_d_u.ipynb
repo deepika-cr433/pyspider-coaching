{
 "cells": [
  {
   "cell_type": "markdown",
   "metadata": {},
   "source": [
    "Creating a new database in the connector."
   ]
  },
  {
   "cell_type": "code",
   "execution_count": 1,
   "metadata": {},
   "outputs": [
    {
     "name": "stdout",
     "output_type": "stream",
     "text": [
      "new database created\n"
     ]
    }
   ],
   "source": [
    "import mysql.connector as mc\n",
    "\n",
    "try:\n",
    "    con_obj=mc.connect(user=\"root\",password=\"root\",host=\"localhost\")\n",
    "    cur_obj=con_obj.cursor()\n",
    "    cur_obj.execute(\"create database if not exists employee\")\n",
    "    print(\"new database created\")\n",
    "except Exception as e:\n",
    "    print(e)"
   ]
  },
  {
   "cell_type": "markdown",
   "metadata": {},
   "source": [
    "Creating a new table into the existing database."
   ]
  },
  {
   "cell_type": "code",
   "execution_count": 2,
   "metadata": {},
   "outputs": [
    {
     "name": "stdout",
     "output_type": "stream",
     "text": [
      "table created\n"
     ]
    }
   ],
   "source": [
    "import mysql.connector as mc\n",
    "\n",
    "try:\n",
    "    con_obj=mc.connect(user=\"root\",password=\"root\",host=\"localhost\")\n",
    "    curobj=con_obj.cursor()\n",
    "    curobj.execute(\"create table employee.empdata(empid int(20),ename varchar(20),desg varchar(20),experience int(20))\")\n",
    "    print(\"table created\")\n",
    "except Exception as e:\n",
    "    print(e)"
   ]
  },
  {
   "cell_type": "markdown",
   "metadata": {},
   "source": [
    "insert the values into the table."
   ]
  },
  {
   "cell_type": "code",
   "execution_count": 3,
   "metadata": {},
   "outputs": [
    {
     "name": "stdout",
     "output_type": "stream",
     "text": [
      "data is inserted\n"
     ]
    }
   ],
   "source": [
    "import mysql.connector as mc\n",
    "\n",
    "try:\n",
    "    con_obj=mc.connect(user=\"root\",password=\"root\",host=\"localhost\")\n",
    "    curobj=con_obj.cursor()\n",
    "    curobj.execute(\"insert into employee.empdata(empid,ename,desg,experience) values(100,'abdul','founder',5)\")\n",
    "    con_obj.commit()\n",
    "    print(\"data is inserted\")\n",
    "except FileNotFoundError as fe:\n",
    "    print(fe)"
   ]
  },
  {
   "cell_type": "markdown",
   "metadata": {},
   "source": [
    "program to insert multiple values to database table at the same time."
   ]
  },
  {
   "cell_type": "code",
   "execution_count": 6,
   "metadata": {},
   "outputs": [
    {
     "name": "stdout",
     "output_type": "stream",
     "text": [
      "data is inserted\n"
     ]
    }
   ],
   "source": [
    "import mysql.connector as mc\n",
    "\n",
    "try:\n",
    "    con_obj=mc.connect(user=\"root\",password=\"root\",host=\"localhost\")\n",
    "    curobj=con_obj.cursor()\n",
    "    query=\"insert into employee.empdata(empid,ename,desg,experience) values(%s,%s,%s,%s)\"\n",
    "    values=[(100,'abdul','founder',10),\n",
    "            (200,'tarun','CEO',8),\n",
    "            (300,'shreya','Patner',4),\n",
    "            (400,'deepika','HR',5),\n",
    "            (500,'nisha','Project_manager',5)]\n",
    "    curobj.executemany(query,values)\n",
    "    con_obj.commit()\n",
    "    print(\"data is inserted\")\n",
    "except FileNotFoundError as fe:\n",
    "    print(fe)"
   ]
  },
  {
   "cell_type": "markdown",
   "metadata": {},
   "source": [
    "WAP to read the data from employee table of employee database abd if the employee present login the employee to respective dashboard.\n",
    "accept the empname from the user input."
   ]
  },
  {
   "cell_type": "code",
   "execution_count": 2,
   "metadata": {},
   "outputs": [
    {
     "name": "stdout",
     "output_type": "stream",
     "text": [
      "tarun welcome to your dashboard\n"
     ]
    }
   ],
   "source": [
    "import mysql.connector as mc\n",
    "def emp_dashboard(name):\n",
    "    print(f\"{name} welcome to your dashboard\")\n",
    "try:\n",
    "    con_obj=mc.connect(user=\"root\",password=\"root\",host=\"localhost\")\n",
    "    cur_obj=con_obj.cursor()\n",
    "    cur_obj.execute(\"select ename from employee.empdata\")\n",
    "    emp_name=input(\"enter employee name:\")\n",
    "    for ename in cur_obj:\n",
    "        if ename[0]==emp_name:\n",
    "            emp_dashboard(emp_name)\n",
    "except Exception as e:\n",
    "    print(e)"
   ]
  },
  {
   "cell_type": "code",
   "execution_count": null,
   "metadata": {},
   "outputs": [],
   "source": []
  }
 ],
 "metadata": {
  "kernelspec": {
   "display_name": "Python 3",
   "language": "python",
   "name": "python3"
  },
  "language_info": {
   "codemirror_mode": {
    "name": "ipython",
    "version": 3
   },
   "file_extension": ".py",
   "mimetype": "text/x-python",
   "name": "python",
   "nbconvert_exporter": "python",
   "pygments_lexer": "ipython3",
   "version": "3.12.4"
  }
 },
 "nbformat": 4,
 "nbformat_minor": 2
}
