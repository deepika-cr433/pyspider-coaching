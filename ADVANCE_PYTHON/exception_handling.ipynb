{
 "cells": [
  {
   "cell_type": "markdown",
   "metadata": {},
   "source": [
    "try:\n",
    "    stmt1\n",
    "    stmt2\n",
    "except exception_name1:\n",
    "    stmt3\n",
    "    stmt4\n",
    "except exception_name2:\n",
    "    stmt5\n",
    "    stmt6\n",
    "finally:\n",
    "    stmt7"
   ]
  },
  {
   "cell_type": "code",
   "execution_count": 2,
   "metadata": {},
   "outputs": [
    {
     "name": "stdout",
     "output_type": "stream",
     "text": [
      "programm started\n",
      "denomonator cannnot be zero\n",
      "programm ended\n"
     ]
    }
   ],
   "source": [
    "print(\"programm started\")\n",
    "a=10\n",
    "b=0\n",
    "try:\n",
    "    print(a//b)\n",
    "except ZeroDivisionError:\n",
    "    print(\"denomonator cannnot be zero\")\n",
    "print(\"programm ended\")"
   ]
  },
  {
   "cell_type": "markdown",
   "metadata": {},
   "source": [
    "PROGRAM TO HANDLE MULTIPLE EXCEPTION."
   ]
  },
  {
   "cell_type": "code",
   "execution_count": 3,
   "metadata": {},
   "outputs": [
    {
     "name": "stdout",
     "output_type": "stream",
     "text": [
      "programm started\n",
      "integer division or modulo by zero\n",
      "programm ended\n"
     ]
    }
   ],
   "source": [
    "print(\"programm started\")\n",
    "try:\n",
    "    a=int(input(\"a:\"))\n",
    "    b=int(input(\"b:\"))\n",
    "    print(a//b)\n",
    "except ZeroDivisionError as ze:\n",
    "    print(ze)\n",
    "except ValueError as ve:\n",
    "    print(ve)\n",
    "print(\"programm ended\")"
   ]
  },
  {
   "cell_type": "markdown",
   "metadata": {},
   "source": [
    "Types of error\n",
    "1. inbuilt exceptions\n",
    "2. custom exceptions or user defined exceptions."
   ]
  },
  {
   "cell_type": "markdown",
   "metadata": {},
   "source": [
    "HOW TO HANDLE ANY TYPE OF EXCEPTION USING SINGLE EXCEPT BLOCK?"
   ]
  },
  {
   "cell_type": "code",
   "execution_count": 4,
   "metadata": {},
   "outputs": [
    {
     "name": "stdout",
     "output_type": "stream",
     "text": [
      "5\n"
     ]
    }
   ],
   "source": [
    "try:\n",
    "    a=int(input(\"a:\"))\n",
    "    b=int(input(\"b:\"))\n",
    "    print(a//b)\n",
    "except Exception as e:\n",
    "    print(e)"
   ]
  },
  {
   "cell_type": "markdown",
   "metadata": {},
   "source": [
    "FINALLY"
   ]
  },
  {
   "cell_type": "code",
   "execution_count": 5,
   "metadata": {},
   "outputs": [
    {
     "name": "stdout",
     "output_type": "stream",
     "text": [
      "2\n",
      "I run always\n"
     ]
    }
   ],
   "source": [
    "try:\n",
    "    a=int(input(\"a:\"))\n",
    "    b=int(input(\"b:\"))\n",
    "    print(a//b)\n",
    "except Exception as e:\n",
    "    print(e)\n",
    "finally:\n",
    "    print('I run always')"
   ]
  },
  {
   "cell_type": "markdown",
   "metadata": {},
   "source": [
    "NESTED TRY AND EXCEPT"
   ]
  },
  {
   "cell_type": "code",
   "execution_count": 6,
   "metadata": {},
   "outputs": [
    {
     "name": "stdout",
     "output_type": "stream",
     "text": [
      "outer try block\n",
      "inner try block\n",
      "2\n"
     ]
    }
   ],
   "source": [
    "try:\n",
    "    print('outer try block')\n",
    "    x=int(input('x:'))\n",
    "    y=int(input(\"y:\"))\n",
    "    try:\n",
    "        print('inner try block')\n",
    "        print(x//y)\n",
    "    except ZeroDivisionError as e:\n",
    "        print(e)\n",
    "except Exception as e:\n",
    "    print(e)"
   ]
  },
  {
   "cell_type": "code",
   "execution_count": 7,
   "metadata": {},
   "outputs": [
    {
     "name": "stdout",
     "output_type": "stream",
     "text": [
      "outer try block\n",
      "inner try block\n",
      "0\n"
     ]
    }
   ],
   "source": [
    "try:\n",
    "    print('outer try block')\n",
    "    x=int(input('x:'))\n",
    "    y=int(input(\"y:\"))\n",
    "    try:\n",
    "        print('inner try block')\n",
    "        print(x//y)\n",
    "    except ZeroDivisionError as e:\n",
    "        print(e)\n",
    "        print(\"denominator cannot be zero\")\n",
    "        y=int(input(\"y:\"))\n",
    "        try:\n",
    "            print(x//y)\n",
    "        except Exception as e:\n",
    "            print(e)\n",
    "            print('you idiot denominator cannot be zero')\n",
    "except Exception as e:\n",
    "    print(e)"
   ]
  },
  {
   "cell_type": "markdown",
   "metadata": {},
   "source": [
    "RAISE"
   ]
  },
  {
   "cell_type": "code",
   "execution_count": 11,
   "metadata": {},
   "outputs": [
    {
     "ename": "ValueError",
     "evalue": "number must be greater than 0",
     "output_type": "error",
     "traceback": [
      "\u001b[1;31m---------------------------------------------------------------------------\u001b[0m",
      "\u001b[1;31mValueError\u001b[0m                                Traceback (most recent call last)",
      "Cell \u001b[1;32mIn[11], line 14\u001b[0m\n\u001b[0;32m     12\u001b[0m num\u001b[38;5;241m=\u001b[39m\u001b[38;5;28mint\u001b[39m(\u001b[38;5;28minput\u001b[39m(\u001b[38;5;124m\"\u001b[39m\u001b[38;5;124mnum:\u001b[39m\u001b[38;5;124m\"\u001b[39m))\n\u001b[0;32m     13\u001b[0m \u001b[38;5;28;01mif\u001b[39;00m num\u001b[38;5;241m<\u001b[39m\u001b[38;5;241m=\u001b[39m\u001b[38;5;241m0\u001b[39m:\n\u001b[1;32m---> 14\u001b[0m     \u001b[38;5;28;01mraise\u001b[39;00m \u001b[38;5;167;01mValueError\u001b[39;00m(\u001b[38;5;124m\"\u001b[39m\u001b[38;5;124mnumber must be greater than 0\u001b[39m\u001b[38;5;124m\"\u001b[39m)\n\u001b[0;32m     15\u001b[0m \u001b[38;5;28;01melse\u001b[39;00m:\n\u001b[0;32m     16\u001b[0m     \u001b[38;5;28mprint\u001b[39m(num)\n",
      "\u001b[1;31mValueError\u001b[0m: number must be greater than 0"
     ]
    }
   ],
   "source": [
    "# num=int(input(\"num:\"))\n",
    "# try:\n",
    "#     if num<=0:\n",
    "#         raise ValueError(\"number must be greater than 0\")\n",
    "#     else:\n",
    "#         print(num)\n",
    "# except ValueError as ve:\n",
    "#     print(ve)\n",
    "\n",
    "##############################################\n",
    "\n",
    "num=int(input(\"num:\"))\n",
    "if num<=0:\n",
    "    raise ValueError(\"number must be greater than 0\")\n",
    "else:\n",
    "    print(num)"
   ]
  },
  {
   "cell_type": "markdown",
   "metadata": {},
   "source": [
    "CUSTOM EXCEPTION\n",
    "class customExceptionname(Exception):\n",
    "        pass"
   ]
  },
  {
   "cell_type": "code",
   "execution_count": 9,
   "metadata": {},
   "outputs": [
    {
     "name": "stdout",
     "output_type": "stream",
     "text": [
      "14\n",
      "15\n"
     ]
    },
    {
     "ename": "AgeInvalid",
     "evalue": "",
     "output_type": "error",
     "traceback": [
      "\u001b[1;31m---------------------------------------------------------------------------\u001b[0m",
      "\u001b[1;31mAgeInvalid\u001b[0m                                Traceback (most recent call last)",
      "Cell \u001b[1;32mIn[9], line 11\u001b[0m\n\u001b[0;32m      9\u001b[0m check_age(\u001b[38;5;241m14\u001b[39m)\n\u001b[0;32m     10\u001b[0m check_age(\u001b[38;5;241m15\u001b[39m)\n\u001b[1;32m---> 11\u001b[0m \u001b[43mcheck_age\u001b[49m\u001b[43m(\u001b[49m\u001b[38;5;241;43m9\u001b[39;49m\u001b[43m)\u001b[49m\n",
      "Cell \u001b[1;32mIn[9], line 5\u001b[0m, in \u001b[0;36mcheck_age\u001b[1;34m(age)\u001b[0m\n\u001b[0;32m      3\u001b[0m \u001b[38;5;28;01mdef\u001b[39;00m \u001b[38;5;21mcheck_age\u001b[39m(age):\n\u001b[0;32m      4\u001b[0m     \u001b[38;5;28;01mif\u001b[39;00m age\u001b[38;5;241m<\u001b[39m\u001b[38;5;241m10\u001b[39m:\n\u001b[1;32m----> 5\u001b[0m         \u001b[38;5;28;01mraise\u001b[39;00m AgeInvalid\n\u001b[0;32m      6\u001b[0m     \u001b[38;5;28;01melse\u001b[39;00m:\n\u001b[0;32m      7\u001b[0m         \u001b[38;5;28mprint\u001b[39m(age)\n",
      "\u001b[1;31mAgeInvalid\u001b[0m: "
     ]
    }
   ],
   "source": [
    "class AgeInvalid(Exception):\n",
    "    pass\n",
    "def check_age(age):\n",
    "    if age<10:\n",
    "        raise AgeInvalid\n",
    "    else:\n",
    "        print(age)\n",
    "\n",
    "check_age(14)\n",
    "check_age(15)\n",
    "check_age(9)\n"
   ]
  },
  {
   "cell_type": "markdown",
   "metadata": {},
   "source": [
    "create an exception class like invalid age and minor accept the user input year of birth and check the current age, if current age is less than 18, raise minor exception and if current age is greater than 60 then raise invalid age exception."
   ]
  },
  {
   "cell_type": "code",
   "execution_count": 2,
   "metadata": {},
   "outputs": [
    {
     "name": "stdout",
     "output_type": "stream",
     "text": [
      "hey kidooo.... not eligible, wait for some days\n"
     ]
    }
   ],
   "source": [
    "class InvalidAge(Exception):\n",
    "    pass\n",
    "class minor(Exception):\n",
    "    pass\n",
    "def eligibilty(year):\n",
    "    age=2024-year\n",
    "    if age < 18:\n",
    "        raise minor\n",
    "    elif age >= 60:\n",
    "        raise InvalidAge\n",
    "    else:\n",
    "        print(\"Eligible for next process\")\n",
    "\n",
    "birth_year = int(input('YOB:'))\n",
    "try:\n",
    "    eligibilty(birth_year)\n",
    "except InvalidAge:\n",
    "    print(\"you are a senior citizen\")\n",
    "except minor:\n",
    "    print(\"hey kidooo.... not eligible, wait for some days\")\n",
    "    "
   ]
  },
  {
   "cell_type": "markdown",
   "metadata": {},
   "source": [
    "WAP to create custom exception classes like break failure, empty fuel and puncher, raise an exception whenever you want in the program using raise keyword, but we should not except any user input.\n",
    "\n",
    "scenario:\n",
    "    Assume you are travelling for 100kms, when you reached 30km you need to raise puncher exception, if you reached 60km raise break failure, once you reached 100km raise empty fuel."
   ]
  },
  {
   "cell_type": "code",
   "execution_count": null,
   "metadata": {},
   "outputs": [
    {
     "name": "stdout",
     "output_type": "stream",
     "text": [
      "Tyre air has been gone\n"
     ]
    }
   ],
   "source": [
    "import random\n",
    "class break_failure(Exception):\n",
    "    pass\n",
    "class empty_fuel(Exception):\n",
    "    pass\n",
    "class puncher(Exception):\n",
    "    pass\n",
    "\n",
    "scenario = ['break_failure','empty_fuel','puncher']\n",
    "\n",
    "try:\n",
    "    issue=random.choice(scenario)\n",
    "    if issue=='break_failure':\n",
    "        raise break_failure\n",
    "    elif issue == 'empty_fuel':\n",
    "        raise empty_fuel\n",
    "    elif issue == 'puncher':\n",
    "        raise puncher\n",
    "except break_failure:\n",
    "    print(\"Break is failure\")\n",
    "except empty_fuel:\n",
    "    print(\"Fuel tank is empty\")\n",
    "except puncher:\n",
    "    print(\"Tyre air has been gone\")\n",
    "    "
   ]
  },
  {
   "cell_type": "code",
   "execution_count": null,
   "metadata": {},
   "outputs": [
    {
     "name": "stdout",
     "output_type": "stream",
     "text": [
      "journey ended\n",
      "journey ended\n",
      "journey ended\n",
      "journey ended\n",
      "journey ended\n",
      "journey ended\n",
      "journey ended\n",
      "journey ended\n",
      "journey ended\n",
      "journey ended\n",
      "journey ended\n",
      "journey ended\n",
      "journey ended\n",
      "journey ended\n",
      "journey ended\n",
      "journey ended\n",
      "journey ended\n",
      "journey ended\n",
      "journey ended\n",
      "journey ended\n",
      "journey ended\n",
      "journey ended\n",
      "journey ended\n",
      "journey ended\n",
      "journey ended\n",
      "journey ended\n",
      "journey ended\n",
      "journey ended\n",
      "journey ended\n",
      "journey ended\n",
      "break failure at 30km\n",
      "break failure handling issue\n",
      "journey ended\n",
      "journey ended\n",
      "journey ended\n",
      "journey ended\n",
      "journey ended\n",
      "journey ended\n",
      "journey ended\n",
      "journey ended\n",
      "journey ended\n",
      "journey ended\n",
      "journey ended\n",
      "journey ended\n",
      "journey ended\n",
      "journey ended\n",
      "journey ended\n",
      "journey ended\n",
      "journey ended\n",
      "journey ended\n",
      "journey ended\n",
      "journey ended\n",
      "journey ended\n",
      "journey ended\n",
      "journey ended\n",
      "journey ended\n",
      "journey ended\n",
      "journey ended\n",
      "journey ended\n",
      "journey ended\n",
      "journey ended\n",
      "Tyre is puncher at 60km\n",
      "tyer is puncher handling issue\n",
      "journey ended\n",
      "journey ended\n",
      "journey ended\n",
      "journey ended\n",
      "journey ended\n",
      "journey ended\n",
      "journey ended\n",
      "journey ended\n",
      "journey ended\n",
      "journey ended\n",
      "journey ended\n",
      "journey ended\n",
      "journey ended\n",
      "journey ended\n",
      "journey ended\n",
      "journey ended\n",
      "journey ended\n",
      "journey ended\n",
      "journey ended\n",
      "journey ended\n",
      "journey ended\n",
      "journey ended\n",
      "journey ended\n",
      "journey ended\n",
      "journey ended\n",
      "journey ended\n",
      "journey ended\n",
      "journey ended\n",
      "journey ended\n",
      "journey ended\n",
      "journey ended\n",
      "journey ended\n",
      "journey ended\n",
      "journey ended\n",
      "journey ended\n",
      "journey ended\n",
      "journey ended\n",
      "journey ended\n",
      "journey ended\n",
      "fuel tank is empty\n",
      "fuel is empty handling issue\n"
     ]
    }
   ],
   "source": [
    "\n",
    "class break_failure(Exception):\n",
    "    pass\n",
    "class empty_fuel(Exception):\n",
    "    pass\n",
    "class puncher(Exception):\n",
    "    pass\n",
    "\n",
    "start=0\n",
    "destination=100\n",
    "def drive_bike(start_km,end_km):\n",
    "    for i in range(start_km,end_km+1):\n",
    "        if i==30:\n",
    "            raise break_failure(\"break failure at 30km\")\n",
    "        elif i==60:\n",
    "            raise puncher('Tyre is puncher at 60km')\n",
    "        elif i==100:\n",
    "            raise empty_fuel(\"fuel tank is empty\")\n",
    "        else:\n",
    "            print(\"journey ended\")\n",
    "\n",
    "while start<destination:\n",
    "    try:\n",
    "        drive_bike(start,destination)\n",
    "        break\n",
    "    except break_failure as e:\n",
    "        print(e)\n",
    "        print(\"break failure handling issue\")\n",
    "        start=31\n",
    "    except puncher as e:\n",
    "        print(e)\n",
    "        print(\"tyer is puncher handling issue\")\n",
    "        start=61\n",
    "    except empty_fuel as e:\n",
    "        print(e)\n",
    "        print(\"fuel is empty handling issue\")\n",
    "        start=101\n",
    "        \n",
    "#########################################\n",
    "# n=int(input(\"enter how many km they travelled:\"))\n",
    "# try:\n",
    "#     if n==30:\n",
    "#         raise puncher\n",
    "#     elif n==60:\n",
    "#         raise break_failure\n",
    "#     elif n==100:\n",
    "#         raise empty_fuel\n",
    "# except break_failure:\n",
    "#     print(\"Break is failure\")\n",
    "# except empty_fuel:\n",
    "#     print(\"Fuel tank is empty\")\n",
    "# except puncher:\n",
    "#     print(\"Tyre air has been gone\")"
   ]
  }
 ],
 "metadata": {
  "kernelspec": {
   "display_name": "Python 3",
   "language": "python",
   "name": "python3"
  },
  "language_info": {
   "codemirror_mode": {
    "name": "ipython",
    "version": 3
   },
   "file_extension": ".py",
   "mimetype": "text/x-python",
   "name": "python",
   "nbconvert_exporter": "python",
   "pygments_lexer": "ipython3",
   "version": "3.12.4"
  }
 },
 "nbformat": 4,
 "nbformat_minor": 2
}
