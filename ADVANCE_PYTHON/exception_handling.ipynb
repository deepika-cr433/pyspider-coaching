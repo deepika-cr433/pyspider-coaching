{
 "cells": [
  {
   "cell_type": "markdown",
   "metadata": {},
   "source": [
    "try:\n",
    "    stmt1\n",
    "    stmt2\n",
    "except exception_name1:\n",
    "    stmt3\n",
    "    stmt4\n",
    "except exception_name2:\n",
    "    stmt5\n",
    "    stmt6\n",
    "finally:\n",
    "    stmt7"
   ]
  },
  {
   "cell_type": "code",
   "execution_count": 1,
   "metadata": {},
   "outputs": [
    {
     "name": "stdout",
     "output_type": "stream",
     "text": [
      "programm started\n",
      "denomonator cannnot be zero\n",
      "programm ended\n"
     ]
    }
   ],
   "source": [
    "print(\"programm started\")\n",
    "a=10\n",
    "b=0\n",
    "try:\n",
    "    print(a//b)\n",
    "except ZeroDivisionError:\n",
    "    print(\"denomonator cannnot be zero\")\n",
    "print(\"programm ended\")"
   ]
  },
  {
   "cell_type": "code",
   "execution_count": 4,
   "metadata": {},
   "outputs": [
    {
     "name": "stdout",
     "output_type": "stream",
     "text": [
      "programm started\n",
      "integer division or modulo by zero\n",
      "programm ended\n"
     ]
    }
   ],
   "source": [
    "print(\"programm started\")\n",
    "try:\n",
    "    a=int(input(\"a:\"))\n",
    "    b=int(input(\"b:\"))\n",
    "    print(a//b)\n",
    "except ZeroDivisionError as ze:\n",
    "    print(ze)\n",
    "except ValueError as ve:\n",
    "    print(ve)\n",
    "print(\"programm ended\")"
   ]
  },
  {
   "cell_type": "markdown",
   "metadata": {},
   "source": [
    "Types of error\n",
    "1. inbuilt exceptions\n",
    "2. custom exceptions or user defined exceptions."
   ]
  },
  {
   "cell_type": "code",
   "execution_count": 6,
   "metadata": {},
   "outputs": [
    {
     "name": "stdout",
     "output_type": "stream",
     "text": [
      "integer division or modulo by zero\n"
     ]
    }
   ],
   "source": [
    "try:\n",
    "    a=int(input(\"a:\"))\n",
    "    b=int(input(\"b:\"))\n",
    "    print(a//b)\n",
    "except Exception as e:\n",
    "    print(e)"
   ]
  },
  {
   "cell_type": "markdown",
   "metadata": {},
   "source": [
    "FINALLY"
   ]
  },
  {
   "cell_type": "code",
   "execution_count": 8,
   "metadata": {},
   "outputs": [
    {
     "name": "stdout",
     "output_type": "stream",
     "text": [
      "integer division or modulo by zero\n",
      "I run always\n"
     ]
    }
   ],
   "source": [
    "try:\n",
    "    a=int(input(\"a:\"))\n",
    "    b=int(input(\"b:\"))\n",
    "    print(a//b)\n",
    "except Exception as e:\n",
    "    print(e)\n",
    "finally:\n",
    "    print('I run always')"
   ]
  },
  {
   "cell_type": "code",
   "execution_count": null,
   "metadata": {},
   "outputs": [],
   "source": []
  }
 ],
 "metadata": {
  "kernelspec": {
   "display_name": "Python 3",
   "language": "python",
   "name": "python3"
  },
  "language_info": {
   "codemirror_mode": {
    "name": "ipython",
    "version": 3
   },
   "file_extension": ".py",
   "mimetype": "text/x-python",
   "name": "python",
   "nbconvert_exporter": "python",
   "pygments_lexer": "ipython3",
   "version": "3.12.4"
  }
 },
 "nbformat": 4,
 "nbformat_minor": 2
}
