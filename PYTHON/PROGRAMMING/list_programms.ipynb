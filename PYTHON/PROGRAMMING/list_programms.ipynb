{
 "cells": [
  {
   "cell_type": "markdown",
   "metadata": {},
   "source": [
    "Group of anagrams(hint: by using dict,list)\n",
    "1) input: [\"listen\",\"silent\",\"enlist\",\"rat\",\"tar\",\"art\",\"dog\",\"god\"]\n",
    "output: [[\"listen\",\"silent\",\"enlist\"],[\"rat\",\"tar\",\"art\"],[\"dog\",\"god\"]]"
   ]
  },
  {
   "cell_type": "code",
   "execution_count": 10,
   "metadata": {},
   "outputs": [
    {
     "name": "stdout",
     "output_type": "stream",
     "text": [
      "[['Listen'], ['silent', 'enlist'], ['Rat'], ['tar', 'art'], ['Dog'], ['god']]\n"
     ]
    }
   ],
   "source": [
    "# n=int(input('how many items you are going  to add into list:'))\n",
    "# l1=[input() for i in range(n)]\n",
    "# # l1=[\"listen\",\"silent\",\"enlist\",\"rat\",\"tar\",\"art\",\"dog\",\"god\"]\n",
    "# l2=[]\n",
    "# for i in l1:\n",
    "#     l3=[]\n",
    "#     for j in l1:\n",
    "#         # s1=i\n",
    "#         # s2=j\n",
    "#         l4=list(i)\n",
    "#         l5=list(j)\n",
    "#         l4.sort()\n",
    "#         l5.sort()\n",
    "#         if l4==l5:\n",
    "#             l3.append(j)\n",
    "#     if l3 not in l2:\n",
    "#         l2.append(l3)\n",
    "# print(l2)\n",
    "##############################################\n",
    "l1=[\"Listen\",\"silent\",\"enlist\",\"Rat\",\"tar\",\"art\",\"Dog\",\"god\"]\n",
    "r=[]\n",
    "for i in range(len(l1)):\n",
    "    temp=[]\n",
    "    for j in range(len(l1)):\n",
    "        if sorted(l1[i])==sorted(l1[j]):\n",
    "            temp.append(l1[j])\n",
    "    if temp not in r:\n",
    "        r.append(temp)\n",
    "print(r)\n",
    "\n",
    "\n",
    " "
   ]
  },
  {
   "cell_type": "code",
   "execution_count": null,
   "metadata": {},
   "outputs": [],
   "source": []
  },
  {
   "cell_type": "markdown",
   "metadata": {},
   "source": [
    "2) input: programming\n",
    "output: programing"
   ]
  },
  {
   "cell_type": "code",
   "execution_count": 2,
   "metadata": {},
   "outputs": [
    {
     "name": "stdout",
     "output_type": "stream",
     "text": [
      "dog\n"
     ]
    }
   ],
   "source": [
    "s1=input()\n",
    "s2=''\n",
    "for i in s1:\n",
    "    if i not in s2:\n",
    "        s2+=i\n",
    "print(s2)"
   ]
  },
  {
   "cell_type": "markdown",
   "metadata": {},
   "source": [
    "3) input: 'sanju sripiya deeps'\n",
    "output: 'Sanju_Sripiya_Deeps'"
   ]
  },
  {
   "cell_type": "code",
   "execution_count": 3,
   "metadata": {},
   "outputs": [
    {
     "name": "stdout",
     "output_type": "stream",
     "text": [
      "Sanju_Sripiya_Deeps\n"
     ]
    }
   ],
   "source": [
    "s = 'sanju sripiya deeps'\n",
    "s1=''\n",
    "temp=True\n",
    "for i in s:\n",
    "    if i==\" \":\n",
    "        temp=True\n",
    "        s1+='_'\n",
    "    else:\n",
    "        if temp:\n",
    "            s1+=i.upper()#s1=s1+i.upper()\n",
    "            temp=False\n",
    "        else:\n",
    "            s1+=i\n",
    "print(s1)\n",
    "\n",
    "\n"
   ]
  },
  {
   "cell_type": "markdown",
   "metadata": {},
   "source": [
    "# largest palindrome\n",
    "input=\"ababc\",\"racecars\"\n",
    "output=\"aba\",\"racecar\"\n"
   ]
  },
  {
   "cell_type": "code",
   "execution_count": null,
   "metadata": {},
   "outputs": [
    {
     "name": "stdout",
     "output_type": "stream",
     "text": [
      "racecar\n"
     ]
    }
   ],
   "source": [
    "s=input()\n",
    "r=\"\"\n",
    "for i in range(len(s)):\n",
    "    for j in range(i+1,len(s)+1):\n",
    "        if s[i:j]==s[i:j][::-1]: # ca == ca[::-1] # ca==ac\n",
    "            if len(s[i:j])>len(r):\n",
    "                r=s[i:j]\n",
    "print(r)"
   ]
  },
  {
   "cell_type": "markdown",
   "metadata": {},
   "source": [
    "input: \"abc\"\n",
    "output: ['a','b','c','ab','ac','bc','abc']"
   ]
  },
  {
   "cell_type": "code",
   "execution_count": null,
   "metadata": {},
   "outputs": [
    {
     "name": "stdout",
     "output_type": "stream",
     "text": [
      "[]\n"
     ]
    }
   ],
   "source": [
    "# s=input()\n",
    "# l=[]\n",
    "# for i in range(len(s)):\n",
    "#     l.append(s[i])\n",
    "# for i in range(len(s)-1):\n",
    "#     l.append(s[i:i+2])\n",
    "# l.append(s)\n",
    "# print(l)\n",
    "###################################\n",
    "s=input()\n",
    "l=[]\n",
    "for i in s:\n",
    "    for j in l:\n",
    "        l+=[j+i]\n",
    "print(l)"
   ]
  },
  {
   "cell_type": "code",
   "execution_count": null,
   "metadata": {},
   "outputs": [],
   "source": []
  }
 ],
 "metadata": {
  "kernelspec": {
   "display_name": "Python 3",
   "language": "python",
   "name": "python3"
  },
  "language_info": {
   "codemirror_mode": {
    "name": "ipython",
    "version": 3
   },
   "file_extension": ".py",
   "mimetype": "text/x-python",
   "name": "python",
   "nbconvert_exporter": "python",
   "pygments_lexer": "ipython3",
   "version": "3.12.4"
  }
 },
 "nbformat": 4,
 "nbformat_minor": 2
}
