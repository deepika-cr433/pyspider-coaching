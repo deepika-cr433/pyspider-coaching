{
 "cells": [
  {
   "cell_type": "code",
   "execution_count": 2,
   "metadata": {},
   "outputs": [
    {
     "name": "stdout",
     "output_type": "stream",
     "text": [
      "[5, 8, 9, 144, 63]\n"
     ]
    }
   ],
   "source": [
    "l1=[int(input()) for i in range(int(input(\"n:\")))]\n",
    "print(l1)"
   ]
  },
  {
   "cell_type": "code",
   "execution_count": 5,
   "metadata": {},
   "outputs": [
    {
     "name": "stdout",
     "output_type": "stream",
     "text": [
      "[5]\n",
      "[145.0]\n",
      "[(1+0j)]\n"
     ]
    }
   ],
   "source": [
    "l1=list(map(int,input().split()))\n",
    "print(l1)\n",
    "l1=list(map(float,input().split()))\n",
    "print(l1)\n",
    "l1=list(map(complex,input().split()))\n",
    "print(l1)"
   ]
  },
  {
   "cell_type": "code",
   "execution_count": 7,
   "metadata": {},
   "outputs": [
    {
     "ename": "SyntaxError",
     "evalue": "invalid syntax (<string>, line 1)",
     "output_type": "error",
     "traceback": [
      "Traceback \u001b[1;36m(most recent call last)\u001b[0m:\n",
      "\u001b[0m  File \u001b[0;32m~\\AppData\\Roaming\\Python\\Python312\\site-packages\\IPython\\core\\interactiveshell.py:3577\u001b[0m in \u001b[0;35mrun_code\u001b[0m\n    exec(code_obj, self.user_global_ns, self.user_ns)\u001b[0m\n",
      "\u001b[1;36m  Cell \u001b[1;32mIn[7], line 1\u001b[1;36m\n\u001b[1;33m    l1=eval(input())\u001b[1;36m\n",
      "\u001b[1;36m  File \u001b[1;32m<string>:1\u001b[1;36m\u001b[0m\n\u001b[1;33m    50 40 80 90 7 86 14 5 32 89 3\u001b[0m\n\u001b[1;37m       ^\u001b[0m\n\u001b[1;31mSyntaxError\u001b[0m\u001b[1;31m:\u001b[0m invalid syntax\n"
     ]
    }
   ],
   "source": [
    "l1=eval(input())\n",
    "print(l1)"
   ]
  },
  {
   "cell_type": "code",
   "execution_count": 1,
   "metadata": {},
   "outputs": [
    {
     "name": "stdout",
     "output_type": "stream",
     "text": [
      "[1, 2, 3, 4, 5]\n"
     ]
    }
   ],
   "source": [
    "n=int(input(\"n:\"))\n",
    "l1=eval(input())[:n]\n",
    "print(l1)"
   ]
  },
  {
   "cell_type": "code",
   "execution_count": 13,
   "metadata": {},
   "outputs": [
    {
     "name": "stdout",
     "output_type": "stream",
     "text": [
      "[100, 2.3, (4+6j), 'don', 'hi']\n"
     ]
    }
   ],
   "source": [
    "n=int(input())\n",
    "l1=[]\n",
    "for i in range(n):\n",
    "    val=input(\"val:\")\n",
    "    try:\n",
    "        l1.append(int(val))\n",
    "    except:\n",
    "        try:\n",
    "            l1.append(float(val))\n",
    "        except:\n",
    "            try:\n",
    "                l1.append(complex(val))\n",
    "            except:\n",
    "                l1.append(val)\n",
    "print(l1)"
   ]
  },
  {
   "cell_type": "markdown",
   "metadata": {},
   "source": [
    "string based programming"
   ]
  },
  {
   "cell_type": "code",
   "execution_count": 5,
   "metadata": {},
   "outputs": [
    {
     "name": "stdout",
     "output_type": "stream",
     "text": [
      "97\n",
      "A\n",
      "97\n",
      "a\n"
     ]
    }
   ],
   "source": [
    "val=\"a\"\n",
    "print(ord(val))\n",
    "print(chr(ord(val)-32))\n",
    "val=\"A\"\n",
    "print(ord(val)+32)\n",
    "print(chr(ord(val)+32))"
   ]
  },
  {
   "cell_type": "markdown",
   "metadata": {},
   "source": [
    "input: val1=\"A\"\n",
    "       val2=4\n",
    "output: E"
   ]
  },
  {
   "cell_type": "code",
   "execution_count": null,
   "metadata": {},
   "outputs": [
    {
     "name": "stdout",
     "output_type": "stream",
     "text": [
      "F\n",
      "F\n",
      ",\n"
     ]
    }
   ],
   "source": [
    "val1=\"A\"\n",
    "val2=int(input())\n",
    "if val2>25:\n",
    "    val2=val2%26\n",
    "print(chr(ord(val1)+val2))\n",
    "#################################\n",
    "val1=\"A\"\n",
    "val2=int(input())\n",
    "print(chr(ord(val1)+(val2%26)))\n",
    "#################################3\n",
    "val1=\"A\"\n",
    "val2=int(input())\n",
    "print(chr(ord(val1)+val2) if val2>26 else chr(ord(val1)+val2-26))\n",
    "# above is the example for ternary operators where it is not present in python but we can achieve it by usinf if else.... here if statement is correct it withh display left answer."
   ]
  },
  {
   "cell_type": "code",
   "execution_count": 14,
   "metadata": {},
   "outputs": [
    {
     "name": "stdout",
     "output_type": "stream",
     "text": [
      "100\n"
     ]
    },
    {
     "ename": "NameError",
     "evalue": "name 'a' is not defined",
     "output_type": "error",
     "traceback": [
      "\u001b[1;31m---------------------------------------------------------------------------\u001b[0m",
      "\u001b[1;31mNameError\u001b[0m                                 Traceback (most recent call last)",
      "Cell \u001b[1;32mIn[14], line 4\u001b[0m\n\u001b[0;32m      2\u001b[0m \u001b[38;5;28mprint\u001b[39m(a)\n\u001b[0;32m      3\u001b[0m \u001b[38;5;28;01mdel\u001b[39;00m(a)\n\u001b[1;32m----> 4\u001b[0m \u001b[38;5;28mprint\u001b[39m(\u001b[43ma\u001b[49m)\n",
      "\u001b[1;31mNameError\u001b[0m: name 'a' is not defined"
     ]
    }
   ],
   "source": [
    "a=100\n",
    "print(a)\n",
    "del(a)\n",
    "print(a)"
   ]
  },
  {
   "cell_type": "markdown",
   "metadata": {},
   "source": [
    "input: IRON MAN$Z\n",
    "output: LURQ PDQ$C\n"
   ]
  },
  {
   "cell_type": "code",
   "execution_count": 35,
   "metadata": {},
   "outputs": [
    {
     "name": "stdout",
     "output_type": "stream",
     "text": [
      "L U R Q  \n",
      "P D Q $\n",
      "C "
     ]
    }
   ],
   "source": [
    "a=\"IRON MAN$Z\"\n",
    "val=int(input())\n",
    "# b=\" \"\n",
    "for i in a:\n",
    "    if i.isalpha():\n",
    "        total=ord(i)+val%26\n",
    "        if total>90:\n",
    "            print(chr(total-26),end=\" \")\n",
    "        else:\n",
    "            print(chr(ord(i)+(val%26)),end=\" \")\n",
    "    else:\n",
    "        print(i)\n"
   ]
  },
  {
   "cell_type": "code",
   "execution_count": 21,
   "metadata": {},
   "outputs": [
    {
     "name": "stdout",
     "output_type": "stream",
     "text": [
      "12\n"
     ]
    }
   ],
   "source": [
    "print(90%26)\n"
   ]
  },
  {
   "cell_type": "code",
   "execution_count": 23,
   "metadata": {},
   "outputs": [
    {
     "name": "stdout",
     "output_type": "stream",
     "text": [
      "6\n"
     ]
    }
   ],
   "source": [
    "print(500%26)"
   ]
  },
  {
   "cell_type": "code",
   "execution_count": null,
   "metadata": {},
   "outputs": [],
   "source": []
  }
 ],
 "metadata": {
  "kernelspec": {
   "display_name": "Python 3",
   "language": "python",
   "name": "python3"
  },
  "language_info": {
   "codemirror_mode": {
    "name": "ipython",
    "version": 3
   },
   "file_extension": ".py",
   "mimetype": "text/x-python",
   "name": "python",
   "nbconvert_exporter": "python",
   "pygments_lexer": "ipython3",
   "version": "3.12.4"
  }
 },
 "nbformat": 4,
 "nbformat_minor": 2
}
