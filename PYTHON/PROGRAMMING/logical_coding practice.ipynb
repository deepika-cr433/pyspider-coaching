{
 "cells": [
  {
   "cell_type": "code",
   "execution_count": null,
   "metadata": {},
   "outputs": [],
   "source": [
    "n=int(input())\n",
    "sum=0\n",
    "for i in range(n+1):\n",
    "    sum+=i\n",
    "print(sum)\n",
    "################################3\n",
    "class logic:\n",
    "    def sum_n(self,n):\n",
    "        sum=0\n",
    "        for i in range(n+1):\n",
    "            sum+=i\n",
    "        print(sum)\n",
    "\n",
    "obj=logic()\n",
    "obj.sum_n(6) \n",
    "####################################\n",
    "def sum_n(n):\n",
    "        sum=0\n",
    "        for i in range(n+1):\n",
    "            sum+=i\n",
    "        print(sum)\n",
    "\n",
    "sum_n(5)"
   ]
  },
  {
   "cell_type": "code",
   "execution_count": null,
   "metadata": {},
   "outputs": [],
   "source": [
    "n=int(input())\n",
    "prod=1\n",
    "for i in range(1,n+1):\n",
    "    prod*=i\n",
    "print(prod)\n",
    "#########################################33\n",
    "class logic:\n",
    "    def fact_n(self,n):\n",
    "        prod=1\n",
    "        for i in range(1,n+1):\n",
    "            prod*=i\n",
    "        return prod\n",
    "\n",
    "obj=logic()\n",
    "print(obj.fact_n(5))\n",
    "###########################################\n",
    "def fact_n(n):\n",
    "        prod=1\n",
    "        for i in range(1,n+1):\n",
    "            prod*=i\n",
    "        return prod\n",
    "\n",
    "print(fact_n(5))"
   ]
  },
  {
   "cell_type": "code",
   "execution_count": null,
   "metadata": {},
   "outputs": [],
   "source": [
    "n=int(input())\n",
    "for i in range(1,n+1):\n",
    "    if n%i==0:\n",
    "        print(i,end=\" \")\n",
    "#############################################\n",
    "class logic:\n",
    "    def factors(self,n):\n",
    "        for i in range(1,n+1):\n",
    "            if n%i==0:\n",
    "                print(i,end=\" \")\n",
    "\n",
    "obj=logic()\n",
    "obj.factors(10)"
   ]
  },
  {
   "cell_type": "code",
   "execution_count": null,
   "metadata": {},
   "outputs": [],
   "source": [
    "n=int(input())\n",
    "count=0\n",
    "for i in range(1,n+1):\n",
    "    if n%i==0:\n",
    "        count+=1\n",
    "print(count)\n",
    "#####333333333333333333333\n",
    "class logic:\n",
    "    def count_factors(self,n):\n",
    "        count=0\n",
    "        for i in range(1,n+1):\n",
    "            if n%i==0:\n",
    "                count+=1\n",
    "        return count\n",
    "    def isprime_no(self,n,/):\n",
    "        if self.count_factors(n)==2:\n",
    "            print(f\"{n} is prime\")\n",
    "        else:\n",
    "            print(f\"{n} is not a prime\")\n",
    "\n",
    "obj=logic()\n",
    "# obj.count_factors(10)\n",
    "obj.isprime_no(10)"
   ]
  },
  {
   "cell_type": "code",
   "execution_count": null,
   "metadata": {},
   "outputs": [],
   "source": [
    "n=int(input())\n",
    "rev=0\n",
    "while n:\n",
    "    rem=n%10\n",
    "    rev=rev*10+rem\n",
    "    n//=10\n",
    "print(rev)\n",
    "#333333333333333333333333333\n",
    "class logic:\n",
    "    def reverse_number(self,n):\n",
    "        rev=0\n",
    "        while n:\n",
    "            rem=n%10\n",
    "            rev=rev*10+rem\n",
    "            n//=10\n",
    "        return rev\n",
    "\n",
    "    def palindrome(self,n):\n",
    "        if self.reverse_number(n)==n:\n",
    "            print(f\"{n} is a palindrome\")\n",
    "        else:\n",
    "            print(f\"{n} is not a palindrome\")\n",
    "\n",
    "obj=logic()\n",
    "obj.palindrome(121)"
   ]
  },
  {
   "cell_type": "code",
   "execution_count": null,
   "metadata": {},
   "outputs": [],
   "source": [
    "n=int(input())\n",
    "sum=0\n",
    "while n:\n",
    "    rem=n%10\n",
    "    sum=sum+rem\n",
    "    n//=10\n",
    "print(sum)\n",
    "#33333333333333333333333\n",
    "class logic:\n",
    "    def digits_sum(self,n):\n",
    "        sum=0\n",
    "        while n:\n",
    "            rem=n%10\n",
    "            sum=sum+rem\n",
    "            n//=10\n",
    "        print(sum)\n",
    "\n",
    "obj=logic()\n",
    "obj.digits_sum(12345)"
   ]
  },
  {
   "cell_type": "code",
   "execution_count": null,
   "metadata": {},
   "outputs": [],
   "source": [
    "# n=int(input())\n",
    "# s=str(n)\n",
    "# l=len(s)\n",
    "# print(l)\n",
    "####################3###3\n",
    "n=int(input())\n",
    "count=0\n",
    "while n>0:\n",
    "    count+=1\n",
    "    n//=10\n",
    "print(count)\n",
    "#333333333333333333333333\n",
    "class logic:\n",
    "    def digit_count(self,n):\n",
    "        count=0\n",
    "        while n>0:\n",
    "            count+=1\n",
    "            n//=10\n",
    "        print(count)\n",
    "\n",
    "obj=logic()\n",
    "obj.digit_count(123456)\n",
    "\n"
   ]
  },
  {
   "cell_type": "markdown",
   "metadata": {},
   "source": [
    "armstrong number"
   ]
  },
  {
   "cell_type": "code",
   "execution_count": null,
   "metadata": {},
   "outputs": [],
   "source": [
    "n=int(input())\n",
    "sum=0\n",
    "val=n\n",
    "l=len(str(n))\n",
    "while n:\n",
    "    rem=n%10\n",
    "    sum+=rem**l\n",
    "    n//=10\n",
    "print(sum)\n",
    "if val==sum:\n",
    "    print(f\"{val} is an armstrong number\")\n",
    "else:\n",
    "    print(f\"{val} is not an armstrong number\")\n",
    "#3333333333333333333333333333333333\n",
    "class logic:\n",
    "    def armstrong_num(self,n):\n",
    "        sum=0\n",
    "        val=n\n",
    "        l=len(str(n))\n",
    "        while n:\n",
    "            rem=n%10\n",
    "            sum+=rem**l\n",
    "            n//=10\n",
    "        print(sum)\n",
    "        if val==sum:\n",
    "            print(f\"{val} is an armstrong number\")\n",
    "        else:\n",
    "            print(f\"{val} is not an armstrong number\")\n",
    "\n",
    "obj=logic()\n",
    "obj.armstrong_num(153)\n",
    "\n"
   ]
  },
  {
   "cell_type": "markdown",
   "metadata": {},
   "source": [
    "strong number"
   ]
  },
  {
   "cell_type": "code",
   "execution_count": null,
   "metadata": {},
   "outputs": [],
   "source": [
    "n=int(input())\n",
    "sum=0\n",
    "temp=n\n",
    "while n>0:\n",
    "    fact=1\n",
    "    rem=n%10\n",
    "    for i in range(1,rem+1):\n",
    "        fact *= i\n",
    "    sum+=fact\n",
    "    n//=10\n",
    "if sum==temp:\n",
    "    print(f\"{temp } is a strong number\")\n",
    "else:\n",
    "    print(f\"{temp} is not a strong number\")\n",
    "#################33333333\n",
    "class logic:\n",
    "    def strong_numb(self,n):\n",
    "        sum=0\n",
    "        temp=n\n",
    "        while n>0:\n",
    "            fact=1\n",
    "            rem=n%10\n",
    "            for i in range(1,rem+1):\n",
    "                fact *= i\n",
    "            sum+=fact\n",
    "            n//=10\n",
    "        if sum==temp:\n",
    "            print(f\"{temp } is a strong number\")\n",
    "        else:\n",
    "            print(f\"{temp} is not a strong number\")\n",
    "\n",
    "obj=logic()\n",
    "obj.strong_numb(145)\n",
    "#######################################\n",
    "# def strong_numb(self,n):\n",
    "#         sum=0\n",
    "#         temp=n\n",
    "#         while n:\n",
    "#             sum+=self.factorial(n)\n",
    "#             n//=10\n",
    "#         if sum==temp:\n",
    "#             print(f\"{temp } is a strong number\")\n",
    "#         else:\n",
    "#             print(f\"{temp} is not a strong number\")\n",
    "\n",
    "# strong_numb(145)"
   ]
  },
  {
   "cell_type": "code",
   "execution_count": 2,
   "metadata": {},
   "outputs": [
    {
     "name": "stdout",
     "output_type": "stream",
     "text": [
      "not a spy number\n"
     ]
    }
   ],
   "source": [
    "n=int(input())\n",
    "val=n\n",
    "sum=0\n",
    "prod=1\n",
    "for i in str(n):\n",
    "    sum+=int(i)\n",
    "    prod*=int(i)\n",
    "if sum==prod:\n",
    "    print(\"spy number\")\n",
    "else:\n",
    "    print(\"not a spy number\")\n",
    "\n",
    "    "
   ]
  },
  {
   "cell_type": "code",
   "execution_count": 5,
   "metadata": {},
   "outputs": [
    {
     "name": "stdout",
     "output_type": "stream",
     "text": [
      "special number\n"
     ]
    }
   ],
   "source": [
    "n=int(input())\n",
    "val=n\n",
    "sum=0\n",
    "prod=1\n",
    "m=0\n",
    "for i in str(n):\n",
    "    sum+=int(i)\n",
    "    prod*=int(i)\n",
    "m=sum+prod\n",
    "if val==m:\n",
    "    print(\"special number\")\n",
    "else:\n",
    "    print(\"not a special number\")"
   ]
  },
  {
   "cell_type": "code",
   "execution_count": 10,
   "metadata": {},
   "outputs": [
    {
     "name": "stdout",
     "output_type": "stream",
     "text": [
      "perfect number\n"
     ]
    }
   ],
   "source": [
    "n=int(input())\n",
    "sum=0\n",
    "for i in range(1,n):\n",
    "    if n%i==0:\n",
    "        sum+=i\n",
    "if sum==n:\n",
    "    print(\"perfect number\")\n",
    "else:\n",
    "    print(\"not a perfect number\")\n",
    "\n"
   ]
  },
  {
   "cell_type": "code",
   "execution_count": 14,
   "metadata": {},
   "outputs": [
    {
     "name": "stdout",
     "output_type": "stream",
     "text": [
      "diasarium number\n",
      "diasarium number\n"
     ]
    }
   ],
   "source": [
    "n=int(input())\n",
    "sum=0\n",
    "p=1\n",
    "for i in str(n):\n",
    "    sum+=int(i)**p\n",
    "    p+=1\n",
    "if sum==n:\n",
    "    print(\"diasarium number\")\n",
    "else:\n",
    "    print(\"not a diasarium number\")\n",
    "###########################################\n",
    "n=int(input())\n",
    "sum=0\n",
    "p=len(str(n))\n",
    "val=n\n",
    "while n>0:\n",
    "    rem=n%10\n",
    "    sum+=rem**p\n",
    "    p-=1\n",
    "    n//=10\n",
    "if sum==val:\n",
    "    print(\"diasarium number\")\n",
    "else:\n",
    "    print(\"not a diasarium number\")\n"
   ]
  },
  {
   "cell_type": "code",
   "execution_count": 17,
   "metadata": {},
   "outputs": [
    {
     "ename": "TypeError",
     "evalue": "object of type 'type' has no len()",
     "output_type": "error",
     "traceback": [
      "\u001b[1;31m---------------------------------------------------------------------------\u001b[0m",
      "\u001b[1;31mTypeError\u001b[0m                                 Traceback (most recent call last)",
      "Cell \u001b[1;32mIn[17], line 3\u001b[0m\n\u001b[0;32m      1\u001b[0m n\u001b[38;5;241m=\u001b[39m\u001b[38;5;28mint\u001b[39m(\u001b[38;5;28minput\u001b[39m())\n\u001b[0;32m      2\u001b[0m \u001b[38;5;28msum\u001b[39m\u001b[38;5;241m=\u001b[39m\u001b[38;5;241m0\u001b[39m\n\u001b[1;32m----> 3\u001b[0m l\u001b[38;5;241m=\u001b[39m\u001b[38;5;28;43mlen\u001b[39;49m\u001b[43m(\u001b[49m\u001b[38;5;28;43mstr\u001b[39;49m\u001b[43m)\u001b[49m\n\u001b[0;32m      4\u001b[0m val\u001b[38;5;241m=\u001b[39mn\n\u001b[0;32m      5\u001b[0m \u001b[38;5;28;01mwhile\u001b[39;00m l\u001b[38;5;241m>\u001b[39m\u001b[38;5;241m1\u001b[39m:\n",
      "\u001b[1;31mTypeError\u001b[0m: object of type 'type' has no len()"
     ]
    }
   ],
   "source": [
    "n=int(input())\n",
    "sum=0\n",
    "l=len(str)\n",
    "val=n\n",
    "while l>1:\n",
    "    for i in str(n):\n",
    "        sum+=int(i)\n",
    "        if len(str(sum))==1:\n",
    "            print(sum)\n",
    "        else:\n",
    "            n=sum"
   ]
  },
  {
   "cell_type": "code",
   "execution_count": null,
   "metadata": {},
   "outputs": [],
   "source": []
  },
  {
   "cell_type": "code",
   "execution_count": null,
   "metadata": {},
   "outputs": [],
   "source": [
    "\n"
   ]
  }
 ],
 "metadata": {
  "kernelspec": {
   "display_name": "Python 3",
   "language": "python",
   "name": "python3"
  },
  "language_info": {
   "codemirror_mode": {
    "name": "ipython",
    "version": 3
   },
   "file_extension": ".py",
   "mimetype": "text/x-python",
   "name": "python",
   "nbconvert_exporter": "python",
   "pygments_lexer": "ipython3",
   "version": "3.12.4"
  }
 },
 "nbformat": 4,
 "nbformat_minor": 2
}
