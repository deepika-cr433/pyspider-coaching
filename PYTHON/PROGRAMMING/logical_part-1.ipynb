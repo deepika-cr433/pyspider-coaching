{
 "cells": [
  {
   "cell_type": "markdown",
   "metadata": {},
   "source": [
    "**Sum of 1 to n values**"
   ]
  },
  {
   "cell_type": "code",
   "execution_count": 2,
   "metadata": {},
   "outputs": [
    {
     "name": "stdout",
     "output_type": "stream",
     "text": [
      "15\n"
     ]
    }
   ],
   "source": [
    "n=int(input())\n",
    "sum=0\n",
    "for i in range(n+1):\n",
    "    sum+=i\n",
    "print(sum)"
   ]
  },
  {
   "cell_type": "markdown",
   "metadata": {},
   "source": [
    "**to find the factorial of n**"
   ]
  },
  {
   "cell_type": "code",
   "execution_count": 4,
   "metadata": {},
   "outputs": [
    {
     "name": "stdout",
     "output_type": "stream",
     "text": [
      "120\n",
      "120\n"
     ]
    }
   ],
   "source": [
    "n=int(input())\n",
    "pro=1\n",
    "for i in range(1,n+1):\n",
    "    pro*=i\n",
    "print(pro)\n",
    "#333333333333333333333333333333333\n",
    "from functools import reduce \n",
    "n=int(input())\n",
    "l1=[i for i in range(1,n+1)]\n",
    "if n>0:\n",
    "    res=reduce(lambda X,Y:X*Y,l1)\n",
    "print(res if n!=0 else 1)"
   ]
  },
  {
   "cell_type": "markdown",
   "metadata": {},
   "source": [
    "input: 10\n",
    "output: 30\n",
    "explaination: 2+4+6+8+10=30"
   ]
  },
  {
   "cell_type": "code",
   "execution_count": null,
   "metadata": {},
   "outputs": [
    {
     "name": "stdout",
     "output_type": "stream",
     "text": [
      "30\n",
      "30\n",
      "30\n"
     ]
    }
   ],
   "source": [
    "n=int(input())\n",
    "s=0\n",
    "for i in range(0,n+1,2):\n",
    "    s+=i\n",
    "print(s)\n",
    "#3333333333333333333333333333\n",
    "print(sum([i for i in range(n+1) if i%2==0]))\n",
    "#3333333333333333333333333333\n",
    "print(sum([i for i in range(0,n+1,2)]))"
   ]
  },
  {
   "cell_type": "markdown",
   "metadata": {},
   "source": [
    "input: 10\n",
    "output: 25\n",
    "explaination: 1+3+5+7+9=25"
   ]
  },
  {
   "cell_type": "code",
   "execution_count": null,
   "metadata": {},
   "outputs": [
    {
     "name": "stdout",
     "output_type": "stream",
     "text": [
      "25\n",
      "25\n",
      "25\n"
     ]
    }
   ],
   "source": [
    "n=int(input())\n",
    "s=0\n",
    "for i in range(1,n+1,2):\n",
    "    s+=i\n",
    "print(s)\n",
    "#3333333333333333333333333333\n",
    "print(sum([i for i in range(n+1) if i%2!=0]))\n",
    "#3333333333333333333333333333\n",
    "print(sum([i for i in range(1,n+1,2)]))\n"
   ]
  },
  {
   "cell_type": "markdown",
   "metadata": {},
   "source": [
    "input: 25\n",
    "output: 168\n",
    "explaination: 3+5+6+9+10+12+15+18+20+21+24+25"
   ]
  },
  {
   "cell_type": "code",
   "execution_count": null,
   "metadata": {},
   "outputs": [
    {
     "name": "stdout",
     "output_type": "stream",
     "text": [
      "168\n",
      "168\n"
     ]
    }
   ],
   "source": [
    "n=int(input())\n",
    "s=0\n",
    "for i in range(n+1):\n",
    "    if i%3==0 or i%5==0:\n",
    "        s+=i\n",
    "print(s)\n",
    "#333333333333333333333333333333333333\n",
    "print(sum([i for i in range(1,n+1) if i%3==0 or i%5==0]))\n"
   ]
  },
  {
   "cell_type": "markdown",
   "metadata": {},
   "source": [
    "input: 10\n",
    "output: 1 2 5 10\n",
    "**program to display the factors of n**\n",
    "**program to find the prime number**"
   ]
  },
  {
   "cell_type": "code",
   "execution_count": null,
   "metadata": {},
   "outputs": [
    {
     "name": "stdout",
     "output_type": "stream",
     "text": [
      "1 11 13 is a prime number\n",
      "29 is prime\n"
     ]
    }
   ],
   "source": [
    "n=int(input())\n",
    "for i in range(1,n+1):\n",
    "    if n%i==0:\n",
    "        print(i,end=\" \")\n",
    "###########################\n",
    "n=int(input())\n",
    "c=0\n",
    "for i in range(1,n+1):\n",
    "    if n%i==0:\n",
    "        c+=1\n",
    "#print(c)\n",
    "if c==2:\n",
    "    print(f\"{n} is a prime number\")\n",
    "else:\n",
    "    print(f\"{n} is not a prime number\")\n",
    "#333333333333333333333333333\n",
    "n=int(input())\n",
    "c=0\n",
    "lc=0\n",
    "for i in range(2,n//2+1):\n",
    "    lc+=1\n",
    "    if n%i==0:\n",
    "        c+=1\n",
    "        break\n",
    "if c==0:\n",
    "    print(f\"{n} is prime\")\n",
    "else:\n",
    "    print(f\"{n} is not prime\")\n"
   ]
  },
  {
   "cell_type": "markdown",
   "metadata": {},
   "source": [
    "**Sum of n odd numbers**\n",
    "input: 3\n",
    "output: 9\n",
    "explaination: 1+3+5"
   ]
  },
  {
   "cell_type": "code",
   "execution_count": 31,
   "metadata": {},
   "outputs": [
    {
     "name": "stdout",
     "output_type": "stream",
     "text": [
      "9\n",
      "9\n",
      "9\n"
     ]
    }
   ],
   "source": [
    "n=int(input())\n",
    "s=0\n",
    "for i in range(1,2*n,2):  \n",
    "    s+=i \n",
    "print(s)\n",
    "#33333333333333333333333333\n",
    "n=int(input())\n",
    "s=0\n",
    "for i in range(1,n+1): \n",
    "    s+=2*i-1\n",
    "print(s)\n",
    "#33333333333333333333333333\n",
    "n=int(input())\n",
    "c=1\n",
    "r=0\n",
    "res=0\n",
    "while True:\n",
    "    if c%2!=0:\n",
    "        res+=c\n",
    "        r+=1\n",
    "    c+=1\n",
    "    if r==n:\n",
    "        break\n",
    "print(res)\n"
   ]
  },
  {
   "cell_type": "markdown",
   "metadata": {},
   "source": [
    "**Sum of even numbers**\n",
    "input: 3\n",
    "output: 10\n",
    "explaination: 2+4+6"
   ]
  },
  {
   "cell_type": "code",
   "execution_count": null,
   "metadata": {},
   "outputs": [
    {
     "name": "stdout",
     "output_type": "stream",
     "text": [
      "12\n",
      "12\n",
      "12\n"
     ]
    }
   ],
   "source": [
    "n=int(input())\n",
    "s=0\n",
    "for i in range(2,(2*n)+1,2):\n",
    "    s+=i\n",
    "print(s)\n",
    "#333333333333333333333333333\n",
    "n=int(input())\n",
    "s=0\n",
    "for i in range(1,n+1):\n",
    "    s+=2*i\n",
    "print(s)\n",
    "#333333333333333333333333333\n",
    "n=int(input())\n",
    "c=1\n",
    "r=0\n",
    "res=0\n",
    "while True:\n",
    "    if c%2==0:\n",
    "        res+=c\n",
    "        r+=1\n",
    "    c+=1\n",
    "    if r==n:\n",
    "        break\n",
    "print(res)\n",
    "\n",
    "\n"
   ]
  },
  {
   "cell_type": "markdown",
   "metadata": {},
   "source": [
    "input: 10\n",
    "output: 2 3 5 7 \n",
    "prime number with in n."
   ]
  },
  {
   "cell_type": "code",
   "execution_count": 35,
   "metadata": {},
   "outputs": [
    {
     "name": "stdout",
     "output_type": "stream",
     "text": [
      "2 3 5 7 11 13 17 19 2 3 5 7 11 13 17 19 "
     ]
    }
   ],
   "source": [
    "n=int(input())\n",
    "for i in range(1,n+1):\n",
    "    count=0\n",
    "    for j in range(1,n+1):\n",
    "        if i%j==0:\n",
    "            count+=1\n",
    "    if count==2:\n",
    "        print(i,end=\" \")\n",
    "#333333333333333333333333333\n",
    "n=int(input())\n",
    "for i in range(1,n+1):\n",
    "    f=0\n",
    "    for j in range(2,i//2+1):\n",
    "        if i%j==0:\n",
    "            f+=1\n",
    "            break\n",
    "    if f==0 and i!=1:\n",
    "        print(i,end=\" \")"
   ]
  },
  {
   "cell_type": "markdown",
   "metadata": {},
   "source": [
    "**Displaying N prime Numbers**\n",
    "input: 5\n",
    "output: 2 3 5 7 11"
   ]
  },
  {
   "cell_type": "code",
   "execution_count": 36,
   "metadata": {},
   "outputs": [
    {
     "name": "stdout",
     "output_type": "stream",
     "text": [
      "2 3 5 7 11 2 3 5 7 11 "
     ]
    }
   ],
   "source": [
    "n=int(input())\n",
    "num=2\n",
    "count=0\n",
    "while count<n:\n",
    "    is_prime=True\n",
    "    val=2\n",
    "    while val*val<=num:\n",
    "        if num%val==0:\n",
    "            is_prime=False\n",
    "            break\n",
    "        val+=1\n",
    "    if is_prime:\n",
    "        print(num,end=\" \")\n",
    "        count +=1\n",
    "    num+=1\n",
    "#33333333333333333333333333333333333\n",
    "n=int(input())\n",
    "c=0\n",
    "i=2\n",
    "while True:\n",
    "    f=0\n",
    "    for j in range(2,i//2+1):\n",
    "        if i%j==0:\n",
    "            f+=1\n",
    "            break\n",
    "    if f==0:\n",
    "        print(i,end=\" \")\n",
    "        c+=1\n",
    "    if c==n:\n",
    "        break\n",
    "    i+=1"
   ]
  },
  {
   "cell_type": "markdown",
   "metadata": {},
   "source": [
    "**HCM=highest common multiple**\n",
    "10,13  10-->1,2,5,10       8,12  8-->1,2,4,8\n",
    "       13-->1,13                 12-->1,2,3,4,6,12"
   ]
  },
  {
   "cell_type": "code",
   "execution_count": 38,
   "metadata": {},
   "outputs": [
    {
     "name": "stdout",
     "output_type": "stream",
     "text": [
      "4\n",
      "4\n"
     ]
    }
   ],
   "source": [
    "n1=int(input())\n",
    "n2=int(input())\n",
    "HCF=1\n",
    "m=min(n1,n2)\n",
    "for i in range(1,m+1):\n",
    "    if n1%i==0 and n2%i==0:\n",
    "        HCF=i\n",
    "print(HCF)\n",
    "#333333333333333333333333333333333\n",
    "n1=int(input())\n",
    "n2=int(input())\n",
    "while n2!=0:\n",
    "    n1,n2=n2,n1%n2\n",
    "print(n1)"
   ]
  },
  {
   "cell_type": "markdown",
   "metadata": {},
   "source": [
    "**LCM=least common multiple**\n",
    "10,8\n",
    "10=10,20,30,40,50,60,70\n",
    "8=8,16,24,32,40"
   ]
  },
  {
   "cell_type": "code",
   "execution_count": 39,
   "metadata": {},
   "outputs": [
    {
     "name": "stdout",
     "output_type": "stream",
     "text": [
      "40\n"
     ]
    }
   ],
   "source": [
    "n1=int(input())\n",
    "n2=int(input())\n",
    "m1=max(n1,n2)\n",
    "m2=min(n1,n2)\n",
    "lcm=0\n",
    "p=0\n",
    "for i in range(1,m2+1):\n",
    "    p=i*m1\n",
    "    if p%n1==0 and p%n2==0:\n",
    "        lcm=p\n",
    "        break\n",
    "print(lcm)"
   ]
  },
  {
   "cell_type": "markdown",
   "metadata": {},
   "source": [
    "# Reversing of numbers"
   ]
  },
  {
   "cell_type": "code",
   "execution_count": null,
   "metadata": {},
   "outputs": [
    {
     "name": "stdout",
     "output_type": "stream",
     "text": [
      "341\n",
      "121\n",
      "palindrome\n"
     ]
    }
   ],
   "source": [
    "n=int(input())\n",
    "rev=0\n",
    "while n!=0:\n",
    "    rem=n%10\n",
    "    rev=rev*10+rem\n",
    "    n//=10\n",
    "print(rev)"
   ]
  },
  {
   "cell_type": "markdown",
   "metadata": {},
   "source": [
    "# palindrome number"
   ]
  },
  {
   "cell_type": "code",
   "execution_count": null,
   "metadata": {},
   "outputs": [],
   "source": [
    "val=int(input())\n",
    "n=val\n",
    "rev=0\n",
    "while n!=0:\n",
    "    rem=n%10\n",
    "    rev=rev*10+rem\n",
    "    n//=10\n",
    "print(rev)\n",
    "if rev==val:\n",
    "    print(\"palindrome\")\n",
    "else:\n",
    "    print(\"not palindrome\")"
   ]
  },
  {
   "cell_type": "markdown",
   "metadata": {},
   "source": [
    "**Reverse string**\n",
    "and check it as palindrome or not palindrome"
   ]
  },
  {
   "cell_type": "code",
   "execution_count": 40,
   "metadata": {},
   "outputs": [
    {
     "name": "stdout",
     "output_type": "stream",
     "text": [
      "speed \n",
      "654321\n",
      "not palindrome\n"
     ]
    }
   ],
   "source": [
    "s=input()\n",
    "revstr=\" \"\n",
    "for i in s:\n",
    "    revstr=i+revstr\n",
    "print(revstr)\n",
    "#3333333333333333333333333333333\n",
    "n=int(input())\n",
    "print(str(n)[::-1])\n",
    "#3333333333333333333333333333333\n",
    "n=int(input())\n",
    "if str(n)[::-1]==str(n):\n",
    "    print(\"palindrome\")\n",
    "else:\n",
    "    print(\"not palindrome\")\n",
    "    "
   ]
  },
  {
   "cell_type": "markdown",
   "metadata": {},
   "source": [
    "# find the sum of all digits\n",
    "# find the product of all digits\n",
    "# n=1234------> output=2 4 "
   ]
  },
  {
   "cell_type": "code",
   "execution_count": null,
   "metadata": {},
   "outputs": [
    {
     "name": "stdout",
     "output_type": "stream",
     "text": [
      "10\n",
      "24\n",
      "8\n",
      "4\n",
      "6\n",
      "2\n"
     ]
    }
   ],
   "source": [
    "n=int(input())\n",
    "rem=0\n",
    "sum=0 \n",
    "while n!=0:\n",
    "    rem=n%10\n",
    "    sum+=rem\n",
    "    n=n//10\n",
    "print(sum)\n",
    "################################################\n",
    "n=int(input())\n",
    "rem=0\n",
    "pro=1\n",
    "while n!=0:\n",
    "    rem=n%10\n",
    "    pro*=rem\n",
    "    n//=10\n",
    "print(pro)\n",
    "################################################\n",
    "# find the even number in n\n",
    "n=int(input())\n",
    "while n!=0:\n",
    "    rem=n%10\n",
    "    if rem%2==0:\n",
    "        print(rem)\n",
    "    n=n//10\n",
    "################################################\n",
    "#find the odd number in n\n",
    "n=int(input())\n",
    "while n!=0:\n",
    "    rem=n%10\n",
    "    if rem%2!=0:\n",
    "        print(rem,end=\" \")\n",
    "    n=n//10\n"
   ]
  }
 ],
 "metadata": {
  "kernelspec": {
   "display_name": "Python 3",
   "language": "python",
   "name": "python3"
  },
  "language_info": {
   "codemirror_mode": {
    "name": "ipython",
    "version": 3
   },
   "file_extension": ".py",
   "mimetype": "text/x-python",
   "name": "python",
   "nbconvert_exporter": "python",
   "pygments_lexer": "ipython3",
   "version": "3.12.4"
  }
 },
 "nbformat": 4,
 "nbformat_minor": 2
}
