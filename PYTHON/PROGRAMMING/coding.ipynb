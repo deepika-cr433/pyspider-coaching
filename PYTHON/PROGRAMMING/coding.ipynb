{
 "cells": [
  {
   "cell_type": "code",
   "execution_count": 4,
   "metadata": {},
   "outputs": [
    {
     "name": "stdout",
     "output_type": "stream",
     "text": [
      "****\n",
      "****\n",
      "****\n",
      "****\n"
     ]
    }
   ],
   "source": [
    "row=int(input())\n",
    "col=int(input())\n",
    "for i in range(row):\n",
    "    for j in range(col):\n",
    "        print(\"*\",end=\"\")\n",
    "    print()\n"
   ]
  },
  {
   "cell_type": "code",
   "execution_count": 1,
   "metadata": {},
   "outputs": [
    {
     "name": "stdout",
     "output_type": "stream",
     "text": [
      "****\n",
      "****\n",
      "****\n"
     ]
    }
   ],
   "source": [
    "def rectangle_star(row,col): \n",
    "    for i in range(row):\n",
    "        for j in range(col):\n",
    "            print(\"*\",end=\"\")\n",
    "        print()\n",
    "\n",
    "rectangle_star(3,4)"
   ]
  },
  {
   "cell_type": "code",
   "execution_count": 2,
   "metadata": {},
   "outputs": [
    {
     "name": "stdout",
     "output_type": "stream",
     "text": [
      "******\n",
      "******\n",
      "******\n",
      "******\n"
     ]
    }
   ],
   "source": [
    "class PATTERN:\n",
    "    def rectangle_star(self,row,col): \n",
    "        for i in range(row):\n",
    "            for j in range(col):\n",
    "                print(\"*\",end=\"\")\n",
    "            print()\n",
    "\n",
    "r1=PATTERN()\n",
    "r1.rectangle_star(4,6)\n"
   ]
  },
  {
   "cell_type": "markdown",
   "metadata": {},
   "source": [
    "n=4\n",
    "****\n",
    "****\n",
    "****\n",
    "****\n"
   ]
  },
  {
   "cell_type": "code",
   "execution_count": 10,
   "metadata": {},
   "outputs": [
    {
     "name": "stdout",
     "output_type": "stream",
     "text": [
      "****\n",
      "****\n",
      "****\n",
      "****\n",
      "****\n",
      "****\n",
      "****\n",
      "****\n",
      "********\n",
      "********\n",
      "********\n",
      "********\n",
      "********\n",
      "********\n",
      "********\n",
      "********\n"
     ]
    }
   ],
   "source": [
    "n=int(input())\n",
    "for i in range(n):\n",
    "    for j in range(n):\n",
    "        print(\"*\",end=\"\")\n",
    "    print()\n",
    "#33333333333333333333333333333333\n",
    "def squr(n):\n",
    "    for i in range(n):\n",
    "        for j in range(n):\n",
    "            print(\"*\",end=\"\")\n",
    "        print()\n",
    "\n",
    "squr(4)\n",
    "#333333333333333333333333333333\n",
    "class PATTERN:\n",
    "    def squr(self,n):\n",
    "        for i in range(n):\n",
    "            for j in range(n):\n",
    "                print(\"*\",end=\"\")\n",
    "            print()\n",
    "\n",
    "obj=PATTERN()\n",
    "obj.squr(8)"
   ]
  },
  {
   "cell_type": "markdown",
   "metadata": {},
   "source": [
    "n=4\n",
    "1111\n",
    "2222\n",
    "3333\n",
    "4444"
   ]
  },
  {
   "cell_type": "code",
   "execution_count": 5,
   "metadata": {},
   "outputs": [
    {
     "name": "stdout",
     "output_type": "stream",
     "text": [
      "11111\n",
      "22222\n",
      "33333\n",
      "44444\n",
      "55555\n",
      "11111\n",
      "22222\n",
      "33333\n",
      "44444\n",
      "55555\n",
      "11111\n",
      "22222\n",
      "33333\n",
      "44444\n",
      "55555\n"
     ]
    }
   ],
   "source": [
    "n=int(input())\n",
    "val=1\n",
    "for i in range(n):\n",
    "    for j in range(n):\n",
    "        print(val,end=\"\")\n",
    "    val+=1\n",
    "    print()\n",
    "    if val>9:\n",
    "        val=1\n",
    "#3333333333333333333333333\n",
    "def sqr_num(n):\n",
    "    val=1\n",
    "    for i in range(n):\n",
    "        for j in range(n):\n",
    "            print(val,end=\"\")\n",
    "        val+=1\n",
    "        print()\n",
    "        if val>9:\n",
    "            val=1\n",
    "\n",
    "sqr_num(5)\n",
    "#3333333333333333333333333333\n",
    "class PATTERN:\n",
    "    def sqr_num(self,n):\n",
    "        val=1\n",
    "        for i in range(n):\n",
    "            for j in range(n):\n",
    "                print(val,end=\"\")\n",
    "            val+=1\n",
    "            print()\n",
    "            if val>9:\n",
    "                val=1\n",
    "\n",
    "obj=PATTERN()\n",
    "obj.sqr_num(5)\n",
    "\n",
    "\n",
    "\n"
   ]
  },
  {
   "cell_type": "code",
   "execution_count": null,
   "metadata": {},
   "outputs": [],
   "source": []
  }
 ],
 "metadata": {
  "kernelspec": {
   "display_name": "Python 3",
   "language": "python",
   "name": "python3"
  },
  "language_info": {
   "codemirror_mode": {
    "name": "ipython",
    "version": 3
   },
   "file_extension": ".py",
   "mimetype": "text/x-python",
   "name": "python",
   "nbconvert_exporter": "python",
   "pygments_lexer": "ipython3",
   "version": "3.12.4"
  }
 },
 "nbformat": 4,
 "nbformat_minor": 2
}
