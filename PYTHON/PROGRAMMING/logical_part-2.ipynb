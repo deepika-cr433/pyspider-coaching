{
 "cells": [
  {
   "cell_type": "markdown",
   "metadata": {},
   "source": [
    "**conversion of decimal to binary**\n",
    "**conversion of binary to decimal**"
   ]
  },
  {
   "cell_type": "code",
   "execution_count": null,
   "metadata": {},
   "outputs": [
    {
     "name": "stdout",
     "output_type": "stream",
     "text": [
      "1010\n",
      "1010\n",
      "10\n"
     ]
    }
   ],
   "source": [
    "n=int(input())\n",
    "res=''\n",
    "while n!=0:\n",
    "    rem=n%2\n",
    "    res+=str(rem)\n",
    "    n//=2\n",
    "rev=res[::-1]\n",
    "print(rev)\n",
    "#3333333333333333333333333333333333333\n",
    "n=int(input())\n",
    "res=0\n",
    "p=1\n",
    "while n!=0:\n",
    "    rem=n%2\n",
    "    res=res+rem*p\n",
    "    n//=2\n",
    "    p*=10\n",
    "print(res)\n",
    "######################################\n",
    "#decimal to binary conversion\n",
    "n=int(input())\n",
    "res=0\n",
    "p=1\n",
    "while n!=0:\n",
    "    rem=n%10\n",
    "    res=res+rem*p\n",
    "    n//=10\n",
    "    p*=2\n",
    "print(res)"
   ]
  },
  {
   "cell_type": "markdown",
   "metadata": {},
   "source": [
    "# conversion of decimal to octal\n",
    "# conversion of octal to decimal"
   ]
  },
  {
   "cell_type": "code",
   "execution_count": 2,
   "metadata": {},
   "outputs": [
    {
     "name": "stdout",
     "output_type": "stream",
     "text": [
      "10\n",
      "8\n"
     ]
    }
   ],
   "source": [
    "n=int(input())\n",
    "res=''\n",
    "while n!=0:\n",
    "    rem=n%8\n",
    "    res+=str(rem)\n",
    "    n//=8\n",
    "rev=res[::-1]\n",
    "print(rev)\n",
    "######################################\n",
    "n=int(input())\n",
    "res=0\n",
    "p=1\n",
    "while n!=0:\n",
    "    rem=n%10\n",
    "    res=res+rem*p\n",
    "    n//=10\n",
    "    p*=8\n",
    "print(res)\n"
   ]
  },
  {
   "cell_type": "markdown",
   "metadata": {},
   "source": [
    "# conversion of decimal to hexadecimal\n",
    "# conversion of hexadecimal to decimal"
   ]
  },
  {
   "cell_type": "code",
   "execution_count": 5,
   "metadata": {},
   "outputs": [
    {
     "name": "stdout",
     "output_type": "stream",
     "text": [
      "33\n",
      "51\n"
     ]
    }
   ],
   "source": [
    "n=int(input())\n",
    "res=0\n",
    "p=1\n",
    "while n!=0:\n",
    "    rem=n%16\n",
    "    res+=rem*p\n",
    "    p*=10\n",
    "    n//=16\n",
    "print(res)\n",
    "######################################\n",
    "n=int(input())\n",
    "res=0\n",
    "p=1\n",
    "while n!=0:\n",
    "    rem=n%10\n",
    "    res+=rem*p\n",
    "    n//=10\n",
    "    p*=16\n",
    "print(res)"
   ]
  },
  {
   "cell_type": "markdown",
   "metadata": {},
   "source": [
    "# armstrong number\n",
    "n= 153\n",
    "sum=1**3+5**3+3**3\n",
    "if n==sum------------> armstrong number\n",
    "\n",
    "\n",
    "# armstrong number in between(1-500)"
   ]
  },
  {
   "cell_type": "code",
   "execution_count": null,
   "metadata": {},
   "outputs": [
    {
     "name": "stdout",
     "output_type": "stream",
     "text": [
      "153\n",
      "armstrong number\n",
      "1\n",
      "2\n",
      "3\n",
      "4\n",
      "5\n",
      "6\n",
      "7\n",
      "8\n",
      "9\n",
      "armstrong number\n"
     ]
    }
   ],
   "source": [
    "n=int(input())\n",
    "sum=0\n",
    "l=len(str(n))\n",
    "val=0\n",
    "for i in str(n):\n",
    "    val=int(i)**l\n",
    "    sum+=val\n",
    "print(sum)\n",
    "if n==sum:\n",
    "    print('armstrong number')\n",
    "else:\n",
    "    print(\"not an armstrong number\")\n",
    "##########################################\n",
    "val=int(input())\n",
    "n=val\n",
    "sum=0\n",
    "l=len(str(n))\n",
    "while n>0:\n",
    "    rem=n%10\n",
    "    sum+=rem**l\n",
    "    n//=10\n",
    "if val==sum:\n",
    "    print(\"armstrong number\")\n",
    "else:\n",
    "    print(\"not an armstrong number\")\n",
    "###########################################\n",
    "n=int(input())\n",
    "val=0\n",
    "for i in range(1,n+1):\n",
    "    l=len(str(i))\n",
    "    sum=0\n",
    "    for j in str(i):\n",
    "        val=int(i)**l\n",
    "        sum+=val\n",
    "    if i==sum:\n",
    "        print(i)"
   ]
  },
  {
   "cell_type": "markdown",
   "metadata": {},
   "source": [
    "**strong number**\n",
    "n=143\n",
    "sum=1!+4!+3!\n",
    "if sum==n:-----------> strong number"
   ]
  },
  {
   "cell_type": "code",
   "execution_count": 24,
   "metadata": {},
   "outputs": [
    {
     "name": "stdout",
     "output_type": "stream",
     "text": [
      "not s strong number\n"
     ]
    }
   ],
   "source": [
    "val=int(input())\n",
    "n=val\n",
    "sum=0\n",
    "for i in str(n):\n",
    "    fact=1\n",
    "    for j in (1,int(i)+1):\n",
    "        fact*=j\n",
    "    sum+=fact\n",
    "if sum==val:\n",
    "    print(\"strong number\")\n",
    "else:\n",
    "    print(\"not s strong number\")\n",
    "########################################\n",
    "# n=int(input())\n",
    "# sum=0\n"
   ]
  },
  {
   "cell_type": "markdown",
   "metadata": {},
   "source": [
    "**Spy number**\n",
    "n=1124\n",
    "s=1+1+2+4\n",
    "p=1*1*2*4\n",
    "if s==p:------->spy number"
   ]
  },
  {
   "cell_type": "code",
   "execution_count": 25,
   "metadata": {},
   "outputs": [
    {
     "name": "stdout",
     "output_type": "stream",
     "text": [
      "spy number\n"
     ]
    }
   ],
   "source": [
    "n=int(input())\n",
    "val=n\n",
    "sum=0\n",
    "prod=1\n",
    "while n!=0:\n",
    "    rem=n%10\n",
    "    sum+=rem\n",
    "    prod*=rem\n",
    "    n//=10\n",
    "if sum==prod:\n",
    "    print(\"spy number\")\n",
    "else:\n",
    "    print(\"not a spy number\")"
   ]
  },
  {
   "cell_type": "markdown",
   "metadata": {},
   "source": [
    "**special number**\n",
    "n"
   ]
  },
  {
   "cell_type": "code",
   "execution_count": 27,
   "metadata": {},
   "outputs": [
    {
     "name": "stdout",
     "output_type": "stream",
     "text": [
      "not a special number\n"
     ]
    }
   ],
   "source": [
    "n=int(input())\n",
    "val=n\n",
    "res=0\n",
    "sum=0\n",
    "prod=1\n",
    "while n!=0:\n",
    "    rem=n%10\n",
    "    sum+=rem\n",
    "    prod*=rem\n",
    "    n//=10\n",
    "res=prod+sum\n",
    "if res==val:\n",
    "    print(\"special number\")\n",
    "else:\n",
    "    print(\"not a special number\")"
   ]
  },
  {
   "cell_type": "markdown",
   "metadata": {},
   "source": [
    "**Perfect numbers**\n"
   ]
  },
  {
   "cell_type": "code",
   "execution_count": null,
   "metadata": {},
   "outputs": [
    {
     "name": "stdout",
     "output_type": "stream",
     "text": [
      "not a perfect number\n"
     ]
    }
   ],
   "source": [
    "n=int(input())\n",
    "sum=0\n",
    "for i in range(1,(n//2)+1):\n",
    "    if n%i==0:\n",
    "        sum+=i\n",
    "if sum==n:\n",
    "    print(\"perfect number\")\n",
    "else:\n",
    "    print(\"not a perfect number\")"
   ]
  },
  {
   "cell_type": "markdown",
   "metadata": {},
   "source": [
    "**disarium number**\n"
   ]
  },
  {
   "cell_type": "code",
   "execution_count": 3,
   "metadata": {},
   "outputs": [
    {
     "name": "stdout",
     "output_type": "stream",
     "text": [
      "not a disarium number\n",
      "not a disarium number\n"
     ]
    }
   ],
   "source": [
    "n=int(input())\n",
    "sum=0\n",
    "p=1\n",
    "for i in str(n):\n",
    "    sum+=int(i)**p\n",
    "    p+=1\n",
    "if sum==n:\n",
    "    print(\"disarium number\")\n",
    "else:\n",
    "    print(\"not a disarium number\")\n",
    "############################################\n",
    "n=int(input())\n",
    "sum=0\n",
    "p=len(str(n))\n",
    "while n!=0:\n",
    "    rem=n%10\n",
    "    sum+=rem**p\n",
    "    p-=1\n",
    "    n//=10\n",
    "if sum==n:\n",
    "    print(\"disarium\")\n",
    "else:\n",
    "    print(\"not a disarium number\")\n"
   ]
  },
  {
   "cell_type": "markdown",
   "metadata": {},
   "source": [
    "**superdigit number**"
   ]
  },
  {
   "cell_type": "code",
   "execution_count": 9,
   "metadata": {},
   "outputs": [
    {
     "name": "stdout",
     "output_type": "stream",
     "text": [
      "2\n"
     ]
    }
   ],
   "source": [
    "# n=int(input())\n",
    "# sum=0\n",
    "# val=0\n",
    "# l=len(str(n))\n",
    "# while l>1:\n",
    "#     for i in str(n):\n",
    "#         sum+=int(i)\n",
    "#         if len(sum)==1:\n",
    "#             print(sum)\n",
    "#         else:\n",
    "#             n=sum\n",
    "#########################\n",
    "n=int(input())\n",
    "sum=0\n",
    "val=0\n",
    "for i in str(n):\n",
    "    sum+=int(i)\n",
    "    val=sum\n",
    "    if sum>=10:\n",
    "        sum=0\n",
    "        for j in str(val):\n",
    "            sum+= int(j)\n",
    "print(sum)"
   ]
  },
  {
   "cell_type": "markdown",
   "metadata": {},
   "source": [
    "# prime number using list"
   ]
  },
  {
   "cell_type": "code",
   "execution_count": null,
   "metadata": {},
   "outputs": [
    {
     "ename": "TypeError",
     "evalue": "object of type 'int' has no len()",
     "output_type": "error",
     "traceback": [
      "\u001b[1;31m---------------------------------------------------------------------------\u001b[0m",
      "\u001b[1;31mTypeError\u001b[0m                                 Traceback (most recent call last)",
      "Cell \u001b[1;32mIn[5], line 6\u001b[0m\n\u001b[0;32m      4\u001b[0m     \u001b[38;5;28;01mif\u001b[39;00m n\u001b[38;5;241m%\u001b[39mi\u001b[38;5;241m==\u001b[39m\u001b[38;5;241m0\u001b[39m:\n\u001b[0;32m      5\u001b[0m         l1\u001b[38;5;241m+\u001b[39m\u001b[38;5;241m=\u001b[39m[i]\n\u001b[1;32m----> 6\u001b[0m \u001b[38;5;28;01mif\u001b[39;00m \u001b[38;5;28;43mlen\u001b[39;49m\u001b[43m(\u001b[49m\u001b[43ml\u001b[49m\u001b[43m)\u001b[49m\u001b[38;5;241m==\u001b[39m\u001b[38;5;241m2\u001b[39m:\n\u001b[0;32m      7\u001b[0m     \u001b[38;5;28mprint\u001b[39m(\u001b[38;5;124m\"\u001b[39m\u001b[38;5;124mprime\u001b[39m\u001b[38;5;124m\"\u001b[39m)\n\u001b[0;32m      8\u001b[0m \u001b[38;5;28;01melse\u001b[39;00m:\n",
      "\u001b[1;31mTypeError\u001b[0m: object of type 'int' has no len()"
     ]
    }
   ],
   "source": [
    "l1=[]\n",
    "n=int(input())\n",
    "for i in range(1,n+1):\n",
    "    if n%i==0:\n",
    "        l1+=[i]\n",
    "if len(l)==2:\n",
    "    print(\"prime\")\n",
    "else:\n",
    "    print(\"not a prime\")\n",
    "\n",
    "\n"
   ]
  },
  {
   "cell_type": "markdown",
   "metadata": {},
   "source": [
    "# SUPER DIGIT"
   ]
  },
  {
   "cell_type": "code",
   "execution_count": null,
   "metadata": {},
   "outputs": [],
   "source": [
    "n=int(input())\n",
    "sum=0\n",
    "l=len(str(n))\n",
    "while l>1:\n",
    "    for i in str(n):\n",
    "        sum+=int(i)"
   ]
  },
  {
   "cell_type": "markdown",
   "metadata": {},
   "source": [
    "factorial using recursion\n",
    "n=5\n",
    "output: fact=5*4*3*2*1"
   ]
  },
  {
   "cell_type": "code",
   "execution_count": 15,
   "metadata": {},
   "outputs": [
    {
     "name": "stdout",
     "output_type": "stream",
     "text": [
      "120\n"
     ]
    }
   ],
   "source": [
    "def fact(n):\n",
    "    if n==0:\n",
    "        return 1\n",
    "    else:\n",
    "        return n*fact(n-1)\n",
    "    \n",
    "n=int(input())\n",
    "print(fact(n))"
   ]
  },
  {
   "cell_type": "markdown",
   "metadata": {},
   "source": [
    "input:10\n",
    "output:sum=55=10+9+8+7+6+5+4+3+2+1"
   ]
  },
  {
   "cell_type": "code",
   "execution_count": 12,
   "metadata": {},
   "outputs": [
    {
     "name": "stdout",
     "output_type": "stream",
     "text": [
      "55\n"
     ]
    }
   ],
   "source": [
    "\n",
    "def add(n):\n",
    "    if n==0:\n",
    "        return 0\n",
    "    else:\n",
    "        return n+add(n-1)\n",
    "    \n",
    "n=int(input())\n",
    "print(add(n))\n",
    "\n",
    "\n"
   ]
  },
  {
   "cell_type": "markdown",
   "metadata": {},
   "source": [
    "unpacking of list\n",
    "input=[10,20,[20,50,[6,7]],100,[5,[6,7]]]\n",
    "output=[10,20,20,50,6,7,100,5,6,7]"
   ]
  },
  {
   "cell_type": "code",
   "execution_count": 8,
   "metadata": {},
   "outputs": [
    {
     "name": "stdout",
     "output_type": "stream",
     "text": [
      "[10, 20, 20, 50, 6, 7, 100, 5, 6, 7]\n"
     ]
    }
   ],
   "source": [
    "def nested_list(n):\n",
    "    l1=[]\n",
    "    for i in n:\n",
    "        if isinstance(i,list):\n",
    "            l1.extend(nested_list(i))\n",
    "        else:\n",
    "            l1.append(i)\n",
    "    return(l1)\n",
    "\n",
    "n=[10,20,[20,50,[6,7]],100,[5,[6,7]]]\n",
    "final_list=nested_list(n)\n",
    "print(final_list)"
   ]
  },
  {
   "cell_type": "markdown",
   "metadata": {},
   "source": [
    "find the missing elements\n",
    "input:[1,3,4,5,7,10]\n",
    "output:[1,2,3,4,5,6,7,8,9,10]"
   ]
  },
  {
   "cell_type": "code",
   "execution_count": 10,
   "metadata": {},
   "outputs": [
    {
     "name": "stdout",
     "output_type": "stream",
     "text": [
      "[1, 2, 3, 4, 5, 6, 7, 8, 9]\n"
     ]
    }
   ],
   "source": [
    "# l=[1,3,4,5,7,10]\n",
    "# l1=[i for i in range(min(l),max(l1))]\n",
    "# print(l1)\n",
    "##################################\n",
    "l=[1,3,4,5,7,10]\n",
    "l1=[]\n",
    "for i in range(min(l),max(l)):\n",
    "    l1.append(i)\n",
    "print(l1)\n"
   ]
  },
  {
   "cell_type": "markdown",
   "metadata": {},
   "source": [
    "append elements to matrix"
   ]
  },
  {
   "cell_type": "code",
   "execution_count": 7,
   "metadata": {},
   "outputs": [
    {
     "name": "stdout",
     "output_type": "stream",
     "text": [
      "[[1, 2, 3], [4, 5, 6]]\n",
      "[[1, 2, 3], [4, 5, 6]]\n"
     ]
    }
   ],
   "source": [
    "row=int(input())\n",
    "col=int(input())\n",
    "output=[[int(input(f\"{i}{j} values\")) for j in range(col)]for i in range(row)]\n",
    "print(output)\n",
    "#################################\n",
    "row=int(input())\n",
    "col=int(input())\n",
    "m=[]\n",
    "values=1\n",
    "for i in range(row):\n",
    "    cr=[]\n",
    "    for j in range(col):\n",
    "        cr.append(values)\n",
    "        values+=1\n",
    "    m.append(cr)\n",
    "print(m)  \n"
   ]
  },
  {
   "cell_type": "markdown",
   "metadata": {},
   "source": [
    "matrix addition and substraction"
   ]
  },
  {
   "cell_type": "code",
   "execution_count": 5,
   "metadata": {},
   "outputs": [
    {
     "name": "stdout",
     "output_type": "stream",
     "text": [
      "[[6, 12, 23], [34, 45, 56]]\n",
      "[[-4, -8, -17], [-26, -35, -44]]\n"
     ]
    }
   ],
   "source": [
    "row=int(input())\n",
    "col=int(input())\n",
    "m1=[[int(input(f\"value {i} {j}:\"))for j in range(col)]for i in range(row)]\n",
    "m2=[[int(input(f\"value {i} {j}:\"))for j in range(col)]for i in range(row)]\n",
    "res=[[0 for j in range(col)]for i in range(row)]\n",
    "for i in range(row):\n",
    "    for j in range(col):\n",
    "        res[i][j]=m1[i][j]+m2[i][j]\n",
    "print(res)\n",
    "res1=[[0 for j in range(col)]for i in range(row)]\n",
    "for i in range(row):\n",
    "    for j in range(col):\n",
    "        res1[i][j]=m1[i][j]-m2[i][j]\n",
    "print(res1)\n"
   ]
  },
  {
   "cell_type": "markdown",
   "metadata": {},
   "source": [
    "matrix multiplication\n"
   ]
  },
  {
   "cell_type": "code",
   "execution_count": 1,
   "metadata": {},
   "outputs": [
    {
     "name": "stdout",
     "output_type": "stream",
     "text": [
      "[[14, 14, 14], [32, 32, 32]]\n"
     ]
    }
   ],
   "source": [
    "row1=int(input())\n",
    "col1=int(input())\n",
    "m1=[[int(input(f\"value {i} {j}:\"))for j in range(col1)]for i in range(row1)]\n",
    "row2=int(input())\n",
    "col2=int(input())\n",
    "m2=[[int(input(f\"value {i} {j}:\"))for j in range(col2)]for i in range(row2)]\n",
    "if col1!=row2:\n",
    "    print(\"matrix multiplication is not possible\")\n",
    "else:\n",
    "    res=[[0 for j in range(col2)]for i in range(row1)]\n",
    "    for i in range(row1):\n",
    "        for j in range(col2):\n",
    "            for k in range(col1):\n",
    "                res[i][j]+=m1[i][k]*m2[k][j]\n",
    "    print(res)"
   ]
  },
  {
   "cell_type": "markdown",
   "metadata": {},
   "source": [
    "NTH MAXIMUM number in list"
   ]
  },
  {
   "cell_type": "code",
   "execution_count": 2,
   "metadata": {},
   "outputs": [
    {
     "name": "stdout",
     "output_type": "stream",
     "text": [
      "[1, 2, 4, 5, 6, 8, 54]\n",
      "4\n",
      "[1, 2, 4, 5, 6, 8, 54]\n",
      "5\n"
     ]
    }
   ],
   "source": [
    "l1=[1,2,4,5,1,2,5,8,6,54,2,2]\n",
    "l1.sort()\n",
    "s1=set(l1)\n",
    "l2=list(s1)\n",
    "print(l2)\n",
    "n=int(input())\n",
    "print(l2[-n])\n",
    "#########################################\n",
    "l1=[1,2,4,5,1,2,5,8,6,54,2,2]\n",
    "l2=[]\n",
    "for i in l1:\n",
    "    if i not in l2:\n",
    "        l2.append(i)\n",
    "l2.sort()\n",
    "print(l2)\n",
    "n=int(input())\n",
    "print(l2[-n])"
   ]
  },
  {
   "cell_type": "markdown",
   "metadata": {},
   "source": [
    "SEARCHING TECHNIQUES"
   ]
  },
  {
   "cell_type": "markdown",
   "metadata": {},
   "source": [
    "## LINEAR SEARCH\n",
    "NO SORTING REQUIRED"
   ]
  },
  {
   "cell_type": "code",
   "execution_count": 15,
   "metadata": {},
   "outputs": [
    {
     "name": "stdout",
     "output_type": "stream",
     "text": [
      "24 is found at index 7\n",
      "24 is found at index 7\n"
     ]
    }
   ],
   "source": [
    "l1=[1,8,4,5,9,6,8,24]\n",
    "key=int(input())\n",
    "found = False\n",
    "for i in range(len(l1)):\n",
    "    if key == l1[i]:\n",
    "        print(f\"{key} is found at index {i}\")\n",
    "        found = True\n",
    "        break\n",
    "if found == False: # if not found:\n",
    "    print(f\"{key} is not found\")\n",
    "###############################################\n",
    "l1=[1,8,4,5,9,6,8,24]\n",
    "key=int(input())\n",
    "for i in range(len(l1)):\n",
    "    if key == l1[i]:\n",
    "        print(f\"{key} is found at index {i}\")\n",
    "        break\n",
    "else: \n",
    "    print(f\"{key} is not found\")"
   ]
  },
  {
   "cell_type": "code",
   "execution_count": 18,
   "metadata": {},
   "outputs": [
    {
     "name": "stdout",
     "output_type": "stream",
     "text": [
      "8 is found 2st/rd/nd/th time at index 6\n"
     ]
    }
   ],
   "source": [
    "#Nth occurence\n",
    "l1=[1,8,4,5,9,6,8,24]\n",
    "key=int(input())\n",
    "n=int(input())\n",
    "found = False\n",
    "c=0\n",
    "for i in range(len(l1)):\n",
    "    if key == l1[i]:\n",
    "        c+=1\n",
    "        if c==n:\n",
    "            print(f\"{key} is found {n}st/rd/nd/th time at index {i}\")\n",
    "            found = True\n",
    "            break\n",
    "if found == False: # if not found:\n",
    "    print(f\"{key} is not found {n}st/rd/nd/th time\")"
   ]
  },
  {
   "cell_type": "markdown",
   "metadata": {},
   "source": [
    "#BINARY SEARCH\n",
    "sorting required.\n",
    "mid=(low+high)/2"
   ]
  },
  {
   "cell_type": "code",
   "execution_count": 1,
   "metadata": {},
   "outputs": [
    {
     "name": "stdout",
     "output_type": "stream",
     "text": [
      "60 is found in index 5\n"
     ]
    }
   ],
   "source": [
    "l1=[10,20,30,40,50,60,70,80]\n",
    "key=int(input())\n",
    "l=0\n",
    "h=len(l1)-1\n",
    "found=False\n",
    "while h>=l:\n",
    "    mid=(l+h)//2\n",
    "    if key<l1[mid]:\n",
    "        h=mid-1\n",
    "    elif key>l1[mid]:\n",
    "        l=mid+1\n",
    "    else:\n",
    "        print(f\"{key} is found in index {mid}\")\n",
    "        found=True\n",
    "        break\n",
    "if not found:\n",
    "    print(f\"{key} is not found\")\n"
   ]
  },
  {
   "cell_type": "markdown",
   "metadata": {},
   "source": [
    "for_else"
   ]
  },
  {
   "cell_type": "code",
   "execution_count": null,
   "metadata": {},
   "outputs": [
    {
     "name": "stdout",
     "output_type": "stream",
     "text": [
      "1 2 3 4 5 6 7 8 9 10 \n",
      " loop executed completely\n"
     ]
    }
   ],
   "source": [
    "n=int(input())\n",
    "for i in range(1,11):\n",
    "    if i==n:\n",
    "        break\n",
    "    print(i,end=\" \")\n",
    "else:\n",
    "    print(\"\\n loop executed completely\")\n",
    "######################################\n",
    "n=int(input())\n",
    "while n>0:\n",
    "    if i==n:\n",
    "        break\n",
    "    print(i,end=\" \")\n",
    "else:\n",
    "    print(\"\\n loop executed completely\")\n"
   ]
  },
  {
   "cell_type": "markdown",
   "metadata": {},
   "source": [
    "reverse of string"
   ]
  },
  {
   "cell_type": "code",
   "execution_count": 9,
   "metadata": {},
   "outputs": [
    {
     "name": "stdout",
     "output_type": "stream",
     "text": [
      "speed\n",
      "speed\n",
      "not a palindrome\n",
      "speed\n"
     ]
    }
   ],
   "source": [
    "d='deeps'\n",
    "print(d[::-1])\n",
    "##################################\n",
    "s=input()\n",
    "r=''\n",
    "for i in s[::-1]:\n",
    "    r+=i\n",
    "print(r)\n",
    "if r==s:\n",
    "    print('palindrome')\n",
    "else:\n",
    "    print(\"not a palindrome\")\n",
    "##################################\n",
    "s=input()\n",
    "d=list(s)\n",
    "d.reverse()\n",
    "g=\"\"\n",
    "r=g.join(d)\n",
    "print(r)\n"
   ]
  },
  {
   "cell_type": "markdown",
   "metadata": {},
   "source": [
    "separation of vowels and consonents in the given string."
   ]
  },
  {
   "cell_type": "code",
   "execution_count": 19,
   "metadata": {},
   "outputs": [
    {
     "name": "stdout",
     "output_type": "stream",
     "text": [
      "2\n",
      "3\n",
      "vowels= 3\n",
      "consonents= 5\n",
      "vowels count: 2,consonent count:3\n"
     ]
    }
   ],
   "source": [
    "s=input()\n",
    "vow=['a','e','i','o','u']\n",
    "v=[]\n",
    "c=[]\n",
    "for i in s:\n",
    "    if i in vow:\n",
    "        v.append(i)\n",
    "    else:\n",
    "        c.append(i)\n",
    "print(len(v))\n",
    "print(len(c))\n",
    "##########################################\n",
    "s='anydoubt'\n",
    "v1=['a','e','i','o','u']\n",
    "v=0\n",
    "c=0\n",
    "for i in s:\n",
    "    if i in v1:\n",
    "        v+=1\n",
    "    else:\n",
    "        c+=1\n",
    "print('vowels=',v)\n",
    "print('consonents=',c)\n",
    "######################################\n",
    "s=input()\n",
    "V=[0,0]\n",
    "for i in s:\n",
    "    if 'A'<=i<='Z' or 'a'<=i<='z':\n",
    "        if i in 'aeiouAEIOU':\n",
    "            V[0]+=1\n",
    "        else:\n",
    "            V[1]+=1\n",
    "print(f\"vowels count: {V[0]},consonent count:{V[1]}\")\n",
    "    "
   ]
  },
  {
   "cell_type": "markdown",
   "metadata": {},
   "source": [
    "# remove of duplicate elements in string."
   ]
  },
  {
   "cell_type": "code",
   "execution_count": 23,
   "metadata": {},
   "outputs": [
    {
     "name": "stdout",
     "output_type": "stream",
     "text": [
      "rgm\n"
     ]
    }
   ],
   "source": [
    "s=input()\n",
    "r=''\n",
    "for i in s:\n",
    "    if s.count(i)>1:\n",
    "        if i not in r:\n",
    "            r+=i\n",
    "print(r)"
   ]
  },
  {
   "cell_type": "markdown",
   "metadata": {},
   "source": [
    "# input: \"CSK MI RCB\"\n",
    "  output: \"CSKMIRCB\"\n",
    "# input: \"CSK MI RCB\"\n",
    "  output: r=['CSK','MI','RCB']"
   ]
  },
  {
   "cell_type": "code",
   "execution_count": null,
   "metadata": {},
   "outputs": [
    {
     "name": "stdout",
     "output_type": "stream",
     "text": [
      "['CSK', 'MI', 'RCB']\n",
      "['CSK', 'MI', 'RCB']\n"
     ]
    }
   ],
   "source": [
    "d=\"CSK MI RCB\"\n",
    "r=\" \"\n",
    "for i in d:\n",
    "    if i!=\" \":\n",
    "        r+=i\n",
    "print(r)\n",
    "########################################\n",
    "d=\"CSK MI RCB\"\n",
    "i=d.split()\n",
    "print(i)\n",
    "#3333333333333333333333333333\n",
    "d=input()\n",
    "v=[]\n",
    "temp=\"\"\n",
    "for i in d:\n",
    "    if i!=' ':\n",
    "        temp+=i\n",
    "    if i==\" \":\n",
    "        v.append(temp)\n",
    "        temp=\"\"\n",
    "print(v)  \n",
    "#33333333333333333333333333333\n",
    "# d=input()\n",
    "# l1=list(d)\n",
    "# l2=[]\n",
    "# v=''\n",
    "# for i in range(len(l1)):\n",
    "#     if l1[i]!=\" \":\n",
    "#         v.append(i)  \n",
    "#     elif i=       "
   ]
  },
  {
   "cell_type": "markdown",
   "metadata": {},
   "source": [
    "# anagram\n",
    "s1='silent'\n",
    "s2='listen'\n",
    "if all the letters of s1 present in s2 then its an anagram"
   ]
  },
  {
   "cell_type": "code",
   "execution_count": null,
   "metadata": {},
   "outputs": [
    {
     "name": "stdout",
     "output_type": "stream",
     "text": [
      "no\n"
     ]
    }
   ],
   "source": [
    "s1=input()\n",
    "s2=input()\n",
    "l1=list(s1)\n",
    "count=0\n",
    "for i in s2:\n",
    "    if i in l1:\n",
    "        count+=1\n",
    "if count==len(s1):\n",
    "    print('yes')\n",
    "else:\n",
    "    print('no') # not work for s1=tea and s2=tee\n",
    "#################################\n",
    "s1=input()\n",
    "s2=input()\n",
    "count=0\n",
    "for i in s2:\n",
    "    if s1.count(i)==s2.count(i):\n",
    "        count+=1\n",
    "if count==len(s1):\n",
    "    print('yes')\n",
    "else:\n",
    "    print('no')\n",
    "#33333333333333333333333333333333333\n",
    "s1=input()\n",
    "s2=input()\n",
    "l1=list(s1)\n",
    "l2=list(s2)\n",
    "l1.sort()\n",
    "l2.sort()\n",
    "if l1==l2:\n",
    "    print('yes')\n",
    "else:\n",
    "    print('no')\n"
   ]
  },
  {
   "cell_type": "markdown",
   "metadata": {},
   "source": [
    "input: CSK VS MI\n",
    "output: IMS VK SC\n",
    "INPUT: TODAY IS GOOD DAY\n",
    "OUTPUT: YADDO OG SIYA DOT"
   ]
  },
  {
   "cell_type": "code",
   "execution_count": 8,
   "metadata": {},
   "outputs": [
    {
     "name": "stdout",
     "output_type": "stream",
     "text": [
      "today is a good day\n",
      "....._.._._...._...\n",
      "yaddoogasiyadot\n",
      "yaddo og a siya dot\n"
     ]
    }
   ],
   "source": [
    "a=input().lower()\n",
    "print(a)\n",
    "c=\"\"\n",
    "for i in a:\n",
    "    if ord(i)>=ord('a') and ord(i)<=ord('z'):\n",
    "        c+='.'\n",
    "    else:\n",
    "        c+=\"_\"\n",
    "print(c)\n",
    "s=a[::-1]\n",
    "s1=\"\"\n",
    "for i in s:\n",
    "    if i !=\" \":\n",
    "        s1+=i\n",
    "print(s1)\n",
    "l1=list(s1)\n",
    "s2=\"\"\n",
    "count=0\n",
    "for i in c:\n",
    "    if i==\".\":\n",
    "        s2+=l1[count]\n",
    "        count+=1\n",
    "    else:\n",
    "        s2+=\" \"\n",
    "print(s2)"
   ]
  },
  {
   "cell_type": "code",
   "execution_count": 6,
   "metadata": {},
   "outputs": [
    {
     "name": "stdout",
     "output_type": "stream",
     "text": [
      "YAD DOOG SI YADOT.\n"
     ]
    }
   ],
   "source": [
    "a=\"TODAY IS GOOD DAY\"\n",
    "b= a.split()\n",
    "rev_b = b[::-1]\n",
    "rev_b = [i[::-1] for i in rev_b]\n",
    "d=\" \".join(rev_b)\n",
    "d += \".\"\n",
    "print(d)\n",
    "\n"
   ]
  },
  {
   "cell_type": "markdown",
   "metadata": {},
   "source": [
    "if input=\"abcd\"\n",
    "output a1=\"ab\"  true\n",
    "       a2=\"ad\"  false"
   ]
  },
  {
   "cell_type": "code",
   "execution_count": 2,
   "metadata": {},
   "outputs": [
    {
     "name": "stdout",
     "output_type": "stream",
     "text": [
      "yes\n"
     ]
    }
   ],
   "source": [
    "s1=input()\n",
    "s2=input()\n",
    "res=False\n",
    "for i in range(len(s1)-len(s2)+1):\n",
    "    if s1[i:i+len(s2)]==s2:\n",
    "        res=True\n",
    "if res:\n",
    "    print(\"yes\")\n",
    "else:\n",
    "    print(\"no\")"
   ]
  },
  {
   "cell_type": "markdown",
   "metadata": {},
   "source": [
    "## BINARY SEARCH\n",
    "SORTING REQUIRED"
   ]
  },
  {
   "cell_type": "code",
   "execution_count": null,
   "metadata": {},
   "outputs": [],
   "source": []
  }
 ],
 "metadata": {
  "kernelspec": {
   "display_name": "Python 3",
   "language": "python",
   "name": "python3"
  },
  "language_info": {
   "codemirror_mode": {
    "name": "ipython",
    "version": 3
   },
   "file_extension": ".py",
   "mimetype": "text/x-python",
   "name": "python",
   "nbconvert_exporter": "python",
   "pygments_lexer": "ipython3",
   "version": "3.12.4"
  }
 },
 "nbformat": 4,
 "nbformat_minor": 2
}
