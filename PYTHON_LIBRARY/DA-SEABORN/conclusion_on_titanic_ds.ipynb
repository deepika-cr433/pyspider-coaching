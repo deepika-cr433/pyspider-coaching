{
 "cells": [
  {
   "cell_type": "code",
   "execution_count": 2,
   "metadata": {},
   "outputs": [],
   "source": [
    "import numpy as np\n",
    "import pandas as pd\n",
    "import matplotlib.pyplot as plt\n",
    "import  seaborn as sns"
   ]
  },
  {
   "cell_type": "code",
   "execution_count": 3,
   "metadata": {},
   "outputs": [],
   "source": [
    "df=pd.read_csv('titanic.csv')\n",
    "df['age_groups']=pd.cut(df['age'],bins=[0,15,30,59,100],labels=['childrens','teenager','adult','senior'])\n",
    "df['age_groups']=df['age_groups'].map({'adult':0,'childrens':1,'senior':2,'teenager':3})\n"
   ]
  },
  {
   "cell_type": "code",
   "execution_count": 4,
   "metadata": {},
   "outputs": [
    {
     "data": {
      "text/html": [
       "<div>\n",
       "<style scoped>\n",
       "    .dataframe tbody tr th:only-of-type {\n",
       "        vertical-align: middle;\n",
       "    }\n",
       "\n",
       "    .dataframe tbody tr th {\n",
       "        vertical-align: top;\n",
       "    }\n",
       "\n",
       "    .dataframe thead th {\n",
       "        text-align: right;\n",
       "    }\n",
       "</style>\n",
       "<table border=\"1\" class=\"dataframe\">\n",
       "  <thead>\n",
       "    <tr style=\"text-align: right;\">\n",
       "      <th></th>\n",
       "      <th>Unnamed: 0</th>\n",
       "      <th>title</th>\n",
       "      <th>first_name</th>\n",
       "      <th>last_name</th>\n",
       "      <th>sex</th>\n",
       "      <th>age</th>\n",
       "      <th>family_count</th>\n",
       "      <th>ticket</th>\n",
       "      <th>pclass</th>\n",
       "      <th>fare</th>\n",
       "      <th>embarked</th>\n",
       "      <th>survived</th>\n",
       "      <th>age_groups</th>\n",
       "    </tr>\n",
       "  </thead>\n",
       "  <tbody>\n",
       "    <tr>\n",
       "      <th>0</th>\n",
       "      <td>0</td>\n",
       "      <td>Miss</td>\n",
       "      <td>Elisabeth Walton</td>\n",
       "      <td>Allen</td>\n",
       "      <td>female</td>\n",
       "      <td>29.000000</td>\n",
       "      <td>0</td>\n",
       "      <td>24160</td>\n",
       "      <td>1</td>\n",
       "      <td>211.3375</td>\n",
       "      <td>Southampton</td>\n",
       "      <td>1.0</td>\n",
       "      <td>3</td>\n",
       "    </tr>\n",
       "    <tr>\n",
       "      <th>1</th>\n",
       "      <td>1</td>\n",
       "      <td>Master</td>\n",
       "      <td>Hudson Trevor</td>\n",
       "      <td>Allison</td>\n",
       "      <td>male</td>\n",
       "      <td>0.916700</td>\n",
       "      <td>3</td>\n",
       "      <td>113781</td>\n",
       "      <td>1</td>\n",
       "      <td>151.5500</td>\n",
       "      <td>Southampton</td>\n",
       "      <td>1.0</td>\n",
       "      <td>1</td>\n",
       "    </tr>\n",
       "    <tr>\n",
       "      <th>2</th>\n",
       "      <td>2</td>\n",
       "      <td>Miss</td>\n",
       "      <td>Helen Loraine</td>\n",
       "      <td>Allison</td>\n",
       "      <td>female</td>\n",
       "      <td>2.000000</td>\n",
       "      <td>3</td>\n",
       "      <td>113781</td>\n",
       "      <td>1</td>\n",
       "      <td>151.5500</td>\n",
       "      <td>Southampton</td>\n",
       "      <td>0.0</td>\n",
       "      <td>1</td>\n",
       "    </tr>\n",
       "    <tr>\n",
       "      <th>3</th>\n",
       "      <td>3</td>\n",
       "      <td>Mr</td>\n",
       "      <td>Hudson Joshua Creighton</td>\n",
       "      <td>Allison</td>\n",
       "      <td>male</td>\n",
       "      <td>30.000000</td>\n",
       "      <td>3</td>\n",
       "      <td>113781</td>\n",
       "      <td>1</td>\n",
       "      <td>151.5500</td>\n",
       "      <td>Southampton</td>\n",
       "      <td>0.0</td>\n",
       "      <td>3</td>\n",
       "    </tr>\n",
       "    <tr>\n",
       "      <th>4</th>\n",
       "      <td>4</td>\n",
       "      <td>Mrs</td>\n",
       "      <td>Hudson J C (Bessie Waldo Daniels)</td>\n",
       "      <td>Allison</td>\n",
       "      <td>female</td>\n",
       "      <td>25.000000</td>\n",
       "      <td>3</td>\n",
       "      <td>113781</td>\n",
       "      <td>1</td>\n",
       "      <td>151.5500</td>\n",
       "      <td>Southampton</td>\n",
       "      <td>0.0</td>\n",
       "      <td>3</td>\n",
       "    </tr>\n",
       "    <tr>\n",
       "      <th>...</th>\n",
       "      <td>...</td>\n",
       "      <td>...</td>\n",
       "      <td>...</td>\n",
       "      <td>...</td>\n",
       "      <td>...</td>\n",
       "      <td>...</td>\n",
       "      <td>...</td>\n",
       "      <td>...</td>\n",
       "      <td>...</td>\n",
       "      <td>...</td>\n",
       "      <td>...</td>\n",
       "      <td>...</td>\n",
       "      <td>...</td>\n",
       "    </tr>\n",
       "    <tr>\n",
       "      <th>1304</th>\n",
       "      <td>1304</td>\n",
       "      <td>Miss</td>\n",
       "      <td>Hileni</td>\n",
       "      <td>Zabour</td>\n",
       "      <td>female</td>\n",
       "      <td>14.500000</td>\n",
       "      <td>1</td>\n",
       "      <td>2665</td>\n",
       "      <td>3</td>\n",
       "      <td>14.4542</td>\n",
       "      <td>Cherbourg</td>\n",
       "      <td>0.0</td>\n",
       "      <td>1</td>\n",
       "    </tr>\n",
       "    <tr>\n",
       "      <th>1305</th>\n",
       "      <td>1305</td>\n",
       "      <td>Miss</td>\n",
       "      <td>Thamine</td>\n",
       "      <td>Zabour</td>\n",
       "      <td>female</td>\n",
       "      <td>29.881135</td>\n",
       "      <td>1</td>\n",
       "      <td>2665</td>\n",
       "      <td>3</td>\n",
       "      <td>14.4542</td>\n",
       "      <td>Cherbourg</td>\n",
       "      <td>0.0</td>\n",
       "      <td>3</td>\n",
       "    </tr>\n",
       "    <tr>\n",
       "      <th>1306</th>\n",
       "      <td>1306</td>\n",
       "      <td>Mr</td>\n",
       "      <td>Mapriededer</td>\n",
       "      <td>Zakarian</td>\n",
       "      <td>male</td>\n",
       "      <td>26.500000</td>\n",
       "      <td>0</td>\n",
       "      <td>2656</td>\n",
       "      <td>3</td>\n",
       "      <td>7.2250</td>\n",
       "      <td>Cherbourg</td>\n",
       "      <td>0.0</td>\n",
       "      <td>3</td>\n",
       "    </tr>\n",
       "    <tr>\n",
       "      <th>1307</th>\n",
       "      <td>1307</td>\n",
       "      <td>Mr</td>\n",
       "      <td>Ortin</td>\n",
       "      <td>Zakarian</td>\n",
       "      <td>male</td>\n",
       "      <td>27.000000</td>\n",
       "      <td>0</td>\n",
       "      <td>2670</td>\n",
       "      <td>3</td>\n",
       "      <td>7.2250</td>\n",
       "      <td>Cherbourg</td>\n",
       "      <td>0.0</td>\n",
       "      <td>3</td>\n",
       "    </tr>\n",
       "    <tr>\n",
       "      <th>1308</th>\n",
       "      <td>1308</td>\n",
       "      <td>Mr</td>\n",
       "      <td>Leo</td>\n",
       "      <td>Zimmerman</td>\n",
       "      <td>male</td>\n",
       "      <td>29.000000</td>\n",
       "      <td>0</td>\n",
       "      <td>315082</td>\n",
       "      <td>3</td>\n",
       "      <td>7.8750</td>\n",
       "      <td>Southampton</td>\n",
       "      <td>0.0</td>\n",
       "      <td>3</td>\n",
       "    </tr>\n",
       "  </tbody>\n",
       "</table>\n",
       "<p>1309 rows × 13 columns</p>\n",
       "</div>"
      ],
      "text/plain": [
       "      Unnamed: 0    title                          first_name  last_name  \\\n",
       "0              0     Miss                    Elisabeth Walton      Allen   \n",
       "1              1   Master                       Hudson Trevor    Allison   \n",
       "2              2     Miss                       Helen Loraine    Allison   \n",
       "3              3       Mr             Hudson Joshua Creighton    Allison   \n",
       "4              4      Mrs   Hudson J C (Bessie Waldo Daniels)    Allison   \n",
       "...          ...      ...                                 ...        ...   \n",
       "1304        1304     Miss                              Hileni     Zabour   \n",
       "1305        1305     Miss                             Thamine     Zabour   \n",
       "1306        1306       Mr                         Mapriededer   Zakarian   \n",
       "1307        1307       Mr                               Ortin   Zakarian   \n",
       "1308        1308       Mr                                 Leo  Zimmerman   \n",
       "\n",
       "         sex        age  family_count  ticket  pclass      fare     embarked  \\\n",
       "0     female  29.000000             0   24160       1  211.3375  Southampton   \n",
       "1       male   0.916700             3  113781       1  151.5500  Southampton   \n",
       "2     female   2.000000             3  113781       1  151.5500  Southampton   \n",
       "3       male  30.000000             3  113781       1  151.5500  Southampton   \n",
       "4     female  25.000000             3  113781       1  151.5500  Southampton   \n",
       "...      ...        ...           ...     ...     ...       ...          ...   \n",
       "1304  female  14.500000             1    2665       3   14.4542    Cherbourg   \n",
       "1305  female  29.881135             1    2665       3   14.4542    Cherbourg   \n",
       "1306    male  26.500000             0    2656       3    7.2250    Cherbourg   \n",
       "1307    male  27.000000             0    2670       3    7.2250    Cherbourg   \n",
       "1308    male  29.000000             0  315082       3    7.8750  Southampton   \n",
       "\n",
       "      survived age_groups  \n",
       "0          1.0          3  \n",
       "1          1.0          1  \n",
       "2          0.0          1  \n",
       "3          0.0          3  \n",
       "4          0.0          3  \n",
       "...        ...        ...  \n",
       "1304       0.0          1  \n",
       "1305       0.0          3  \n",
       "1306       0.0          3  \n",
       "1307       0.0          3  \n",
       "1308       0.0          3  \n",
       "\n",
       "[1309 rows x 13 columns]"
      ]
     },
     "execution_count": 4,
     "metadata": {},
     "output_type": "execute_result"
    }
   ],
   "source": [
    "df"
   ]
  },
  {
   "cell_type": "markdown",
   "metadata": {},
   "source": [
    "why female has higher chance of survival?\n",
    "what is the survival rate of passengers if there embarked in cherbourg location\n",
    "which gender is having highest solo travellers\n",
    "why teenagers are having high survival rate which factor is playing vital role(fare,gender,family\n",
    "find the which are ages are considered as outliers\n",
    "which passenger class has highest female count\n",
    "who paid more female or male.\n",
    "teenagers are more in male or female gender\n",
    "how many seniors are there in each pclass\n",
    "find what are the different titles present\n",
    "show the no of families in each pclass\n",
    "find which pclass the highest family members\n",
    "find age groups, if least no of passengers were embarked from Cherbourg\n",
    "find the female and male count in each pclass\n",
    "find the survival rate of male and female in each pclass\n",
    "find the female and male count in each age group\n",
    "find the survival rate of male and female in each pclass\n",
    "find the male and female count in each age group\n",
    "find the survival rate of male and female in each age group\n",
    "find the female and male count in each embarked\n",
    "find the survival rate of male and female in each embarked\n",
    "find the count and survival rate of male and female in teenagers\n",
    "find the teenagers count and survival rate in each pclass"
   ]
  },
  {
   "cell_type": "markdown",
   "metadata": {},
   "source": [
    "why female has higher chance of survival?\n",
    "what is the survival rate of passengers if there embarked in cherbourg location\n",
    "which gender is having highest solo travellers\n",
    "why teenagers are having high survival rate which factor is playing vital role(fare,gender,family\n",
    "find the which are ages are considered as outliers"
   ]
  },
  {
   "cell_type": "markdown",
   "metadata": {},
   "source": [
    "1. why female has higher chance of survival?\n",
    "it becauese most of the female pasengers are"
   ]
  },
  {
   "cell_type": "code",
   "execution_count": 5,
   "metadata": {},
   "outputs": [
    {
     "data": {
      "text/plain": [
       "[]"
      ]
     },
     "execution_count": 5,
     "metadata": {},
     "output_type": "execute_result"
    },
    {
     "data": {
      "image/png": "[encoded data removed]",
      "text/plain": [
       "<Figure size 640x480 with 1 Axes>"
      ]
     },
     "metadata": {},
     "output_type": "display_data"
    }
   ],
   "source": [
    "sns.countplot(x='sex',data=df,hue='age_groups')\n",
    "plt.plot(label={0:'adult',1:'childern',2:'senior',3:'teen'})"
   ]
  },
  {
   "cell_type": "markdown",
   "metadata": {},
   "source": [
    "2. what is the survival rate of passengers if there embarked in cherbourg location\n",
    "not more the southampton location."
   ]
  },
  {
   "cell_type": "code",
   "execution_count": 6,
   "metadata": {},
   "outputs": [
    {
     "name": "stderr",
     "output_type": "stream",
     "text": [
      "C:\\Users\\Deepika C R\\AppData\\Local\\Temp\\ipykernel_2536\\2830081790.py:1: FutureWarning: Downcasting behavior in `replace` is deprecated and will be removed in a future version. To retain the old behavior, explicitly call `result.infer_objects(copy=False)`. To opt-in to the future behavior, set `pd.set_option('future.no_silent_downcasting', True)`\n",
      "  df[\"embarked\"]=df[\"embarked\"].replace({\"Southampton\":3,\"Cherbourg\":1,\"Queenstown\":2})\n"
     ]
    }
   ],
   "source": [
    "df[\"embarked\"]=df[\"embarked\"].replace({\"Southampton\":3,\"Cherbourg\":1,\"Queenstown\":2})\n"
   ]
  },
  {
   "cell_type": "code",
   "execution_count": 7,
   "metadata": {},
   "outputs": [
    {
     "data": {
      "text/plain": [
       "<Axes: xlabel='survived', ylabel='count'>"
      ]
     },
     "execution_count": 7,
     "metadata": {},
     "output_type": "execute_result"
    },
    {
     "data": {
      "image/png": "[encoded data removed]",
      "text/plain": [
       "<Figure size 640x480 with 1 Axes>"
      ]
     },
     "metadata": {},
     "output_type": "display_data"
    }
   ],
   "source": [
    "sns.countplot(x='survived',data=df,hue='embarked')\n"
   ]
  },
  {
   "cell_type": "markdown",
   "metadata": {},
   "source": [
    "3.which gender is having highest solo travellers.\n",
    "male passangers are more solo travellers."
   ]
  },
  {
   "cell_type": "code",
   "execution_count": 11,
   "metadata": {},
   "outputs": [
    {
     "name": "stdout",
     "output_type": "stream",
     "text": [
      "sex\n",
      "male      596\n",
      "female    194\n",
      "Name: count, dtype: int64\n"
     ]
    }
   ],
   "source": [
    "solo_travelers = df[df['family_count'] == 0]\n",
    "gender_counts = solo_travelers['sex'].value_counts()\n",
    "print(gender_counts)"
   ]
  },
  {
   "cell_type": "markdown",
   "metadata": {},
   "source": [
    "4.why teenagers are having high survival rate which factor is playing vital role(fare,gender,family"
   ]
  },
  {
   "cell_type": "code",
   "execution_count": 15,
   "metadata": {},
   "outputs": [
    {
     "data": {
      "text/plain": [
       "<Axes: xlabel='age_groups', ylabel='survived'>"
      ]
     },
     "execution_count": 15,
     "metadata": {},
     "output_type": "execute_result"
    },
    {
     "data": {
      "image/png": "[encoded data removed]",
      "text/plain": [
       "<Figure size 640x480 with 1 Axes>"
      ]
     },
     "metadata": {},
     "output_type": "display_data"
    }
   ],
   "source": [
    "sns.barplot(x='age_groups', y='survived',data=df)"
   ]
  },
  {
   "cell_type": "markdown",
   "metadata": {},
   "source": [
    "5.find the which are ages are considered as outliers\n",
    "adults"
   ]
  },
  {
   "cell_type": "code",
   "execution_count": 22,
   "metadata": {},
   "outputs": [
    {
     "data": {
      "text/plain": [
       "<Axes: xlabel='pclass', ylabel='fare'>"
      ]
     },
     "execution_count": 22,
     "metadata": {},
     "output_type": "execute_result"
    },
    {
     "data": {
      "image/png": "[encoded data removed]",
      "text/plain": [
       "<Figure size 640x480 with 1 Axes>"
      ]
     },
     "metadata": {},
     "output_type": "display_data"
    }
   ],
   "source": [
    "sns.scatterplot(x='pclass',y='fare',data=df,hue='age_groups')\n",
    "\n"
   ]
  },
  {
   "cell_type": "markdown",
   "metadata": {},
   "source": [
    "6.which passenger class has highest female count\n",
    "pclass 3"
   ]
  },
  {
   "cell_type": "code",
   "execution_count": 23,
   "metadata": {},
   "outputs": [
    {
     "data": {
      "text/plain": [
       "<Axes: xlabel='sex', ylabel='count'>"
      ]
     },
     "execution_count": 23,
     "metadata": {},
     "output_type": "execute_result"
    },
    {
     "data": {
      "image/png": "[encoded data removed]",
      "text/plain": [
       "<Figure size 640x480 with 1 Axes>"
      ]
     },
     "metadata": {},
     "output_type": "display_data"
    }
   ],
   "source": [
    "sns.countplot(x='sex',data=df,hue='pclass')\n"
   ]
  },
  {
   "cell_type": "markdown",
   "metadata": {},
   "source": [
    "7.who paid more female or male.\n",
    "male"
   ]
  },
  {
   "cell_type": "code",
   "execution_count": 25,
   "metadata": {},
   "outputs": [
    {
     "data": {
      "text/plain": [
       "<Axes: xlabel='sex', ylabel='count'>"
      ]
     },
     "execution_count": 25,
     "metadata": {},
     "output_type": "execute_result"
    },
    {
     "data": {
      "image/png": "[encoded data removed]",
      "text/plain": [
       "<Figure size 640x480 with 1 Axes>"
      ]
     },
     "metadata": {},
     "output_type": "display_data"
    }
   ],
   "source": [
    "sns.countplot(x='sex',hue='fare',data=df)\n",
    "      "
   ]
  },
  {
   "cell_type": "markdown",
   "metadata": {},
   "source": [
    "8.teenagers are more in male or female gender\n",
    "male"
   ]
  },
  {
   "cell_type": "code",
   "execution_count": 26,
   "metadata": {},
   "outputs": [
    {
     "data": {
      "text/plain": [
       "<Axes: xlabel='sex', ylabel='count'>"
      ]
     },
     "execution_count": 26,
     "metadata": {},
     "output_type": "execute_result"
    },
    {
     "data": {
      "image/png": "[encoded data removed]",
      "text/plain": [
       "<Figure size 640x480 with 1 Axes>"
      ]
     },
     "metadata": {},
     "output_type": "display_data"
    }
   ],
   "source": [
    "sns.countplot(x='sex',hue='age_groups',data=df)\n"
   ]
  },
  {
   "cell_type": "markdown",
   "metadata": {},
   "source": [
    "9.how many seniors are there in each pclass\n",
    "pclass 1"
   ]
  },
  {
   "cell_type": "code",
   "execution_count": 27,
   "metadata": {},
   "outputs": [
    {
     "data": {
      "text/plain": [
       "<Axes: xlabel='pclass', ylabel='count'>"
      ]
     },
     "execution_count": 27,
     "metadata": {},
     "output_type": "execute_result"
    },
    {
     "data": {
      "image/png": "[encoded data removed]",
      "text/plain": [
       "<Figure size 640x480 with 1 Axes>"
      ]
     },
     "metadata": {},
     "output_type": "display_data"
    }
   ],
   "source": [
    "sns.countplot(x='pclass',hue='age_groups',data=df)\n"
   ]
  },
  {
   "cell_type": "code",
   "execution_count": 29,
   "metadata": {},
   "outputs": [
    {
     "data": {
      "text/html": [
       "<div>\n",
       "<style scoped>\n",
       "    .dataframe tbody tr th:only-of-type {\n",
       "        vertical-align: middle;\n",
       "    }\n",
       "\n",
       "    .dataframe tbody tr th {\n",
       "        vertical-align: top;\n",
       "    }\n",
       "\n",
       "    .dataframe thead th {\n",
       "        text-align: right;\n",
       "    }\n",
       "</style>\n",
       "<table border=\"1\" class=\"dataframe\">\n",
       "  <thead>\n",
       "    <tr style=\"text-align: right;\">\n",
       "      <th></th>\n",
       "      <th>Unnamed: 0</th>\n",
       "      <th>title</th>\n",
       "      <th>first_name</th>\n",
       "      <th>last_name</th>\n",
       "      <th>sex</th>\n",
       "      <th>age</th>\n",
       "      <th>family_count</th>\n",
       "      <th>ticket</th>\n",
       "      <th>pclass</th>\n",
       "      <th>fare</th>\n",
       "      <th>embarked</th>\n",
       "      <th>survived</th>\n",
       "      <th>age_groups</th>\n",
       "    </tr>\n",
       "  </thead>\n",
       "  <tbody>\n",
       "    <tr>\n",
       "      <th>0</th>\n",
       "      <td>0</td>\n",
       "      <td>Miss</td>\n",
       "      <td>Elisabeth Walton</td>\n",
       "      <td>Allen</td>\n",
       "      <td>female</td>\n",
       "      <td>29.000000</td>\n",
       "      <td>0</td>\n",
       "      <td>24160</td>\n",
       "      <td>1</td>\n",
       "      <td>211.3375</td>\n",
       "      <td>3</td>\n",
       "      <td>1.0</td>\n",
       "      <td>3</td>\n",
       "    </tr>\n",
       "    <tr>\n",
       "      <th>1</th>\n",
       "      <td>1</td>\n",
       "      <td>Master</td>\n",
       "      <td>Hudson Trevor</td>\n",
       "      <td>Allison</td>\n",
       "      <td>male</td>\n",
       "      <td>0.916700</td>\n",
       "      <td>3</td>\n",
       "      <td>113781</td>\n",
       "      <td>1</td>\n",
       "      <td>151.5500</td>\n",
       "      <td>3</td>\n",
       "      <td>1.0</td>\n",
       "      <td>1</td>\n",
       "    </tr>\n",
       "    <tr>\n",
       "      <th>2</th>\n",
       "      <td>2</td>\n",
       "      <td>Miss</td>\n",
       "      <td>Helen Loraine</td>\n",
       "      <td>Allison</td>\n",
       "      <td>female</td>\n",
       "      <td>2.000000</td>\n",
       "      <td>3</td>\n",
       "      <td>113781</td>\n",
       "      <td>1</td>\n",
       "      <td>151.5500</td>\n",
       "      <td>3</td>\n",
       "      <td>0.0</td>\n",
       "      <td>1</td>\n",
       "    </tr>\n",
       "    <tr>\n",
       "      <th>3</th>\n",
       "      <td>3</td>\n",
       "      <td>Mr</td>\n",
       "      <td>Hudson Joshua Creighton</td>\n",
       "      <td>Allison</td>\n",
       "      <td>male</td>\n",
       "      <td>30.000000</td>\n",
       "      <td>3</td>\n",
       "      <td>113781</td>\n",
       "      <td>1</td>\n",
       "      <td>151.5500</td>\n",
       "      <td>3</td>\n",
       "      <td>0.0</td>\n",
       "      <td>3</td>\n",
       "    </tr>\n",
       "    <tr>\n",
       "      <th>4</th>\n",
       "      <td>4</td>\n",
       "      <td>Mrs</td>\n",
       "      <td>Hudson J C (Bessie Waldo Daniels)</td>\n",
       "      <td>Allison</td>\n",
       "      <td>female</td>\n",
       "      <td>25.000000</td>\n",
       "      <td>3</td>\n",
       "      <td>113781</td>\n",
       "      <td>1</td>\n",
       "      <td>151.5500</td>\n",
       "      <td>3</td>\n",
       "      <td>0.0</td>\n",
       "      <td>3</td>\n",
       "    </tr>\n",
       "    <tr>\n",
       "      <th>...</th>\n",
       "      <td>...</td>\n",
       "      <td>...</td>\n",
       "      <td>...</td>\n",
       "      <td>...</td>\n",
       "      <td>...</td>\n",
       "      <td>...</td>\n",
       "      <td>...</td>\n",
       "      <td>...</td>\n",
       "      <td>...</td>\n",
       "      <td>...</td>\n",
       "      <td>...</td>\n",
       "      <td>...</td>\n",
       "      <td>...</td>\n",
       "    </tr>\n",
       "    <tr>\n",
       "      <th>1304</th>\n",
       "      <td>1304</td>\n",
       "      <td>Miss</td>\n",
       "      <td>Hileni</td>\n",
       "      <td>Zabour</td>\n",
       "      <td>female</td>\n",
       "      <td>14.500000</td>\n",
       "      <td>1</td>\n",
       "      <td>2665</td>\n",
       "      <td>3</td>\n",
       "      <td>14.4542</td>\n",
       "      <td>1</td>\n",
       "      <td>0.0</td>\n",
       "      <td>1</td>\n",
       "    </tr>\n",
       "    <tr>\n",
       "      <th>1305</th>\n",
       "      <td>1305</td>\n",
       "      <td>Miss</td>\n",
       "      <td>Thamine</td>\n",
       "      <td>Zabour</td>\n",
       "      <td>female</td>\n",
       "      <td>29.881135</td>\n",
       "      <td>1</td>\n",
       "      <td>2665</td>\n",
       "      <td>3</td>\n",
       "      <td>14.4542</td>\n",
       "      <td>1</td>\n",
       "      <td>0.0</td>\n",
       "      <td>3</td>\n",
       "    </tr>\n",
       "    <tr>\n",
       "      <th>1306</th>\n",
       "      <td>1306</td>\n",
       "      <td>Mr</td>\n",
       "      <td>Mapriededer</td>\n",
       "      <td>Zakarian</td>\n",
       "      <td>male</td>\n",
       "      <td>26.500000</td>\n",
       "      <td>0</td>\n",
       "      <td>2656</td>\n",
       "      <td>3</td>\n",
       "      <td>7.2250</td>\n",
       "      <td>1</td>\n",
       "      <td>0.0</td>\n",
       "      <td>3</td>\n",
       "    </tr>\n",
       "    <tr>\n",
       "      <th>1307</th>\n",
       "      <td>1307</td>\n",
       "      <td>Mr</td>\n",
       "      <td>Ortin</td>\n",
       "      <td>Zakarian</td>\n",
       "      <td>male</td>\n",
       "      <td>27.000000</td>\n",
       "      <td>0</td>\n",
       "      <td>2670</td>\n",
       "      <td>3</td>\n",
       "      <td>7.2250</td>\n",
       "      <td>1</td>\n",
       "      <td>0.0</td>\n",
       "      <td>3</td>\n",
       "    </tr>\n",
       "    <tr>\n",
       "      <th>1308</th>\n",
       "      <td>1308</td>\n",
       "      <td>Mr</td>\n",
       "      <td>Leo</td>\n",
       "      <td>Zimmerman</td>\n",
       "      <td>male</td>\n",
       "      <td>29.000000</td>\n",
       "      <td>0</td>\n",
       "      <td>315082</td>\n",
       "      <td>3</td>\n",
       "      <td>7.8750</td>\n",
       "      <td>3</td>\n",
       "      <td>0.0</td>\n",
       "      <td>3</td>\n",
       "    </tr>\n",
       "  </tbody>\n",
       "</table>\n",
       "<p>1309 rows × 13 columns</p>\n",
       "</div>"
      ],
      "text/plain": [
       "      Unnamed: 0    title                          first_name  last_name  \\\n",
       "0              0     Miss                    Elisabeth Walton      Allen   \n",
       "1              1   Master                       Hudson Trevor    Allison   \n",
       "2              2     Miss                       Helen Loraine    Allison   \n",
       "3              3       Mr             Hudson Joshua Creighton    Allison   \n",
       "4              4      Mrs   Hudson J C (Bessie Waldo Daniels)    Allison   \n",
       "...          ...      ...                                 ...        ...   \n",
       "1304        1304     Miss                              Hileni     Zabour   \n",
       "1305        1305     Miss                             Thamine     Zabour   \n",
       "1306        1306       Mr                         Mapriededer   Zakarian   \n",
       "1307        1307       Mr                               Ortin   Zakarian   \n",
       "1308        1308       Mr                                 Leo  Zimmerman   \n",
       "\n",
       "         sex        age  family_count  ticket  pclass      fare  embarked  \\\n",
       "0     female  29.000000             0   24160       1  211.3375         3   \n",
       "1       male   0.916700             3  113781       1  151.5500         3   \n",
       "2     female   2.000000             3  113781       1  151.5500         3   \n",
       "3       male  30.000000             3  113781       1  151.5500         3   \n",
       "4     female  25.000000             3  113781       1  151.5500         3   \n",
       "...      ...        ...           ...     ...     ...       ...       ...   \n",
       "1304  female  14.500000             1    2665       3   14.4542         1   \n",
       "1305  female  29.881135             1    2665       3   14.4542         1   \n",
       "1306    male  26.500000             0    2656       3    7.2250         1   \n",
       "1307    male  27.000000             0    2670       3    7.2250         1   \n",
       "1308    male  29.000000             0  315082       3    7.8750         3   \n",
       "\n",
       "      survived age_groups  \n",
       "0          1.0          3  \n",
       "1          1.0          1  \n",
       "2          0.0          1  \n",
       "3          0.0          3  \n",
       "4          0.0          3  \n",
       "...        ...        ...  \n",
       "1304       0.0          1  \n",
       "1305       0.0          3  \n",
       "1306       0.0          3  \n",
       "1307       0.0          3  \n",
       "1308       0.0          3  \n",
       "\n",
       "[1309 rows x 13 columns]"
      ]
     },
     "execution_count": 29,
     "metadata": {},
     "output_type": "execute_result"
    }
   ],
   "source": [
    "df"
   ]
  },
  {
   "cell_type": "markdown",
   "metadata": {},
   "source": [
    "10.find what are the different titles present"
   ]
  },
  {
   "cell_type": "code",
   "execution_count": 38,
   "metadata": {},
   "outputs": [
    {
     "data": {
      "text/plain": [
       "np.int64(18)"
      ]
     },
     "execution_count": 38,
     "metadata": {},
     "output_type": "execute_result"
    }
   ],
   "source": [
    "unique_titles = pd.unique(df['title'])\n",
    "tc = pd.Series(unique_titles).value_counts()\n",
    "tc.count()"
   ]
  },
  {
   "cell_type": "markdown",
   "metadata": {},
   "source": [
    "11.show the no of families in each pclass"
   ]
  },
  {
   "cell_type": "code",
   "execution_count": 40,
   "metadata": {},
   "outputs": [
    {
     "data": {
      "text/plain": [
       "<Axes: xlabel='pclass', ylabel='count'>"
      ]
     },
     "execution_count": 40,
     "metadata": {},
     "output_type": "execute_result"
    },
    {
     "data": {
      "image/png": "[encoded data removed]",
      "text/plain": [
       "<Figure size 640x480 with 1 Axes>"
      ]
     },
     "metadata": {},
     "output_type": "display_data"
    }
   ],
   "source": [
    "sns.countplot(x=\"pclass\",data=df,hue='family_count')"
   ]
  },
  {
   "cell_type": "markdown",
   "metadata": {},
   "source": [
    "12.find which pclass the highest family members\n",
    "pclass3"
   ]
  },
  {
   "cell_type": "code",
   "execution_count": 41,
   "metadata": {},
   "outputs": [
    {
     "data": {
      "text/plain": [
       "<Axes: xlabel='pclass', ylabel='count'>"
      ]
     },
     "execution_count": 41,
     "metadata": {},
     "output_type": "execute_result"
    },
    {
     "data": {
      "image/png": "[encoded data removed]",
      "text/plain": [
       "<Figure size 640x480 with 1 Axes>"
      ]
     },
     "metadata": {},
     "output_type": "display_data"
    }
   ],
   "source": [
    "sns.countplot(x=\"pclass\",data=df,hue='family_count')\n"
   ]
  },
  {
   "cell_type": "markdown",
   "metadata": {},
   "source": [
    "13.find age groups, if least no of passengers were embarked from Cherbourg\n",
    "seniors"
   ]
  },
  {
   "cell_type": "code",
   "execution_count": 42,
   "metadata": {},
   "outputs": [
    {
     "data": {
      "text/plain": [
       "<Axes: xlabel='age_groups', ylabel='count'>"
      ]
     },
     "execution_count": 42,
     "metadata": {},
     "output_type": "execute_result"
    },
    {
     "data": {
      "image/png": "[encoded data removed]",
      "text/plain": [
       "<Figure size 640x480 with 1 Axes>"
      ]
     },
     "metadata": {},
     "output_type": "display_data"
    }
   ],
   "source": [
    "sns.countplot(x='age_groups',data=df,hue='embarked')"
   ]
  },
  {
   "cell_type": "markdown",
   "metadata": {},
   "source": []
  },
  {
   "cell_type": "code",
   "execution_count": null,
   "metadata": {},
   "outputs": [],
   "source": [
    "Is there a correlation between release year and the addition date to Netflix?\n",
    "sns.scatterplot(x='release_year', y='date_added', data=df)"
   ]
  }
 ],
 "metadata": {
  "kernelspec": {
   "display_name": "Python 3",
   "language": "python",
   "name": "python3"
  },
  "language_info": {
   "codemirror_mode": {
    "name": "ipython",
    "version": 3
   },
   "file_extension": ".py",
   "mimetype": "text/x-python",
   "name": "python",
   "nbconvert_exporter": "python",
   "pygments_lexer": "ipython3",
   "version": "3.12.4"
  }
 },
 "nbformat": 4,
 "nbformat_minor": 2
}
