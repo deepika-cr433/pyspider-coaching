{
 "cells": [
  {
   "cell_type": "markdown",
   "metadata": {},
   "source": [
    "1. Create an array which consists of 50 equally spaced numbers between 2-5.\n",
    "2. Create an array of 5 random numbers which are uniformly distributed.\n",
    "3. Create an 2-d array which consists of 1st 10 natural numbers.\n",
    "4. Create an array of the shape 1x3.\n",
    "5. Create an array of 1st 50 odd numbers."
   ]
  },
  {
   "cell_type": "code",
   "execution_count": 1,
   "metadata": {},
   "outputs": [],
   "source": [
    "import numpy as np"
   ]
  },
  {
   "cell_type": "code",
   "execution_count": 2,
   "metadata": {},
   "outputs": [
    {
     "name": "stdout",
     "output_type": "stream",
     "text": [
      "[2.         2.06122449 2.12244898 2.18367347 2.24489796 2.30612245\n",
      " 2.36734694 2.42857143 2.48979592 2.55102041 2.6122449  2.67346939\n",
      " 2.73469388 2.79591837 2.85714286 2.91836735 2.97959184 3.04081633\n",
      " 3.10204082 3.16326531 3.2244898  3.28571429 3.34693878 3.40816327\n",
      " 3.46938776 3.53061224 3.59183673 3.65306122 3.71428571 3.7755102\n",
      " 3.83673469 3.89795918 3.95918367 4.02040816 4.08163265 4.14285714\n",
      " 4.20408163 4.26530612 4.32653061 4.3877551  4.44897959 4.51020408\n",
      " 4.57142857 4.63265306 4.69387755 4.75510204 4.81632653 4.87755102\n",
      " 4.93877551 5.        ]\n",
      "[0.37807389 0.30934861 0.4425183  0.10969149 0.49620042]\n",
      "[[ 1  2  3  4  5]\n",
      " [ 6  7  8  9 10]]\n",
      "[[1. 0. 0.]]\n",
      "[ 2  4  6  8 10 12 14 16 18 20 22 24 26 28 30 32 34 36 38 40 42 44 46 48\n",
      " 50 52 54 56 58 60 62 64 66 68 70 72 74 76 78 80 82 84 86 88 90 92 94 96\n",
      " 98]\n"
     ]
    }
   ],
   "source": [
    "#.1\n",
    "a1=np.linspace(2,5)\n",
    "print(a1)\n",
    "#.2\n",
    "a1=np.random.rand(5)\n",
    "print(a1)\n",
    "#.3\n",
    "a1=np.arange(1,11)\n",
    "a2=np.reshape(a1,(2,5))\n",
    "print(a2)\n",
    "#.4\n",
    "a1=np.eye(1,3)\n",
    "print(a1)\n",
    "#.5\n",
    "a1=np.arange(2,100,2)\n",
    "print(a1)"
   ]
  },
  {
   "cell_type": "markdown",
   "metadata": {},
   "source": [
    "6. In an array of the 1st 50 odd numbers, find the 50th percentile element (number)\n",
    "7. Create a 5 -d array of 1st 3 numbers.\n",
    "8. A1=array([1,5,10,3,2,6,3,9])\n",
    "1) create array which are greater than 5\n",
    "2) find the elements which are less than mean_value\n",
    "3) find the median of the array\n",
    "4) reshape it to (2x4)\n",
    "5) for the reshape array find the commutative sum along the 0th axis.\n",
    "6) for the array a1 perform element wise addition with array([7]).\n",
    "9. A2= [[6,7,1],[8,9,3],[2,3,9]]\n",
    "1) find the transpose of the matrix a2.\n",
    "2) repeat the array elements individually for 2 times.\n",
    "3) convert 2-d array a2 to 1-d array.\n",
    "4) concate the a2 with 3x3 matrix of the even numbers from (1-19) along the axis=1\n",
    "10. A3=[3,5,1,9,7,2,6,7]\n",
    "Find the distribution of the data points from the central value and conclude whether the data points are clustered/ variables."
   ]
  },
  {
   "cell_type": "code",
   "execution_count": 13,
   "metadata": {},
   "outputs": [
    {
     "name": "stdout",
     "output_type": "stream",
     "text": [
      "50.0\n",
      "[[[[[1 2 3]]]]]\n",
      "[10  6  9]\n",
      "4.0\n",
      "4.875\n",
      "[[ 1  5 10  3]\n",
      " [ 2  6  3  9]]\n",
      "[[ 1  5 10  3]\n",
      " [ 3 11 13 12]]\n",
      "[ 8 12 17 10  9 13 10 16]\n",
      "[[6 8 2]\n",
      " [7 9 3]\n",
      " [1 3 9]]\n",
      "[6 6 7 7 1 1 8 8 9 9 3 3 2 2 3 3 9 9]\n",
      "[6 7 1 8 9 3 2 3 9]\n",
      "[ 2  4  6  8 10 12 14 16 18]\n",
      "[[ 2  4  6]\n",
      " [ 8 10 12]\n",
      " [14 16 18]]\n"
     ]
    },
    {
     "ename": "AxisError",
     "evalue": "axis 1 is out of bounds for array of dimension 1",
     "output_type": "error",
     "traceback": [
      "\u001b[1;31m---------------------------------------------------------------------------\u001b[0m",
      "\u001b[1;31mAxisError\u001b[0m                                 Traceback (most recent call last)",
      "Cell \u001b[1;32mIn[13], line 34\u001b[0m\n\u001b[0;32m     32\u001b[0m a7\u001b[38;5;241m=\u001b[39mnp\u001b[38;5;241m.\u001b[39mreshape(a6,shape\u001b[38;5;241m=\u001b[39m(\u001b[38;5;241m3\u001b[39m,\u001b[38;5;241m3\u001b[39m))\n\u001b[0;32m     33\u001b[0m \u001b[38;5;28mprint\u001b[39m(a7)\n\u001b[1;32m---> 34\u001b[0m a8\u001b[38;5;241m=\u001b[39m\u001b[43mnp\u001b[49m\u001b[38;5;241;43m.\u001b[39;49m\u001b[43mconcatenate\u001b[49m\u001b[43m(\u001b[49m\u001b[43m(\u001b[49m\u001b[43ma6\u001b[49m\u001b[43m,\u001b[49m\u001b[43ma7\u001b[49m\u001b[43m)\u001b[49m\u001b[43m,\u001b[49m\u001b[43maxis\u001b[49m\u001b[38;5;241;43m=\u001b[39;49m\u001b[38;5;241;43m1\u001b[39;49m\u001b[43m)\u001b[49m\n\u001b[0;32m     35\u001b[0m \u001b[38;5;28mprint\u001b[39m(a8)\n\u001b[0;32m     36\u001b[0m \u001b[38;5;66;03m#.10\u001b[39;00m\n",
      "\u001b[1;31mAxisError\u001b[0m: axis 1 is out of bounds for array of dimension 1"
     ]
    }
   ],
   "source": [
    "#.6\n",
    "a1=np.arange(2,100,2)\n",
    "a2=np.percentile(a1,50)\n",
    "print(a2)\n",
    "#.7\n",
    "a1=np.arange(1,4)\n",
    "a2=np.array(a1,ndmin=5)\n",
    "print(a2)\n",
    "#.8\n",
    "a1=np.array([1,5,10,3,2,6,3,9])\n",
    "print(a1[[False,False,True,False,False,True,False,True]])\n",
    "a2=np.median(a1)\n",
    "print(a2)\n",
    "a5=np.mean(a1)\n",
    "print(a5)\n",
    "a3=np.reshape(a1,(2,4))\n",
    "print(a3)\n",
    "a4=np.cumsum(a3,axis=0)\n",
    "print(a4)\n",
    "print(a1+7)\n",
    "#.9\n",
    "import numpy as np\n",
    "a2= np.array([[6,7,1],[8,9,3],[2,3,9]])\n",
    "a3=np.transpose(a2)\n",
    "print(a3)\n",
    "a4=np.repeat(a2,2)\n",
    "print(a4)\n",
    "a5=np.ravel(a2)\n",
    "print(a5)\n",
    "a6=np.arange(2,20,2)\n",
    "print(a6)\n",
    "a7=np.reshape(a6,shape=(3,3))\n",
    "print(a7)\n",
    "a8=np.concatenate((a6,a7),axis=1)\n",
    "print(a8)\n",
    "#.10\n",
    "a1=[3,5,1,9,7,2,6,7]\n",
    "a2=np.std(a1)\n",
    "print(a2)"
   ]
  }
 ],
 "metadata": {
  "kernelspec": {
   "display_name": "Python 3",
   "language": "python",
   "name": "python3"
  },
  "language_info": {
   "codemirror_mode": {
    "name": "ipython",
    "version": 3
   },
   "file_extension": ".py",
   "mimetype": "text/x-python",
   "name": "python",
   "nbconvert_exporter": "python",
   "pygments_lexer": "ipython3",
   "version": "3.12.4"
  }
 },
 "nbformat": 4,
 "nbformat_minor": 2
}
