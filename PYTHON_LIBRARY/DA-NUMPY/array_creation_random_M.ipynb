{
 "cells": [
  {
   "cell_type": "code",
   "execution_count": 1,
   "metadata": {},
   "outputs": [],
   "source": [
    "import numpy as np"
   ]
  },
  {
   "cell_type": "markdown",
   "metadata": {},
   "source": [
    "# ARRAY OPERATIONS\n",
    "# ARRAY WITH CONSTANT"
   ]
  },
  {
   "cell_type": "markdown",
   "metadata": {},
   "source": [
    "# ARITHMATIC OPERATOR"
   ]
  },
  {
   "cell_type": "code",
   "execution_count": 2,
   "metadata": {},
   "outputs": [
    {
     "name": "stdout",
     "output_type": "stream",
     "text": [
      "[10 20 30 40]\n",
      "[12 22 32 42]\n",
      "[ 8 18 28 38]\n",
      "[20 40 60 80]\n",
      "[ 5. 10. 15. 20.]\n",
      "[ 5 10 15 20]\n",
      "[ 100  400  900 1600]\n",
      "[0 0 0 0]\n"
     ]
    }
   ],
   "source": [
    "arr1=np.array([10,20,30,40])\n",
    "print(arr1)\n",
    "print(arr1 + 2)\n",
    "print(arr1 - 2)\n",
    "print(arr1 * 2)\n",
    "print(arr1 / 2)\n",
    "print(arr1 // 2)\n",
    "print(arr1 ** 2)\n",
    "print(arr1 % 2)"
   ]
  },
  {
   "cell_type": "markdown",
   "metadata": {},
   "source": [
    "# RELATIONAL OPERATOR"
   ]
  },
  {
   "cell_type": "code",
   "execution_count": 3,
   "metadata": {},
   "outputs": [
    {
     "name": "stdout",
     "output_type": "stream",
     "text": [
      "[ True False False False]\n",
      "[False  True False  True]\n",
      "[False  True  True  True]\n",
      "[ True False  True False]\n",
      "[False False  True False]\n",
      "[ True  True False  True]\n"
     ]
    }
   ],
   "source": [
    "arr1= np.array([1,10,2,4])\n",
    "print(arr1 < 2)\n",
    "print(arr1 > 2)\n",
    "print(arr1 >= 2)\n",
    "print(arr1 <= 2)\n",
    "print(arr1 == 2)\n",
    "print(arr1 != 2)"
   ]
  },
  {
   "cell_type": "markdown",
   "metadata": {},
   "source": [
    "# LOGICAL OPERATOR"
   ]
  },
  {
   "cell_type": "code",
   "execution_count": 4,
   "metadata": {},
   "outputs": [
    {
     "name": "stdout",
     "output_type": "stream",
     "text": [
      "[0 2 2 0]\n",
      "[ 3 10  2  6]\n",
      "[3 8 0 6]\n",
      "[ 4 40  8 16]\n",
      "[0 2 0 1]\n",
      "[ -2 -11  -3  -5]\n",
      "False\n",
      "True\n"
     ]
    }
   ],
   "source": [
    "arr1= np.array([1,10,2,4])\n",
    "print(arr1 & 2)\n",
    "print(arr1 | 2)\n",
    "print(arr1 ^ 2)\n",
    "print(arr1 << 2)\n",
    "print(arr1 >> 2)\n",
    "print(~arr1)\n",
    "print(2 not in arr1)\n",
    "print(4 in arr1)"
   ]
  },
  {
   "cell_type": "markdown",
   "metadata": {},
   "source": [
    "# ARRAY WITH ARRAY"
   ]
  },
  {
   "cell_type": "code",
   "execution_count": null,
   "metadata": {},
   "outputs": [
    {
     "name": "stdout",
     "output_type": "stream",
     "text": [
      "[11 22 33 44]\n",
      "[ 9 18 27 36]\n",
      "[ 10  40  90 160]\n",
      "[10. 10. 10. 10.]\n",
      "[10 10 10 10]\n",
      "[     10     400   27000 2560000]\n",
      "[0 0 0 0]\n",
      "[False False False False]\n",
      "[ True  True  True  True]\n",
      "[False False False False]\n",
      "[ True  True  True  True]\n",
      "[False False False False]\n",
      "[ True  True  True  True]\n",
      "[0 0 2 0]\n",
      "[11 22 31 44]\n",
      "[11 22 29 44]\n",
      "[ 20  80 240 640]\n",
      "[5 5 3 2]\n",
      "[11 22 33 44]\n",
      "[1 2 3 4]\n"
     ]
    }
   ],
   "source": [
    "arr3=np.array([10,20,30,40])\n",
    "arr4=np.array([1,2,3,4])\n",
    "#ARITHMATIC OPERATOR\n",
    "print(arr3 + arr4)\n",
    "print(arr3 - arr4)\n",
    "print(arr3 * arr4)\n",
    "print(arr3 / arr4)\n",
    "print(arr3 // arr4)\n",
    "print(arr3 ** arr4)\n",
    "print(arr3 % arr4)\n",
    "#RELATIONAL OPERATOR\n",
    "print(arr3 == arr4)\n",
    "print(arr3 != arr4)\n",
    "print(arr3 < arr4)\n",
    "print(arr3 > arr4)\n",
    "print(arr3 <= arr4)\n",
    "print(arr3 >= arr4)\n",
    "#LOGICAL OPERATOR\n",
    "print(arr3 & arr4)\n",
    "print(arr3 | arr4)\n",
    "print(arr3 ^ arr4)\n",
    "print(arr3 << arr4)\n",
    "print(arr3 >> arr4)\n",
    "arr5=np.array([1,2])\n",
    "print(arr4 + arr3)\n",
    "b=arr3=arr4\n",
    "print(b)"
   ]
  },
  {
   "cell_type": "markdown",
   "metadata": {},
   "source": [
    "# NUMPY METHODS\n",
    "ZEROS\n",
    "ONES\n",
    "FULL\n",
    "EYE\n",
    "ARANGE\n",
    "LINSPACE"
   ]
  },
  {
   "cell_type": "markdown",
   "metadata": {},
   "source": [
    "# NP.ZEROS"
   ]
  },
  {
   "cell_type": "code",
   "execution_count": 6,
   "metadata": {},
   "outputs": [
    {
     "name": "stdout",
     "output_type": "stream",
     "text": [
      "[[0. 0.]\n",
      " [0. 0.]\n",
      " [0. 0.]]\n",
      "[[0. 0.]\n",
      " [0. 0.]\n",
      " [0. 0.]]\n",
      "[[[0 0 0 0]\n",
      "  [0 0 0 0]]\n",
      "\n",
      " [[0 0 0 0]\n",
      "  [0 0 0 0]]\n",
      "\n",
      " [[0 0 0 0]\n",
      "  [0 0 0 0]]]\n"
     ]
    }
   ],
   "source": [
    "arr1=np.zeros((3,2))\n",
    "print(arr1)\n",
    "arr2=np.zeros(shape=(3,2))\n",
    "print(arr2)\n",
    "arr3=np.zeros(shape=(3,2,4),dtype=int)\n",
    "print(arr3)"
   ]
  },
  {
   "cell_type": "markdown",
   "metadata": {},
   "source": [
    "# NP.ONES"
   ]
  },
  {
   "cell_type": "code",
   "execution_count": 7,
   "metadata": {},
   "outputs": [
    {
     "name": "stdout",
     "output_type": "stream",
     "text": [
      "[[1. 1.]\n",
      " [1. 1.]\n",
      " [1. 1.]\n",
      " [1. 1.]]\n",
      "[[[ True  True  True]\n",
      "  [ True  True  True]\n",
      "  [ True  True  True]\n",
      "  [ True  True  True]]]\n",
      "[[1.+0.j 1.+0.j 1.+0.j]\n",
      " [1.+0.j 1.+0.j 1.+0.j]\n",
      " [1.+0.j 1.+0.j 1.+0.j]]\n"
     ]
    }
   ],
   "source": [
    "arr1=np.ones((4,2))\n",
    "print(arr1)\n",
    "arr2=np.ones((1,4,3),dtype=bool)\n",
    "print(arr2)\n",
    "arr3=np.ones((3,3),dtype=complex)\n",
    "print(arr3)"
   ]
  },
  {
   "cell_type": "markdown",
   "metadata": {},
   "source": [
    "# NP.FULL"
   ]
  },
  {
   "cell_type": "code",
   "execution_count": 8,
   "metadata": {},
   "outputs": [
    {
     "name": "stdout",
     "output_type": "stream",
     "text": [
      "[[5 5 5]\n",
      " [5 5 5]\n",
      " [5 5 5]]\n",
      "[[[88.+0.j 88.+0.j 88.+0.j]\n",
      "  [88.+0.j 88.+0.j 88.+0.j]]\n",
      "\n",
      " [[88.+0.j 88.+0.j 88.+0.j]\n",
      "  [88.+0.j 88.+0.j 88.+0.j]]\n",
      "\n",
      " [[88.+0.j 88.+0.j 88.+0.j]\n",
      "  [88.+0.j 88.+0.j 88.+0.j]]\n",
      "\n",
      " [[88.+0.j 88.+0.j 88.+0.j]\n",
      "  [88.+0.j 88.+0.j 88.+0.j]]]\n",
      "(3, 3)\n"
     ]
    }
   ],
   "source": [
    "ar1=np.full((3,3),fill_value=5)\n",
    "print(ar1)\n",
    "ar2=np.full((4,2,3),fill_value=88,dtype=complex)\n",
    "print(ar2)\n",
    "print(ar1.shape)"
   ]
  },
  {
   "cell_type": "markdown",
   "metadata": {},
   "source": [
    "# NP.EYE"
   ]
  },
  {
   "cell_type": "code",
   "execution_count": 9,
   "metadata": {},
   "outputs": [
    {
     "name": "stdout",
     "output_type": "stream",
     "text": [
      "[[1. 0. 0.]\n",
      " [0. 1. 0.]\n",
      " [0. 0. 1.]]\n",
      "[[1. 0. 0.]\n",
      " [0. 1. 0.]\n",
      " [0. 0. 1.]]\n",
      "[[1. 0. 0. 0.]\n",
      " [0. 1. 0. 0.]\n",
      " [0. 0. 1. 0.]]\n",
      "[[False False False False False]\n",
      " [False False False False False]\n",
      " [ True False False False False]]\n",
      "[[0 0 1]\n",
      " [0 0 0]\n",
      " [0 0 0]]\n",
      "[[0.+0.j 0.+0.j 0.+0.j 0.+0.j 0.+0.j]\n",
      " [0.+0.j 0.+0.j 0.+0.j 0.+0.j 0.+0.j]\n",
      " [0.+0.j 0.+0.j 0.+0.j 0.+0.j 0.+0.j]\n",
      " [0.+0.j 0.+0.j 0.+0.j 0.+0.j 0.+0.j]]\n"
     ]
    }
   ],
   "source": [
    "ar1=np.eye(3,3)\n",
    "arr1=np.eye(3,4)\n",
    "ar2=np.eye(3,5,-2,dtype=bool)\n",
    "arr2=np.eye(3)\n",
    "arr3=np.eye(3,3,2,dtype=int)\n",
    "arr4=np.eye(4,5,5,dtype=complex)\n",
    "print(arr2)\n",
    "print(ar1)\n",
    "print(arr1)\n",
    "print(ar2)\n",
    "print(arr3)\n",
    "print(arr4)"
   ]
  },
  {
   "cell_type": "markdown",
   "metadata": {},
   "source": [
    "# NP.ARANGE"
   ]
  },
  {
   "cell_type": "code",
   "execution_count": 10,
   "metadata": {},
   "outputs": [
    {
     "name": "stdout",
     "output_type": "stream",
     "text": [
      "[1 2 3 4 5]\n",
      "[ 2  4  6  8 10]\n",
      "[0. 1. 2. 3. 4. 5.]\n",
      "[ 2.01  4.02  6.03  8.04 10.05]\n"
     ]
    }
   ],
   "source": [
    "f1=np.arange(1,6)\n",
    "print(f1)\n",
    "f2=np.arange(2,11,2)\n",
    "print(f2)\n",
    "f3=np.arange(6,dtype=float)\n",
    "print(f3)\n",
    "f4=np.arange(2.01,11.5,2.01)\n",
    "print(f4)"
   ]
  },
  {
   "cell_type": "markdown",
   "metadata": {},
   "source": [
    "# NP.LINSPACE"
   ]
  },
  {
   "cell_type": "code",
   "execution_count": 11,
   "metadata": {},
   "outputs": [
    {
     "name": "stdout",
     "output_type": "stream",
     "text": [
      "[  2.   4.   6.   8.  10.  12.  14.  16.  18.  20.  22.  24.  26.  28.\n",
      "  30.  32.  34.  36.  38.  40.  42.  44.  46.  48.  50.  52.  54.  56.\n",
      "  58.  60.  62.  64.  66.  68.  70.  72.  74.  76.  78.  80.  82.  84.\n",
      "  86.  88.  90.  92.  94.  96.  98. 100.]\n",
      "[ 4.          4.33333333  4.66666667  5.          5.33333333  5.66666667\n",
      "  6.          6.33333333  6.66666667  7.          7.33333333  7.66666667\n",
      "  8.          8.33333333  8.66666667  9.          9.33333333  9.66666667\n",
      " 10.         10.33333333 10.66666667 11.         11.33333333 11.66666667\n",
      " 12.        ]\n",
      "[2.   2.16 2.32 2.48 2.64 2.8  2.96 3.12 3.28 3.44 3.6  3.76 3.92 4.08\n",
      " 4.24 4.4  4.56 4.72 4.88 5.04 5.2  5.36 5.52 5.68 5.84 6.   6.16 6.32\n",
      " 6.48 6.64 6.8  6.96 7.12 7.28 7.44 7.6  7.76 7.92 8.08 8.24 8.4  8.56\n",
      " 8.72 8.88 9.04 9.2  9.36 9.52 9.68 9.84]\n",
      "(array([ 2.,  4.,  6.,  8., 10.]), np.float64(2.0))\n",
      "(array([ 2., 14., 26., 38., 50.]), np.float64(12.0))\n"
     ]
    }
   ],
   "source": [
    "arr1=np.linspace(2,100)\n",
    "print(arr1)\n",
    "arr2=np.linspace(4,12,25)\n",
    "print(arr2)\n",
    "arr3=np.linspace(2,10,endpoint=False)\n",
    "print(arr3)\n",
    "arr4=np.linspace(2,10,num=5,retstep=True)\n",
    "print(arr4)\n",
    "ar2=np.linspace(2,50,5,retstep=True)\n",
    "print(ar2)"
   ]
  },
  {
   "cell_type": "markdown",
   "metadata": {},
   "source": [
    "# RANDOM METHODS\n",
    "RANDOM\n",
    "RAND\n",
    "RANDN\n",
    "RANDINT\n",
    "SEED\n",
    "CHOICE"
   ]
  },
  {
   "cell_type": "code",
   "execution_count": 12,
   "metadata": {},
   "outputs": [
    {
     "name": "stdout",
     "output_type": "stream",
     "text": [
      "0.9701266535680763\n",
      "[[0.51419194 0.64812568 0.28094701 0.36828476]\n",
      " [0.76483294 0.88305017 0.45875355 0.50939215]\n",
      " [0.12050136 0.79548007 0.20666293 0.772567  ]]\n"
     ]
    }
   ],
   "source": [
    "import numpy.random as nr\n",
    "arr1=nr.random([3,4])\n",
    "ar2=nr.randn()\n",
    "print(ar2)\n",
    "print(arr1)"
   ]
  },
  {
   "cell_type": "markdown",
   "metadata": {},
   "source": [
    "# RANDOM"
   ]
  },
  {
   "cell_type": "code",
   "execution_count": 13,
   "metadata": {},
   "outputs": [
    {
     "name": "stdout",
     "output_type": "stream",
     "text": [
      "0.294203434173701\n",
      "[0.18885992 0.01553771]\n",
      "[[0.34840214 0.7576144 ]\n",
      " [0.25286711 0.64024085]\n",
      " [0.9027633  0.51308178]]\n",
      "[[[0.0298759  0.74948594]\n",
      "  [0.19616186 0.51717015]\n",
      "  [0.31252456 0.39805246]]\n",
      "\n",
      " [[0.70188959 0.32507548]\n",
      "  [0.8310473  0.74513378]\n",
      "  [0.84549628 0.6025457 ]]\n",
      "\n",
      " [[0.86354311 0.61308119]\n",
      "  [0.30805709 0.25434326]\n",
      "  [0.27762257 0.12108392]]\n",
      "\n",
      " [[0.61636464 0.72980761]\n",
      "  [0.90565147 0.47304931]\n",
      "  [0.7231036  0.66723668]]]\n"
     ]
    }
   ],
   "source": [
    "import numpy.random as nr\n",
    "a1=nr.random( )\n",
    "print(a1)\n",
    "a2=nr.random(2)\n",
    "print(a2)\n",
    "a3=nr.random((3,2))\n",
    "print(a3)\n",
    "a4=nr.random((4,3,2))\n",
    "print(a4)"
   ]
  },
  {
   "cell_type": "markdown",
   "metadata": {},
   "source": [
    "# RAND"
   ]
  },
  {
   "cell_type": "code",
   "execution_count": 14,
   "metadata": {},
   "outputs": [
    {
     "name": "stdout",
     "output_type": "stream",
     "text": [
      "0.191890962841608\n",
      "[0.69868954 0.8315633  0.19857035]\n",
      "[[0.12406277 0.97548464]\n",
      " [0.63759527 0.50485478]\n",
      " [0.40706567 0.81389077]]\n",
      "[[0.46372622 0.25318718 0.54100843 0.07431234 0.6986354  0.49595969]\n",
      " [0.21513076 0.18366127 0.77366833 0.55599948 0.62065352 0.34748617]\n",
      " [0.13898803 0.21346288 0.43674838 0.75286405 0.61933621 0.10461502]\n",
      " [0.66901953 0.69709586 0.24951409 0.71381451 0.53792437 0.34678012]]\n"
     ]
    }
   ],
   "source": [
    "import numpy.random as nr\n",
    "a1=nr.rand()\n",
    "print(a1)\n",
    "a2=nr.rand(3)\n",
    "print(a2)\n",
    "a3=nr.rand(3,2)\n",
    "print(a3)\n",
    "a4=nr.rand(4,6)\n",
    "print(a4)"
   ]
  },
  {
   "cell_type": "markdown",
   "metadata": {},
   "source": [
    "# RANDN"
   ]
  },
  {
   "cell_type": "code",
   "execution_count": 15,
   "metadata": {},
   "outputs": [
    {
     "name": "stdout",
     "output_type": "stream",
     "text": [
      "-3.3671291466131783\n",
      "[-0.88554255 -0.80004574  0.84578746]\n",
      "[ 0.27370095  0.91554794 -0.52470413 -0.40250902  1.57005126 -0.06645505\n",
      " -2.71838516 -1.12090838  0.29251482]\n",
      "[[-0.00626171  0.42584249]\n",
      " [ 0.52380274  2.46563846]\n",
      " [ 1.16718616  0.26412519]]\n",
      "[[[-0.2419083   0.88370731]\n",
      "  [ 0.70325132  1.25973213]\n",
      "  [ 1.89936218  0.68571004]\n",
      "  [-1.32991815  1.31136622]]\n",
      "\n",
      " [[-0.64504238 -1.15263749]\n",
      "  [ 0.10063942 -0.76378523]\n",
      "  [ 1.57157759  0.10484889]\n",
      "  [ 0.15637421 -0.33037393]]\n",
      "\n",
      " [[ 0.10306116 -0.79319979]\n",
      "  [-0.5061709  -0.3852426 ]\n",
      "  [-1.11435892  0.65914294]\n",
      "  [-0.76041595 -0.08963365]]\n",
      "\n",
      " [[ 0.22155081 -0.92230503]\n",
      "  [-0.00609859 -0.41896794]\n",
      "  [-0.57836249  0.3031405 ]\n",
      "  [ 0.22965023  0.08952931]]\n",
      "\n",
      " [[ 0.63686727 -0.29554138]\n",
      "  [ 0.16922207 -0.0222507 ]\n",
      "  [ 0.29367389  1.44917875]\n",
      "  [-0.85766522  0.62312606]]]\n"
     ]
    }
   ],
   "source": [
    "import numpy.random as nr\n",
    "a1=nr.randn()\n",
    "print(a1)\n",
    "a2=nr.randn(3)\n",
    "print(a2)\n",
    "a3=nr.randn(9)\n",
    "print(a3)\n",
    "a4=nr.randn(3,2)\n",
    "print(a4)\n",
    "a5=nr.randn(5,4,2)\n",
    "print(a5)"
   ]
  },
  {
   "cell_type": "markdown",
   "metadata": {},
   "source": [
    "# RANDINT"
   ]
  },
  {
   "cell_type": "code",
   "execution_count": 16,
   "metadata": {},
   "outputs": [
    {
     "name": "stdout",
     "output_type": "stream",
     "text": [
      "0\n",
      "[19 19 17 18 19]\n",
      "[19 19 10 18 13]\n",
      "[[33 27 35 22 38]\n",
      " [37 36 44 31 39]\n",
      " [35 32 27 28 25]]\n",
      "16\n"
     ]
    }
   ],
   "source": [
    "import numpy.random as nr\n",
    "a1=nr.randint(5)\n",
    "print(a1)\n",
    "a2=nr.randint(10,20,5)\n",
    "print(a2)\n",
    "a3=nr.randint(10.5,20.5,5)\n",
    "print(a3)\n",
    "a4=nr.randint(22,45,(3,5))\n",
    "print(a4)\n",
    "a5=nr.randint(20)\n",
    "print(a5)\n",
    "# a6=nr.randint() #TypeError: randint() takes at least 1 positional argument (0 given)\n",
    "# print(a6)"
   ]
  },
  {
   "cell_type": "markdown",
   "metadata": {},
   "source": [
    "# SEED"
   ]
  },
  {
   "cell_type": "code",
   "execution_count": 17,
   "metadata": {},
   "outputs": [
    {
     "name": "stdout",
     "output_type": "stream",
     "text": [
      "None\n",
      "[144 147 164 167 167]\n",
      "[175 130 103 132 195]\n",
      "[[ 1.3315865   0.71527897 -1.54540029 -0.00838385  0.62133597]\n",
      " [-0.72008556  0.26551159  0.10854853  0.00429143 -0.17460021]\n",
      " [ 0.43302619  1.20303737 -0.96506567  1.02827408  0.22863013]]\n",
      "[[0.54254437 0.14217005]\n",
      " [0.37334076 0.67413362]\n",
      " [0.44183317 0.43401399]]\n",
      "[[0.77132064 0.02075195]\n",
      " [0.63364823 0.74880388]\n",
      " [0.49850701 0.22479665]]\n"
     ]
    }
   ],
   "source": [
    "import numpy.random as nr\n",
    "a1=nr.seed(0)\n",
    "print(a1)\n",
    "nr.seed(0)\n",
    "a2=nr.randint(100,200,5)\n",
    "print(a2)\n",
    "nr.seed(45)\n",
    "a3=nr.randint(100,200,5)\n",
    "print(a3)\n",
    "nr.seed(10)\n",
    "a4=nr.randn(3,5)\n",
    "print(a4)\n",
    "a5=nr.rand(3,2)\n",
    "print(a5)\n",
    "nr.seed(10)\n",
    "a6=nr.random((3,2))\n",
    "print(a6)"
   ]
  },
  {
   "cell_type": "markdown",
   "metadata": {},
   "source": [
    "# CHOICE"
   ]
  },
  {
   "cell_type": "code",
   "execution_count": 18,
   "metadata": {},
   "outputs": [
    {
     "name": "stdout",
     "output_type": "stream",
     "text": [
      "chair\n",
      "[['book' 'pen']\n",
      " ['chair' 'pen']\n",
      " ['book' 'pen']]\n",
      "['book' 'pen' 'bench' 'pen' 'pen']\n"
     ]
    }
   ],
   "source": [
    "import numpy as np\n",
    "import numpy.random as nr\n",
    "arr1=np.array(['pen','chair','book','bench'])\n",
    "c1=nr.choice(arr1)\n",
    "print(c1)\n",
    "c2=nr.choice(arr1,(3,2))\n",
    "print(c2)\n",
    "# c3=nr.choice(arr1,5,replace=False)\n",
    "# print(c3)\n",
    "c3=nr.choice(arr1,5)\n",
    "print(c3)"
   ]
  }
 ],
 "metadata": {
  "kernelspec": {
   "display_name": "Python 3",
   "language": "python",
   "name": "python3"
  },
  "language_info": {
   "codemirror_mode": {
    "name": "ipython",
    "version": 3
   },
   "file_extension": ".py",
   "mimetype": "text/x-python",
   "name": "python",
   "nbconvert_exporter": "python",
   "pygments_lexer": "ipython3",
   "version": "3.12.4"
  }
 },
 "nbformat": 4,
 "nbformat_minor": 2
}
