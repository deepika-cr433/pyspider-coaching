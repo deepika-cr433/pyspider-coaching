{
 "cells": [
  {
   "cell_type": "code",
   "execution_count": null,
   "metadata": {},
   "outputs": [
    {
     "name": "stdout",
     "output_type": "stream",
     "text": [
      "[10 20 30 40]\n"
     ]
    }
   ],
   "source": [
    "#variable=np.array(object,dtype,ndmin,copy)\n",
    "import numpy as np\n",
    "a1=np.array([10,20,30,40])\n",
    "print(a1)\n"
   ]
  },
  {
   "cell_type": "markdown",
   "metadata": {},
   "source": [
    "# attributes of array\n",
    "ndim\n",
    "size\n",
    "dtype\n",
    "itemsize\n",
    "nbytes"
   ]
  },
  {
   "cell_type": "code",
   "execution_count": 18,
   "metadata": {},
   "outputs": [
    {
     "name": "stdout",
     "output_type": "stream",
     "text": [
      "1\n",
      "2\n",
      "0\n",
      "4\n",
      "6\n",
      "1\n",
      "int64\n",
      "complex128\n",
      "int64\n",
      "16\n",
      "8\n",
      "32\n",
      "48\n",
      "16\n"
     ]
    }
   ],
   "source": [
    "#ndim\n",
    "a1=np.array([10,20,30,40])\n",
    "print(a1.ndim)\n",
    "a2=np.array([[1,2,3],[4,5,6]])\n",
    "print(a2.ndim)\n",
    "a3=np.array(10001)\n",
    "print(a3.ndim)\n",
    "#size\n",
    "print(a1.size)\n",
    "print(a2.size)\n",
    "print(a3.size)\n",
    "#dtype\n",
    "print(a1.dtype)\n",
    "a4=np.array([2+3j,8+4j,2-3j])\n",
    "print(a4.dtype)\n",
    "a5=np.array([10.25,20])\n",
    "print(a1.dtype)\n",
    "#itemsize\n",
    "print(a4.itemsize)\n",
    "print(a5.itemsize)\n",
    "#nbytes\n",
    "print(a1.nbytes)\n",
    "print(a4.nbytes)\n",
    "print(a5.nbytes)\n",
    "\n",
    "\n"
   ]
  },
  {
   "cell_type": "code",
   "execution_count": 28,
   "metadata": {},
   "outputs": [
    {
     "name": "stdout",
     "output_type": "stream",
     "text": [
      "[[[628 628]]]\n",
      "[[[10 20]]]\n",
      "[[[628 628]]]\n",
      "[[[945 945]]]\n",
      "int64\n",
      "8\n",
      "16\n"
     ]
    }
   ],
   "source": [
    "arr1= np.array([10,20],dtype=int,ndmin=3)\n",
    "arr2=np.array(arr1,copy=True)\n",
    "arr1[0]=100\n",
    "arr3=np.array(arr1,copy=False)\n",
    "arr1[0]=945\n",
    "arr4=np.array(arr1)\n",
    "arr1[0]=628\n",
    "print(arr1)\n",
    "print(arr2)\n",
    "print(arr3)\n",
    "print(arr4)\n",
    "print(arr1.dtype)\n",
    "print(arr1.itemsize)\n",
    "print(arr1.nbytes)\n"
   ]
  },
  {
   "cell_type": "markdown",
   "metadata": {},
   "source": [
    "properties of array over the list\n",
    "HOD IS FME"
   ]
  },
  {
   "cell_type": "markdown",
   "metadata": {},
   "source": [
    "# INDEXING"
   ]
  },
  {
   "cell_type": "code",
   "execution_count": 29,
   "metadata": {},
   "outputs": [
    {
     "name": "stdout",
     "output_type": "stream",
     "text": [
      "30\n",
      "40\n",
      "[30 40]\n",
      "40\n",
      "70\n",
      "50\n",
      "10\n",
      "40\n",
      "60\n"
     ]
    }
   ],
   "source": [
    "ree=np.array([10,20,30,40])\n",
    "print(ree[2])#30\n",
    "print(ree[3])#40\n",
    "ree1=np.array([[10,20],[30,40]])\n",
    "print(ree1[1])#[30,40]\n",
    "print(ree1[1,1])#30\n",
    "ree2=np.array([[[10,20],[30,40]],[[40,50],[60,70]]])\n",
    "print(ree2[1,1,1])#70\n",
    "print(ree2[1,0,1])#50\n",
    "print(ree2[0,0,0])#10\n",
    "print(ree2[0,1,1])#40\n",
    "print(ree2[1,1,0])#60"
   ]
  },
  {
   "cell_type": "markdown",
   "metadata": {},
   "source": [
    "# SLICING"
   ]
  },
  {
   "cell_type": "code",
   "execution_count": null,
   "metadata": {},
   "outputs": [
    {
     "name": "stdout",
     "output_type": "stream",
     "text": [
      "[20 30]\n",
      "[20 30 40]\n",
      "[10 20 30 40]\n",
      "[10 40]\n",
      "[40 50 60]\n",
      "60\n",
      "30\n",
      "50\n",
      "40\n",
      "20\n",
      "10\n"
     ]
    }
   ],
   "source": [
    "dee=np.array([10,20,30,40])\n",
    "print(dee[1:3])#[20,30]\n",
    "print(dee[1:4])#[20,30,40]\n",
    "print(dee[:])#[10,20,30,40]\n",
    "dee1=np.array([[10,20,30],[40,50,60]])\n",
    "print(dee1[::,0])#[10,40]\n",
    "print(dee1[1])#[40,50,60]\n",
    "print(dee1[1,2])#[60]\n",
    "print(dee1[0,2])#30\n",
    "print(dee1[1,1])#50\n",
    "print(dee1[1,0])#40\n",
    "print(dee1[0,1])#20\n",
    "print(dee1[0,0])#10"
   ]
  },
  {
   "cell_type": "code",
   "execution_count": 31,
   "metadata": {},
   "outputs": [
    {
     "name": "stdout",
     "output_type": "stream",
     "text": [
      "[10 40]\n",
      "[30 60]\n",
      "[20 50]\n",
      "[[10 30]\n",
      " [40 60]]\n",
      "[[20 30]\n",
      " [50 60]]\n"
     ]
    }
   ],
   "source": [
    "dee1=np.array([[10,20,30],[40,50,60]])\n",
    "print(dee1[::,0])#[10,40]\n",
    "print(dee1[::,2])#[30,60]\n",
    "print(dee1[::,1])#[20,50]\n",
    "print(dee1[::,::2])#[[10,30],[40,60]]\n",
    "print(dee1[::,1::])#[[20,30],[50,60]]"
   ]
  },
  {
   "cell_type": "code",
   "execution_count": null,
   "metadata": {},
   "outputs": [
    {
     "name": "stdout",
     "output_type": "stream",
     "text": [
      "[[10 30]\n",
      " [50 70]]\n",
      "[[30 40]\n",
      " [70 80]]\n",
      "[[10 20]\n",
      " [50 60]]\n",
      "[[10 20]\n",
      " [50 60]]\n",
      "[[10 20]\n",
      " [30 40]]\n",
      "[[30 40]\n",
      " [70 80]]\n",
      "[20 60]\n",
      "50\n",
      "60\n",
      "[[20 40]\n",
      " [60 80]]\n",
      "[30 70]\n",
      "[80 60]\n",
      "[30 10]\n",
      "[[70 80]\n",
      " [50 60]]\n"
     ]
    }
   ],
   "source": [
    "arr3=np.array([[[10,20],[30,40]],[[50,60],[70,80]]])\n",
    "print(arr3[::,::,0])#[[10,30],[50,70]]\n",
    "print(arr3[::,1,::])#[[30,40],[70,80]]\n",
    "print(arr3[::,0,::])#[[10,20],[50,60]]\n",
    "print(arr3[::,0])#[[10,20],[30,40]]\n",
    "print(arr3[0])#[[10,20],[30,40]]\n",
    "print(arr3[::,1])#[[30,40],[70,80]]\n",
    "print(arr3[::,0,1])#[20,60]\n",
    "print(arr3[1,0,0])#50\n",
    "print(arr3[1,0,1])#60\n",
    "print(arr3[::,::,-1])#[[60,80],[20,40]]\n",
    "print(arr3[::,-1,0])#[70,30]\n",
    "print(arr3[1,::-1,-1])#[80,60]\n",
    "print(arr3[0,::-1,-2])#[30,10]\n",
    "print(arr3[1,::-1])#[[70,80],[50,60]]"
   ]
  },
  {
   "cell_type": "code",
   "execution_count": 33,
   "metadata": {},
   "outputs": [
    {
     "name": "stdout",
     "output_type": "stream",
     "text": [
      "[[11 10]\n",
      " [13 50]]\n",
      "[[12 30]\n",
      " [90 70]]\n",
      "[[10 20]\n",
      " [30 40]]\n"
     ]
    }
   ],
   "source": [
    "arr4=np.array([[[10,20,11],[30,40,12]],[[50,60,13],[70,80,90]]])\n",
    "print(arr4[::,0,::-2])#[[11,10],[50,13]]\n",
    "print(arr4[::,-1,::-2])#[[12,30],[90,70]]\n",
    "print(arr4[0,::,:2:])#[[10,20],[30,40]]"
   ]
  }
 ],
 "metadata": {
  "kernelspec": {
   "display_name": "Python 3",
   "language": "python",
   "name": "python3"
  },
  "language_info": {
   "codemirror_mode": {
    "name": "ipython",
    "version": 3
   },
   "file_extension": ".py",
   "mimetype": "text/x-python",
   "name": "python",
   "nbconvert_exporter": "python",
   "pygments_lexer": "ipython3",
   "version": "3.12.4"
  }
 },
 "nbformat": 4,
 "nbformat_minor": 2
}
