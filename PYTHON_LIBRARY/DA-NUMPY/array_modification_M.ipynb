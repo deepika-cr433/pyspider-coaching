{
 "cells": [
  {
   "cell_type": "markdown",
   "metadata": {},
   "source": [
    "# NUMPY METHODS TO MODIFY AN EXISTING ARRAY\n",
    "RAVEL\n",
    "RESHAPE\n",
    "CONCATENATE\n",
    "hSTACK\n",
    "vSTACK\n",
    "SPLIT\n",
    "TILE\n",
    "REPEAT\n",
    "SWAPAXES\n",
    "TRANSPOSE\n",
    "**RRChvSTRST**"
   ]
  },
  {
   "cell_type": "markdown",
   "metadata": {},
   "source": [
    "# RAVEL"
   ]
  },
  {
   "cell_type": "code",
   "execution_count": 1,
   "metadata": {},
   "outputs": [
    {
     "name": "stdout",
     "output_type": "stream",
     "text": [
      "[10 20 30 40]\n",
      "[10]\n"
     ]
    }
   ],
   "source": [
    "import numpy as np\n",
    "a1=np.array([[10,20],[30,40]])\n",
    "a2=np.ravel(a1)\n",
    "print(a2)\n",
    "a3=np.array(10)\n",
    "a4=np.ravel(a3)\n",
    "print(a4)"
   ]
  },
  {
   "cell_type": "markdown",
   "metadata": {},
   "source": [
    "# RESHAPE"
   ]
  },
  {
   "cell_type": "code",
   "execution_count": null,
   "metadata": {},
   "outputs": [],
   "source": [
    "a1=np.array([[10,20],[30,40]])\n",
    "a2=np.reshape(a1,(1,4))\n",
    "a3=np.reshape(a1,(2,2))\n",
    "a4=np.reshape(a1,(4,1))\n",
    "print(a4)\n",
    "print(a3)\n",
    "print(a2)\n",
    "\n",
    "a1=np.array([[10,20,1],[30,40,2],[50,60,3],[70,80,4]])\n",
    "a2=np.reshape(a1,(4,3))\n",
    "a3=np.reshape(a1,(2,2,3))\n",
    "a4=np.reshape(a1,(3,2,2))\n",
    "print(a1.shape)\n",
    "print(a2)\n",
    "print(a3)\n",
    "print(a4)\n",
    "\n",
    "a1=np.array([[10,20],[30,40]])\n",
    "a2=np.reshape(a1,shape=-1)\n",
    "#print(a1)\n",
    "print(a2)"
   ]
  },
  {
   "cell_type": "markdown",
   "metadata": {},
   "source": [
    "# CONCATENATE"
   ]
  },
  {
   "cell_type": "code",
   "execution_count": 2,
   "metadata": {},
   "outputs": [
    {
     "name": "stdout",
     "output_type": "stream",
     "text": [
      "[[10 20]\n",
      " [30 40]]\n",
      "[[11 21]\n",
      " [31 41]]\n",
      "[[10 20]\n",
      " [30 40]\n",
      " [11 21]\n",
      " [31 41]]\n",
      "[[10 20 11 21]\n",
      " [30 40 31 41]]\n",
      "[[[10 20]\n",
      "  [30 40]]\n",
      "\n",
      " [[50 60]\n",
      "  [70 80]]\n",
      "\n",
      " [[11 21]\n",
      "  [31 41]]\n",
      "\n",
      " [[51 61]\n",
      "  [71 81]]]\n",
      "[[[10 20]\n",
      "  [30 40]\n",
      "  [11 21]\n",
      "  [31 41]]\n",
      "\n",
      " [[50 60]\n",
      "  [70 80]\n",
      "  [51 61]\n",
      "  [71 81]]]\n",
      "[[[10 20 11 21]\n",
      "  [30 40 31 41]]\n",
      "\n",
      " [[50 60 51 61]\n",
      "  [70 80 71 81]]]\n"
     ]
    }
   ],
   "source": [
    "a1=np.arange(10,50,10).reshape((2,2))\n",
    "print(a1)\n",
    "a2=np.arange(11,51,10).reshape((2,2))\n",
    "print(a2)\n",
    "a3=np.concatenate((a1,a2))\n",
    "a4=np.concatenate((a1,a2),axis=1)\n",
    "print(a3)\n",
    "print(a4)\n",
    "\n",
    "a1=np.array([[[10,20],[30,40]],[[50,60],[70,80]]])\n",
    "a2=np.array([[[11,21],[31,41]],[[51,61],[71,81]]])\n",
    "a3=np.concatenate((a1,a2))\n",
    "print(a3)\n",
    "a4=np.concatenate((a1,a2),axis=1)\n",
    "print(a4)\n",
    "a5=np.concatenate((a1,a2),axis=2)\n",
    "print(a5)"
   ]
  },
  {
   "cell_type": "markdown",
   "metadata": {},
   "source": [
    "# hSTACK"
   ]
  },
  {
   "cell_type": "code",
   "execution_count": 3,
   "metadata": {},
   "outputs": [
    {
     "name": "stdout",
     "output_type": "stream",
     "text": [
      "[[[10 20]\n",
      "  [30 40]\n",
      "  [11 21]\n",
      "  [31 41]]\n",
      "\n",
      " [[50 60]\n",
      "  [70 80]\n",
      "  [51 61]\n",
      "  [71 81]]]\n"
     ]
    }
   ],
   "source": [
    "a1=np.array([[[10,20],[30,40]],[[50,60],[70,80]]])\n",
    "a2=np.array([[[11,21],[31,41]],[[51,61],[71,81]]])\n",
    "a3=np.hstack((a1,a2))\n",
    "print(a3)"
   ]
  },
  {
   "cell_type": "markdown",
   "metadata": {},
   "source": [
    "# vSTACK"
   ]
  },
  {
   "cell_type": "code",
   "execution_count": 4,
   "metadata": {},
   "outputs": [
    {
     "name": "stdout",
     "output_type": "stream",
     "text": [
      "[[[10 20]\n",
      "  [30 40]]\n",
      "\n",
      " [[50 60]\n",
      "  [70 80]]\n",
      "\n",
      " [[11 21]\n",
      "  [31 41]]\n",
      "\n",
      " [[51 61]\n",
      "  [71 81]]]\n"
     ]
    }
   ],
   "source": [
    "a1=np.array([[[10,20],[30,40]],[[50,60],[70,80]]])\n",
    "a2=np.array([[[11,21],[31,41]],[[51,61],[71,81]]])\n",
    "a3=np.vstack((a1,a2))\n",
    "print(a3)"
   ]
  },
  {
   "cell_type": "markdown",
   "metadata": {},
   "source": [
    "# SPLIT"
   ]
  },
  {
   "cell_type": "code",
   "execution_count": 5,
   "metadata": {},
   "outputs": [
    {
     "name": "stdout",
     "output_type": "stream",
     "text": [
      "[array([10, 20, 30]), array([40, 50, 60])]\n",
      "[array([10, 20, 30]), array([40]), array([50, 60])]\n",
      "[array([10, 20]), array([30]), array([40, 50, 60])]\n",
      "[array([10, 20]), array([30, 40]), array([50, 60])]\n"
     ]
    }
   ],
   "source": [
    "a1=np.array([10,20,30,40,50,60])\n",
    "a2=np.split(a1,2)\n",
    "a3=np.split(a1,(3,4))\n",
    "print(a2)\n",
    "print(a3)\n",
    "a4=np.split(a1,(2,3))\n",
    "print(a4)\n",
    "a5=np.split(a1,(2,4))\n",
    "print(a5)"
   ]
  },
  {
   "cell_type": "markdown",
   "metadata": {},
   "source": [
    "# TILE"
   ]
  },
  {
   "cell_type": "code",
   "execution_count": 6,
   "metadata": {},
   "outputs": [
    {
     "name": "stdout",
     "output_type": "stream",
     "text": [
      "[10 20 10 20]\n",
      "[[10 20 10 20]\n",
      " [30 40 30 40]]\n",
      "[[10 20 10 20]\n",
      " [30 40 30 40]\n",
      " [10 20 10 20]\n",
      " [30 40 30 40]]\n",
      "[[[10 20 10 20]\n",
      "  [30 40 30 40]\n",
      "  [10 20 10 20]\n",
      "  [30 40 30 40]\n",
      "  [10 20 10 20]\n",
      "  [30 40 30 40]]\n",
      "\n",
      " [[50 60 50 60]\n",
      "  [70 80 70 80]\n",
      "  [50 60 50 60]\n",
      "  [70 80 70 80]\n",
      "  [50 60 50 60]\n",
      "  [70 80 70 80]]]\n",
      "[[[10 20]\n",
      "  [30 40]\n",
      "  [10 20]\n",
      "  [30 40]]\n",
      "\n",
      " [[50 60]\n",
      "  [70 80]\n",
      "  [50 60]\n",
      "  [70 80]]\n",
      "\n",
      " [[10 20]\n",
      "  [30 40]\n",
      "  [10 20]\n",
      "  [30 40]]\n",
      "\n",
      " [[50 60]\n",
      "  [70 80]\n",
      "  [50 60]\n",
      "  [70 80]]\n",
      "\n",
      " [[10 20]\n",
      "  [30 40]\n",
      "  [10 20]\n",
      "  [30 40]]\n",
      "\n",
      " [[50 60]\n",
      "  [70 80]\n",
      "  [50 60]\n",
      "  [70 80]]]\n",
      "[[[[10 20]\n",
      "   [30 40]\n",
      "   [10 20]\n",
      "   [30 40]]\n",
      "\n",
      "  [[50 60]\n",
      "   [70 80]\n",
      "   [50 60]\n",
      "   [70 80]]\n",
      "\n",
      "  [[10 20]\n",
      "   [30 40]\n",
      "   [10 20]\n",
      "   [30 40]]\n",
      "\n",
      "  [[50 60]\n",
      "   [70 80]\n",
      "   [50 60]\n",
      "   [70 80]]]\n",
      "\n",
      "\n",
      " [[[10 20]\n",
      "   [30 40]\n",
      "   [10 20]\n",
      "   [30 40]]\n",
      "\n",
      "  [[50 60]\n",
      "   [70 80]\n",
      "   [50 60]\n",
      "   [70 80]]\n",
      "\n",
      "  [[10 20]\n",
      "   [30 40]\n",
      "   [10 20]\n",
      "   [30 40]]\n",
      "\n",
      "  [[50 60]\n",
      "   [70 80]\n",
      "   [50 60]\n",
      "   [70 80]]]]\n",
      "[[[[[10 20 10 20]\n",
      "    [30 40 30 40]]\n",
      "\n",
      "   [[50 60 50 60]\n",
      "    [70 80 70 80]]\n",
      "\n",
      "   [[10 20 10 20]\n",
      "    [30 40 30 40]]\n",
      "\n",
      "   [[50 60 50 60]\n",
      "    [70 80 70 80]]]\n",
      "\n",
      "\n",
      "  [[[10 20 10 20]\n",
      "    [30 40 30 40]]\n",
      "\n",
      "   [[50 60 50 60]\n",
      "    [70 80 70 80]]\n",
      "\n",
      "   [[10 20 10 20]\n",
      "    [30 40 30 40]]\n",
      "\n",
      "   [[50 60 50 60]\n",
      "    [70 80 70 80]]]]\n",
      "\n",
      "\n",
      "\n",
      " [[[[10 20 10 20]\n",
      "    [30 40 30 40]]\n",
      "\n",
      "   [[50 60 50 60]\n",
      "    [70 80 70 80]]\n",
      "\n",
      "   [[10 20 10 20]\n",
      "    [30 40 30 40]]\n",
      "\n",
      "   [[50 60 50 60]\n",
      "    [70 80 70 80]]]\n",
      "\n",
      "\n",
      "  [[[10 20 10 20]\n",
      "    [30 40 30 40]]\n",
      "\n",
      "   [[50 60 50 60]\n",
      "    [70 80 70 80]]\n",
      "\n",
      "   [[10 20 10 20]\n",
      "    [30 40 30 40]]\n",
      "\n",
      "   [[50 60 50 60]\n",
      "    [70 80 70 80]]]]]\n"
     ]
    }
   ],
   "source": [
    "import numpy as np\n",
    "a1=np.array([10,20])\n",
    "a2=np.tile(a1,2)\n",
    "print(a2)\n",
    "a1=np.array([[10,20],[30,40]])\n",
    "a2=np.tile(a1,2)\n",
    "a3=np.tile(a1,(2,2))\n",
    "print(a2)\n",
    "print(a3)\n",
    "a1=np.array([[[10,20],[30,40]],[[50,60],[70,80]]])\n",
    "a2=np.tile(a1,(3,2))#blue bracket and elements inside the blue bracket\n",
    "print(a2)\n",
    "a3=np.tile(a1,(3,2,1))\n",
    "print(a3)\n",
    "a4=np.tile(a1,(2,2,2,1))\n",
    "print(a4)\n",
    "a5=np.tile(a1,(2,2,2,1,2))\n",
    "print(a5)"
   ]
  },
  {
   "cell_type": "markdown",
   "metadata": {},
   "source": [
    "# REPEAT"
   ]
  },
  {
   "cell_type": "code",
   "execution_count": 10,
   "metadata": {},
   "outputs": [
    {
     "name": "stdout",
     "output_type": "stream",
     "text": [
      "[10 10 20 20]\n",
      "[10 10 20 20 30 30 40 40]\n"
     ]
    }
   ],
   "source": [
    "import numpy as np\n",
    "a1=np.array([10,20])\n",
    "a2=np.repeat(a1,2)\n",
    "print(a2)\n",
    "a1=np.array([[10,20],[30,40]])\n",
    "a2=np.repeat(a1,2)\n",
    "print(a2)\n",
    "# a2=np.repeat(a1,2,axis=0)\n",
    "# # print(a2)\n",
    "# a2=np.repeat(a1,2,axis=2)\n",
    "# # print(a2)"
   ]
  },
  {
   "cell_type": "markdown",
   "metadata": {},
   "source": [
    "# SWAPAXES"
   ]
  },
  {
   "cell_type": "code",
   "execution_count": 11,
   "metadata": {},
   "outputs": [
    {
     "name": "stdout",
     "output_type": "stream",
     "text": [
      "[[[10 20]\n",
      "  [50 60]]\n",
      "\n",
      " [[30 40]\n",
      "  [70 80]]]\n",
      "[[[10 30]\n",
      "  [20 40]]\n",
      "\n",
      " [[50 70]\n",
      "  [60 80]]]\n",
      "[[[10 30]\n",
      "  [20 40]]\n",
      "\n",
      " [[50 70]\n",
      "  [60 80]]]\n",
      "[[[10 50]\n",
      "  [30 70]]\n",
      "\n",
      " [[20 60]\n",
      "  [40 80]]]\n"
     ]
    }
   ],
   "source": [
    "import numpy as np\n",
    "a1=np.array([[10,20],[30,40]])\n",
    "a2=np.swapaxes(a1,axis1=1,axis2=0)\n",
    "#print(a2)\n",
    "a1=np.array([[[10,20],[30,40]],[[50,60],[70,80]]])\n",
    "a2=np.swapaxes(a1,axis1=1,axis2=0)\n",
    "print(a2)\n",
    "a3=np.swapaxes(a1,axis1=2,axis2=1)\n",
    "print(a3)\n",
    "a4=np.swapaxes(a1,axis1=1,axis2=2)\n",
    "print(a4)\n",
    "a5=np.swapaxes(a1,axis1=0,axis2=2)\n",
    "print(a5)"
   ]
  },
  {
   "cell_type": "markdown",
   "metadata": {},
   "source": [
    "# TRANSPOSE"
   ]
  },
  {
   "cell_type": "code",
   "execution_count": 12,
   "metadata": {},
   "outputs": [
    {
     "name": "stdout",
     "output_type": "stream",
     "text": [
      "[[[10 30]\n",
      "  [20 40]]\n",
      "\n",
      " [[50 70]\n",
      "  [60 80]]]\n",
      "[[[10 50]\n",
      "  [30 70]]\n",
      "\n",
      " [[20 60]\n",
      "  [40 80]]]\n",
      "[[[10 50]\n",
      "  [20 60]]\n",
      "\n",
      " [[30 70]\n",
      "  [40 80]]]\n",
      "[[10 40]\n",
      " [20 50]\n",
      " [30 60]]\n"
     ]
    }
   ],
   "source": [
    "import numpy as np\n",
    "a1=np.array([[10,20],[30,40]])\n",
    "a2=np.transpose(a1,(1,0))\n",
    "#print(a2)\n",
    "a1=np.array([[[10,20],[30,40]],[[50,60],[70,80]]])\n",
    "a2=np.transpose(a1,(0,2,1))\n",
    "print(a2)\n",
    "a3=np.transpose(a1,(2,1,0))\n",
    "print(a3)\n",
    "a4=np.transpose(a1,(1,2,0))\n",
    "print(a4)\n",
    "a1=np.array([[10,20,30],[40,50,60]])\n",
    "a2=np.transpose(a1,(1,0))\n",
    "print(a2)"
   ]
  },
  {
   "cell_type": "code",
   "execution_count": null,
   "metadata": {},
   "outputs": [],
   "source": []
  }
 ],
 "metadata": {
  "kernelspec": {
   "display_name": "Python 3",
   "language": "python",
   "name": "python3"
  },
  "language_info": {
   "codemirror_mode": {
    "name": "ipython",
    "version": 3
   },
   "file_extension": ".py",
   "mimetype": "text/x-python",
   "name": "python",
   "nbconvert_exporter": "python",
   "pygments_lexer": "ipython3",
   "version": "3.12.4"
  }
 },
 "nbformat": 4,
 "nbformat_minor": 2
}
