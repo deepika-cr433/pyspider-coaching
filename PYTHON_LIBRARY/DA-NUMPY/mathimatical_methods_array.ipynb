{
 "cells": [
  {
   "cell_type": "code",
   "execution_count": 1,
   "metadata": {},
   "outputs": [],
   "source": [
    "import numpy as np"
   ]
  },
  {
   "cell_type": "markdown",
   "metadata": {},
   "source": [
    "# MATHEMATICAL OR STATISTICAL METHODS OF NUMPY\n",
    "SQRT\n",
    "EXP\n",
    "LOG\n",
    "SUM\n",
    "PROD\n",
    "MAX\n",
    "MIN\n",
    "MEAN\n",
    "MEDIAN\n",
    "PERCENTILE\n",
    "--------------------------------------\n",
    "CUMSUM\n",
    "CUMPROD\n",
    "VAR\n",
    "STD\n",
    "MATMUL\n",
    "DOT\n",
    "DET\n",
    "INV\n",
    "COPY\n",
    "VIEW\n",
    "--------------------------------------\n",
    "SORT\n",
    "ARGSORT\n",
    "UNIQUE\n",
    "LOGICAL_AND\n",
    "LOGICAL_OR\n",
    "LOGICAL_NOT\n",
    "DELETE\n",
    "INSERT"
   ]
  },
  {
   "cell_type": "markdown",
   "metadata": {},
   "source": [
    "SQRT\n",
    "EXP\n",
    "LOG\n",
    "SUM\n",
    "PROD\n",
    "MAX\n",
    "MIN\n",
    "MEAN\n",
    "MEDIAN\n",
    "PERCENTILE"
   ]
  },
  {
   "cell_type": "markdown",
   "metadata": {},
   "source": [
    "# SQRT,EXP,LOG"
   ]
  },
  {
   "cell_type": "code",
   "execution_count": 2,
   "metadata": {},
   "outputs": [
    {
     "name": "stdout",
     "output_type": "stream",
     "text": [
      "[1.41421356 2.         8.        ]\n",
      "[1.         2.71828183 7.3890561 ]\n",
      "[0. 1. 2.]\n",
      "[0.         4.07745269 4.18782883]\n"
     ]
    }
   ],
   "source": [
    "a1=np.array([2,4,64])\n",
    "a2=np.sqrt(a1)\n",
    "print(a2)\n",
    "a1=np.array([0,1,2])\n",
    "a2=np.exp(a1)\n",
    "print(a2)\n",
    "a1=np.array([1,2.71828183,7.3890561])\n",
    "a2=np.log(a1)\n",
    "print(a2)\n",
    "a1=np.array([1,58.995,65.8796])\n",
    "a2=np.log(a1)\n",
    "print(a2)"
   ]
  },
  {
   "cell_type": "markdown",
   "metadata": {},
   "source": [
    "# SUM"
   ]
  },
  {
   "cell_type": "code",
   "execution_count": 3,
   "metadata": {},
   "outputs": [
    {
     "name": "stdout",
     "output_type": "stream",
     "text": [
      "100\n",
      "[[100]]\n",
      "[40 60]\n",
      "[30 70]\n",
      "[140 160]\n",
      "[130 170]\n"
     ]
    }
   ],
   "source": [
    "import numpy as np\n",
    "a1=np.array([[10,20],[30,40]])\n",
    "a2=np.sum(a1)\n",
    "print(a2)\n",
    "a2=np.sum(a1,keepdims=True)\n",
    "print(a2)\n",
    "a2=np.sum(a1,axis=0)\n",
    "print(a2)\n",
    "a2=np.sum(a1,axis=1)\n",
    "print(a2)\n",
    "a2=np.sum(a1,axis=0,initial=100)\n",
    "print(a2)\n",
    "a2=np.sum(a1,axis=1,initial=100)\n",
    "print(a2)"
   ]
  },
  {
   "cell_type": "markdown",
   "metadata": {},
   "source": [
    "# PROD"
   ]
  },
  {
   "cell_type": "code",
   "execution_count": 4,
   "metadata": {},
   "outputs": [
    {
     "name": "stdout",
     "output_type": "stream",
     "text": [
      "360\n",
      "[[360]]\n",
      "[15 24]\n",
      "[30 12]\n",
      "[1500 2400]\n",
      "[ 5 12]\n"
     ]
    }
   ],
   "source": [
    "a1=np.array([[5,6],[3,4]])\n",
    "a2=np.prod(a1)\n",
    "print(a2)\n",
    "a2=np.prod(a1,keepdims=True)\n",
    "print(a2)\n",
    "a2=np.prod(a1,axis=0)\n",
    "print(a2)\n",
    "a2=np.prod(a1,axis=1)\n",
    "print(a2)\n",
    "a2=np.prod(a1,axis=0,initial=100)\n",
    "print(a2)\n",
    "b=np.array([[True,False],[True,True]])\n",
    "a2=np.prod(a1,axis=1,where=b)\n",
    "print(a2)"
   ]
  },
  {
   "cell_type": "markdown",
   "metadata": {},
   "source": [
    "# MAX"
   ]
  },
  {
   "cell_type": "code",
   "execution_count": 5,
   "metadata": {},
   "outputs": [
    {
     "name": "stdout",
     "output_type": "stream",
     "text": [
      "6\n",
      "[[6]]\n",
      "[5 6]\n",
      "[6 4]\n",
      "[100 100]\n",
      "[5 4]\n"
     ]
    }
   ],
   "source": [
    "a1=np.array([[5,6],[3,4]])\n",
    "a2=np.max(a1)\n",
    "print(a2)\n",
    "a2=np.max(a1,keepdims=True)\n",
    "print(a2)\n",
    "a2=np.max(a1,axis=0)\n",
    "print(a2)\n",
    "a2=np.max(a1,axis=1)\n",
    "print(a2)\n",
    "a2=np.max(a1,axis=0,initial=100)\n",
    "print(a2)\n",
    "b=np.array([[True,False],[True,True]])\n",
    "a2=np.max(a1,axis=1,where=b,initial=2)\n",
    "print(a2)"
   ]
  },
  {
   "cell_type": "markdown",
   "metadata": {},
   "source": [
    "# MIN"
   ]
  },
  {
   "cell_type": "code",
   "execution_count": 6,
   "metadata": {},
   "outputs": [
    {
     "name": "stdout",
     "output_type": "stream",
     "text": [
      "3\n",
      "[[3]]\n",
      "[3 4]\n",
      "[5 3]\n",
      "[3 4]\n",
      "[2 2]\n"
     ]
    }
   ],
   "source": [
    "a1=np.array([[5,6],[3,4]])\n",
    "a2=np.min(a1)\n",
    "print(a2)\n",
    "a2=np.min(a1,keepdims=True)\n",
    "print(a2)\n",
    "a2=np.min(a1,axis=0)\n",
    "print(a2)\n",
    "a2=np.min(a1,axis=1)\n",
    "print(a2)\n",
    "a2=np.min(a1,axis=0,initial=100)\n",
    "print(a2)\n",
    "b=np.array([[True,False],[True,True]])\n",
    "a2=np.min(a1,axis=1,where=b,initial=2)\n",
    "print(a2)"
   ]
  },
  {
   "cell_type": "markdown",
   "metadata": {},
   "source": [
    "# MEAN"
   ]
  },
  {
   "cell_type": "code",
   "execution_count": 7,
   "metadata": {},
   "outputs": [
    {
     "name": "stdout",
     "output_type": "stream",
     "text": [
      "16.25\n",
      "[ 7.5 25. ]\n",
      "[[ 7.5 25. ]]\n",
      "[[15. ]\n",
      " [17.5]]\n",
      "[[10. 25.]]\n",
      "[[15.]\n",
      " [30.]]\n",
      "[[28. 35. 42.]]\n",
      "[[20.]\n",
      " [ 5.]\n",
      " [80.]]\n"
     ]
    }
   ],
   "source": [
    "import numpy as np\n",
    "a1=np.array([[10,20],[5,30]])\n",
    "a2=np.mean(a1)\n",
    "print(a2)\n",
    "a3=np.mean(a1,axis=0)\n",
    "print(a3)\n",
    "a3=np.mean(a1,axis=0,keepdims=True)\n",
    "print(a3)\n",
    "a4=np.mean(a1,axis=1,keepdims=True)\n",
    "print(a4)\n",
    "a5=np.mean(a1,axis=0,where=np.array([[True,True],[False,True]]),keepdims=True)\n",
    "print(a5)\n",
    "a5=np.mean(a1,axis=1,where=np.array([[True,True],[False,True]]),keepdims=True)\n",
    "print(a5)\n",
    "a7=np.array([[10,20,30],[4,5,6],[70,80,90]])\n",
    "a3=np.mean(a7,axis=0,keepdims=True)\n",
    "print(a3)\n",
    "a4=np.mean(a7,axis=1,keepdims=True)\n",
    "print(a4)"
   ]
  },
  {
   "cell_type": "markdown",
   "metadata": {},
   "source": [
    "# MEDIAN"
   ]
  },
  {
   "cell_type": "code",
   "execution_count": 9,
   "metadata": {},
   "outputs": [
    {
     "name": "stdout",
     "output_type": "stream",
     "text": [
      "3.0\n",
      "[3.]\n",
      "[[5. ]\n",
      " [2. ]\n",
      " [7.5]]\n",
      "[[8. 3.]]\n",
      "[[10. 20. 30.]]\n",
      "[[20.]\n",
      " [ 5.]\n",
      " [80.]]\n"
     ]
    }
   ],
   "source": [
    "import numpy as np\n",
    "a1=np.array([8,2,1,3,9])\n",
    "b=np.median(a1)\n",
    "print(b)\n",
    "a3=np.median(a1,axis=0,keepdims=True)\n",
    "print(a3)\n",
    "a2=np.array([[8,2],[1,3],[9,6]])\n",
    "a3=np.median(a2,axis=1,keepdims=True)\n",
    "print(a3)\n",
    "a3=np.median(a2,axis=0,keepdims=True)\n",
    "print(a3)\n",
    "a7=np.array([[10,20,30],[4,5,6],[70,80,90]])\n",
    "a3=np.median(a7,axis=0,keepdims=True)\n",
    "print(a3)\n",
    "a4=np.median(a7,axis=1,keepdims=True)\n",
    "print(a4)"
   ]
  },
  {
   "cell_type": "markdown",
   "metadata": {},
   "source": [
    "# PERCENTILE"
   ]
  },
  {
   "cell_type": "code",
   "execution_count": 10,
   "metadata": {},
   "outputs": [
    {
     "name": "stdout",
     "output_type": "stream",
     "text": [
      "5.5\n",
      "3.25\n",
      "[10. 20. 30.]\n",
      "[[25. ]\n",
      " [ 5.5]\n",
      " [85. ]]\n"
     ]
    }
   ],
   "source": [
    "a1=np.arange(1,11)\n",
    "b=np.percentile(a1,50)\n",
    "print(b)\n",
    "a1=np.array([8,9,7,5,6,1,2,3,4,10])\n",
    "b=np.percentile(a1,25,overwrite_input=True)\n",
    "print(b)\n",
    "a7=np.array([[10,20,30],[4,5,6],[70,80,90]])\n",
    "a3=np.percentile(a7,50,axis=0)\n",
    "print(a3)\n",
    "a4=np.percentile(a7,75,axis=1,keepdims=True)\n",
    "print(a4)"
   ]
  },
  {
   "cell_type": "markdown",
   "metadata": {},
   "source": [
    "CUMSUM\n",
    "CUMPROD\n",
    "VAR\n",
    "STD\n",
    "MATMUL\n",
    "DOT\n",
    "DET\n",
    "INV\n",
    "COPY\n",
    "VIEW"
   ]
  },
  {
   "cell_type": "markdown",
   "metadata": {},
   "source": [
    "# CUMSUM"
   ]
  },
  {
   "cell_type": "code",
   "execution_count": 11,
   "metadata": {},
   "outputs": [
    {
     "name": "stdout",
     "output_type": "stream",
     "text": [
      "[ 1  3  6 10 15 21 28 36 45 55]\n",
      "[ 8 17 24 29 35 36 38 41 45 55]\n",
      "[ 8 17 24 29 35 36 38 41 45 55]\n",
      "[[ 10  20  30]\n",
      " [ 14  25  36]\n",
      " [ 84 105 126]]\n",
      "[[ 10  30  60]\n",
      " [  4   9  15]\n",
      " [ 70 150 240]]\n"
     ]
    }
   ],
   "source": [
    "import numpy as np\n",
    "a1=np.arange(1,11)\n",
    "a2=np.cumsum(a1)\n",
    "print(a2)\n",
    "a1=np.array([8,9,7,5,6,1,2,3,4,10])\n",
    "b=np.cumsum(a1)\n",
    "print(b)\n",
    "b=np.cumsum(a1,axis=0)\n",
    "print(b)\n",
    "a7=np.array([[10,20,30],[4,5,6],[70,80,90]])\n",
    "a3=np.cumsum(a7,axis=0)\n",
    "print(a3)\n",
    "a4=np.cumsum(a7,axis=1)\n",
    "print(a4)"
   ]
  },
  {
   "cell_type": "markdown",
   "metadata": {},
   "source": [
    "# CUMPROD"
   ]
  },
  {
   "cell_type": "code",
   "execution_count": 12,
   "metadata": {},
   "outputs": [
    {
     "name": "stdout",
     "output_type": "stream",
     "text": [
      "[      1       2       6      24     120     720    5040   40320  362880\n",
      " 3628800]\n",
      "[      8      72     504    2520   15120   15120   30240   90720  362880\n",
      " 3628800]\n",
      "[      8      72     504    2520   15120   15120   30240   90720  362880\n",
      " 3628800]\n",
      "[[   10    20    30]\n",
      " [   40   100   180]\n",
      " [ 2800  8000 16200]]\n",
      "[[    10    200   6000]\n",
      " [     4     20    120]\n",
      " [    70   5600 504000]]\n"
     ]
    }
   ],
   "source": [
    "import numpy as np\n",
    "a1=np.arange(1,11)\n",
    "a2=np.cumprod(a1)\n",
    "print(a2)\n",
    "a1=np.array([8,9,7,5,6,1,2,3,4,10])\n",
    "b=np.cumprod(a1)\n",
    "print(b)\n",
    "b=np.cumprod(a1,axis=0)\n",
    "print(b)\n",
    "a7=np.array([[10,20,30],[4,5,6],[70,80,90]])\n",
    "a3=np.cumprod(a7,axis=0)\n",
    "print(a3)\n",
    "a4=np.cumprod(a7,axis=1)\n",
    "print(a4)"
   ]
  },
  {
   "cell_type": "markdown",
   "metadata": {},
   "source": [
    "# VAR"
   ]
  },
  {
   "cell_type": "code",
   "execution_count": 13,
   "metadata": {},
   "outputs": [
    {
     "name": "stdout",
     "output_type": "stream",
     "text": [
      "8.25\n",
      "[9.13580247]\n",
      "8.25\n",
      "[ 888. 1050. 1248.]\n",
      "[66.66666667  0.66666667 66.66666667]\n"
     ]
    }
   ],
   "source": [
    "import numpy as np\n",
    "a1=np.arange(1,11)\n",
    "a2=np.var(a1)\n",
    "print(a2)\n",
    "a1=np.array([8,9,7,5,6,1,2,3,4,10])\n",
    "c=np.array([True,True,True,False,True,True,True,True,True,True])\n",
    "b=np.var(a1,keepdims=True,where=c)\n",
    "print(b)\n",
    "b=np.var(a1,axis=0)\n",
    "print(b)\n",
    "a7=np.array([[10,20,30],[4,5,6],[70,80,90]])\n",
    "a3=np.var(a7,axis=0)\n",
    "print(a3)\n",
    "a4=np.var(a7,axis=1)\n",
    "print(a4)"
   ]
  },
  {
   "cell_type": "markdown",
   "metadata": {},
   "source": [
    "# STD"
   ]
  },
  {
   "cell_type": "code",
   "execution_count": 14,
   "metadata": {},
   "outputs": [
    {
     "name": "stdout",
     "output_type": "stream",
     "text": [
      "2.8722813232690143\n",
      "[3.022549]\n",
      "2.8722813232690143\n",
      "[29.79932885 32.40370349 35.32704347]\n",
      "[8.16496581 0.81649658 8.16496581]\n"
     ]
    }
   ],
   "source": [
    "import numpy as np\n",
    "a1=np.arange(1,11)\n",
    "a2=np.std(a1)\n",
    "print(a2)\n",
    "a1=np.array([8,9,7,5,6,1,2,3,4,10])\n",
    "c=np.array([True,True,True,False,True,True,True,True,True,True])\n",
    "b=np.std(a1,keepdims=True,where=c)\n",
    "print(b)\n",
    "b=np.std(a1,axis=0)\n",
    "print(b)\n",
    "a7=np.array([[10,20,30],[4,5,6],[70,80,90]])\n",
    "a3=np.std(a7,axis=0)\n",
    "print(a3)\n",
    "a4=np.std(a7,axis=1)\n",
    "print(a4)"
   ]
  },
  {
   "cell_type": "markdown",
   "metadata": {},
   "source": [
    "# MATMUL"
   ]
  },
  {
   "cell_type": "code",
   "execution_count": 15,
   "metadata": {},
   "outputs": [
    {
     "name": "stdout",
     "output_type": "stream",
     "text": [
      "[[44 24]\n",
      " [30 36]]\n"
     ]
    }
   ],
   "source": [
    "import numpy as np\n",
    "a1=np.array([[1,2,5],[3,4,1]])\n",
    "a2=np.array([[5,6],[2,4],[7,2]])\n",
    "a3=np.matmul(a1,a2)\n",
    "print(a3)"
   ]
  },
  {
   "cell_type": "markdown",
   "metadata": {},
   "source": [
    "# DOT"
   ]
  },
  {
   "cell_type": "code",
   "execution_count": 16,
   "metadata": {},
   "outputs": [
    {
     "name": "stdout",
     "output_type": "stream",
     "text": [
      "[[44 24]\n",
      " [30 36]]\n"
     ]
    }
   ],
   "source": [
    "import numpy as np\n",
    "a1=np.array([[1,2,5],[3,4,1]])\n",
    "a2=np.array([[5,6],[2,4],[7,2]])\n",
    "a3=np.dot(a1,a2)\n",
    "print(a3)"
   ]
  },
  {
   "cell_type": "markdown",
   "metadata": {},
   "source": [
    "# DET,INV"
   ]
  },
  {
   "cell_type": "code",
   "execution_count": 18,
   "metadata": {},
   "outputs": [
    {
     "name": "stdout",
     "output_type": "stream",
     "text": [
      "-3.999999999999999\n",
      "[[-1.5   0.5 ]\n",
      " [ 1.25 -0.25]]\n"
     ]
    }
   ],
   "source": [
    "a1=np.array([[1,2],[5,6]])\n",
    "d=np.linalg.det(a1)\n",
    "print(d)\n",
    "d1=np.linalg.inv(a1)\n",
    "print(d1)\n"
   ]
  },
  {
   "cell_type": "markdown",
   "metadata": {},
   "source": [
    "# COPY,VIEW"
   ]
  },
  {
   "cell_type": "code",
   "execution_count": 20,
   "metadata": {},
   "outputs": [
    {
     "name": "stdout",
     "output_type": "stream",
     "text": [
      "[100   2   3]\n",
      "[1 2 3]\n",
      "[100   2   3]\n",
      "[100   2   3]\n"
     ]
    }
   ],
   "source": [
    "a1=np.array([1,2,3])\n",
    "a2=a1.copy()\n",
    "a1[0]=100\n",
    "print(a1)\n",
    "print(a2)\n",
    "#############################\n",
    "a3=a1.view()\n",
    "a1[0]=100\n",
    "print(a1)\n",
    "print(a3)"
   ]
  },
  {
   "cell_type": "markdown",
   "metadata": {},
   "source": [
    "# SORT"
   ]
  },
  {
   "cell_type": "code",
   "execution_count": 21,
   "metadata": {},
   "outputs": [
    {
     "name": "stdout",
     "output_type": "stream",
     "text": [
      "[ 1  2  6 10]\n",
      "[10  6  2  1]\n",
      "[[ 1  3 10]\n",
      " [ 0  2  6]]\n",
      "[[ 1  2  0]\n",
      " [ 6 10  3]]\n"
     ]
    }
   ],
   "source": [
    "a1=np.array([1,10,6,2])\n",
    "a2=np.sort(a1)\n",
    "print(a2)\n",
    "print(a2[::-1])\n",
    "a1=np.array([[1,10,3],[6,2,0]])\n",
    "a2=np.sort(a1)\n",
    "print(a2)\n",
    "a2=np.sort(a1,axis=0)\n",
    "print(a2)"
   ]
  },
  {
   "cell_type": "markdown",
   "metadata": {},
   "source": [
    "# ARGSORT"
   ]
  },
  {
   "cell_type": "code",
   "execution_count": 22,
   "metadata": {},
   "outputs": [
    {
     "name": "stdout",
     "output_type": "stream",
     "text": [
      "[[0 2 1]\n",
      " [2 1 0]]\n",
      "[[0 1 1]\n",
      " [1 0 0]]\n"
     ]
    }
   ],
   "source": [
    "a1=np.array([[1,10,3],[6,2,0]])\n",
    "a2=np.argsort(a1)\n",
    "print(a2)\n",
    "a2=np.argsort(a1,axis=0)\n",
    "print(a2)"
   ]
  },
  {
   "cell_type": "markdown",
   "metadata": {},
   "source": [
    "# UNIQUE"
   ]
  },
  {
   "cell_type": "code",
   "execution_count": 26,
   "metadata": {},
   "outputs": [
    {
     "name": "stdout",
     "output_type": "stream",
     "text": [
      "[10 20 30 40]\n",
      "(array([10, 20, 30, 40]), array([2, 0, 1, 4]))\n",
      "(array([10, 20, 30, 40]), array([1, 2, 2, 1]))\n",
      "(array([10, 20, 30, 40]), array([1, 2, 0, 1, 3, 2]))\n"
     ]
    }
   ],
   "source": [
    "a1=np.array([20,30,10,20,40,30])\n",
    "a2=np.unique(a1)\n",
    "print(a2)\n",
    "a3=np.unique(a1,return_index=True)\n",
    "print(a3)\n",
    "a4=np.unique(a1,return_counts=True)\n",
    "print(a4)\n",
    "a5=np.unique(a1,return_inverse=True)\n",
    "print(a5)"
   ]
  },
  {
   "cell_type": "markdown",
   "metadata": {},
   "source": [
    "# LOGICAL_AND"
   ]
  },
  {
   "cell_type": "code",
   "execution_count": 31,
   "metadata": {},
   "outputs": [
    {
     "name": "stdout",
     "output_type": "stream",
     "text": [
      "[ True False False  True False False]\n",
      "[20 20]\n",
      "[ True False False  True False False]\n",
      "[20 20]\n",
      "[20 20]\n"
     ]
    }
   ],
   "source": [
    "a1=np.array([20,30,10,20,40,30])\n",
    "res=np.logical_and(a1>10,a1<30)\n",
    "print(res)\n",
    "print(a1[res])\n",
    "res=(a1>10) & (a1<30)\n",
    "print(res)\n",
    "print(a1[res])\n",
    "print(a1[[True,False,False,True,False,False]])"
   ]
  },
  {
   "cell_type": "markdown",
   "metadata": {},
   "source": [
    "# LOGICAL_OR"
   ]
  },
  {
   "cell_type": "code",
   "execution_count": 34,
   "metadata": {},
   "outputs": [
    {
     "name": "stdout",
     "output_type": "stream",
     "text": [
      "[False  True  True False False  True]\n",
      "[30 10 30]\n",
      "[ True  True  True  True False  True]\n",
      "[20 30 10 20 30]\n"
     ]
    }
   ],
   "source": [
    "a1=np.array([20,30,10,20,40,30])\n",
    "res=np.logical_or(a1==10,a1==30)\n",
    "print(res)\n",
    "print(a1[res])\n",
    "res=(a1==10)|(a1==30)|(a1==20)\n",
    "print(res)\n",
    "print(a1[res])"
   ]
  },
  {
   "cell_type": "markdown",
   "metadata": {},
   "source": [
    "# LOGICAL NOT"
   ]
  },
  {
   "cell_type": "code",
   "execution_count": 37,
   "metadata": {},
   "outputs": [
    {
     "name": "stdout",
     "output_type": "stream",
     "text": [
      "[False False  True False False False]\n",
      "[10]\n",
      "[False False  True False False False]\n",
      "[10]\n"
     ]
    }
   ],
   "source": [
    "a1=np.array([20,30,10,20,40,30])\n",
    "res=np.logical_not(a1>=20)\n",
    "print(res)\n",
    "print(a1[res])\n",
    "res=~(a1>=20)\n",
    "print(res)\n",
    "print(a1[res])"
   ]
  },
  {
   "cell_type": "markdown",
   "metadata": {},
   "source": [
    "# DELETE"
   ]
  },
  {
   "cell_type": "code",
   "execution_count": 39,
   "metadata": {},
   "outputs": [
    {
     "name": "stdout",
     "output_type": "stream",
     "text": [
      "[[10 20]\n",
      " [30 40]]\n",
      "[20 30 40]\n",
      "[[10 20]\n",
      " [30 40]]\n",
      "[[20]\n",
      " [40]]\n",
      "[[10 20]\n",
      " [30 40]]\n",
      "[[30 40]]\n",
      "[10 30]\n"
     ]
    }
   ],
   "source": [
    "a1=np.array([[10,20],[30,40]])\n",
    "a2=np.delete(a1,0)#default:axis=none\n",
    "print(a1)\n",
    "print(a2)\n",
    "a1=np.array([[10,20],[30,40]])\n",
    "a2=np.delete(a1,0,axis=1)\n",
    "print(a1)\n",
    "print(a2)\n",
    "a3=np.delete(a1,0,axis=0)\n",
    "print(a1)\n",
    "print(a3)\n",
    "a2=np.delete(a1,[3,1])\n",
    "print(a2)"
   ]
  },
  {
   "cell_type": "markdown",
   "metadata": {},
   "source": [
    "# INSERT"
   ]
  },
  {
   "cell_type": "code",
   "execution_count": 42,
   "metadata": {},
   "outputs": [
    {
     "name": "stdout",
     "output_type": "stream",
     "text": [
      "[[10 20]\n",
      " [30 40]]\n",
      "[ 10  20 100 200  30  40]\n",
      "[[10 20]\n",
      " [30 40]]\n",
      "[[ 10  20 100]\n",
      " [ 30  40 200]]\n"
     ]
    }
   ],
   "source": [
    "a1=np.array([[10,20],[30,40]])\n",
    "a2=np.insert(a1,2,[100,200])\n",
    "print(a1)\n",
    "print(a2)\n",
    "# a2=np.insert(a1,2,[100,200],axis=0)\n",
    "# print(a1)\n",
    "# print(a2)\n",
    "a3=np.insert(a1,2,[100,200],axis=1)\n",
    "print(a1)\n",
    "print(a3)"
   ]
  }
 ],
 "metadata": {
  "kernelspec": {
   "display_name": "Python 3",
   "language": "python",
   "name": "python3"
  },
  "language_info": {
   "codemirror_mode": {
    "name": "ipython",
    "version": 3
   },
   "file_extension": ".py",
   "mimetype": "text/x-python",
   "name": "python",
   "nbconvert_exporter": "python",
   "pygments_lexer": "ipython3",
   "version": "3.12.4"
  }
 },
 "nbformat": 4,
 "nbformat_minor": 2
}
