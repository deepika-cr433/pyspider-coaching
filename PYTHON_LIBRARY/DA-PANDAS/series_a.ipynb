{
 "cells": [
  {
   "cell_type": "code",
   "execution_count": 1,
   "metadata": {},
   "outputs": [],
   "source": [
    "import pandas as pd"
   ]
  },
  {
   "cell_type": "code",
   "execution_count": 3,
   "metadata": {},
   "outputs": [
    {
     "name": "stdout",
     "output_type": "stream",
     "text": [
      "0    a\n",
      "1    b\n",
      "2    c\n",
      "3    d\n",
      "dtype: object\n",
      "<class 'pandas.core.series.Series'>\n"
     ]
    },
    {
     "data": {
      "text/plain": [
       "a    100.0\n",
       "b    200.0\n",
       "c    300.0\n",
       "d    400.0\n",
       "Name: col1, dtype: float64"
      ]
     },
     "execution_count": 3,
     "metadata": {},
     "output_type": "execute_result"
    }
   ],
   "source": [
    "a=['a','b','c','d']\n",
    "s=pd.Series(a)\n",
    "print(s)\n",
    "print(type(s))\n",
    "d=[100,200,300,400]\n",
    "pd.Series(d,name=\"col1\",dtype='float',index=['a','b','c','d'])"
   ]
  },
  {
   "cell_type": "code",
   "execution_count": 4,
   "metadata": {},
   "outputs": [
    {
     "name": "stdout",
     "output_type": "stream",
     "text": [
      "0    100\n",
      "1    200\n",
      "2    300\n",
      "3    400\n",
      "dtype: int64\n",
      "[100, 200, 300, 400]\n",
      "0     10\n",
      "1    200\n",
      "2    300\n",
      "3    400\n",
      "dtype: int64\n"
     ]
    }
   ],
   "source": [
    "d=[100,200,300,400]\n",
    "s=pd.Series(d,copy=True)\n",
    "print(s)\n",
    "print(d)\n",
    "s[0]=10\n",
    "print(s)"
   ]
  },
  {
   "cell_type": "code",
   "execution_count": 8,
   "metadata": {},
   "outputs": [
    {
     "name": "stdout",
     "output_type": "stream",
     "text": [
      "0    1\n",
      "1    2\n",
      "2    3\n",
      "3    4\n",
      "dtype: int64\n",
      "ten       10\n",
      "twenty    20\n",
      "dtype: int64\n"
     ]
    }
   ],
   "source": [
    "d=(1,2,3,4)\n",
    "d1=pd.Series(d)\n",
    "print(d1)\n",
    "d={'ten':10,'twenty':20}\n",
    "d2=pd.Series(d)\n",
    "print(d2)"
   ]
  },
  {
   "cell_type": "code",
   "execution_count": 10,
   "metadata": {},
   "outputs": [],
   "source": [
    "# d={1,2,3,4}\n",
    "# pd.Series(d)"
   ]
  },
  {
   "cell_type": "code",
   "execution_count": 12,
   "metadata": {},
   "outputs": [
    {
     "name": "stdout",
     "output_type": "stream",
     "text": [
      "0    a\n",
      "1    b\n",
      "2    c\n",
      "3    d\n",
      "4    e\n",
      "5    f\n",
      "dtype: object\n"
     ]
    }
   ],
   "source": [
    "d=['a','b','c','d','e','f']\n",
    "s=pd.Series(d)\n",
    "print(s)\n",
    "# d={'a','b','c','d','e','f'}\n",
    "# s=pd.Series(d)\n",
    "# print(s)"
   ]
  },
  {
   "cell_type": "markdown",
   "metadata": {},
   "source": [
    "# INDEXING ANS SLICING"
   ]
  },
  {
   "cell_type": "code",
   "execution_count": 13,
   "metadata": {},
   "outputs": [
    {
     "name": "stdout",
     "output_type": "stream",
     "text": [
      "d\n",
      "1    b\n",
      "3    d\n",
      "5    f\n",
      "dtype: object\n",
      "0    a\n",
      "2    c\n",
      "4    e\n",
      "dtype: object\n"
     ]
    }
   ],
   "source": [
    "print(s[3])\n",
    "print(s[1::2])\n",
    "print(s[-6:-1:2])"
   ]
  },
  {
   "cell_type": "markdown",
   "metadata": {},
   "source": [
    "# operators of series\n",
    "arithmatic operators\n",
    "logical operators\n",
    "relational operators\n",
    "bitwise operators\n",
    "assignment operators"
   ]
  },
  {
   "cell_type": "code",
   "execution_count": null,
   "metadata": {},
   "outputs": [],
   "source": [
    "# arithmatic operators\n",
    "s=pd.Series([10,20,30])\n",
    "print(s)\n",
    "print(s+100)\n",
    "print(s-100)\n",
    "print(s*10)\n",
    "print(s/10)\n",
    "print(s//10)\n",
    "print(s**3)\n",
    "print(s%2)\n",
    "print(s)\n"
   ]
  },
  {
   "cell_type": "code",
   "execution_count": 14,
   "metadata": {},
   "outputs": [
    {
     "name": "stdout",
     "output_type": "stream",
     "text": [
      "0     5\n",
      "1    24\n",
      "2    56\n",
      "3    85\n",
      "4     4\n",
      "dtype: int64 0    10\n",
      "1    20\n",
      "2    30\n",
      "3    40\n",
      "4    50\n",
      "dtype: int64\n",
      "0     15\n",
      "1     44\n",
      "2     86\n",
      "3    125\n",
      "4     54\n",
      "dtype: int64\n",
      "0    -5\n",
      "1     4\n",
      "2    26\n",
      "3    45\n",
      "4   -46\n",
      "dtype: int64\n",
      "0      50\n",
      "1     480\n",
      "2    1680\n",
      "3    3400\n",
      "4     200\n",
      "dtype: int64\n",
      "0    0.500000\n",
      "1    1.200000\n",
      "2    1.866667\n",
      "3    2.125000\n",
      "4    0.080000\n",
      "dtype: float64\n",
      "0    0\n",
      "1    1\n",
      "2    1\n",
      "3    2\n",
      "4    0\n",
      "dtype: int64\n",
      "0                9765625\n",
      "1    1152921504606846976\n",
      "2                      0\n",
      "3    -578555437088345119\n",
      "4                      0\n",
      "dtype: int64\n",
      "0     5\n",
      "1     4\n",
      "2    26\n",
      "3     5\n",
      "4     4\n",
      "dtype: int64\n"
     ]
    }
   ],
   "source": [
    "s1=pd.Series([5,24,56,85,4])\n",
    "s2=pd.Series([10,20,30,40,50])\n",
    "print(s1,s2)\n",
    "print(s1+s2)\n",
    "print(s1-s2)\n",
    "print(s1*s2)\n",
    "print(s1/s2)\n",
    "print(s1//s2)\n",
    "print(s1**s2)\n",
    "print(s1%s2)"
   ]
  },
  {
   "cell_type": "markdown",
   "metadata": {},
   "source": [
    "# RELATIONAL OPERATOR"
   ]
  },
  {
   "cell_type": "code",
   "execution_count": 15,
   "metadata": {},
   "outputs": [
    {
     "name": "stdout",
     "output_type": "stream",
     "text": [
      "0    False\n",
      "1    False\n",
      "2    False\n",
      "dtype: bool\n",
      "0    False\n",
      "1     True\n",
      "2     True\n",
      "dtype: bool\n",
      "0    True\n",
      "1    True\n",
      "2    True\n",
      "dtype: bool\n",
      "0     True\n",
      "1    False\n",
      "2    False\n",
      "dtype: bool\n",
      "0     True\n",
      "1    False\n",
      "2    False\n",
      "dtype: bool\n",
      "0    False\n",
      "1     True\n",
      "2     True\n",
      "dtype: bool\n"
     ]
    }
   ],
   "source": [
    "s=pd.Series([10,20,30])\n",
    "print(s<10)\n",
    "print(s>10)\n",
    "print(s>=10)\n",
    "print(s<=10)\n",
    "print(s==10)\n",
    "print(s!=10)"
   ]
  },
  {
   "cell_type": "code",
   "execution_count": 16,
   "metadata": {},
   "outputs": [
    {
     "name": "stdout",
     "output_type": "stream",
     "text": [
      "0    False\n",
      "1     True\n",
      "2     True\n",
      "3     True\n",
      "4    False\n",
      "dtype: bool\n",
      "0     True\n",
      "1    False\n",
      "2    False\n",
      "3    False\n",
      "4     True\n",
      "dtype: bool\n",
      "0    False\n",
      "1     True\n",
      "2     True\n",
      "3     True\n",
      "4    False\n",
      "dtype: bool\n",
      "0     True\n",
      "1    False\n",
      "2    False\n",
      "3    False\n",
      "4     True\n",
      "dtype: bool\n",
      "0    False\n",
      "1    False\n",
      "2    False\n",
      "3    False\n",
      "4    False\n",
      "dtype: bool\n",
      "0    True\n",
      "1    True\n",
      "2    True\n",
      "3    True\n",
      "4    True\n",
      "dtype: bool\n"
     ]
    }
   ],
   "source": [
    "s1=pd.Series([5,24,56,85,4])\n",
    "s2=pd.Series([10,20,30,40,50])\n",
    "print(s1>s2)\n",
    "print(s1<s2)\n",
    "print(s1>=s2)\n",
    "print(s1<=s2)\n",
    "print(s1==s2)\n",
    "print(s1!=s2)"
   ]
  },
  {
   "cell_type": "markdown",
   "metadata": {},
   "source": [
    "# LOGICAL OPERATOR"
   ]
  },
  {
   "cell_type": "code",
   "execution_count": 17,
   "metadata": {},
   "outputs": [
    {
     "name": "stdout",
     "output_type": "stream",
     "text": [
      "0    True\n",
      "1    True\n",
      "2    True\n",
      "3    True\n",
      "4    True\n",
      "dtype: bool\n",
      "0    False\n",
      "1     True\n",
      "2    False\n",
      "3    False\n",
      "4    False\n",
      "dtype: bool\n",
      "0     True\n",
      "1    False\n",
      "2    False\n",
      "3    False\n",
      "4    False\n",
      "dtype: bool\n"
     ]
    }
   ],
   "source": [
    "s=pd.Series([10,20,30,40,50])\n",
    "b=(s>10)|(s<30)\n",
    "b1=(s>10)&(s<30)\n",
    "b2=~(s>10)\n",
    "print(b)\n",
    "print(b1)\n",
    "print(b2)"
   ]
  },
  {
   "cell_type": "code",
   "execution_count": 18,
   "metadata": {},
   "outputs": [
    {
     "name": "stdout",
     "output_type": "stream",
     "text": [
      "0     True\n",
      "1     True\n",
      "2     True\n",
      "3     True\n",
      "4    False\n",
      "dtype: bool\n",
      "0    False\n",
      "1     True\n",
      "2     True\n",
      "3    False\n",
      "4    False\n",
      "dtype: bool\n",
      "0     True\n",
      "1    False\n",
      "2    False\n",
      "3    False\n",
      "4     True\n",
      "dtype: bool\n",
      "0    False\n",
      "1    False\n",
      "2    False\n",
      "3     True\n",
      "4     True\n",
      "dtype: bool\n"
     ]
    }
   ],
   "source": [
    "s1=pd.Series([5,24,56,85,4])\n",
    "s2=pd.Series([10,20,30,40,50])\n",
    "d=(s1>5)|(s2<40)\n",
    "print(d)\n",
    "d1=(s1>5)&(s2<40)\n",
    "print(d1)\n",
    "d2=~(s1>6)\n",
    "print(d2)\n",
    "d3=~(s2<40)\n",
    "print(d3)"
   ]
  },
  {
   "cell_type": "markdown",
   "metadata": {},
   "source": [
    "# BITWISE OPERATOR"
   ]
  },
  {
   "cell_type": "code",
   "execution_count": 19,
   "metadata": {},
   "outputs": [
    {
     "name": "stdout",
     "output_type": "stream",
     "text": [
      "0    10\n",
      "1     0\n",
      "2    10\n",
      "dtype: int64\n",
      "0    30\n",
      "1    20\n",
      "2    30\n",
      "dtype: int64\n",
      "0   -11\n",
      "1   -21\n",
      "2   -31\n",
      "dtype: int64\n",
      "0     0\n",
      "1    16\n",
      "2    24\n",
      "3     0\n",
      "4     0\n",
      "dtype: int64\n",
      "0     15\n",
      "1     28\n",
      "2     62\n",
      "3    125\n",
      "4     54\n",
      "dtype: int64\n",
      "0    -6\n",
      "1   -25\n",
      "2   -57\n",
      "3   -86\n",
      "4    -5\n",
      "dtype: int64\n",
      "0   -11\n",
      "1   -21\n",
      "2   -31\n",
      "3   -41\n",
      "4   -51\n",
      "dtype: int64\n"
     ]
    }
   ],
   "source": [
    "import pandas as pd\n",
    "s=pd.Series([10,20,30])\n",
    "print(s & 10)\n",
    "print(s | 20)\n",
    "print(~s)\n",
    "s1=pd.Series([5,24,56,85,4])\n",
    "s2=pd.Series([10,20,30,40,50])\n",
    "print(s1 & s2)\n",
    "print(s1 | s2)\n",
    "print(~s1)\n",
    "print(~s2)"
   ]
  },
  {
   "cell_type": "markdown",
   "metadata": {},
   "source": [
    "# ASSIGNMENT OPERATOR"
   ]
  },
  {
   "cell_type": "code",
   "execution_count": 20,
   "metadata": {},
   "outputs": [
    {
     "name": "stdout",
     "output_type": "stream",
     "text": [
      "0    10\n",
      "1    20\n",
      "2    30\n",
      "dtype: int64\n",
      "0    100\n",
      "1     20\n",
      "2     30\n",
      "dtype: int64\n",
      "0    100\n",
      "1     20\n",
      "2     30\n",
      "3     40\n",
      "dtype: int64\n",
      "0    999\n",
      "1    999\n",
      "2    999\n",
      "3    999\n",
      "dtype: int64\n",
      "0     999\n",
      "1     999\n",
      "2     999\n",
      "3     999\n",
      "45    875\n",
      "dtype: int64\n",
      "0     888\n",
      "1     999\n",
      "2     888\n",
      "3     999\n",
      "45    888\n",
      "dtype: int64\n"
     ]
    }
   ],
   "source": [
    "s=pd.Series([10,20,30])\n",
    "print(s)\n",
    "s[0]=100\n",
    "print(s)\n",
    "s[3]=40\n",
    "print(s)\n",
    "s[::]=999\n",
    "print(s)\n",
    "s[45]=875\n",
    "print(s)\n",
    "s[::2]=888\n",
    "print(s)"
   ]
  },
  {
   "cell_type": "markdown",
   "metadata": {},
   "source": []
  }
 ],
 "metadata": {
  "kernelspec": {
   "display_name": "Python 3",
   "language": "python",
   "name": "python3"
  },
  "language_info": {
   "codemirror_mode": {
    "name": "ipython",
    "version": 3
   },
   "file_extension": ".py",
   "mimetype": "text/x-python",
   "name": "python",
   "nbconvert_exporter": "python",
   "pygments_lexer": "ipython3",
   "version": "3.12.4"
  }
 },
 "nbformat": 4,
 "nbformat_minor": 2
}
