{
 "cells": [
  {
   "cell_type": "markdown",
   "metadata": {},
   "source": [
    "# data manipulator or transformation \n",
    "set_index()\n",
    "reset_index()\n",
    "rename()\n",
    "replace()\n",
    "map()\n",
    "drop()\n",
    "drop_duplicates()"
   ]
  },
  {
   "cell_type": "code",
   "execution_count": 1,
   "metadata": {},
   "outputs": [],
   "source": [
    "import pandas as pd\n",
    "import numpy as np"
   ]
  },
  {
   "cell_type": "code",
   "execution_count": 2,
   "metadata": {},
   "outputs": [
    {
     "data": {
      "text/html": [
       "<div>\n",
       "<style scoped>\n",
       "    .dataframe tbody tr th:only-of-type {\n",
       "        vertical-align: middle;\n",
       "    }\n",
       "\n",
       "    .dataframe tbody tr th {\n",
       "        vertical-align: top;\n",
       "    }\n",
       "\n",
       "    .dataframe thead th {\n",
       "        text-align: right;\n",
       "    }\n",
       "</style>\n",
       "<table border=\"1\" class=\"dataframe\">\n",
       "  <thead>\n",
       "    <tr style=\"text-align: right;\">\n",
       "      <th></th>\n",
       "      <th>empno</th>\n",
       "      <th>name</th>\n",
       "      <th>sal</th>\n",
       "      <th>un2</th>\n",
       "      <th>hiredate</th>\n",
       "      <th>deptno</th>\n",
       "      <th>un1</th>\n",
       "    </tr>\n",
       "  </thead>\n",
       "  <tbody>\n",
       "    <tr>\n",
       "      <th>0</th>\n",
       "      <td>e1</td>\n",
       "      <td>smith</td>\n",
       "      <td>100</td>\n",
       "      <td>NaN</td>\n",
       "      <td>01-jan-2000</td>\n",
       "      <td>100</td>\n",
       "      <td>0</td>\n",
       "    </tr>\n",
       "    <tr>\n",
       "      <th>1</th>\n",
       "      <td>e2</td>\n",
       "      <td>scott</td>\n",
       "      <td>200</td>\n",
       "      <td>0.0</td>\n",
       "      <td>01-jan-2001</td>\n",
       "      <td>200</td>\n",
       "      <td>0</td>\n",
       "    </tr>\n",
       "    <tr>\n",
       "      <th>2</th>\n",
       "      <td>e3</td>\n",
       "      <td>allen</td>\n",
       "      <td>100</td>\n",
       "      <td>0.0</td>\n",
       "      <td>4-feb-2000</td>\n",
       "      <td>300</td>\n",
       "      <td>0</td>\n",
       "    </tr>\n",
       "    <tr>\n",
       "      <th>3</th>\n",
       "      <td>e4</td>\n",
       "      <td>smith</td>\n",
       "      <td>500</td>\n",
       "      <td>1.0</td>\n",
       "      <td>8-dec-2001</td>\n",
       "      <td>400</td>\n",
       "      <td>0</td>\n",
       "    </tr>\n",
       "    <tr>\n",
       "      <th>4</th>\n",
       "      <td>e2</td>\n",
       "      <td>scott</td>\n",
       "      <td>200</td>\n",
       "      <td>0.0</td>\n",
       "      <td>01-jan-2001</td>\n",
       "      <td>200</td>\n",
       "      <td>0</td>\n",
       "    </tr>\n",
       "  </tbody>\n",
       "</table>\n",
       "</div>"
      ],
      "text/plain": [
       "  empno   name  sal  un2     hiredate  deptno  un1\n",
       "0    e1  smith  100  NaN  01-jan-2000     100    0\n",
       "1    e2  scott  200  0.0  01-jan-2001     200    0\n",
       "2    e3  allen  100  0.0   4-feb-2000     300    0\n",
       "3    e4  smith  500  1.0   8-dec-2001     400    0\n",
       "4    e2  scott  200  0.0  01-jan-2001     200    0"
      ]
     },
     "execution_count": 2,
     "metadata": {},
     "output_type": "execute_result"
    }
   ],
   "source": [
    "d={\n",
    "    'empno':['e1','e2','e3','e4','e2'],\n",
    "    'name':['smith','scott','allen','smith','scott'],\n",
    "    'sal':[100,200,100,500,200],\n",
    "    'un2':[np.nan,0,0,1,0],\n",
    "    'hiredate':['01-jan-2000','01-jan-2001','4-feb-2000','8-dec-2001','01-jan-2001'],\n",
    "    'deptno':[100,200,300,400,200],\n",
    "    'un1':[0,0,0,0,0]\n",
    "}\n",
    "emp=pd.DataFrame(d)\n",
    "emp"
   ]
  },
  {
   "cell_type": "code",
   "execution_count": 3,
   "metadata": {},
   "outputs": [
    {
     "name": "stdout",
     "output_type": "stream",
     "text": [
      "<class 'pandas.core.frame.DataFrame'>\n",
      "RangeIndex: 5 entries, 0 to 4\n",
      "Data columns (total 7 columns):\n",
      " #   Column    Non-Null Count  Dtype  \n",
      "---  ------    --------------  -----  \n",
      " 0   empno     5 non-null      object \n",
      " 1   name      5 non-null      object \n",
      " 2   sal       5 non-null      int64  \n",
      " 3   un2       4 non-null      float64\n",
      " 4   hiredate  5 non-null      object \n",
      " 5   deptno    5 non-null      int64  \n",
      " 6   un1       5 non-null      int64  \n",
      "dtypes: float64(1), int64(3), object(3)\n",
      "memory usage: 412.0+ bytes\n"
     ]
    }
   ],
   "source": [
    "emp.info()"
   ]
  },
  {
   "cell_type": "markdown",
   "metadata": {},
   "source": [
    "# set_index"
   ]
  },
  {
   "cell_type": "code",
   "execution_count": 4,
   "metadata": {},
   "outputs": [
    {
     "data": {
      "text/html": [
       "<div>\n",
       "<style scoped>\n",
       "    .dataframe tbody tr th:only-of-type {\n",
       "        vertical-align: middle;\n",
       "    }\n",
       "\n",
       "    .dataframe tbody tr th {\n",
       "        vertical-align: top;\n",
       "    }\n",
       "\n",
       "    .dataframe thead th {\n",
       "        text-align: right;\n",
       "    }\n",
       "</style>\n",
       "<table border=\"1\" class=\"dataframe\">\n",
       "  <thead>\n",
       "    <tr style=\"text-align: right;\">\n",
       "      <th></th>\n",
       "      <th>name</th>\n",
       "      <th>sal</th>\n",
       "      <th>un2</th>\n",
       "      <th>hiredate</th>\n",
       "      <th>deptno</th>\n",
       "      <th>un1</th>\n",
       "    </tr>\n",
       "    <tr>\n",
       "      <th>empno</th>\n",
       "      <th></th>\n",
       "      <th></th>\n",
       "      <th></th>\n",
       "      <th></th>\n",
       "      <th></th>\n",
       "      <th></th>\n",
       "    </tr>\n",
       "  </thead>\n",
       "  <tbody>\n",
       "    <tr>\n",
       "      <th>e1</th>\n",
       "      <td>smith</td>\n",
       "      <td>100</td>\n",
       "      <td>NaN</td>\n",
       "      <td>01-jan-2000</td>\n",
       "      <td>100</td>\n",
       "      <td>0</td>\n",
       "    </tr>\n",
       "    <tr>\n",
       "      <th>e2</th>\n",
       "      <td>scott</td>\n",
       "      <td>200</td>\n",
       "      <td>0.0</td>\n",
       "      <td>01-jan-2001</td>\n",
       "      <td>200</td>\n",
       "      <td>0</td>\n",
       "    </tr>\n",
       "    <tr>\n",
       "      <th>e3</th>\n",
       "      <td>allen</td>\n",
       "      <td>100</td>\n",
       "      <td>0.0</td>\n",
       "      <td>4-feb-2000</td>\n",
       "      <td>300</td>\n",
       "      <td>0</td>\n",
       "    </tr>\n",
       "    <tr>\n",
       "      <th>e4</th>\n",
       "      <td>smith</td>\n",
       "      <td>500</td>\n",
       "      <td>1.0</td>\n",
       "      <td>8-dec-2001</td>\n",
       "      <td>400</td>\n",
       "      <td>0</td>\n",
       "    </tr>\n",
       "    <tr>\n",
       "      <th>e2</th>\n",
       "      <td>scott</td>\n",
       "      <td>200</td>\n",
       "      <td>0.0</td>\n",
       "      <td>01-jan-2001</td>\n",
       "      <td>200</td>\n",
       "      <td>0</td>\n",
       "    </tr>\n",
       "  </tbody>\n",
       "</table>\n",
       "</div>"
      ],
      "text/plain": [
       "        name  sal  un2     hiredate  deptno  un1\n",
       "empno                                           \n",
       "e1     smith  100  NaN  01-jan-2000     100    0\n",
       "e2     scott  200  0.0  01-jan-2001     200    0\n",
       "e3     allen  100  0.0   4-feb-2000     300    0\n",
       "e4     smith  500  1.0   8-dec-2001     400    0\n",
       "e2     scott  200  0.0  01-jan-2001     200    0"
      ]
     },
     "execution_count": 4,
     "metadata": {},
     "output_type": "execute_result"
    }
   ],
   "source": [
    "emp.set_index('empno')\n",
    "#emp.set_index('empno',drop=True) # by default drop=True --->the column you use for the new index will be removed from the DataFrame's columns.\n"
   ]
  },
  {
   "cell_type": "code",
   "execution_count": 5,
   "metadata": {},
   "outputs": [
    {
     "data": {
      "text/plain": [
       "Index(['empno', 'name', 'sal', 'un2', 'hiredate', 'deptno', 'un1'], dtype='object')"
      ]
     },
     "execution_count": 5,
     "metadata": {},
     "output_type": "execute_result"
    }
   ],
   "source": [
    "emp.columns"
   ]
  },
  {
   "cell_type": "code",
   "execution_count": 6,
   "metadata": {},
   "outputs": [
    {
     "data": {
      "text/html": [
       "<div>\n",
       "<style scoped>\n",
       "    .dataframe tbody tr th:only-of-type {\n",
       "        vertical-align: middle;\n",
       "    }\n",
       "\n",
       "    .dataframe tbody tr th {\n",
       "        vertical-align: top;\n",
       "    }\n",
       "\n",
       "    .dataframe thead th {\n",
       "        text-align: right;\n",
       "    }\n",
       "</style>\n",
       "<table border=\"1\" class=\"dataframe\">\n",
       "  <thead>\n",
       "    <tr style=\"text-align: right;\">\n",
       "      <th></th>\n",
       "      <th></th>\n",
       "      <th>sal</th>\n",
       "      <th>un2</th>\n",
       "      <th>hiredate</th>\n",
       "      <th>deptno</th>\n",
       "      <th>un1</th>\n",
       "    </tr>\n",
       "    <tr>\n",
       "      <th>empno</th>\n",
       "      <th>name</th>\n",
       "      <th></th>\n",
       "      <th></th>\n",
       "      <th></th>\n",
       "      <th></th>\n",
       "      <th></th>\n",
       "    </tr>\n",
       "  </thead>\n",
       "  <tbody>\n",
       "    <tr>\n",
       "      <th>e1</th>\n",
       "      <th>smith</th>\n",
       "      <td>100</td>\n",
       "      <td>NaN</td>\n",
       "      <td>01-jan-2000</td>\n",
       "      <td>100</td>\n",
       "      <td>0</td>\n",
       "    </tr>\n",
       "    <tr>\n",
       "      <th>e2</th>\n",
       "      <th>scott</th>\n",
       "      <td>200</td>\n",
       "      <td>0.0</td>\n",
       "      <td>01-jan-2001</td>\n",
       "      <td>200</td>\n",
       "      <td>0</td>\n",
       "    </tr>\n",
       "    <tr>\n",
       "      <th>e3</th>\n",
       "      <th>allen</th>\n",
       "      <td>100</td>\n",
       "      <td>0.0</td>\n",
       "      <td>4-feb-2000</td>\n",
       "      <td>300</td>\n",
       "      <td>0</td>\n",
       "    </tr>\n",
       "    <tr>\n",
       "      <th>e4</th>\n",
       "      <th>smith</th>\n",
       "      <td>500</td>\n",
       "      <td>1.0</td>\n",
       "      <td>8-dec-2001</td>\n",
       "      <td>400</td>\n",
       "      <td>0</td>\n",
       "    </tr>\n",
       "    <tr>\n",
       "      <th>e2</th>\n",
       "      <th>scott</th>\n",
       "      <td>200</td>\n",
       "      <td>0.0</td>\n",
       "      <td>01-jan-2001</td>\n",
       "      <td>200</td>\n",
       "      <td>0</td>\n",
       "    </tr>\n",
       "  </tbody>\n",
       "</table>\n",
       "</div>"
      ],
      "text/plain": [
       "             sal  un2     hiredate  deptno  un1\n",
       "empno name                                     \n",
       "e1    smith  100  NaN  01-jan-2000     100    0\n",
       "e2    scott  200  0.0  01-jan-2001     200    0\n",
       "e3    allen  100  0.0   4-feb-2000     300    0\n",
       "e4    smith  500  1.0   8-dec-2001     400    0\n",
       "e2    scott  200  0.0  01-jan-2001     200    0"
      ]
     },
     "execution_count": 6,
     "metadata": {},
     "output_type": "execute_result"
    }
   ],
   "source": [
    "emp.set_index(['empno','name'])"
   ]
  },
  {
   "cell_type": "code",
   "execution_count": 7,
   "metadata": {},
   "outputs": [
    {
     "data": {
      "text/html": [
       "<div>\n",
       "<style scoped>\n",
       "    .dataframe tbody tr th:only-of-type {\n",
       "        vertical-align: middle;\n",
       "    }\n",
       "\n",
       "    .dataframe tbody tr th {\n",
       "        vertical-align: top;\n",
       "    }\n",
       "\n",
       "    .dataframe thead th {\n",
       "        text-align: right;\n",
       "    }\n",
       "</style>\n",
       "<table border=\"1\" class=\"dataframe\">\n",
       "  <thead>\n",
       "    <tr style=\"text-align: right;\">\n",
       "      <th></th>\n",
       "      <th>empno</th>\n",
       "      <th>name</th>\n",
       "      <th>sal</th>\n",
       "      <th>un2</th>\n",
       "      <th>hiredate</th>\n",
       "      <th>deptno</th>\n",
       "      <th>un1</th>\n",
       "    </tr>\n",
       "    <tr>\n",
       "      <th>empno</th>\n",
       "      <th></th>\n",
       "      <th></th>\n",
       "      <th></th>\n",
       "      <th></th>\n",
       "      <th></th>\n",
       "      <th></th>\n",
       "      <th></th>\n",
       "    </tr>\n",
       "  </thead>\n",
       "  <tbody>\n",
       "    <tr>\n",
       "      <th>e1</th>\n",
       "      <td>e1</td>\n",
       "      <td>smith</td>\n",
       "      <td>100</td>\n",
       "      <td>NaN</td>\n",
       "      <td>01-jan-2000</td>\n",
       "      <td>100</td>\n",
       "      <td>0</td>\n",
       "    </tr>\n",
       "    <tr>\n",
       "      <th>e2</th>\n",
       "      <td>e2</td>\n",
       "      <td>scott</td>\n",
       "      <td>200</td>\n",
       "      <td>0.0</td>\n",
       "      <td>01-jan-2001</td>\n",
       "      <td>200</td>\n",
       "      <td>0</td>\n",
       "    </tr>\n",
       "    <tr>\n",
       "      <th>e3</th>\n",
       "      <td>e3</td>\n",
       "      <td>allen</td>\n",
       "      <td>100</td>\n",
       "      <td>0.0</td>\n",
       "      <td>4-feb-2000</td>\n",
       "      <td>300</td>\n",
       "      <td>0</td>\n",
       "    </tr>\n",
       "    <tr>\n",
       "      <th>e4</th>\n",
       "      <td>e4</td>\n",
       "      <td>smith</td>\n",
       "      <td>500</td>\n",
       "      <td>1.0</td>\n",
       "      <td>8-dec-2001</td>\n",
       "      <td>400</td>\n",
       "      <td>0</td>\n",
       "    </tr>\n",
       "    <tr>\n",
       "      <th>e2</th>\n",
       "      <td>e2</td>\n",
       "      <td>scott</td>\n",
       "      <td>200</td>\n",
       "      <td>0.0</td>\n",
       "      <td>01-jan-2001</td>\n",
       "      <td>200</td>\n",
       "      <td>0</td>\n",
       "    </tr>\n",
       "  </tbody>\n",
       "</table>\n",
       "</div>"
      ],
      "text/plain": [
       "      empno   name  sal  un2     hiredate  deptno  un1\n",
       "empno                                                 \n",
       "e1       e1  smith  100  NaN  01-jan-2000     100    0\n",
       "e2       e2  scott  200  0.0  01-jan-2001     200    0\n",
       "e3       e3  allen  100  0.0   4-feb-2000     300    0\n",
       "e4       e4  smith  500  1.0   8-dec-2001     400    0\n",
       "e2       e2  scott  200  0.0  01-jan-2001     200    0"
      ]
     },
     "execution_count": 7,
     "metadata": {},
     "output_type": "execute_result"
    }
   ],
   "source": [
    "emp.set_index('empno',drop=False) # the 'empno' column is kept as a regular column in the DataFrame in addition to being used as the index."
   ]
  },
  {
   "cell_type": "code",
   "execution_count": 8,
   "metadata": {},
   "outputs": [
    {
     "data": {
      "text/plain": [
       "Index(['empno', 'name', 'sal', 'un2', 'hiredate', 'deptno', 'un1'], dtype='object')"
      ]
     },
     "execution_count": 8,
     "metadata": {},
     "output_type": "execute_result"
    }
   ],
   "source": [
    "emp.columns"
   ]
  },
  {
   "cell_type": "markdown",
   "metadata": {},
   "source": [
    "# reset_index"
   ]
  },
  {
   "cell_type": "code",
   "execution_count": 9,
   "metadata": {},
   "outputs": [],
   "source": [
    "# emp=emp.reset_index()\n",
    "# emp"
   ]
  },
  {
   "cell_type": "markdown",
   "metadata": {},
   "source": [
    "# rename"
   ]
  },
  {
   "cell_type": "code",
   "execution_count": 10,
   "metadata": {},
   "outputs": [
    {
     "data": {
      "text/html": [
       "<div>\n",
       "<style scoped>\n",
       "    .dataframe tbody tr th:only-of-type {\n",
       "        vertical-align: middle;\n",
       "    }\n",
       "\n",
       "    .dataframe tbody tr th {\n",
       "        vertical-align: top;\n",
       "    }\n",
       "\n",
       "    .dataframe thead th {\n",
       "        text-align: right;\n",
       "    }\n",
       "</style>\n",
       "<table border=\"1\" class=\"dataframe\">\n",
       "  <thead>\n",
       "    <tr style=\"text-align: right;\">\n",
       "      <th></th>\n",
       "      <th>empno</th>\n",
       "      <th>ename</th>\n",
       "      <th>salary</th>\n",
       "      <th>un2</th>\n",
       "      <th>hiredate</th>\n",
       "      <th>deptno</th>\n",
       "      <th>un1</th>\n",
       "    </tr>\n",
       "  </thead>\n",
       "  <tbody>\n",
       "    <tr>\n",
       "      <th>0</th>\n",
       "      <td>e1</td>\n",
       "      <td>smith</td>\n",
       "      <td>100</td>\n",
       "      <td>NaN</td>\n",
       "      <td>01-jan-2000</td>\n",
       "      <td>100</td>\n",
       "      <td>0</td>\n",
       "    </tr>\n",
       "    <tr>\n",
       "      <th>1</th>\n",
       "      <td>e2</td>\n",
       "      <td>scott</td>\n",
       "      <td>200</td>\n",
       "      <td>0.0</td>\n",
       "      <td>01-jan-2001</td>\n",
       "      <td>200</td>\n",
       "      <td>0</td>\n",
       "    </tr>\n",
       "    <tr>\n",
       "      <th>2</th>\n",
       "      <td>e3</td>\n",
       "      <td>allen</td>\n",
       "      <td>100</td>\n",
       "      <td>0.0</td>\n",
       "      <td>4-feb-2000</td>\n",
       "      <td>300</td>\n",
       "      <td>0</td>\n",
       "    </tr>\n",
       "    <tr>\n",
       "      <th>3</th>\n",
       "      <td>e4</td>\n",
       "      <td>smith</td>\n",
       "      <td>500</td>\n",
       "      <td>1.0</td>\n",
       "      <td>8-dec-2001</td>\n",
       "      <td>400</td>\n",
       "      <td>0</td>\n",
       "    </tr>\n",
       "    <tr>\n",
       "      <th>4</th>\n",
       "      <td>e2</td>\n",
       "      <td>scott</td>\n",
       "      <td>200</td>\n",
       "      <td>0.0</td>\n",
       "      <td>01-jan-2001</td>\n",
       "      <td>200</td>\n",
       "      <td>0</td>\n",
       "    </tr>\n",
       "  </tbody>\n",
       "</table>\n",
       "</div>"
      ],
      "text/plain": [
       "  empno  ename  salary  un2     hiredate  deptno  un1\n",
       "0    e1  smith     100  NaN  01-jan-2000     100    0\n",
       "1    e2  scott     200  0.0  01-jan-2001     200    0\n",
       "2    e3  allen     100  0.0   4-feb-2000     300    0\n",
       "3    e4  smith     500  1.0   8-dec-2001     400    0\n",
       "4    e2  scott     200  0.0  01-jan-2001     200    0"
      ]
     },
     "execution_count": 10,
     "metadata": {},
     "output_type": "execute_result"
    }
   ],
   "source": [
    "emp.rename(columns={'name':'ename','sal':'salary'})\n",
    "#----------------------OR----------\n",
    "emp.rename({'name':'ename','sal':'salary'},axis=1) # by default axis=0"
   ]
  },
  {
   "cell_type": "code",
   "execution_count": 11,
   "metadata": {},
   "outputs": [
    {
     "data": {
      "text/html": [
       "<div>\n",
       "<style scoped>\n",
       "    .dataframe tbody tr th:only-of-type {\n",
       "        vertical-align: middle;\n",
       "    }\n",
       "\n",
       "    .dataframe tbody tr th {\n",
       "        vertical-align: top;\n",
       "    }\n",
       "\n",
       "    .dataframe thead th {\n",
       "        text-align: right;\n",
       "    }\n",
       "</style>\n",
       "<table border=\"1\" class=\"dataframe\">\n",
       "  <thead>\n",
       "    <tr style=\"text-align: right;\">\n",
       "      <th></th>\n",
       "      <th>empno</th>\n",
       "      <th>name</th>\n",
       "      <th>sal</th>\n",
       "      <th>un2</th>\n",
       "      <th>hiredate</th>\n",
       "      <th>deptno</th>\n",
       "      <th>un1</th>\n",
       "    </tr>\n",
       "  </thead>\n",
       "  <tbody>\n",
       "    <tr>\n",
       "      <th>0</th>\n",
       "      <td>e1</td>\n",
       "      <td>smith</td>\n",
       "      <td>100</td>\n",
       "      <td>NaN</td>\n",
       "      <td>01-jan-2000</td>\n",
       "      <td>100</td>\n",
       "      <td>0</td>\n",
       "    </tr>\n",
       "    <tr>\n",
       "      <th>10</th>\n",
       "      <td>e2</td>\n",
       "      <td>scott</td>\n",
       "      <td>200</td>\n",
       "      <td>0.0</td>\n",
       "      <td>01-jan-2001</td>\n",
       "      <td>200</td>\n",
       "      <td>0</td>\n",
       "    </tr>\n",
       "    <tr>\n",
       "      <th>2</th>\n",
       "      <td>e3</td>\n",
       "      <td>allen</td>\n",
       "      <td>100</td>\n",
       "      <td>0.0</td>\n",
       "      <td>4-feb-2000</td>\n",
       "      <td>300</td>\n",
       "      <td>0</td>\n",
       "    </tr>\n",
       "    <tr>\n",
       "      <th>30</th>\n",
       "      <td>e4</td>\n",
       "      <td>smith</td>\n",
       "      <td>500</td>\n",
       "      <td>1.0</td>\n",
       "      <td>8-dec-2001</td>\n",
       "      <td>400</td>\n",
       "      <td>0</td>\n",
       "    </tr>\n",
       "    <tr>\n",
       "      <th>4</th>\n",
       "      <td>e2</td>\n",
       "      <td>scott</td>\n",
       "      <td>200</td>\n",
       "      <td>0.0</td>\n",
       "      <td>01-jan-2001</td>\n",
       "      <td>200</td>\n",
       "      <td>0</td>\n",
       "    </tr>\n",
       "  </tbody>\n",
       "</table>\n",
       "</div>"
      ],
      "text/plain": [
       "   empno   name  sal  un2     hiredate  deptno  un1\n",
       "0     e1  smith  100  NaN  01-jan-2000     100    0\n",
       "10    e2  scott  200  0.0  01-jan-2001     200    0\n",
       "2     e3  allen  100  0.0   4-feb-2000     300    0\n",
       "30    e4  smith  500  1.0   8-dec-2001     400    0\n",
       "4     e2  scott  200  0.0  01-jan-2001     200    0"
      ]
     },
     "execution_count": 11,
     "metadata": {},
     "output_type": "execute_result"
    }
   ],
   "source": [
    "emp.rename(index={1:10,3:30})\n",
    "#------------OR------------\n",
    "emp.rename({1:10,3:30})# by default axis=0"
   ]
  },
  {
   "cell_type": "code",
   "execution_count": 12,
   "metadata": {},
   "outputs": [
    {
     "data": {
      "text/html": [
       "<div>\n",
       "<style scoped>\n",
       "    .dataframe tbody tr th:only-of-type {\n",
       "        vertical-align: middle;\n",
       "    }\n",
       "\n",
       "    .dataframe tbody tr th {\n",
       "        vertical-align: top;\n",
       "    }\n",
       "\n",
       "    .dataframe thead th {\n",
       "        text-align: right;\n",
       "    }\n",
       "</style>\n",
       "<table border=\"1\" class=\"dataframe\">\n",
       "  <thead>\n",
       "    <tr style=\"text-align: right;\">\n",
       "      <th></th>\n",
       "      <th>empno</th>\n",
       "      <th>name</th>\n",
       "      <th>sal</th>\n",
       "      <th>un2</th>\n",
       "      <th>hiredate</th>\n",
       "      <th>deptno</th>\n",
       "      <th>un1</th>\n",
       "    </tr>\n",
       "  </thead>\n",
       "  <tbody>\n",
       "    <tr>\n",
       "      <th>0</th>\n",
       "      <td>e1</td>\n",
       "      <td>smith</td>\n",
       "      <td>100</td>\n",
       "      <td>NaN</td>\n",
       "      <td>01-jan-2000</td>\n",
       "      <td>100</td>\n",
       "      <td>0</td>\n",
       "    </tr>\n",
       "    <tr>\n",
       "      <th>1</th>\n",
       "      <td>e2</td>\n",
       "      <td>scott</td>\n",
       "      <td>200</td>\n",
       "      <td>0.0</td>\n",
       "      <td>01-jan-2001</td>\n",
       "      <td>200</td>\n",
       "      <td>0</td>\n",
       "    </tr>\n",
       "    <tr>\n",
       "      <th>2</th>\n",
       "      <td>e3</td>\n",
       "      <td>allen</td>\n",
       "      <td>100</td>\n",
       "      <td>0.0</td>\n",
       "      <td>4-feb-2000</td>\n",
       "      <td>300</td>\n",
       "      <td>0</td>\n",
       "    </tr>\n",
       "    <tr>\n",
       "      <th>3</th>\n",
       "      <td>e4</td>\n",
       "      <td>smith</td>\n",
       "      <td>500</td>\n",
       "      <td>1.0</td>\n",
       "      <td>8-dec-2001</td>\n",
       "      <td>400</td>\n",
       "      <td>0</td>\n",
       "    </tr>\n",
       "    <tr>\n",
       "      <th>4</th>\n",
       "      <td>e2</td>\n",
       "      <td>scott</td>\n",
       "      <td>200</td>\n",
       "      <td>0.0</td>\n",
       "      <td>01-jan-2001</td>\n",
       "      <td>200</td>\n",
       "      <td>0</td>\n",
       "    </tr>\n",
       "  </tbody>\n",
       "</table>\n",
       "</div>"
      ],
      "text/plain": [
       "  empno   name  sal  un2     hiredate  deptno  un1\n",
       "0    e1  smith  100  NaN  01-jan-2000     100    0\n",
       "1    e2  scott  200  0.0  01-jan-2001     200    0\n",
       "2    e3  allen  100  0.0   4-feb-2000     300    0\n",
       "3    e4  smith  500  1.0   8-dec-2001     400    0\n",
       "4    e2  scott  200  0.0  01-jan-2001     200    0"
      ]
     },
     "execution_count": 12,
     "metadata": {},
     "output_type": "execute_result"
    }
   ],
   "source": [
    "emp # here without inplace or assignment operator the changes we made are temporary not permanant"
   ]
  },
  {
   "cell_type": "code",
   "execution_count": 13,
   "metadata": {},
   "outputs": [],
   "source": [
    "emp.rename(index={1:20,3:40,4:20,0:10,2:30},columns={'name':'ename','sal':'salary'},inplace=True)"
   ]
  },
  {
   "cell_type": "code",
   "execution_count": 14,
   "metadata": {},
   "outputs": [
    {
     "data": {
      "text/html": [
       "<div>\n",
       "<style scoped>\n",
       "    .dataframe tbody tr th:only-of-type {\n",
       "        vertical-align: middle;\n",
       "    }\n",
       "\n",
       "    .dataframe tbody tr th {\n",
       "        vertical-align: top;\n",
       "    }\n",
       "\n",
       "    .dataframe thead th {\n",
       "        text-align: right;\n",
       "    }\n",
       "</style>\n",
       "<table border=\"1\" class=\"dataframe\">\n",
       "  <thead>\n",
       "    <tr style=\"text-align: right;\">\n",
       "      <th></th>\n",
       "      <th>empno</th>\n",
       "      <th>ename</th>\n",
       "      <th>salary</th>\n",
       "      <th>un2</th>\n",
       "      <th>hiredate</th>\n",
       "      <th>deptno</th>\n",
       "      <th>un1</th>\n",
       "    </tr>\n",
       "  </thead>\n",
       "  <tbody>\n",
       "    <tr>\n",
       "      <th>10</th>\n",
       "      <td>e1</td>\n",
       "      <td>smith</td>\n",
       "      <td>100</td>\n",
       "      <td>NaN</td>\n",
       "      <td>01-jan-2000</td>\n",
       "      <td>100</td>\n",
       "      <td>0</td>\n",
       "    </tr>\n",
       "    <tr>\n",
       "      <th>20</th>\n",
       "      <td>e2</td>\n",
       "      <td>scott</td>\n",
       "      <td>200</td>\n",
       "      <td>0.0</td>\n",
       "      <td>01-jan-2001</td>\n",
       "      <td>200</td>\n",
       "      <td>0</td>\n",
       "    </tr>\n",
       "    <tr>\n",
       "      <th>30</th>\n",
       "      <td>e3</td>\n",
       "      <td>allen</td>\n",
       "      <td>100</td>\n",
       "      <td>0.0</td>\n",
       "      <td>4-feb-2000</td>\n",
       "      <td>300</td>\n",
       "      <td>0</td>\n",
       "    </tr>\n",
       "    <tr>\n",
       "      <th>40</th>\n",
       "      <td>e4</td>\n",
       "      <td>smith</td>\n",
       "      <td>500</td>\n",
       "      <td>1.0</td>\n",
       "      <td>8-dec-2001</td>\n",
       "      <td>400</td>\n",
       "      <td>0</td>\n",
       "    </tr>\n",
       "    <tr>\n",
       "      <th>20</th>\n",
       "      <td>e2</td>\n",
       "      <td>scott</td>\n",
       "      <td>200</td>\n",
       "      <td>0.0</td>\n",
       "      <td>01-jan-2001</td>\n",
       "      <td>200</td>\n",
       "      <td>0</td>\n",
       "    </tr>\n",
       "  </tbody>\n",
       "</table>\n",
       "</div>"
      ],
      "text/plain": [
       "   empno  ename  salary  un2     hiredate  deptno  un1\n",
       "10    e1  smith     100  NaN  01-jan-2000     100    0\n",
       "20    e2  scott     200  0.0  01-jan-2001     200    0\n",
       "30    e3  allen     100  0.0   4-feb-2000     300    0\n",
       "40    e4  smith     500  1.0   8-dec-2001     400    0\n",
       "20    e2  scott     200  0.0  01-jan-2001     200    0"
      ]
     },
     "execution_count": 14,
     "metadata": {},
     "output_type": "execute_result"
    }
   ],
   "source": [
    "emp"
   ]
  },
  {
   "cell_type": "markdown",
   "metadata": {},
   "source": [
    "# replace"
   ]
  },
  {
   "cell_type": "code",
   "execution_count": 15,
   "metadata": {},
   "outputs": [],
   "source": [
    "emp=emp.replace({1200:8989})\n",
    "emp=emp.replace({100:454})"
   ]
  },
  {
   "cell_type": "code",
   "execution_count": 16,
   "metadata": {},
   "outputs": [],
   "source": [
    "emp['salary']=emp['salary'].replace({200:999,500:777})"
   ]
  },
  {
   "cell_type": "code",
   "execution_count": 17,
   "metadata": {},
   "outputs": [
    {
     "data": {
      "text/html": [
       "<div>\n",
       "<style scoped>\n",
       "    .dataframe tbody tr th:only-of-type {\n",
       "        vertical-align: middle;\n",
       "    }\n",
       "\n",
       "    .dataframe tbody tr th {\n",
       "        vertical-align: top;\n",
       "    }\n",
       "\n",
       "    .dataframe thead th {\n",
       "        text-align: right;\n",
       "    }\n",
       "</style>\n",
       "<table border=\"1\" class=\"dataframe\">\n",
       "  <thead>\n",
       "    <tr style=\"text-align: right;\">\n",
       "      <th></th>\n",
       "      <th>empno</th>\n",
       "      <th>ename</th>\n",
       "      <th>salary</th>\n",
       "      <th>un2</th>\n",
       "      <th>hiredate</th>\n",
       "      <th>deptno</th>\n",
       "      <th>un1</th>\n",
       "    </tr>\n",
       "  </thead>\n",
       "  <tbody>\n",
       "    <tr>\n",
       "      <th>10</th>\n",
       "      <td>e1</td>\n",
       "      <td>smith</td>\n",
       "      <td>454</td>\n",
       "      <td>NaN</td>\n",
       "      <td>01-jan-2000</td>\n",
       "      <td>454</td>\n",
       "      <td>0</td>\n",
       "    </tr>\n",
       "    <tr>\n",
       "      <th>20</th>\n",
       "      <td>e2</td>\n",
       "      <td>scott</td>\n",
       "      <td>999</td>\n",
       "      <td>0.0</td>\n",
       "      <td>01-jan-2001</td>\n",
       "      <td>200</td>\n",
       "      <td>0</td>\n",
       "    </tr>\n",
       "    <tr>\n",
       "      <th>30</th>\n",
       "      <td>e3</td>\n",
       "      <td>allen</td>\n",
       "      <td>454</td>\n",
       "      <td>0.0</td>\n",
       "      <td>4-feb-2000</td>\n",
       "      <td>300</td>\n",
       "      <td>0</td>\n",
       "    </tr>\n",
       "    <tr>\n",
       "      <th>40</th>\n",
       "      <td>e4</td>\n",
       "      <td>smith</td>\n",
       "      <td>777</td>\n",
       "      <td>1.0</td>\n",
       "      <td>8-dec-2001</td>\n",
       "      <td>400</td>\n",
       "      <td>0</td>\n",
       "    </tr>\n",
       "    <tr>\n",
       "      <th>20</th>\n",
       "      <td>e2</td>\n",
       "      <td>scott</td>\n",
       "      <td>999</td>\n",
       "      <td>0.0</td>\n",
       "      <td>01-jan-2001</td>\n",
       "      <td>200</td>\n",
       "      <td>0</td>\n",
       "    </tr>\n",
       "  </tbody>\n",
       "</table>\n",
       "</div>"
      ],
      "text/plain": [
       "   empno  ename  salary  un2     hiredate  deptno  un1\n",
       "10    e1  smith     454  NaN  01-jan-2000     454    0\n",
       "20    e2  scott     999  0.0  01-jan-2001     200    0\n",
       "30    e3  allen     454  0.0   4-feb-2000     300    0\n",
       "40    e4  smith     777  1.0   8-dec-2001     400    0\n",
       "20    e2  scott     999  0.0  01-jan-2001     200    0"
      ]
     },
     "execution_count": 17,
     "metadata": {},
     "output_type": "execute_result"
    }
   ],
   "source": [
    "emp"
   ]
  },
  {
   "cell_type": "markdown",
   "metadata": {},
   "source": [
    "# map"
   ]
  },
  {
   "cell_type": "code",
   "execution_count": 18,
   "metadata": {},
   "outputs": [
    {
     "data": {
      "text/html": [
       "<div>\n",
       "<style scoped>\n",
       "    .dataframe tbody tr th:only-of-type {\n",
       "        vertical-align: middle;\n",
       "    }\n",
       "\n",
       "    .dataframe tbody tr th {\n",
       "        vertical-align: top;\n",
       "    }\n",
       "\n",
       "    .dataframe thead th {\n",
       "        text-align: right;\n",
       "    }\n",
       "</style>\n",
       "<table border=\"1\" class=\"dataframe\">\n",
       "  <thead>\n",
       "    <tr style=\"text-align: right;\">\n",
       "      <th></th>\n",
       "      <th>empno</th>\n",
       "      <th>ename</th>\n",
       "      <th>salary</th>\n",
       "      <th>un2</th>\n",
       "      <th>hiredate</th>\n",
       "      <th>deptno</th>\n",
       "      <th>un1</th>\n",
       "    </tr>\n",
       "  </thead>\n",
       "  <tbody>\n",
       "    <tr>\n",
       "      <th>10</th>\n",
       "      <td>e1</td>\n",
       "      <td>smith</td>\n",
       "      <td>454</td>\n",
       "      <td>NaN</td>\n",
       "      <td>01-jan-2000</td>\n",
       "      <td>NaN</td>\n",
       "      <td>0</td>\n",
       "    </tr>\n",
       "    <tr>\n",
       "      <th>20</th>\n",
       "      <td>e2</td>\n",
       "      <td>scott</td>\n",
       "      <td>999</td>\n",
       "      <td>0.0</td>\n",
       "      <td>01-jan-2001</td>\n",
       "      <td>NaN</td>\n",
       "      <td>0</td>\n",
       "    </tr>\n",
       "    <tr>\n",
       "      <th>30</th>\n",
       "      <td>e3</td>\n",
       "      <td>allen</td>\n",
       "      <td>454</td>\n",
       "      <td>0.0</td>\n",
       "      <td>4-feb-2000</td>\n",
       "      <td>102.0</td>\n",
       "      <td>0</td>\n",
       "    </tr>\n",
       "    <tr>\n",
       "      <th>40</th>\n",
       "      <td>e4</td>\n",
       "      <td>smith</td>\n",
       "      <td>777</td>\n",
       "      <td>1.0</td>\n",
       "      <td>8-dec-2001</td>\n",
       "      <td>103.0</td>\n",
       "      <td>0</td>\n",
       "    </tr>\n",
       "    <tr>\n",
       "      <th>20</th>\n",
       "      <td>e2</td>\n",
       "      <td>scott</td>\n",
       "      <td>999</td>\n",
       "      <td>0.0</td>\n",
       "      <td>01-jan-2001</td>\n",
       "      <td>NaN</td>\n",
       "      <td>0</td>\n",
       "    </tr>\n",
       "  </tbody>\n",
       "</table>\n",
       "</div>"
      ],
      "text/plain": [
       "   empno  ename  salary  un2     hiredate  deptno  un1\n",
       "10    e1  smith     454  NaN  01-jan-2000     NaN    0\n",
       "20    e2  scott     999  0.0  01-jan-2001     NaN    0\n",
       "30    e3  allen     454  0.0   4-feb-2000   102.0    0\n",
       "40    e4  smith     777  1.0   8-dec-2001   103.0    0\n",
       "20    e2  scott     999  0.0  01-jan-2001     NaN    0"
      ]
     },
     "execution_count": 18,
     "metadata": {},
     "output_type": "execute_result"
    }
   ],
   "source": [
    "emp['deptno']=emp['deptno'].map({8989:101,300:102,400:103})\n",
    "emp"
   ]
  },
  {
   "cell_type": "markdown",
   "metadata": {},
   "source": [
    "# drop_duplicates()"
   ]
  },
  {
   "cell_type": "code",
   "execution_count": 19,
   "metadata": {},
   "outputs": [
    {
     "data": {
      "text/html": [
       "<div>\n",
       "<style scoped>\n",
       "    .dataframe tbody tr th:only-of-type {\n",
       "        vertical-align: middle;\n",
       "    }\n",
       "\n",
       "    .dataframe tbody tr th {\n",
       "        vertical-align: top;\n",
       "    }\n",
       "\n",
       "    .dataframe thead th {\n",
       "        text-align: right;\n",
       "    }\n",
       "</style>\n",
       "<table border=\"1\" class=\"dataframe\">\n",
       "  <thead>\n",
       "    <tr style=\"text-align: right;\">\n",
       "      <th></th>\n",
       "      <th>empno</th>\n",
       "      <th>ename</th>\n",
       "      <th>salary</th>\n",
       "      <th>un2</th>\n",
       "      <th>hiredate</th>\n",
       "      <th>deptno</th>\n",
       "      <th>un1</th>\n",
       "    </tr>\n",
       "  </thead>\n",
       "  <tbody>\n",
       "    <tr>\n",
       "      <th>10</th>\n",
       "      <td>e1</td>\n",
       "      <td>smith</td>\n",
       "      <td>454</td>\n",
       "      <td>NaN</td>\n",
       "      <td>01-jan-2000</td>\n",
       "      <td>NaN</td>\n",
       "      <td>0</td>\n",
       "    </tr>\n",
       "    <tr>\n",
       "      <th>30</th>\n",
       "      <td>e3</td>\n",
       "      <td>allen</td>\n",
       "      <td>454</td>\n",
       "      <td>0.0</td>\n",
       "      <td>4-feb-2000</td>\n",
       "      <td>102.0</td>\n",
       "      <td>0</td>\n",
       "    </tr>\n",
       "    <tr>\n",
       "      <th>40</th>\n",
       "      <td>e4</td>\n",
       "      <td>smith</td>\n",
       "      <td>777</td>\n",
       "      <td>1.0</td>\n",
       "      <td>8-dec-2001</td>\n",
       "      <td>103.0</td>\n",
       "      <td>0</td>\n",
       "    </tr>\n",
       "    <tr>\n",
       "      <th>20</th>\n",
       "      <td>e2</td>\n",
       "      <td>scott</td>\n",
       "      <td>999</td>\n",
       "      <td>0.0</td>\n",
       "      <td>01-jan-2001</td>\n",
       "      <td>NaN</td>\n",
       "      <td>0</td>\n",
       "    </tr>\n",
       "  </tbody>\n",
       "</table>\n",
       "</div>"
      ],
      "text/plain": [
       "   empno  ename  salary  un2     hiredate  deptno  un1\n",
       "10    e1  smith     454  NaN  01-jan-2000     NaN    0\n",
       "30    e3  allen     454  0.0   4-feb-2000   102.0    0\n",
       "40    e4  smith     777  1.0   8-dec-2001   103.0    0\n",
       "20    e2  scott     999  0.0  01-jan-2001     NaN    0"
      ]
     },
     "execution_count": 19,
     "metadata": {},
     "output_type": "execute_result"
    }
   ],
   "source": [
    "emp=emp.drop_duplicates(keep=\"last\")#keep='first'(default one),'last',False\n",
    "emp"
   ]
  },
  {
   "cell_type": "markdown",
   "metadata": {},
   "source": [
    "# drop()"
   ]
  },
  {
   "cell_type": "code",
   "execution_count": 20,
   "metadata": {},
   "outputs": [
    {
     "data": {
      "text/html": [
       "<div>\n",
       "<style scoped>\n",
       "    .dataframe tbody tr th:only-of-type {\n",
       "        vertical-align: middle;\n",
       "    }\n",
       "\n",
       "    .dataframe tbody tr th {\n",
       "        vertical-align: top;\n",
       "    }\n",
       "\n",
       "    .dataframe thead th {\n",
       "        text-align: right;\n",
       "    }\n",
       "</style>\n",
       "<table border=\"1\" class=\"dataframe\">\n",
       "  <thead>\n",
       "    <tr style=\"text-align: right;\">\n",
       "      <th></th>\n",
       "      <th>empno</th>\n",
       "      <th>ename</th>\n",
       "      <th>salary</th>\n",
       "      <th>hiredate</th>\n",
       "      <th>deptno</th>\n",
       "    </tr>\n",
       "  </thead>\n",
       "  <tbody>\n",
       "    <tr>\n",
       "      <th>10</th>\n",
       "      <td>e1</td>\n",
       "      <td>smith</td>\n",
       "      <td>454</td>\n",
       "      <td>01-jan-2000</td>\n",
       "      <td>NaN</td>\n",
       "    </tr>\n",
       "    <tr>\n",
       "      <th>30</th>\n",
       "      <td>e3</td>\n",
       "      <td>allen</td>\n",
       "      <td>454</td>\n",
       "      <td>4-feb-2000</td>\n",
       "      <td>102.0</td>\n",
       "    </tr>\n",
       "    <tr>\n",
       "      <th>40</th>\n",
       "      <td>e4</td>\n",
       "      <td>smith</td>\n",
       "      <td>777</td>\n",
       "      <td>8-dec-2001</td>\n",
       "      <td>103.0</td>\n",
       "    </tr>\n",
       "    <tr>\n",
       "      <th>20</th>\n",
       "      <td>e2</td>\n",
       "      <td>scott</td>\n",
       "      <td>999</td>\n",
       "      <td>01-jan-2001</td>\n",
       "      <td>NaN</td>\n",
       "    </tr>\n",
       "  </tbody>\n",
       "</table>\n",
       "</div>"
      ],
      "text/plain": [
       "   empno  ename  salary     hiredate  deptno\n",
       "10    e1  smith     454  01-jan-2000     NaN\n",
       "30    e3  allen     454   4-feb-2000   102.0\n",
       "40    e4  smith     777   8-dec-2001   103.0\n",
       "20    e2  scott     999  01-jan-2001     NaN"
      ]
     },
     "execution_count": 20,
     "metadata": {},
     "output_type": "execute_result"
    }
   ],
   "source": [
    "emp.drop(['un1','un2'],axis=1)"
   ]
  },
  {
   "cell_type": "code",
   "execution_count": 21,
   "metadata": {},
   "outputs": [
    {
     "name": "stderr",
     "output_type": "stream",
     "text": [
      "C:\\Users\\Deepika C R\\AppData\\Local\\Temp\\ipykernel_23328\\3401425250.py:1: SettingWithCopyWarning: \n",
      "A value is trying to be set on a copy of a slice from a DataFrame\n",
      "\n",
      "See the caveats in the documentation: https://pandas.pydata.org/pandas-docs/stable/user_guide/indexing.html#returning-a-view-versus-a-copy\n",
      "  emp.drop(columns=['un1','un2'],index=[10,40],inplace=True)\n"
     ]
    },
    {
     "data": {
      "text/html": [
       "<div>\n",
       "<style scoped>\n",
       "    .dataframe tbody tr th:only-of-type {\n",
       "        vertical-align: middle;\n",
       "    }\n",
       "\n",
       "    .dataframe tbody tr th {\n",
       "        vertical-align: top;\n",
       "    }\n",
       "\n",
       "    .dataframe thead th {\n",
       "        text-align: right;\n",
       "    }\n",
       "</style>\n",
       "<table border=\"1\" class=\"dataframe\">\n",
       "  <thead>\n",
       "    <tr style=\"text-align: right;\">\n",
       "      <th></th>\n",
       "      <th>empno</th>\n",
       "      <th>ename</th>\n",
       "      <th>salary</th>\n",
       "      <th>hiredate</th>\n",
       "      <th>deptno</th>\n",
       "    </tr>\n",
       "  </thead>\n",
       "  <tbody>\n",
       "    <tr>\n",
       "      <th>30</th>\n",
       "      <td>e3</td>\n",
       "      <td>allen</td>\n",
       "      <td>454</td>\n",
       "      <td>4-feb-2000</td>\n",
       "      <td>102.0</td>\n",
       "    </tr>\n",
       "    <tr>\n",
       "      <th>20</th>\n",
       "      <td>e2</td>\n",
       "      <td>scott</td>\n",
       "      <td>999</td>\n",
       "      <td>01-jan-2001</td>\n",
       "      <td>NaN</td>\n",
       "    </tr>\n",
       "  </tbody>\n",
       "</table>\n",
       "</div>"
      ],
      "text/plain": [
       "   empno  ename  salary     hiredate  deptno\n",
       "30    e3  allen     454   4-feb-2000   102.0\n",
       "20    e2  scott     999  01-jan-2001     NaN"
      ]
     },
     "execution_count": 21,
     "metadata": {},
     "output_type": "execute_result"
    }
   ],
   "source": [
    "emp.drop(columns=['un1','un2'],index=[10,40],inplace=True)\n",
    "emp"
   ]
  },
  {
   "cell_type": "markdown",
   "metadata": {},
   "source": [
    "# METHODS RELATED TO DATETIME DATATYPES\n",
    "to_datetime()\n",
    "date_range()\n",
    "date_offset()"
   ]
  },
  {
   "cell_type": "markdown",
   "metadata": {},
   "source": [
    "# to_datetime"
   ]
  },
  {
   "cell_type": "code",
   "execution_count": 22,
   "metadata": {},
   "outputs": [
    {
     "data": {
      "text/plain": [
       "DatetimeIndex(['NaT', '2023-07-01'], dtype='datetime64[ns]', freq=None)"
      ]
     },
     "execution_count": 22,
     "metadata": {},
     "output_type": "execute_result"
    }
   ],
   "source": [
    "#pd.to_datetime(['01-dec-2024','01-july-2023'],format='%d-%B-%Y',errors='ignore')#ignoring both error and answer particular line is ignored and go for others.\n",
    "pd.to_datetime(['01-dec-2024','01-july-2023'],format='%d-%B-%Y',errors='coerce')#convert all data when there is error it gives NaT.\n"
   ]
  },
  {
   "cell_type": "code",
   "execution_count": 23,
   "metadata": {},
   "outputs": [
    {
     "name": "stderr",
     "output_type": "stream",
     "text": [
      "C:\\Users\\Deepika C R\\AppData\\Local\\Temp\\ipykernel_23328\\311571964.py:1: SettingWithCopyWarning: \n",
      "A value is trying to be set on a copy of a slice from a DataFrame.\n",
      "Try using .loc[row_indexer,col_indexer] = value instead\n",
      "\n",
      "See the caveats in the documentation: https://pandas.pydata.org/pandas-docs/stable/user_guide/indexing.html#returning-a-view-versus-a-copy\n",
      "  emp['hiredate']=pd.to_datetime(emp['hiredate'],format='%d-%b-%Y')\n"
     ]
    },
    {
     "data": {
      "text/html": [
       "<div>\n",
       "<style scoped>\n",
       "    .dataframe tbody tr th:only-of-type {\n",
       "        vertical-align: middle;\n",
       "    }\n",
       "\n",
       "    .dataframe tbody tr th {\n",
       "        vertical-align: top;\n",
       "    }\n",
       "\n",
       "    .dataframe thead th {\n",
       "        text-align: right;\n",
       "    }\n",
       "</style>\n",
       "<table border=\"1\" class=\"dataframe\">\n",
       "  <thead>\n",
       "    <tr style=\"text-align: right;\">\n",
       "      <th></th>\n",
       "      <th>empno</th>\n",
       "      <th>ename</th>\n",
       "      <th>salary</th>\n",
       "      <th>hiredate</th>\n",
       "      <th>deptno</th>\n",
       "    </tr>\n",
       "  </thead>\n",
       "  <tbody>\n",
       "    <tr>\n",
       "      <th>30</th>\n",
       "      <td>e3</td>\n",
       "      <td>allen</td>\n",
       "      <td>454</td>\n",
       "      <td>2000-02-04</td>\n",
       "      <td>102.0</td>\n",
       "    </tr>\n",
       "    <tr>\n",
       "      <th>20</th>\n",
       "      <td>e2</td>\n",
       "      <td>scott</td>\n",
       "      <td>999</td>\n",
       "      <td>2001-01-01</td>\n",
       "      <td>NaN</td>\n",
       "    </tr>\n",
       "  </tbody>\n",
       "</table>\n",
       "</div>"
      ],
      "text/plain": [
       "   empno  ename  salary   hiredate  deptno\n",
       "30    e3  allen     454 2000-02-04   102.0\n",
       "20    e2  scott     999 2001-01-01     NaN"
      ]
     },
     "execution_count": 23,
     "metadata": {},
     "output_type": "execute_result"
    }
   ],
   "source": [
    "emp['hiredate']=pd.to_datetime(emp['hiredate'],format='%d-%b-%Y')\n",
    "emp"
   ]
  },
  {
   "cell_type": "code",
   "execution_count": 24,
   "metadata": {},
   "outputs": [
    {
     "name": "stdout",
     "output_type": "stream",
     "text": [
      "2023-07-01 04:35:59\n"
     ]
    },
    {
     "data": {
      "text/plain": [
       "59"
      ]
     },
     "execution_count": 24,
     "metadata": {},
     "output_type": "execute_result"
    }
   ],
   "source": [
    "date1=pd.to_datetime('01-july-2023 4:35:59', format='%d-%B-%Y %H:%M:%S',errors='raise')\n",
    "print(date1)\n",
    "date1.second"
   ]
  },
  {
   "cell_type": "markdown",
   "metadata": {},
   "source": [
    "# date_range()"
   ]
  },
  {
   "cell_type": "code",
   "execution_count": 25,
   "metadata": {},
   "outputs": [
    {
     "data": {
      "text/plain": [
       "DatetimeIndex(['2024-12-02', '2024-12-03', '2024-12-04', '2024-12-05',\n",
       "               '2024-12-06', '2024-12-07', '2024-12-08', '2024-12-09',\n",
       "               '2024-12-10', '2024-12-11',\n",
       "               ...\n",
       "               '2025-11-23', '2025-11-24', '2025-11-25', '2025-11-26',\n",
       "               '2025-11-27', '2025-11-28', '2025-11-29', '2025-11-30',\n",
       "               '2025-12-01', '2025-12-02'],\n",
       "              dtype='datetime64[ns]', length=366, freq='D')"
      ]
     },
     "execution_count": 25,
     "metadata": {},
     "output_type": "execute_result"
    }
   ],
   "source": [
    "pd.date_range('02-dec-2024','02-dec-2025')"
   ]
  },
  {
   "cell_type": "code",
   "execution_count": 26,
   "metadata": {},
   "outputs": [
    {
     "data": {
      "text/plain": [
       "25"
      ]
     },
     "execution_count": 26,
     "metadata": {},
     "output_type": "execute_result"
    }
   ],
   "source": [
    "list_date=pd.date_range('02-dec-2024','02-dec-2025',freq='15D')\n",
    "len(list_date)"
   ]
  },
  {
   "cell_type": "code",
   "execution_count": 27,
   "metadata": {},
   "outputs": [
    {
     "name": "stdout",
     "output_type": "stream",
     "text": [
      "DatetimeIndex(['2024-12-31', '2025-02-28', '2025-04-30', '2025-06-30',\n",
      "               '2025-08-31', '2025-10-31'],\n",
      "              dtype='datetime64[ns]', freq='2ME') DatetimeIndex(['2024-12-31', '2026-12-31', '2028-12-31', '2030-12-31',\n",
      "               '2032-12-31'],\n",
      "              dtype='datetime64[ns]', freq='2YE-DEC') DatetimeIndex(['2024-12-31', '2025-02-28'], dtype='datetime64[ns]', freq='2ME') DatetimeIndex(['2024-12-31', '2025-12-31', '2026-12-31', '2027-12-31',\n",
      "               '2028-12-31', '2029-12-31', '2030-12-31', '2031-12-31',\n",
      "               '2032-12-31', '2033-12-31'],\n",
      "              dtype='datetime64[ns]', freq='YE-DEC') DatetimeIndex(['2024-12-31', '2026-12-31', '2028-12-31', '2030-12-31',\n",
      "               '2032-12-31', '2034-12-31', '2036-12-31', '2038-12-31',\n",
      "               '2040-12-31', '2042-12-31'],\n",
      "              dtype='datetime64[ns]', freq='2YE-DEC')\n"
     ]
    }
   ],
   "source": [
    "dr1=pd.date_range('02-dec-2024','02-dec-2025',freq='2ME')\n",
    "dr2=pd.date_range('02-dec-2024','02-dec-2034',freq='2YE')\n",
    "dr3=pd.date_range('02-dec-2024',periods=2,freq='2ME')\n",
    "dr4=pd.date_range('02-dec-2024',periods=10,freq='YE')\n",
    "dr5=pd.date_range('02-dec-2024',periods=10,freq='2YE')\n",
    "print(dr1,dr2,dr3,dr4,dr5)\n"
   ]
  },
  {
   "cell_type": "markdown",
   "metadata": {},
   "source": [
    "# date_offset()"
   ]
  },
  {
   "cell_type": "code",
   "execution_count": 28,
   "metadata": {},
   "outputs": [
    {
     "data": {
      "text/plain": [
       "Timestamp('2030-10-04 04:35:59')"
      ]
     },
     "execution_count": 28,
     "metadata": {},
     "output_type": "execute_result"
    }
   ],
   "source": [
    "x=pd.DateOffset(days=2,months=10,years=5,hours=1)\n",
    "pd.to_datetime('2-dec-2024 3:35:59')+x"
   ]
  },
  {
   "cell_type": "code",
   "execution_count": 29,
   "metadata": {},
   "outputs": [
    {
     "data": {
      "text/plain": [
       "Timestamp('2001-05-27 01:35:59')"
      ]
     },
     "execution_count": 29,
     "metadata": {},
     "output_type": "execute_result"
    }
   ],
   "source": [
    "x=pd.DateOffset(day=27,month=5,year=2001,hour=1)\n",
    "pd.to_datetime('2-dec-2024 3:35:59')+x"
   ]
  },
  {
   "cell_type": "code",
   "execution_count": 30,
   "metadata": {},
   "outputs": [
    {
     "data": {
      "text/plain": [
       "Timestamp('2030-10-04 04:35:59')"
      ]
     },
     "execution_count": 30,
     "metadata": {},
     "output_type": "execute_result"
    }
   ],
   "source": [
    "x=pd.DateOffset(days=2,months=10,years=5,hours=1)\n",
    "pd.to_datetime('2-dec-2024 3:35:59')+x"
   ]
  },
  {
   "cell_type": "code",
   "execution_count": 31,
   "metadata": {},
   "outputs": [
    {
     "data": {
      "text/plain": [
       "Timestamp('2019-01-31 02:35:59')"
      ]
     },
     "execution_count": 31,
     "metadata": {},
     "output_type": "execute_result"
    }
   ],
   "source": [
    "pd.to_datetime('2-dec-2024 3:35:59')-x"
   ]
  },
  {
   "cell_type": "code",
   "execution_count": 32,
   "metadata": {},
   "outputs": [
    {
     "data": {
      "text/plain": [
       "DatetimeIndex(['2030-10-04', '2036-08-03'], dtype='datetime64[ns]', freq=None)"
      ]
     },
     "execution_count": 32,
     "metadata": {},
     "output_type": "execute_result"
    }
   ],
   "source": [
    "x=pd.DateOffset(days=2,months=10,years=5)\n",
    "pd.to_datetime(['02-dec-2024','01-oct-2030'],format='%d-%b-%Y')+x"
   ]
  }
 ],
 "metadata": {
  "kernelspec": {
   "display_name": "Python 3",
   "language": "python",
   "name": "python3"
  },
  "language_info": {
   "codemirror_mode": {
    "name": "ipython",
    "version": 3
   },
   "file_extension": ".py",
   "mimetype": "text/x-python",
   "name": "python",
   "nbconvert_exporter": "python",
   "pygments_lexer": "ipython3",
   "version": "3.12.4"
  }
 },
 "nbformat": 4,
 "nbformat_minor": 2
}
