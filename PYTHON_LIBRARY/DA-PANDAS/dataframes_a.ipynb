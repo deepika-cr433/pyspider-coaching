{
 "cells": [
  {
   "cell_type": "markdown",
   "metadata": {},
   "source": [
    "# DATAFRAMES"
   ]
  },
  {
   "cell_type": "code",
   "execution_count": 1,
   "metadata": {},
   "outputs": [
    {
     "name": "stdout",
     "output_type": "stream",
     "text": [
      "   0\n",
      "0  a\n",
      "1  b\n",
      "2  c\n",
      "3  d\n",
      "<class 'pandas.core.frame.DataFrame'>\n"
     ]
    }
   ],
   "source": [
    "import pandas as pd\n",
    "l=['a','b','c','d']\n",
    "l1=[['a','b'],['c','d']]\n",
    "df=pd.DataFrame(l)\n",
    "print(df)\n",
    "print(type(df))"
   ]
  },
  {
   "cell_type": "code",
   "execution_count": 2,
   "metadata": {},
   "outputs": [
    {
     "name": "stdout",
     "output_type": "stream",
     "text": [
      "   0\n",
      "0  a\n",
      "1  b\n",
      "2  c\n",
      "3  d\n",
      "    id   name  age        loc\n",
      "0  100  smith   20  bangalore\n",
      "1  101  allen   28    chennai\n",
      "2  102   ward   25     mumbai\n",
      "     id   name  age        loc\n",
      "r1  100  smith   20  bangalore\n",
      "r2  101  allen   28    chennai\n",
      "r3  102   ward   25     mumbai\n",
      "    id  age\n",
      "0  100   20\n",
      "1  101   28\n",
      "2  102   25\n"
     ]
    }
   ],
   "source": [
    "import pandas as pd\n",
    "l1=[['a','b'],['c','d']]\n",
    "df=pd.DataFrame(l)\n",
    "print(df)\n",
    "d={\"id\":[100,101,102],\n",
    "   \"name\":[\"smith\",\"allen\",\"ward\"],\n",
    "   \"age\":[20,28,25],\n",
    "   \"loc\":['bangalore',\"chennai\",\"mumbai\"]}\n",
    "df=pd.DataFrame(d)\n",
    "print(df)\n",
    "df=pd.DataFrame(d,index=['r1','r2','r3'])\n",
    "print(df)\n",
    "df=pd.DataFrame(d,columns=['id','age'])\n",
    "print(df)"
   ]
  },
  {
   "cell_type": "code",
   "execution_count": 5,
   "metadata": {},
   "outputs": [
    {
     "name": "stdout",
     "output_type": "stream",
     "text": [
      "    id  age\n",
      "0  100   20\n",
      "1  101   28\n",
      "2  102   25\n",
      "    id  age\n",
      "2  102   25\n",
      "1  101   28\n",
      "0  100   20\n",
      "0    100\n",
      "2    102\n",
      "Name: id, dtype: int64\n"
     ]
    }
   ],
   "source": [
    "df['id']\n",
    "d1=df[['id','age']]\n",
    "# d2=df['id'][-1]\n",
    "d3=df[['id','age']][::-1]\n",
    "d4=df['id'][[0,2]]\n",
    "print(d1)\n",
    "# print(d2)\n",
    "print(d3)\n",
    "print(d4)"
   ]
  },
  {
   "cell_type": "code",
   "execution_count": 7,
   "metadata": {},
   "outputs": [
    {
     "name": "stdout",
     "output_type": "stream",
     "text": [
      "   0\n",
      "0  1\n",
      "1  2\n",
      "2  3\n",
      "3  4\n",
      "4  5\n",
      "     0\n",
      "0  1.2\n",
      "1  2.3\n",
      "2  3.3\n",
      "3  4.4\n",
      "4  5.5\n",
      "          0\n",
      "0  1.0+2.0j\n",
      "1  2.0+4.0j\n",
      "2  3.0+4.0j\n",
      "3  4.0+5.0j\n",
      "4  5.0+2.0j\n",
      "   0\n",
      "0  1\n",
      "1  2\n",
      "2  3\n",
      "3  4\n",
      "4  5\n",
      "   0\n",
      "0  1\n",
      "1  2\n",
      "2  3\n",
      "3  4\n",
      "4  5\n"
     ]
    }
   ],
   "source": [
    "# d=1.3\n",
    "# Df=pd.DataFrame(d)\n",
    "# print(Df)\n",
    "d=[1,2,3,4,5]\n",
    "df=pd.DataFrame(d)\n",
    "print(df)\n",
    "d=[1.2,2.3,3.3,4.4,5.5]\n",
    "df=pd.DataFrame(d)\n",
    "print(df)\n",
    "d=[1+2j,2+4j,3+4j,4+5j,5+2j]\n",
    "df=pd.DataFrame(d)\n",
    "print(df)\n",
    "d=(1,2,3,4,5)\n",
    "df=pd.DataFrame(d)\n",
    "print(df)\n",
    "d={1,2,3,4,4,5}\n",
    "df=pd.DataFrame(d)\n",
    "print(df)"
   ]
  },
  {
   "cell_type": "markdown",
   "metadata": {},
   "source": [
    "# BASIC OPERATIONS ON DATAFRAMES"
   ]
  },
  {
   "cell_type": "code",
   "execution_count": 2,
   "metadata": {},
   "outputs": [],
   "source": [
    "import pandas as pd"
   ]
  },
  {
   "cell_type": "code",
   "execution_count": 3,
   "metadata": {},
   "outputs": [
    {
     "name": "stdout",
     "output_type": "stream",
     "text": [
      "    name  age\n",
      "0  smith   20\n",
      "1  allen   24\n",
      "    name  age\n",
      "0  smith   25\n",
      "1  allen   29\n"
     ]
    },
    {
     "data": {
      "text/html": [
       "<div>\n",
       "<style scoped>\n",
       "    .dataframe tbody tr th:only-of-type {\n",
       "        vertical-align: middle;\n",
       "    }\n",
       "\n",
       "    .dataframe tbody tr th {\n",
       "        vertical-align: top;\n",
       "    }\n",
       "\n",
       "    .dataframe thead th {\n",
       "        text-align: right;\n",
       "    }\n",
       "</style>\n",
       "<table border=\"1\" class=\"dataframe\">\n",
       "  <thead>\n",
       "    <tr style=\"text-align: right;\">\n",
       "      <th></th>\n",
       "      <th>name</th>\n",
       "      <th>age</th>\n",
       "    </tr>\n",
       "  </thead>\n",
       "  <tbody>\n",
       "    <tr>\n",
       "      <th>0</th>\n",
       "      <td>smith</td>\n",
       "      <td>25</td>\n",
       "    </tr>\n",
       "  </tbody>\n",
       "</table>\n",
       "</div>"
      ],
      "text/plain": [
       "    name  age\n",
       "0  smith   25"
      ]
     },
     "execution_count": 3,
     "metadata": {},
     "output_type": "execute_result"
    }
   ],
   "source": [
    "d={'name':['smith','allen'],\n",
    "'age':[20,24]}\n",
    "df=pd.DataFrame(d)\n",
    "print(df)\n",
    "df['age'] = df['age']+5\n",
    "print(df)\n",
    "df['name']=='smith'\n",
    "df[df['name']=='smith']"
   ]
  },
  {
   "cell_type": "code",
   "execution_count": null,
   "metadata": {},
   "outputs": [
    {
     "name": "stdout",
     "output_type": "stream",
     "text": [
      "    name  age\n",
      "0  smith   50\n",
      "1  allen   50\n",
      "    name  age    sal\n",
      "0  smith   50  15000\n",
      "1  allen   50  15000\n"
     ]
    }
   ],
   "source": [
    "(df['age']==29) & (df['name']=='allen') # for logical operators.\n",
    "df[(df['age']==29) & (df['name']=='allen')]\n",
    "df['age']=50\n",
    "print (df)\n",
    "df['sal']=15000\n",
    "print (df)"
   ]
  },
  {
   "cell_type": "code",
   "execution_count": null,
   "metadata": {},
   "outputs": [],
   "source": []
  }
 ],
 "metadata": {
  "kernelspec": {
   "display_name": "Python 3",
   "language": "python",
   "name": "python3"
  },
  "language_info": {
   "codemirror_mode": {
    "name": "ipython",
    "version": 3
   },
   "file_extension": ".py",
   "mimetype": "text/x-python",
   "name": "python",
   "nbconvert_exporter": "python",
   "pygments_lexer": "ipython3",
   "version": "3.12.4"
  }
 },
 "nbformat": 4,
 "nbformat_minor": 2
}
