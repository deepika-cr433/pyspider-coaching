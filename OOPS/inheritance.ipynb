{
 "cells": [
  {
   "cell_type": "markdown",
   "metadata": {},
   "source": [
    "INHERITANCE\n",
    "SUPERCLASS---->SUBCLASS\n",
    "PARENTCLASS---->CHILDCLASS\n",
    "BASECLASS---->DERIVEDCLASS\n",
    "CLASS A:\n",
    "    PASS\n",
    "CLASS B(A):\n",
    "    PASS"
   ]
  },
  {
   "cell_type": "markdown",
   "metadata": {},
   "source": [
    "1. SINGLE LEVEL INHERITANCE\n",
    "2. MULTI-LEVEL INHERITANCE\n",
    "3. MULTIPLE INHERITANCE\n",
    "4. HIERARCHICAL INHERITANCE\n",
    "5. HYBRID INHERITANCE"
   ]
  },
  {
   "cell_type": "markdown",
   "metadata": {},
   "source": [
    "## SINGLE LEVEL INHERITANCE"
   ]
  },
  {
   "cell_type": "code",
   "execution_count": 4,
   "metadata": {},
   "outputs": [
    {
     "name": "stdout",
     "output_type": "stream",
     "text": [
      "BMW\n",
      "parent owns BMW car\n"
     ]
    },
    {
     "data": {
      "text/plain": [
       "'BMW'"
      ]
     },
     "execution_count": 4,
     "metadata": {},
     "output_type": "execute_result"
    }
   ],
   "source": [
    "class parent:\n",
    "    car=\"BMW\"\n",
    "    def method1(self):\n",
    "        print(\"parent owns BMW car\")\n",
    "class child(parent):\n",
    "    pass\n",
    "\n",
    "c1 = child()\n",
    "print(c1.car)\n",
    "c1.method1()\n",
    "c1.car"
   ]
  },
  {
   "cell_type": "code",
   "execution_count": 7,
   "metadata": {},
   "outputs": [
    {
     "name": "stdout",
     "output_type": "stream",
     "text": [
      "BMW\n",
      "parent owns BMW car\n",
      "child owns royal enfield\n",
      "BMW\n",
      "royal enfield\n"
     ]
    }
   ],
   "source": [
    "class parent:\n",
    "    car=\"BMW\"\n",
    "    def method1(self):\n",
    "        print(\"parent owns BMW car\")\n",
    "class child(parent):\n",
    "    bike='royal enfield'\n",
    "    def method2(self):\n",
    "        print(\"child owns royal enfield\")\n",
    "\n",
    "c1 = child()\n",
    "print(c1.car)\n",
    "c1.method1()\n",
    "c1.method2()\n",
    "print(c1.car)\n",
    "print(c1.bike)"
   ]
  },
  {
   "cell_type": "code",
   "execution_count": 9,
   "metadata": {},
   "outputs": [
    {
     "name": "stdout",
     "output_type": "stream",
     "text": [
      "mahendra thar\n",
      "child owns mahindra thar\n"
     ]
    }
   ],
   "source": [
    "class parent:\n",
    "    car=\"BMW\"\n",
    "    def method1(self):\n",
    "        print(\"parent owns BMW car\")\n",
    "class child(parent):\n",
    "    bike='royal enfield'\n",
    "    car=\"mahendra thar\"\n",
    "    def method1(self):\n",
    "        print(\"child owns mahindra thar\")\n",
    "\n",
    "c1=child()\n",
    "print(c1.car)\n",
    "c1.method1()"
   ]
  },
  {
   "cell_type": "markdown",
   "metadata": {},
   "source": [
    "here in below example we use super() function to get the method present in parent class where we have the method class name in parent and child class are same..\n",
    "we can also use parent_class_name to get it..."
   ]
  },
  {
   "cell_type": "code",
   "execution_count": null,
   "metadata": {},
   "outputs": [
    {
     "name": "stdout",
     "output_type": "stream",
     "text": [
      "royal enfield\n",
      "BMW\n"
     ]
    }
   ],
   "source": [
    "class parent:\n",
    "    car=\"BMW\"\n",
    "class child(parent):\n",
    "    car='mahindra thar'\n",
    "    def method1(self):\n",
    "        print(self.car)\n",
    "        print(super().car)\n",
    "\n",
    "c1=child()\n",
    "c1.method1()"
   ]
  },
  {
   "cell_type": "code",
   "execution_count": 11,
   "metadata": {},
   "outputs": [
    {
     "name": "stdout",
     "output_type": "stream",
     "text": [
      "mahindra thar\n",
      "BMW\n"
     ]
    }
   ],
   "source": [
    "class parent:\n",
    "    car=\"BMW\"\n",
    "    def method1(self):\n",
    "        print(\"parents owns BMW\")\n",
    "class child(parent):\n",
    "    car='mahindra thar'\n",
    "    def method1(self):\n",
    "        print(self.car)\n",
    "        print(super().car)\n",
    "\n",
    "c1=child()\n",
    "c1.method1()"
   ]
  },
  {
   "cell_type": "code",
   "execution_count": 12,
   "metadata": {},
   "outputs": [
    {
     "name": "stdout",
     "output_type": "stream",
     "text": [
      "child class\n",
      "parent class\n",
      "BMW\n"
     ]
    }
   ],
   "source": [
    "class parent:\n",
    "    def __init__(self,car):\n",
    "        self.car=car\n",
    "        print('parent class')\n",
    "        print(self.car)\n",
    "class child(parent):\n",
    "    def __init__(self,car):\n",
    "        print(\"child class\")\n",
    "        super().__init__(car)\n",
    "c1=child('BMW')\n"
   ]
  },
  {
   "cell_type": "code",
   "execution_count": 16,
   "metadata": {},
   "outputs": [
    {
     "name": "stdout",
     "output_type": "stream",
     "text": [
      "v2\n",
      "deeps u can do shopping\n",
      "amazon fresh is now available\n",
      "u can watch movies\n",
      "u can doo payments\n"
     ]
    }
   ],
   "source": [
    "class amazon1:\n",
    "    vaesion='v1'\n",
    "    def __init__(self,name,phoneno):\n",
    "        self.name=name\n",
    "        self.phoneno=phoneno\n",
    "    def shopping(self):\n",
    "        print(f\"{self.name} u can do shopping\")\n",
    "    def ott(self):\n",
    "        print(\"u can watch movies\")\n",
    "\n",
    "class amazon2(amazon1):\n",
    "    version='v2'\n",
    "    def __init__(self,name,phoneno,email):\n",
    "        super().__init__(name,phoneno)\n",
    "        self.email=email\n",
    "    def shopping(self):\n",
    "        super().shopping()\n",
    "        print('amazon fresh is now available')\n",
    "    def banking(self):\n",
    "        print(\"u can doo payments\")\n",
    "\n",
    "user1=amazon2('deeps',9632124578,'deer@gmail.com')\n",
    "print(user1.version)\n",
    "user1.shopping()\n",
    "user1.ott()\n",
    "user1.banking()"
   ]
  },
  {
   "cell_type": "markdown",
   "metadata": {},
   "source": [
    "2. multi-level inheritance."
   ]
  },
  {
   "cell_type": "code",
   "execution_count": 19,
   "metadata": {},
   "outputs": [
    {
     "name": "stdout",
     "output_type": "stream",
     "text": [
      "v3\n",
      "u can start chatting\n",
      "u can make audio/video call\n",
      "u can create your avatar\n",
      "start payment now\n",
      "ask anything\n"
     ]
    }
   ],
   "source": [
    "class whatsapp1:\n",
    "    version='v1'\n",
    "    def __init__(self,phoneno):\n",
    "        self.phoneno=phoneno\n",
    "    def chat(self):\n",
    "        print('u can start chatting')\n",
    "    def call(self):\n",
    "        print(\"u can make audio/video call\")\n",
    "\n",
    "class whatsapp2(whatsapp1):\n",
    "    version='v2'\n",
    "    def __init__(self,phoneno):\n",
    "        super().__init__(phoneno)\n",
    "    def avatar(self):\n",
    "        print(\"u can create your avatar\")\n",
    "    def payment(self):\n",
    "        print(\"start payment now\")\n",
    "\n",
    "class whatsapp3(whatsapp2):\n",
    "    version='v3'\n",
    "    def __init__(self,phoneno):\n",
    "        super().__init__(phoneno)\n",
    "    def meta_ai(self):\n",
    "        print(\"ask anything\")\n",
    "\n",
    "user1=whatsapp3(9632124538)\n",
    "print(user1.version)\n",
    "user1.chat()\n",
    "user1.call()\n",
    "user1.avatar()\n",
    "user1.payment()\n",
    "user1.meta_ai()"
   ]
  },
  {
   "cell_type": "markdown",
   "metadata": {},
   "source": [
    "3. HIERARCHICAL INHERITANCE"
   ]
  },
  {
   "cell_type": "code",
   "execution_count": 20,
   "metadata": {},
   "outputs": [
    {
     "name": "stdout",
     "output_type": "stream",
     "text": [
      "header\n",
      "page1 content\n",
      "footer\n",
      "header\n",
      "page2 content\n",
      "footer\n"
     ]
    }
   ],
   "source": [
    "class base:\n",
    "    def header(self):\n",
    "        print('header')\n",
    "    def footer(self):\n",
    "        print(\"footer\")\n",
    "class page1(base):\n",
    "    def content(self):\n",
    "        print('page1 content')\n",
    "class page2(base):\n",
    "    def content(self):\n",
    "        print(\"page2 content\")\n",
    "p1=page1()\n",
    "p1.header()\n",
    "p1.content()\n",
    "p1.footer()\n",
    "p2=page2()\n",
    "p2.header()\n",
    "p2.content()\n",
    "p2.footer()"
   ]
  },
  {
   "cell_type": "markdown",
   "metadata": {},
   "source": [
    "4. MULTIPLE INHERITANCE"
   ]
  },
  {
   "cell_type": "code",
   "execution_count": 22,
   "metadata": {},
   "outputs": [
    {
     "name": "stdout",
     "output_type": "stream",
     "text": [
      "class c-method1\n",
      "class a-method1\n",
      "class b-method1\n",
      "class b-method2\n"
     ]
    }
   ],
   "source": [
    "class a:\n",
    "    def method1(self):\n",
    "        print(\"class a-method1\")\n",
    "class b:\n",
    "    def method1(self):\n",
    "        print(\"class b-method1\")\n",
    "    def method2(self):\n",
    "        print(\"class b-method2\")\n",
    "class c(a,b):\n",
    "    def method1(self):\n",
    "        print('class c-method1')\n",
    "        super().method1()\n",
    "        b.method1(self)\n",
    "o1=c()\n",
    "o1.method1()\n",
    "o1.method2()"
   ]
  },
  {
   "cell_type": "code",
   "execution_count": 23,
   "metadata": {},
   "outputs": [
    {
     "name": "stdout",
     "output_type": "stream",
     "text": [
      "started using battery\n",
      "switched to petrol mode\n",
      "petrol\n"
     ]
    }
   ],
   "source": [
    "class pvehicle:\n",
    "    mode='petrol'\n",
    "    def start(self):\n",
    "        print('started using petrol')\n",
    "class evehicle:\n",
    "    mode='electric'\n",
    "    def start(self):\n",
    "        print(\"started using battery\")\n",
    "class Hvehicle(evehicle,pvehicle):\n",
    "    mode='hybrid'\n",
    "    def set_speed(self,speed):\n",
    "        if 60<=speed<=180:\n",
    "            self.mode='petrol'\n",
    "            print(\"switched to petrol mode\")\n",
    "        else:\n",
    "            self.mode='electric'\n",
    "            print(\"electric mode\")\n",
    "h1=Hvehicle()\n",
    "h1.start()\n",
    "h1.set_speed(70)\n",
    "print(h1.mode)\n"
   ]
  },
  {
   "cell_type": "markdown",
   "metadata": {},
   "source": [
    "5. HYBRID INHERITANCE"
   ]
  },
  {
   "cell_type": "code",
   "execution_count": null,
   "metadata": {},
   "outputs": [],
   "source": []
  }
 ],
 "metadata": {
  "kernelspec": {
   "display_name": "Python 3",
   "language": "python",
   "name": "python3"
  },
  "language_info": {
   "codemirror_mode": {
    "name": "ipython",
    "version": 3
   },
   "file_extension": ".py",
   "mimetype": "text/x-python",
   "name": "python",
   "nbconvert_exporter": "python",
   "pygments_lexer": "ipython3",
   "version": "3.12.4"
  }
 },
 "nbformat": 4,
 "nbformat_minor": 2
}
