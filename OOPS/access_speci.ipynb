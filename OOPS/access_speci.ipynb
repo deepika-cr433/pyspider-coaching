{
 "cells": [
  {
   "cell_type": "markdown",
   "metadata": {},
   "source": [
    "ACCESS SPECIFIERS\n",
    " 1. PUBLIC\n",
    " 2. PROTECTED\n",
    " 3. PRIVATE"
   ]
  },
  {
   "cell_type": "code",
   "execution_count": null,
   "metadata": {},
   "outputs": [
    {
     "name": "stdout",
     "output_type": "stream",
     "text": [
      "a value 100\n",
      "b value 200\n",
      "c value 300\n",
      "accessing public attribute outside the class --> 100\n"
     ]
    },
    {
     "ename": "AttributeError",
     "evalue": "'myclass' object has no attribute '__c'",
     "output_type": "error",
     "traceback": [
      "\u001b[1;31m---------------------------------------------------------------------------\u001b[0m",
      "\u001b[1;31mAttributeError\u001b[0m                            Traceback (most recent call last)",
      "Cell \u001b[1;32mIn[6], line 16\u001b[0m\n\u001b[0;32m     13\u001b[0m \u001b[38;5;28mprint\u001b[39m(\u001b[38;5;124m\"\u001b[39m\u001b[38;5;124maccessing public attribute outside the class -->\u001b[39m\u001b[38;5;124m\"\u001b[39m,m1\u001b[38;5;241m.\u001b[39ma)\n\u001b[0;32m     14\u001b[0m \u001b[38;5;66;03m# print(\"accessing public attribute outside the class -->\",m1._b) \u001b[39;00m\n\u001b[0;32m     15\u001b[0m \u001b[38;5;66;03m# AttributeError: 'myclass' object has no attribute '_b'\u001b[39;00m\n\u001b[1;32m---> 16\u001b[0m \u001b[38;5;28mprint\u001b[39m(\u001b[38;5;124m\"\u001b[39m\u001b[38;5;124maccessing public attribute outside the class -->\u001b[39m\u001b[38;5;124m\"\u001b[39m,\u001b[43mm1\u001b[49m\u001b[38;5;241;43m.\u001b[39;49m\u001b[43m__c\u001b[49m)\n",
      "\u001b[1;31mAttributeError\u001b[0m: 'myclass' object has no attribute '__c'"
     ]
    }
   ],
   "source": [
    "class myclass:\n",
    "    def __init__(self):\n",
    "        self.a=100\n",
    "        self.b=200\n",
    "        self.c=300\n",
    "    def mymethod(self):\n",
    "        print(f\"a value {self.a}\")\n",
    "        print(f\"b value {self.b}\")\n",
    "        print(f\"c value {self.c}\")\n",
    "\n",
    "m1=myclass()\n",
    "m1.mymethod()\n",
    "print(\"accessing public attribute outside the class -->\",m1.a)\n",
    "# print(\"accessing public attribute outside the class -->\",m1._b) \n",
    "# AttributeError: 'myclass' object has no attribute '_b'\n",
    "print(\"accessing public attribute outside the class -->\",m1.__c)\n",
    "#AttributeError: 'myclass' object has no attribute '__c'\n",
    "\n",
    "\n"
   ]
  },
  {
   "cell_type": "markdown",
   "metadata": {},
   "source": [
    "PROGRAMM TO GIVE ACCESS LEVEL TO USER DEFINED METHODS"
   ]
  },
  {
   "cell_type": "code",
   "execution_count": null,
   "metadata": {},
   "outputs": [
    {
     "name": "stdout",
     "output_type": "stream",
     "text": [
      "I am display and public in access\n",
      "I am test and private in access\n",
      "I am view and protected in access\n",
      "I am test and private in access\n"
     ]
    },
    {
     "ename": "AttributeError",
     "evalue": "'one' object has no attribute '__test'",
     "output_type": "error",
     "traceback": [
      "\u001b[1;31m---------------------------------------------------------------------------\u001b[0m",
      "\u001b[1;31mAttributeError\u001b[0m                            Traceback (most recent call last)",
      "Cell \u001b[1;32mIn[7], line 13\u001b[0m\n\u001b[0;32m     11\u001b[0m o1\u001b[38;5;241m.\u001b[39mdisplay()\n\u001b[0;32m     12\u001b[0m o1\u001b[38;5;241m.\u001b[39m_view()\n\u001b[1;32m---> 13\u001b[0m \u001b[43mo1\u001b[49m\u001b[38;5;241;43m.\u001b[39;49m\u001b[43m__test\u001b[49m()\n",
      "\u001b[1;31mAttributeError\u001b[0m: 'one' object has no attribute '__test'"
     ]
    }
   ],
   "source": [
    "class one:\n",
    "    def display(self):\n",
    "        print(\"I am display and public in access\")\n",
    "        self.__test()\n",
    "    def _view(self):\n",
    "        print(\"I am view and protected in access\")\n",
    "        self.__test()\n",
    "    def __test(self):\n",
    "        print(\"I am test and private in access\")\n",
    "o1=one()\n",
    "o1.display()\n",
    "o1._view()\n",
    "o1.__test() #AttributeError: 'one' object has no attribute '__test'"
   ]
  },
  {
   "cell_type": "markdown",
   "metadata": {},
   "source": [
    "PYTHON BEAN CLASS"
   ]
  },
  {
   "cell_type": "code",
   "execution_count": 8,
   "metadata": {},
   "outputs": [
    {
     "name": "stdout",
     "output_type": "stream",
     "text": [
      "deeps\n",
      "21\n",
      "sanju\n",
      "22\n"
     ]
    }
   ],
   "source": [
    "class employee:\n",
    "    def __init__(self,name,age):\n",
    "        self.__name=name\n",
    "        self.__age=age\n",
    "    def getname(self):\n",
    "        return self.__name\n",
    "    def setname(self,name):\n",
    "        self.__name=name\n",
    "    def getage(self):\n",
    "        return self.__age\n",
    "    def setage(self,age):\n",
    "        self.__age=age\n",
    "\n",
    "e1=employee('deeps',21)\n",
    "print(e1.getname())\n",
    "print(e1.getage())\n",
    "e1.setname('sanju')\n",
    "e1.setage(22)\n",
    "print(e1.getname())\n",
    "print(e1.getage())\n"
   ]
  },
  {
   "cell_type": "code",
   "execution_count": 9,
   "metadata": {},
   "outputs": [
    {
     "name": "stdout",
     "output_type": "stream",
     "text": [
      "tiger\n",
      "\n",
      "lion\n"
     ]
    }
   ],
   "source": [
    "class employee:\n",
    "    def __init__(self,name):\n",
    "        self.__name=name\n",
    "    def getname(self):\n",
    "        return self.__name\n",
    "    def setname(self,name):\n",
    "        self.__name=name\n",
    "    var=property(getname,setname)\n",
    "\n",
    "e1=employee(\"tiger\")\n",
    "print(e1.var)\n",
    "print()\n",
    "e1.var='lion'\n",
    "print(e1.var)"
   ]
  },
  {
   "cell_type": "code",
   "execution_count": null,
   "metadata": {},
   "outputs": [],
   "source": []
  }
 ],
 "metadata": {
  "kernelspec": {
   "display_name": "Python 3",
   "language": "python",
   "name": "python3"
  },
  "language_info": {
   "codemirror_mode": {
    "name": "ipython",
    "version": 3
   },
   "file_extension": ".py",
   "mimetype": "text/x-python",
   "name": "python",
   "nbconvert_exporter": "python",
   "pygments_lexer": "ipython3",
   "version": "3.12.4"
  }
 },
 "nbformat": 4,
 "nbformat_minor": 2
}
