{
 "cells": [
  {
   "cell_type": "markdown",
   "metadata": {},
   "source": [
    "Directory checking"
   ]
  },
  {
   "cell_type": "code",
   "execution_count": 1,
   "metadata": {},
   "outputs": [
    {
     "name": "stdout",
     "output_type": "stream",
     "text": [
      "['__abs__', '__add__', '__and__', '__bool__', '__ceil__', '__class__', '__delattr__', '__dir__', '__divmod__', '__doc__', '__eq__', '__float__', '__floor__', '__floordiv__', '__format__', '__ge__', '__getattribute__', '__getnewargs__', '__getstate__', '__gt__', '__hash__', '__index__', '__init__', '__init_subclass__', '__int__', '__invert__', '__le__', '__lshift__', '__lt__', '__mod__', '__mul__', '__ne__', '__neg__', '__new__', '__or__', '__pos__', '__pow__', '__radd__', '__rand__', '__rdivmod__', '__reduce__', '__reduce_ex__', '__repr__', '__rfloordiv__', '__rlshift__', '__rmod__', '__rmul__', '__ror__', '__round__', '__rpow__', '__rrshift__', '__rshift__', '__rsub__', '__rtruediv__', '__rxor__', '__setattr__', '__sizeof__', '__str__', '__sub__', '__subclasshook__', '__truediv__', '__trunc__', '__xor__', 'as_integer_ratio', 'bit_count', 'bit_length', 'conjugate', 'denominator', 'from_bytes', 'imag', 'is_integer', 'numerator', 'real', 'to_bytes']\n",
      "3\n",
      "['__add__', '__class__', '__contains__', '__delattr__', '__dir__', '__doc__', '__eq__', '__format__', '__ge__', '__getattribute__', '__getitem__', '__getnewargs__', '__getstate__', '__gt__', '__hash__', '__init__', '__init_subclass__', '__iter__', '__le__', '__len__', '__lt__', '__mod__', '__mul__', '__ne__', '__new__', '__reduce__', '__reduce_ex__', '__repr__', '__rmod__', '__rmul__', '__setattr__', '__sizeof__', '__str__', '__subclasshook__', 'capitalize', 'casefold', 'center', 'count', 'encode', 'endswith', 'expandtabs', 'find', 'format', 'format_map', 'index', 'isalnum', 'isalpha', 'isascii', 'isdecimal', 'isdigit', 'isidentifier', 'islower', 'isnumeric', 'isprintable', 'isspace', 'istitle', 'isupper', 'join', 'ljust', 'lower', 'lstrip', 'maketrans', 'partition', 'removeprefix', 'removesuffix', 'replace', 'rfind', 'rindex', 'rjust', 'rpartition', 'rsplit', 'rstrip', 'split', 'splitlines', 'startswith', 'strip', 'swapcase', 'title', 'translate', 'upper', 'zfill']\n"
     ]
    }
   ],
   "source": [
    "a=10\n",
    "print(dir(a))\n",
    "s='don'\n",
    "print(s.__len__())\n",
    "print(dir(s))"
   ]
  },
  {
   "cell_type": "code",
   "execution_count": 1,
   "metadata": {},
   "outputs": [
    {
     "name": "stdout",
     "output_type": "stream",
     "text": [
      "[10, 20, 100, 1000]\n"
     ]
    }
   ],
   "source": [
    "l1=[10,20,100]\n",
    "l1.append(1000)\n",
    "print(l1)\n"
   ]
  },
  {
   "cell_type": "code",
   "execution_count": null,
   "metadata": {},
   "outputs": [
    {
     "ename": "AttributeError",
     "evalue": "'tuple' object has no attribute 'append'",
     "output_type": "error",
     "traceback": [
      "\u001b[1;31m---------------------------------------------------------------------------\u001b[0m",
      "\u001b[1;31mAttributeError\u001b[0m                            Traceback (most recent call last)",
      "Cell \u001b[1;32mIn[2], line 2\u001b[0m\n\u001b[0;32m      1\u001b[0m t1\u001b[38;5;241m=\u001b[39m(\u001b[38;5;241m10\u001b[39m,\u001b[38;5;241m20\u001b[39m,\u001b[38;5;241m100\u001b[39m)\n\u001b[1;32m----> 2\u001b[0m \u001b[43mt1\u001b[49m\u001b[38;5;241;43m.\u001b[39;49m\u001b[43mappend\u001b[49m(\u001b[38;5;241m1000\u001b[39m)\n\u001b[0;32m      3\u001b[0m \u001b[38;5;28mprint\u001b[39m(t1)\n",
      "\u001b[1;31mAttributeError\u001b[0m: 'tuple' object has no attribute 'append'"
     ]
    }
   ],
   "source": [
    "t1=(10,20,100)\n",
    "t1.append(1000) # AttributeError: 'tuple' object has no attribute 'append'\n",
    "print(t1)"
   ]
  },
  {
   "cell_type": "code",
   "execution_count": null,
   "metadata": {},
   "outputs": [
    {
     "name": "stdout",
     "output_type": "stream",
     "text": [
      "['__class__', '__delattr__', '__dict__', '__dir__', '__doc__', '__eq__', '__format__', '__ge__', '__getattribute__', '__getstate__', '__gt__', '__hash__', '__init__', '__init_subclass__', '__le__', '__lt__', '__module__', '__ne__', '__new__', '__reduce__', '__reduce_ex__', '__repr__', '__setattr__', '__sizeof__', '__str__', '__subclasshook__', '__weakref__']\n",
      "27\n"
     ]
    }
   ],
   "source": [
    "class empty:\n",
    "    pass\n",
    "\n",
    "print(dir(empty))\n",
    "print(len(dir(empty)))\n",
    "# python loads 27 dunder method into every class."
   ]
  },
  {
   "cell_type": "code",
   "execution_count": null,
   "metadata": {},
   "outputs": [
    {
     "name": "stdout",
     "output_type": "stream",
     "text": [
      "[1, 2, 3, 20]\n",
      "[1, 2, 3, 20, 200]\n"
     ]
    },
    {
     "ename": "TypeError",
     "evalue": "descriptor 'append' for 'list' objects doesn't apply to a 'int' object",
     "output_type": "error",
     "traceback": [
      "\u001b[1;31m---------------------------------------------------------------------------\u001b[0m",
      "\u001b[1;31mTypeError\u001b[0m                                 Traceback (most recent call last)",
      "Cell \u001b[1;32mIn[7], line 6\u001b[0m\n\u001b[0;32m      4\u001b[0m \u001b[38;5;28mlist\u001b[39m\u001b[38;5;241m.\u001b[39mappend(l1,\u001b[38;5;241m200\u001b[39m)\n\u001b[0;32m      5\u001b[0m \u001b[38;5;28mprint\u001b[39m(l1)\n\u001b[1;32m----> 6\u001b[0m \u001b[38;5;28;43mlist\u001b[39;49m\u001b[38;5;241;43m.\u001b[39;49m\u001b[43mappend\u001b[49m\u001b[43m(\u001b[49m\u001b[38;5;241;43m20000\u001b[39;49m\u001b[43m)\u001b[49m\n",
      "\u001b[1;31mTypeError\u001b[0m: descriptor 'append' for 'list' objects doesn't apply to a 'int' object"
     ]
    }
   ],
   "source": [
    "l1=[1,2,3]\n",
    "l1.append(20)\n",
    "print(l1)\n",
    "list.append(l1,200)\n",
    "print(l1)\n",
    "list.append(20000) # TypeError: descriptor 'append' for 'list' objects doesn't apply to a 'int' object\n",
    "# here we got a type error because we don't gave an reference object here."
   ]
  },
  {
   "cell_type": "markdown",
   "metadata": {},
   "source": [
    "creating a class EXAMPLE and checking its directory."
   ]
  },
  {
   "cell_type": "code",
   "execution_count": null,
   "metadata": {},
   "outputs": [
    {
     "name": "stdout",
     "output_type": "stream",
     "text": [
      "['__class__', '__delattr__', '__dict__', '__dir__', '__doc__', '__eq__', '__format__', '__ge__', '__getattribute__', '__getstate__', '__gt__', '__hash__', '__init__', '__init_subclass__', '__le__', '__lt__', '__module__', '__ne__', '__new__', '__reduce__', '__reduce_ex__', '__repr__', '__setattr__', '__sizeof__', '__str__', '__subclasshook__', '__weakref__', 'a', 'meth']\n",
      " I am meth\n",
      " I am meth\n",
      "10\n",
      "10\n",
      "1000\n"
     ]
    },
    {
     "ename": "AttributeError",
     "evalue": "type object 'EXAMPLE' has no attribute 'p'",
     "output_type": "error",
     "traceback": [
      "\u001b[1;31m---------------------------------------------------------------------------\u001b[0m",
      "\u001b[1;31mAttributeError\u001b[0m                            Traceback (most recent call last)",
      "Cell \u001b[1;32mIn[14], line 28\u001b[0m\n\u001b[0;32m     25\u001b[0m \u001b[38;5;28mprint\u001b[39m(obj1\u001b[38;5;241m.\u001b[39mp)\n\u001b[0;32m     27\u001b[0m \u001b[38;5;66;03m# accessing instance variable using class name.\u001b[39;00m\n\u001b[1;32m---> 28\u001b[0m \u001b[38;5;28mprint\u001b[39m(\u001b[43mEXAMPLE\u001b[49m\u001b[38;5;241;43m.\u001b[39;49m\u001b[43mp\u001b[49m)\n",
      "\u001b[1;31mAttributeError\u001b[0m: type object 'EXAMPLE' has no attribute 'p'"
     ]
    }
   ],
   "source": [
    "class EXAMPLE:\n",
    "    a=10\n",
    "    def __init__(self,p):\n",
    "        self.p=p\n",
    "    def meth(self):\n",
    "        print(\" I am meth\")\n",
    "\n",
    "print(dir(EXAMPLE))\n",
    "obj1=EXAMPLE(1000)\n",
    "\n",
    "# accessing instance method using object reference\n",
    "obj1.meth()\n",
    "\n",
    "# accessing instance method using class name\n",
    "# EXAMPLE.meth() # TypeError: EXAMPLE.meth() missing 1 required positional argument: 'self'\n",
    "EXAMPLE.meth(obj1)\n",
    "\n",
    "# accessing class variable using object reference.\n",
    "print(obj1.a)\n",
    "\n",
    "# accessing class variable using class name.\n",
    "print(EXAMPLE.a)\n",
    "\n",
    "# accessing instance variable using object reference.\n",
    "print(obj1.p)\n",
    "\n",
    "# accessing instance variable using class name.\n",
    "print(EXAMPLE.p) # AttributeError: type object 'EXAMPLE' has no attribute 'p'\n"
   ]
  },
  {
   "cell_type": "markdown",
   "metadata": {},
   "source": [
    "Oops has 4 pillars\n",
    "1. encapsulation\n",
    "2. inheritance\n",
    "3. polymorphism\n",
    "4. abstraction"
   ]
  },
  {
   "cell_type": "markdown",
   "metadata": {},
   "source": [
    "## ENCAPSULATION ##"
   ]
  },
  {
   "cell_type": "code",
   "execution_count": 17,
   "metadata": {},
   "outputs": [
    {
     "name": "stdout",
     "output_type": "stream",
     "text": [
      "------your details------\n",
      "name:abdul\n",
      "age:20\n",
      "gender:male\n",
      "mno:143\n",
      "degree:cse\n",
      "-----THANK YOU-----\n",
      "------your details------\n",
      "name:tarun\n",
      "age:20\n",
      "gender:male\n",
      "mno:2145\n",
      "degree:cse\n",
      "-----THANK YOU-----\n",
      "------your details------\n",
      "name:deeps\n",
      "age:20\n",
      "gender:female\n",
      "mno:1234\n",
      "degree:et\n",
      "-----THANK YOU-----\n"
     ]
    }
   ],
   "source": [
    "class student:\n",
    "    institute = \"pyspiders\"\n",
    "    location = \"basavanagudi\"\n",
    "    def __init__(self,name,age,gender,mno,degree):\n",
    "        self.name=name\n",
    "        self.age=age\n",
    "        self.gender=gender\n",
    "        self.mno=mno\n",
    "        self.degree=degree\n",
    "    def details(self):\n",
    "        print(\"------your details------\")\n",
    "        print(f\"name:{self.name}\")\n",
    "        print(f\"age:{self.age}\")\n",
    "        print(f\"gender:{self.gender}\")\n",
    "        print(f\"mno:{self.mno}\")\n",
    "        print(f\"degree:{self.degree}\")\n",
    "        print(\"-----THANK YOU-----\")\n",
    "\n",
    "s1=student(\"abdul\",20,'male',143,'cse')\n",
    "s2=student(\"tarun\",20,'male',2145,'cse')\n",
    "s3=student(\"deeps\",20,'female',1234,\"et\")\n",
    "s1.details()\n",
    "s2.details()\n",
    "s3.details()"
   ]
  }
 ],
 "metadata": {
  "kernelspec": {
   "display_name": "Python 3",
   "language": "python",
   "name": "python3"
  },
  "language_info": {
   "codemirror_mode": {
    "name": "ipython",
    "version": 3
   },
   "file_extension": ".py",
   "mimetype": "text/x-python",
   "name": "python",
   "nbconvert_exporter": "python",
   "pygments_lexer": "ipython3",
   "version": "3.12.4"
  }
 },
 "nbformat": 4,
 "nbformat_minor": 2
}
